{
 "cells": [
  {
   "cell_type": "code",
   "execution_count": 1,
   "metadata": {},
   "outputs": [],
   "source": [
    "import requests"
   ]
  },
  {
   "cell_type": "code",
   "execution_count": 3,
   "metadata": {},
   "outputs": [],
   "source": [
    "res =requests.get('https://www.ipify.org/')"
   ]
  },
  {
   "cell_type": "code",
   "execution_count": 56,
   "metadata": {},
   "outputs": [],
   "source": [
    "# res.content"
   ]
  },
  {
   "cell_type": "code",
   "execution_count": 57,
   "metadata": {},
   "outputs": [],
   "source": [
    "# res.text"
   ]
  },
  {
   "cell_type": "code",
   "execution_count": 12,
   "metadata": {},
   "outputs": [
    {
     "name": "stdout",
     "output_type": "stream",
     "text": [
      "Requirement already satisfied: beautifulsoup4 in /Users/YorkLin/.pyenv/versions/3.6.0/lib/python3.6/site-packages\n",
      "\u001b[33mYou are using pip version 9.0.1, however version 18.0 is available.\n",
      "You should consider upgrading via the 'pip install --upgrade pip' command.\u001b[0m\n",
      "Requirement already satisfied: lxml in /Users/YorkLin/.pyenv/versions/3.6.0/lib/python3.6/site-packages\n",
      "\u001b[33mYou are using pip version 9.0.1, however version 18.0 is available.\n",
      "You should consider upgrading via the 'pip install --upgrade pip' command.\u001b[0m\n"
     ]
    }
   ],
   "source": [
    "!pip install beautifulsoup4\n",
    "!pip install lxml"
   ]
  },
  {
   "cell_type": "code",
   "execution_count": 13,
   "metadata": {},
   "outputs": [],
   "source": [
    "from bs4 import BeautifulSoup"
   ]
  },
  {
   "cell_type": "code",
   "execution_count": 58,
   "metadata": {},
   "outputs": [],
   "source": [
    "html_doc = \"\"\"\n",
    "<html><head><title>Hello World</title></head>\n",
    "<body><h2>Test Header</h2>\n",
    "<p>This is a test.</p>\n",
    "<a id=\"link1\" href=\"/my_link1\">Link 1</a>\n",
    "<a id=\"link2\" href=\"/my_link2\">Link 2</a>\n",
    "<p>Hello, <b class=\"boldtext\">Bold Text</b></p>\n",
    "</body></html>\n",
    "\"\"\""
   ]
  },
  {
   "cell_type": "code",
   "execution_count": 16,
   "metadata": {},
   "outputs": [],
   "source": [
    "soup = BeautifulSoup(html_doc,'lxml')"
   ]
  },
  {
   "cell_type": "code",
   "execution_count": 18,
   "metadata": {},
   "outputs": [
    {
     "data": {
      "text/plain": [
       "<title>Hello World</title>"
      ]
     },
     "execution_count": 18,
     "metadata": {},
     "output_type": "execute_result"
    }
   ],
   "source": [
    "soup.title"
   ]
  },
  {
   "cell_type": "code",
   "execution_count": 19,
   "metadata": {},
   "outputs": [
    {
     "data": {
      "text/plain": [
       "<p>This is a test.</p>"
      ]
     },
     "execution_count": 19,
     "metadata": {},
     "output_type": "execute_result"
    }
   ],
   "source": [
    "soup.p"
   ]
  },
  {
   "cell_type": "code",
   "execution_count": 20,
   "metadata": {},
   "outputs": [
    {
     "data": {
      "text/plain": [
       "<a href=\"/my_link1\" id=\"link1\">Link 1</a>"
      ]
     },
     "execution_count": 20,
     "metadata": {},
     "output_type": "execute_result"
    }
   ],
   "source": [
    "soup.a"
   ]
  },
  {
   "cell_type": "code",
   "execution_count": 25,
   "metadata": {},
   "outputs": [
    {
     "name": "stdout",
     "output_type": "stream",
     "text": [
      "/my_link1\n",
      "/my_link2\n"
     ]
    }
   ],
   "source": [
    "for a in soup.select('a'):\n",
    "    print(a['href'])"
   ]
  },
  {
   "cell_type": "code",
   "execution_count": 27,
   "metadata": {},
   "outputs": [
    {
     "name": "stdout",
     "output_type": "stream",
     "text": [
      "/my_link1\n",
      "/my_link2\n"
     ]
    }
   ],
   "source": [
    "for a in soup.select('a'):\n",
    "    print(a.get('href'))"
   ]
  },
  {
   "cell_type": "code",
   "execution_count": 31,
   "metadata": {},
   "outputs": [
    {
     "data": {
      "text/plain": [
       "'link1'"
      ]
     },
     "execution_count": 31,
     "metadata": {},
     "output_type": "execute_result"
    }
   ],
   "source": [
    "soup.find('a').get('id')"
   ]
  },
  {
   "cell_type": "code",
   "execution_count": 29,
   "metadata": {},
   "outputs": [
    {
     "data": {
      "text/plain": [
       "[<a href=\"/my_link1\" id=\"link1\">Link 1</a>,\n",
       " <a href=\"/my_link2\" id=\"link2\">Link 2</a>]"
      ]
     },
     "execution_count": 29,
     "metadata": {},
     "output_type": "execute_result"
    }
   ],
   "source": [
    "soup.findAll('a')"
   ]
  },
  {
   "cell_type": "code",
   "execution_count": 32,
   "metadata": {},
   "outputs": [
    {
     "data": {
      "text/plain": [
       "[<b class=\"boldtext\">Bold Text</b>]"
      ]
     },
     "execution_count": 32,
     "metadata": {},
     "output_type": "execute_result"
    }
   ],
   "source": [
    "#取得class\n",
    "soup.select('.boldtext')"
   ]
  },
  {
   "cell_type": "code",
   "execution_count": 33,
   "metadata": {},
   "outputs": [
    {
     "data": {
      "text/plain": [
       "[<a href=\"/my_link1\" id=\"link1\">Link 1</a>]"
      ]
     },
     "execution_count": 33,
     "metadata": {},
     "output_type": "execute_result"
    }
   ],
   "source": [
    "#取得id\n",
    "soup.select('#link1')"
   ]
  },
  {
   "cell_type": "code",
   "execution_count": 38,
   "metadata": {},
   "outputs": [
    {
     "data": {
      "text/plain": [
       "'Bold Text'"
      ]
     },
     "execution_count": 38,
     "metadata": {},
     "output_type": "execute_result"
    }
   ],
   "source": [
    "soup.select('body')[0].select('b')[0].text"
   ]
  },
  {
   "cell_type": "code",
   "execution_count": 40,
   "metadata": {},
   "outputs": [
    {
     "data": {
      "text/plain": [
       "[<b class=\"boldtext\">Bold Text</b>]"
      ]
     },
     "execution_count": 40,
     "metadata": {},
     "output_type": "execute_result"
    }
   ],
   "source": [
    "soup.select('body b')"
   ]
  },
  {
   "cell_type": "markdown",
   "metadata": {},
   "source": [
    "### [ptt列表頁爬蟲]"
   ]
  },
  {
   "cell_type": "code",
   "execution_count": 319,
   "metadata": {},
   "outputs": [],
   "source": [
    "url = 'https://www.ptt.cc/bbs/Salary/index2822.html'"
   ]
  },
  {
   "cell_type": "code",
   "execution_count": 320,
   "metadata": {},
   "outputs": [],
   "source": [
    "res = requests.get(url)"
   ]
  },
  {
   "cell_type": "code",
   "execution_count": 321,
   "metadata": {},
   "outputs": [],
   "source": [
    "soup = BeautifulSoup(res.text,'lxml')"
   ]
  },
  {
   "cell_type": "code",
   "execution_count": 322,
   "metadata": {
    "scrolled": true
   },
   "outputs": [
    {
     "name": "stdout",
     "output_type": "stream",
     "text": [
      "https://www.ptt.cc/bbs/Salary/M.1532947202.A.9B3.html\n",
      "https://www.ptt.cc/bbs/Salary/M.1532951051.A.15A.html\n",
      "https://www.ptt.cc/bbs/Salary/M.1532952783.A.42D.html\n",
      "https://www.ptt.cc/bbs/Salary/M.1532954873.A.646.html\n",
      "https://www.ptt.cc/bbs/Salary/M.1532956178.A.0C5.html\n",
      "https://www.ptt.cc/bbs/Salary/M.1532958457.A.019.html\n",
      "https://www.ptt.cc/bbs/Salary/M.1532960045.A.EB6.html\n",
      "https://www.ptt.cc/bbs/Salary/M.1532960759.A.11A.html\n",
      "https://www.ptt.cc/bbs/Salary/M.1532961085.A.D0F.html\n",
      "https://www.ptt.cc/bbs/Salary/M.1532961988.A.0C9.html\n",
      "https://www.ptt.cc/bbs/Salary/M.1532964559.A.8AD.html\n",
      "https://www.ptt.cc/bbs/Salary/M.1532965347.A.1BF.html\n",
      "https://www.ptt.cc/bbs/Salary/M.1532965757.A.B70.html\n",
      "https://www.ptt.cc/bbs/Salary/M.1532968086.A.F70.html\n",
      "https://www.ptt.cc/bbs/Salary/M.1532990511.A.053.html\n",
      "https://www.ptt.cc/bbs/Salary/M.1532992237.A.9DB.html\n",
      "https://www.ptt.cc/bbs/Salary/M.1532994767.A.8AE.html\n",
      "https://www.ptt.cc/bbs/Salary/M.1532998206.A.5B2.html\n"
     ]
    }
   ],
   "source": [
    "domain = 'https://www.ptt.cc'\n",
    "urls = []\n",
    "for i in soup.select('.r-ent .title a'):\n",
    "    print(domain + i.get('href'))\n",
    "    urls.append(domain + i.get('href'))"
   ]
  },
  {
   "cell_type": "code",
   "execution_count": 323,
   "metadata": {},
   "outputs": [
    {
     "data": {
      "text/plain": [
       "['https://www.ptt.cc/bbs/Salary/M.1532947202.A.9B3.html',\n",
       " 'https://www.ptt.cc/bbs/Salary/M.1532951051.A.15A.html',\n",
       " 'https://www.ptt.cc/bbs/Salary/M.1532952783.A.42D.html',\n",
       " 'https://www.ptt.cc/bbs/Salary/M.1532954873.A.646.html',\n",
       " 'https://www.ptt.cc/bbs/Salary/M.1532956178.A.0C5.html',\n",
       " 'https://www.ptt.cc/bbs/Salary/M.1532958457.A.019.html',\n",
       " 'https://www.ptt.cc/bbs/Salary/M.1532960045.A.EB6.html',\n",
       " 'https://www.ptt.cc/bbs/Salary/M.1532960759.A.11A.html',\n",
       " 'https://www.ptt.cc/bbs/Salary/M.1532961085.A.D0F.html',\n",
       " 'https://www.ptt.cc/bbs/Salary/M.1532961988.A.0C9.html',\n",
       " 'https://www.ptt.cc/bbs/Salary/M.1532964559.A.8AD.html',\n",
       " 'https://www.ptt.cc/bbs/Salary/M.1532965347.A.1BF.html',\n",
       " 'https://www.ptt.cc/bbs/Salary/M.1532965757.A.B70.html',\n",
       " 'https://www.ptt.cc/bbs/Salary/M.1532968086.A.F70.html',\n",
       " 'https://www.ptt.cc/bbs/Salary/M.1532990511.A.053.html',\n",
       " 'https://www.ptt.cc/bbs/Salary/M.1532992237.A.9DB.html',\n",
       " 'https://www.ptt.cc/bbs/Salary/M.1532994767.A.8AE.html',\n",
       " 'https://www.ptt.cc/bbs/Salary/M.1532998206.A.5B2.html']"
      ]
     },
     "execution_count": 323,
     "metadata": {},
     "output_type": "execute_result"
    }
   ],
   "source": [
    "urls"
   ]
  },
  {
   "cell_type": "markdown",
   "metadata": {},
   "source": [
    "### [ ptt內文頁爬蟲 ]"
   ]
  },
  {
   "cell_type": "code",
   "execution_count": 59,
   "metadata": {},
   "outputs": [],
   "source": [
    "url = 'https://www.ptt.cc/bbs/Salary/M.1532954873.A.646.html'"
   ]
  },
  {
   "cell_type": "code",
   "execution_count": 60,
   "metadata": {},
   "outputs": [],
   "source": [
    "res = requests.get(url)"
   ]
  },
  {
   "cell_type": "code",
   "execution_count": 62,
   "metadata": {},
   "outputs": [],
   "source": [
    "soup =BeautifulSoup(res.text,'lxml')"
   ]
  },
  {
   "cell_type": "code",
   "execution_count": 65,
   "metadata": {},
   "outputs": [],
   "source": [
    "meta_list = soup.select('.article-meta-value')"
   ]
  },
  {
   "cell_type": "code",
   "execution_count": 67,
   "metadata": {},
   "outputs": [
    {
     "data": {
      "text/plain": [
       "'SportLeo (阿基里斯)'"
      ]
     },
     "execution_count": 67,
     "metadata": {},
     "output_type": "execute_result"
    }
   ],
   "source": [
    "meta_list[0].text"
   ]
  },
  {
   "cell_type": "markdown",
   "metadata": {},
   "source": [
    "### [ 正規表達法 ]"
   ]
  },
  {
   "cell_type": "code",
   "execution_count": 68,
   "metadata": {},
   "outputs": [],
   "source": [
    "import re"
   ]
  },
  {
   "cell_type": "markdown",
   "metadata": {},
   "source": [
    "```\n",
    ".     -> 萬用字元\n",
    "\\d    -> 0-9\n",
    "\\w    -> a-zA-Z0-9\n",
    "\\W    -> \\n \\t\n",
    "\n",
    "\n",
    "{2}   -> repeat 2 times\n",
    "{1,9} -> repeat min 1 time, max 9 times\n",
    "+ -> greedy repeat 1-N times\n",
    "* -> greedy repeat 0-N times\n",
    "+? -> lazy repeat 1-N times\n",
    "*? -> lazy repeat 0-N times\n",
    "?\n",
    "\n",
    "() -> capture group\n",
    "```"
   ]
  },
  {
   "cell_type": "code",
   "execution_count": null,
   "metadata": {},
   "outputs": [],
   "source": [
    "s = 'york@largitdata.com'"
   ]
  },
  {
   "cell_type": "code",
   "execution_count": 71,
   "metadata": {},
   "outputs": [
    {
     "data": {
      "text/plain": [
       "<_sre.SRE_Match object; span=(0, 19), match='york@largitdata.com'>"
      ]
     },
     "execution_count": 71,
     "metadata": {},
     "output_type": "execute_result"
    }
   ],
   "source": [
    "#\\ escape\n",
    "re.search('\\w+@\\w+\\.\\w+',s)"
   ]
  },
  {
   "cell_type": "code",
   "execution_count": 74,
   "metadata": {},
   "outputs": [
    {
     "data": {
      "text/plain": [
       "('york', 'largitdata.com')"
      ]
     },
     "execution_count": 74,
     "metadata": {},
     "output_type": "execute_result"
    }
   ],
   "source": [
    "re.match('(\\w+)@(\\w+\\.\\w+)',s).groups()"
   ]
  },
  {
   "cell_type": "code",
   "execution_count": 77,
   "metadata": {},
   "outputs": [
    {
     "data": {
      "text/plain": [
       "'york@largitdata.com'"
      ]
     },
     "execution_count": 77,
     "metadata": {},
     "output_type": "execute_result"
    }
   ],
   "source": [
    "re.match('(\\w+)@(\\w+\\.\\w+)',s).group(0)"
   ]
  },
  {
   "cell_type": "code",
   "execution_count": 75,
   "metadata": {},
   "outputs": [
    {
     "data": {
      "text/plain": [
       "'york'"
      ]
     },
     "execution_count": 75,
     "metadata": {},
     "output_type": "execute_result"
    }
   ],
   "source": [
    "re.match('(\\w+)@(\\w+\\.\\w+)',s).group(1)"
   ]
  },
  {
   "cell_type": "code",
   "execution_count": 76,
   "metadata": {},
   "outputs": [
    {
     "data": {
      "text/plain": [
       "'largitdata.com'"
      ]
     },
     "execution_count": 76,
     "metadata": {},
     "output_type": "execute_result"
    }
   ],
   "source": [
    "re.match('(\\w+)@(\\w+\\.\\w+)',s).group(2)"
   ]
  },
  {
   "cell_type": "code",
   "execution_count": 89,
   "metadata": {},
   "outputs": [
    {
     "data": {
      "text/plain": [
       "'SportLeo (阿基里斯)'"
      ]
     },
     "execution_count": 89,
     "metadata": {},
     "output_type": "execute_result"
    }
   ],
   "source": [
    "meta_list[0].text"
   ]
  },
  {
   "cell_type": "code",
   "execution_count": 95,
   "metadata": {},
   "outputs": [
    {
     "data": {
      "text/plain": [
       "('SportLeo', '阿基里斯')"
      ]
     },
     "execution_count": 95,
     "metadata": {},
     "output_type": "execute_result"
    }
   ],
   "source": [
    "re.match('(\\w+) \\((.*)\\)',meta_list[0].text).groups()"
   ]
  },
  {
   "cell_type": "code",
   "execution_count": 96,
   "metadata": {},
   "outputs": [
    {
     "data": {
      "text/plain": [
       "'SportLeo'"
      ]
     },
     "execution_count": 96,
     "metadata": {},
     "output_type": "execute_result"
    }
   ],
   "source": [
    "author_name = re.match('(\\w+) \\((.*)\\)',meta_list[0].text).group(1)\n",
    "author_name"
   ]
  },
  {
   "cell_type": "code",
   "execution_count": 97,
   "metadata": {},
   "outputs": [
    {
     "data": {
      "text/plain": [
       "'阿基里斯'"
      ]
     },
     "execution_count": 97,
     "metadata": {},
     "output_type": "execute_result"
    }
   ],
   "source": [
    "author_nickname = re.match('(\\w+) \\((.*)\\)',meta_list[0].text).group(2)\n",
    "author_nickname"
   ]
  },
  {
   "cell_type": "code",
   "execution_count": 94,
   "metadata": {},
   "outputs": [
    {
     "name": "stdout",
     "output_type": "stream",
     "text": [
      "('SportLeo', '')\n"
     ]
    }
   ],
   "source": [
    "print(re.match('(\\w+) \\((.*)\\)','SportLeo ()').groups())"
   ]
  },
  {
   "cell_type": "code",
   "execution_count": 98,
   "metadata": {},
   "outputs": [],
   "source": [
    "?re"
   ]
  },
  {
   "cell_type": "code",
   "execution_count": 99,
   "metadata": {},
   "outputs": [],
   "source": [
    "?re.match"
   ]
  },
  {
   "cell_type": "code",
   "execution_count": 100,
   "metadata": {},
   "outputs": [],
   "source": [
    "phone = '0987-654-312'"
   ]
  },
  {
   "cell_type": "code",
   "execution_count": 103,
   "metadata": {},
   "outputs": [
    {
     "data": {
      "text/plain": [
       "'0987-654-312'"
      ]
     },
     "execution_count": 103,
     "metadata": {},
     "output_type": "execute_result"
    }
   ],
   "source": [
    "re.match('(\\d+-\\d+-\\d+)',phone).group(1)"
   ]
  },
  {
   "cell_type": "code",
   "execution_count": 104,
   "metadata": {},
   "outputs": [
    {
     "data": {
      "text/plain": [
       "'0987-654-312'"
      ]
     },
     "execution_count": 104,
     "metadata": {},
     "output_type": "execute_result"
    }
   ],
   "source": [
    "re.match('(\\d{4}-\\d{3}-\\d{3})',phone).group(1)"
   ]
  },
  {
   "cell_type": "code",
   "execution_count": 105,
   "metadata": {},
   "outputs": [
    {
     "data": {
      "text/plain": [
       "'0987-654-312'"
      ]
     },
     "execution_count": 105,
     "metadata": {},
     "output_type": "execute_result"
    }
   ],
   "source": [
    "re.match('(\\d{3,5}-\\d{3,4}-\\d{3,4})',phone).group(1)"
   ]
  },
  {
   "cell_type": "code",
   "execution_count": 108,
   "metadata": {},
   "outputs": [],
   "source": [
    "phones = '''0987-654-312','0987654312'''"
   ]
  },
  {
   "cell_type": "code",
   "execution_count": 109,
   "metadata": {},
   "outputs": [
    {
     "data": {
      "text/plain": [
       "['0987-654-312', '0987654312']"
      ]
     },
     "execution_count": 109,
     "metadata": {},
     "output_type": "execute_result"
    }
   ],
   "source": [
    "re.findall('(\\d{4}-?\\d{3}-?\\d{3})',phones)"
   ]
  },
  {
   "cell_type": "code",
   "execution_count": 110,
   "metadata": {},
   "outputs": [
    {
     "data": {
      "text/plain": [
       "'\\n\\\\d{4}\\\\d{3}\\\\d{3} == \\\\d{10}\\n'"
      ]
     },
     "execution_count": 110,
     "metadata": {},
     "output_type": "execute_result"
    }
   ],
   "source": [
    "'''\n",
    "\\d{4}\\d{3}\\d{3} == \\d{10}\n",
    "'''"
   ]
  },
  {
   "cell_type": "code",
   "execution_count": 111,
   "metadata": {},
   "outputs": [],
   "source": [
    "hello = '<em>hello world</em>'"
   ]
  },
  {
   "cell_type": "code",
   "execution_count": 114,
   "metadata": {},
   "outputs": [
    {
     "data": {
      "text/plain": [
       "('em>hello world</em',)"
      ]
     },
     "execution_count": 114,
     "metadata": {},
     "output_type": "execute_result"
    }
   ],
   "source": [
    "re.match('<(.+)>',hello).groups()"
   ]
  },
  {
   "cell_type": "code",
   "execution_count": 115,
   "metadata": {},
   "outputs": [
    {
     "data": {
      "text/plain": [
       "('em',)"
      ]
     },
     "execution_count": 115,
     "metadata": {},
     "output_type": "execute_result"
    }
   ],
   "source": [
    "re.match('<(.+?)>',hello).groups()"
   ]
  },
  {
   "cell_type": "code",
   "execution_count": 143,
   "metadata": {},
   "outputs": [
    {
     "data": {
      "text/plain": [
       "'Salary'"
      ]
     },
     "execution_count": 143,
     "metadata": {},
     "output_type": "execute_result"
    }
   ],
   "source": [
    "board = meta_list[1].text\n",
    "board"
   ]
  },
  {
   "cell_type": "code",
   "execution_count": 144,
   "metadata": {},
   "outputs": [
    {
     "data": {
      "text/plain": [
       "'Re: [問題] 不會會計的會計'"
      ]
     },
     "execution_count": 144,
     "metadata": {},
     "output_type": "execute_result"
    }
   ],
   "source": [
    "title =meta_list[2].text.strip()\n",
    "title"
   ]
  },
  {
   "cell_type": "code",
   "execution_count": 131,
   "metadata": {},
   "outputs": [],
   "source": [
    "q='\\n 1111 \\n'"
   ]
  },
  {
   "cell_type": "code",
   "execution_count": 132,
   "metadata": {},
   "outputs": [
    {
     "data": {
      "text/plain": [
       "'1111'"
      ]
     },
     "execution_count": 132,
     "metadata": {},
     "output_type": "execute_result"
    }
   ],
   "source": [
    "q.strip()"
   ]
  },
  {
   "cell_type": "code",
   "execution_count": 133,
   "metadata": {},
   "outputs": [],
   "source": [
    "q2 = '111 \\t\\t\\t\\t\\t'"
   ]
  },
  {
   "cell_type": "code",
   "execution_count": 134,
   "metadata": {},
   "outputs": [
    {
     "data": {
      "text/plain": [
       "'111'"
      ]
     },
     "execution_count": 134,
     "metadata": {},
     "output_type": "execute_result"
    }
   ],
   "source": [
    "q2.strip()"
   ]
  },
  {
   "cell_type": "code",
   "execution_count": 135,
   "metadata": {},
   "outputs": [],
   "source": [
    "q3 ='111    '"
   ]
  },
  {
   "cell_type": "code",
   "execution_count": 136,
   "metadata": {},
   "outputs": [
    {
     "data": {
      "text/plain": [
       "'111'"
      ]
     },
     "execution_count": 136,
     "metadata": {},
     "output_type": "execute_result"
    }
   ],
   "source": [
    "q3.strip()"
   ]
  },
  {
   "cell_type": "code",
   "execution_count": 137,
   "metadata": {},
   "outputs": [
    {
     "data": {
      "text/plain": [
       "'111'"
      ]
     },
     "execution_count": 137,
     "metadata": {},
     "output_type": "execute_result"
    }
   ],
   "source": [
    "q3.rstrip()"
   ]
  },
  {
   "cell_type": "code",
   "execution_count": 138,
   "metadata": {},
   "outputs": [
    {
     "data": {
      "text/plain": [
       "'111    '"
      ]
     },
     "execution_count": 138,
     "metadata": {},
     "output_type": "execute_result"
    }
   ],
   "source": [
    "q3.lstrip()"
   ]
  },
  {
   "cell_type": "code",
   "execution_count": 145,
   "metadata": {},
   "outputs": [],
   "source": [
    "dt = meta_list[3].text.strip()"
   ]
  },
  {
   "cell_type": "code",
   "execution_count": 146,
   "metadata": {},
   "outputs": [
    {
     "data": {
      "text/plain": [
       "'Mon Jul 30 20:47:51 2018'"
      ]
     },
     "execution_count": 146,
     "metadata": {},
     "output_type": "execute_result"
    }
   ],
   "source": [
    "dt"
   ]
  },
  {
   "cell_type": "markdown",
   "metadata": {},
   "source": [
    "### [ time conversion ]"
   ]
  },
  {
   "cell_type": "code",
   "execution_count": 167,
   "metadata": {},
   "outputs": [],
   "source": [
    "from datetime import datetime,timedelta"
   ]
  },
  {
   "cell_type": "code",
   "execution_count": 148,
   "metadata": {},
   "outputs": [
    {
     "data": {
      "text/plain": [
       "datetime.datetime(2018, 7, 31, 10, 44, 45, 442957)"
      ]
     },
     "execution_count": 148,
     "metadata": {},
     "output_type": "execute_result"
    }
   ],
   "source": [
    "datetime.now()"
   ]
  },
  {
   "cell_type": "markdown",
   "metadata": {},
   "source": [
    "- strptime / strftime\n",
    "- https://docs.python.org/3/library/datetime.html#strftime-and-strptime-behavior"
   ]
  },
  {
   "cell_type": "code",
   "execution_count": 150,
   "metadata": {},
   "outputs": [
    {
     "data": {
      "text/plain": [
       "'2018-07-31'"
      ]
     },
     "execution_count": 150,
     "metadata": {},
     "output_type": "execute_result"
    }
   ],
   "source": [
    "datetime.now().strftime('%Y-%m-%d')"
   ]
  },
  {
   "cell_type": "code",
   "execution_count": 151,
   "metadata": {},
   "outputs": [
    {
     "data": {
      "text/plain": [
       "str"
      ]
     },
     "execution_count": 151,
     "metadata": {},
     "output_type": "execute_result"
    }
   ],
   "source": [
    "type(datetime.now().strftime('%Y-%m-%d'))"
   ]
  },
  {
   "cell_type": "code",
   "execution_count": 153,
   "metadata": {},
   "outputs": [
    {
     "data": {
      "text/plain": [
       "'2018-07-31 10:49:07'"
      ]
     },
     "execution_count": 153,
     "metadata": {},
     "output_type": "execute_result"
    }
   ],
   "source": [
    "datetime.now().strftime('%Y-%m-%d %H:%M:%S')"
   ]
  },
  {
   "cell_type": "code",
   "execution_count": 155,
   "metadata": {},
   "outputs": [],
   "source": [
    "?datetime.strptime"
   ]
  },
  {
   "cell_type": "code",
   "execution_count": 156,
   "metadata": {},
   "outputs": [
    {
     "data": {
      "text/plain": [
       "'Mon Jul 30 20:47:51 2018'"
      ]
     },
     "execution_count": 156,
     "metadata": {},
     "output_type": "execute_result"
    }
   ],
   "source": [
    "dt"
   ]
  },
  {
   "cell_type": "code",
   "execution_count": 158,
   "metadata": {},
   "outputs": [
    {
     "data": {
      "text/plain": [
       "'2018-07-30 20:47:51'"
      ]
     },
     "execution_count": 158,
     "metadata": {},
     "output_type": "execute_result"
    }
   ],
   "source": [
    "datetime.strptime(dt,'%a %b %d %H:%M:%S %Y').strftime('%Y-%m-%d %H:%M:%S')"
   ]
  },
  {
   "cell_type": "code",
   "execution_count": 161,
   "metadata": {},
   "outputs": [
    {
     "data": {
      "text/plain": [
       "1533005807"
      ]
     },
     "execution_count": 161,
     "metadata": {},
     "output_type": "execute_result"
    }
   ],
   "source": [
    "int(datetime.now().timestamp())"
   ]
  },
  {
   "cell_type": "code",
   "execution_count": 166,
   "metadata": {},
   "outputs": [
    {
     "data": {
      "text/plain": [
       "1532954871"
      ]
     },
     "execution_count": 166,
     "metadata": {},
     "output_type": "execute_result"
    }
   ],
   "source": [
    "tm = int(datetime.strptime(dt,'%a %b %d %H:%M:%S %Y').timestamp())\n",
    "tm"
   ]
  },
  {
   "cell_type": "code",
   "execution_count": 178,
   "metadata": {},
   "outputs": [
    {
     "data": {
      "text/plain": [
       "datetime.datetime(2017, 7, 31, 11, 26, 48, 566826)"
      ]
     },
     "execution_count": 178,
     "metadata": {},
     "output_type": "execute_result"
    }
   ],
   "source": [
    "datetime.now() - timedelta(days=365)"
   ]
  },
  {
   "cell_type": "code",
   "execution_count": 183,
   "metadata": {},
   "outputs": [
    {
     "data": {
      "text/plain": [
       "'※ 發信站: 批踢踢實業坊(ptt.cc), 來自: 117.19.231.146'"
      ]
     },
     "execution_count": 183,
     "metadata": {},
     "output_type": "execute_result"
    }
   ],
   "source": [
    "ip_str = soup.select('.f2')[0].text.strip()\n",
    "ip_str"
   ]
  },
  {
   "cell_type": "code",
   "execution_count": 186,
   "metadata": {},
   "outputs": [
    {
     "data": {
      "text/plain": [
       "'117.19.231.146'"
      ]
     },
     "execution_count": 186,
     "metadata": {},
     "output_type": "execute_result"
    }
   ],
   "source": [
    "re.match('※ 發信站: 批踢踢實業坊\\(ptt.cc\\), 來自: (\\d+\\.\\d+\\.\\d+\\.\\d+)',ip_str).group(1)"
   ]
  },
  {
   "cell_type": "code",
   "execution_count": 188,
   "metadata": {},
   "outputs": [
    {
     "data": {
      "text/plain": [
       "'117.19.231.146'"
      ]
     },
     "execution_count": 188,
     "metadata": {},
     "output_type": "execute_result"
    }
   ],
   "source": [
    "ip = re.match('※ 發信站: 批踢踢實業坊\\(ptt.cc\\), 來自: (\\d{1,3}\\.\\d{1,3}\\.\\d{1,3}\\.\\d{1,3})',ip_str).group(1)\n",
    "ip"
   ]
  },
  {
   "cell_type": "code",
   "execution_count": 200,
   "metadata": {},
   "outputs": [
    {
     "name": "stdout",
     "output_type": "stream",
     "text": [
      "117.19.231.146\n"
     ]
    }
   ],
   "source": [
    "for s in soup.select('.f2'):\n",
    "    m =re.match('※ 發信站: 批踢踢實業坊\\(ptt.cc\\), 來自: (\\d{1,3}\\.\\d{1,3}\\.\\d{1,3}\\.\\d{1,3})',s.text)\n",
    "    if m:\n",
    "        print(m.group(1))\n",
    "        ip = m.group(1)"
   ]
  },
  {
   "cell_type": "code",
   "execution_count": 201,
   "metadata": {},
   "outputs": [
    {
     "data": {
      "text/plain": [
       "'117.19.231.146'"
      ]
     },
     "execution_count": 201,
     "metadata": {},
     "output_type": "execute_result"
    }
   ],
   "source": [
    "ip"
   ]
  },
  {
   "cell_type": "code",
   "execution_count": 196,
   "metadata": {},
   "outputs": [
    {
     "name": "stdout",
     "output_type": "stream",
     "text": [
      "empty\n"
     ]
    }
   ],
   "source": [
    "ww = ''\n",
    "if ww:\n",
    "    print('not empty')\n",
    "else:\n",
    "    print('empty')"
   ]
  },
  {
   "cell_type": "code",
   "execution_count": 197,
   "metadata": {},
   "outputs": [
    {
     "name": "stdout",
     "output_type": "stream",
     "text": [
      "empty\n"
     ]
    }
   ],
   "source": [
    "li =[]\n",
    "if li:\n",
    "    print('not empty')\n",
    "else:\n",
    "    print('empty')"
   ]
  },
  {
   "cell_type": "code",
   "execution_count": 203,
   "metadata": {},
   "outputs": [],
   "source": [
    "comments = soup.select('.push')"
   ]
  },
  {
   "cell_type": "code",
   "execution_count": 221,
   "metadata": {},
   "outputs": [
    {
     "data": {
      "text/plain": [
       "'推'"
      ]
     },
     "execution_count": 221,
     "metadata": {},
     "output_type": "execute_result"
    }
   ],
   "source": [
    "tag = comments[0].find_all('span',attrs={'class':'push-tag'})[0].text.strip()\n",
    "tag"
   ]
  },
  {
   "cell_type": "code",
   "execution_count": 222,
   "metadata": {},
   "outputs": [
    {
     "data": {
      "text/plain": [
       "'ally2007'"
      ]
     },
     "execution_count": 222,
     "metadata": {},
     "output_type": "execute_result"
    }
   ],
   "source": [
    "push_author =  comments[0].find_all('span',attrs={'class':'push-userid'})[0].text.strip()\n",
    "push_author"
   ]
  },
  {
   "cell_type": "code",
   "execution_count": 243,
   "metadata": {},
   "outputs": [],
   "source": [
    "push_content = comments[0].select('.push-content')[0].text[1:].strip()"
   ]
  },
  {
   "cell_type": "code",
   "execution_count": 250,
   "metadata": {},
   "outputs": [
    {
     "data": {
      "text/plain": [
       "'07/30 21:07'"
      ]
     },
     "execution_count": 250,
     "metadata": {},
     "output_type": "execute_result"
    }
   ],
   "source": [
    "push_dt = comments[0].select('.push-ipdatetime')[0].text.strip()\n",
    "push_dt"
   ]
  },
  {
   "cell_type": "code",
   "execution_count": 251,
   "metadata": {},
   "outputs": [
    {
     "data": {
      "text/plain": [
       "datetime.datetime(1900, 7, 30, 21, 7)"
      ]
     },
     "execution_count": 251,
     "metadata": {},
     "output_type": "execute_result"
    }
   ],
   "source": [
    "datetime.strptime(push_dt,'%m/%d %H:%M')"
   ]
  },
  {
   "cell_type": "code",
   "execution_count": 256,
   "metadata": {},
   "outputs": [
    {
     "name": "stdout",
     "output_type": "stream",
     "text": [
      "2018\n",
      "7\n",
      "31\n"
     ]
    }
   ],
   "source": [
    "print(datetime.now().year)\n",
    "print(datetime.now().month)\n",
    "print(datetime.now().day)"
   ]
  },
  {
   "cell_type": "code",
   "execution_count": 268,
   "metadata": {},
   "outputs": [
    {
     "data": {
      "text/plain": [
       "1532956020.0"
      ]
     },
     "execution_count": 268,
     "metadata": {},
     "output_type": "execute_result"
    }
   ],
   "source": [
    "#str(datetime.now().year) + '/' + push_dt\n",
    "#'%s/%s'%(datetime.now().year,push_dt)\n",
    "'%s/%s'%(datetime.strptime(dt,'%a %b %d %H:%M:%S %Y').year,push_dt)\n",
    "push_tm = datetime.strptime( '%s/%s'%(datetime.strptime(dt,'%a %b %d %H:%M:%S %Y').year,push_dt),'%Y/%m/%d %H:%M').timestamp()\n",
    "push_tm"
   ]
  },
  {
   "cell_type": "code",
   "execution_count": 272,
   "metadata": {},
   "outputs": [],
   "source": [
    "pushs=list()\n",
    "for comment in comments:\n",
    "    push = {\n",
    "       'tag': comment.find_all('span',attrs={'class':'push-tag'})[0].text.strip(),\n",
    "       'push_author': comment.find_all('span',attrs={'class':'push-userid'})[0].text.strip(),\n",
    "       'push_content': comment.select('.push-content')[0].text[1:].strip(),\n",
    "       'push_tm': datetime.strptime( '%s/%s'%(datetime.strptime(dt,'%a %b %d %H:%M:%S %Y').year,comment.select('.push-ipdatetime')[0].text.strip()),'%Y/%m/%d %H:%M').timestamp()\n",
    "    }\n",
    "    pushs.append(push)"
   ]
  },
  {
   "cell_type": "code",
   "execution_count": 275,
   "metadata": {},
   "outputs": [],
   "source": [
    "pushs = [{\n",
    "       'tag': comment.find_all('span',attrs={'class':'push-tag'})[0].text.strip(),\n",
    "       'push_author': comment.find_all('span',attrs={'class':'push-userid'})[0].text.strip(),\n",
    "       'push_content': comment.select('.push-content')[0].text[1:].strip(),\n",
    "       'push_tm': datetime.strptime( '%s/%s'%(datetime.strptime(dt,'%a %b %d %H:%M:%S %Y').year,comment.select('.push-ipdatetime')[0].text.strip()),'%Y/%m/%d %H:%M').timestamp()\n",
    "    } for comment in comments] "
   ]
  },
  {
   "cell_type": "code",
   "execution_count": 276,
   "metadata": {},
   "outputs": [
    {
     "name": "stdout",
     "output_type": "stream",
     "text": [
      "[{'tag': '推', 'push_author': 'ally2007', 'push_content': '推好心，原po加油！', 'push_tm': 1532956020.0}, {'tag': '推', 'push_author': 'sm799979', 'push_content': '謝謝你用心的回文，其實我的工作內容並不如你陳述的那', 'push_tm': 1532956200.0}, {'tag': '→', 'push_author': 'sm799979', 'push_content': '麼專業，但是仍然大有幫助，如果我補足了細心不足這塊，', 'push_tm': 1532956200.0}, {'tag': '→', 'push_author': 'sm799979', 'push_content': '我相信我可以做的到的，萬分感激！', 'push_tm': 1532956200.0}, {'tag': '推', 'push_author': 'coyoteY', 'push_content': '推好心,如果公司沒提供軟體,可以試著用excel建檔會更方便', 'push_tm': 1532957160.0}, {'tag': '推', 'push_author': 'qmqmqm', 'push_content': '推好心', 'push_tm': 1532958180.0}, {'tag': '推', 'push_author': 'y932987', 'push_content': '其實他應該多做一個覆核的程序 這些事情真的都不難 是普', 'push_tm': 1532962620.0}, {'tag': '→', 'push_author': 'y932987', 'push_content': '通的日常 只是沒核對', 'push_tm': 1532962620.0}, {'tag': '推', 'push_author': 'BreakingBad', 'push_content': '如果不確定廠商名稱，打公司登記查詢都會有正確資料', 'push_tm': 1532963640.0}, {'tag': '→', 'push_author': 'BreakingBad', 'push_content': '，在開發票之前確認一下即可', 'push_tm': 1532963640.0}, {'tag': '→', 'push_author': 'BreakingBad', 'push_content': '我發現我不是會計，但是這些我全部都得做XD', 'push_tm': 1532963700.0}, {'tag': '推', 'push_author': 'chris0428', 'push_content': '是好心龜龜', 'push_tm': 1532992440.0}, {'tag': '推', 'push_author': 'romand', 'push_content': '推好心,可是這些AR等用語完全不會會計的人會了解嗎@@', 'push_tm': 1533000180.0}]\n"
     ]
    }
   ],
   "source": [
    "print(pushs)"
   ]
  },
  {
   "cell_type": "code",
   "execution_count": 282,
   "metadata": {},
   "outputs": [
    {
     "data": {
      "text/plain": [
       "<div class=\"bbs-screen bbs-content\" id=\"main-content\"><div class=\"article-metaline\"><span class=\"article-meta-tag\">作者</span><span class=\"article-meta-value\">SportLeo (阿基里斯)</span></div><div class=\"article-metaline-right\"><span class=\"article-meta-tag\">看板</span><span class=\"article-meta-value\">Salary</span></div><div class=\"article-metaline\"><span class=\"article-meta-tag\">標題</span><span class=\"article-meta-value\">Re: [問題] 不會會計的會計</span></div><div class=\"article-metaline\"><span class=\"article-meta-tag\">時間</span><span class=\"article-meta-value\">Mon Jul 30 20:47:51 2018</span></div>\n",
       "\n",
       "啊，看到你這篇文章感覺妳很緊張，\n",
       "\n",
       "想給你一點方向，希望妳放寬心，部分敘述恕刪\n",
       "\n",
       "\n",
       "引述《sm799979 (whay)》之銘言：\n",
       "<span class=\"f6\">: 文長，希望能有跟我差不多經歷的人給我點建議！\n",
       "</span><span class=\"f6\">: 當初，\n",
       "</span><span class=\"f6\">: 我面試的職務掛名是行政助理，\n",
       "</span><span class=\"f6\">: 是一間印刷公司包括老闆、老闆娘、業務、業助、工務、司機的7人公司，\n",
       "</span>\n",
       "七人小公司配置一位會計合情合理\n",
       "\n",
       "<span class=\"f6\">: 在老闆娘面試時她有提到\n",
       "</span><span class=\"f6\">: 必須處理會計相關事宜，\n",
       "</span><span class=\"f6\">: 我有趕緊說，這個部分我不太懂\n",
       "</span><span class=\"f6\">: （高中時我連乙級都考不過），\n",
       "</span><span class=\"f6\">: 但是老闆娘說這都是制式化的東西，很簡單，因為沒接觸過我也就信了。\n",
       "</span>\n",
       "因為妳沒接觸過可能不知道書上的會計\n",
       "\n",
       "跟實務上的會計其實還是差很多\n",
       "\n",
       "<span class=\"f6\">: 但是從第一個月開始，會計的部分總是三天一小錯，五天一大錯，\n",
       "</span><span class=\"f6\">: 被罵到第二個月時我就提了離職，\n",
       "</span><span class=\"f6\">: 老闆娘一開始答應，\n",
       "</span><span class=\"f6\">: 但是後來又叫同事來勸我，\n",
       "</span><span class=\"f6\">: 說我很好相處，沒心機，\n",
       "</span><span class=\"f6\">: 出去會被人家欺負，公司環境單純，要我再試試看，\n",
       "</span><span class=\"f6\">: 我當下覺得有人願意教我我很感動，且我很惜情，她們也都在工作上相當專業，於是我\n",
       "</span>就\n",
       "<span class=\"f6\">: 選擇再努力看看。\n",
       "</span><span class=\"f6\">: 直到現在，我做錯的事情大概有\n",
       "</span><span class=\"f6\">: 發票開錯抬頭、\n",
       "</span><span class=\"f6\">: 廠商的帳號、戶名打錯、\n",
       "</span><span class=\"f6\">: 該月要匯給廠商的沒入到沒匯、\n",
       "</span><span class=\"f6\">: 該匯給甲廠商的匯去給乙廠商...等等這幾項比較嚴重的。（目前的週期來到每兩個禮\n",
       "</span>拜\n",
       "<span class=\"f6\">: 一件大錯。）\n",
       "</span>\n",
       "好，根據上述其實妳做的有 AR / AP\n",
       "\n",
       "其實發票開錯title 是有點誇張XD\n",
       "\n",
       "如果系統都建檔好，根本不會開錯\n",
       "\n",
       "如果沒用系統，那至少要有一個 excel keep 客戶檔案\n",
       "\n",
       "那AP 的部份應付未匯代表你可以從付款排程去下手\n",
       "\n",
       "這個月進來的付款文件/發票，假設下個月就要付\n",
       "\n",
       "文件收納歸好，到了固定付款日再讓主管核閱過\n",
       "\n",
       "就可以減少應支付未匯的部分\n",
       "\n",
       "（難道說主管都不會問你說這禮拜要付誰錢嗎XD\n",
       "\n",
       "至於匯錯這種東西更誇張...A廠商付款文件2萬元\n",
       "\n",
       "假設老闆娘核閱過還是付3萬，那是誰的責任？\n",
       "\n",
       "\n",
       "\n",
       "<span class=\"f6\">: 老闆娘今天就很崩潰因為我匯錯錢這個大忌，她也未要辭退我，我也不敢引咎辭職，因\n",
       "</span>為\n",
       "<span class=\"f6\">: 接下來是印刷業的旺季，非常忙碌，要在這個時候讓她應徵人進來實在太不厚道。\n",
       "</span><span class=\"f6\">: 我知道自己的問題是太過粗心，\n",
       "</span><span class=\"f6\">: 我想是因為我從來沒做過類似的工作（以前都是做客服、門市..等等的）\n",
       "</span><span class=\"f6\">: ，也未在老闆娘的底下工作過，\n",
       "</span><span class=\"f6\">: 很多事情無法遮掩補救，\n",
       "</span><span class=\"f6\">: 很容易就被發現，\n",
       "</span><span class=\"f6\">: 可是正確率卻一直無法提升上去，\n",
       "</span><span class=\"f6\">: 導致我現在只要聽到老闆娘接電話我就緊張到流汗，\n",
       "</span><span class=\"f6\">: 不知道是客戶打來說發票開錯了，\n",
       "</span><span class=\"f6\">: 還是廠商打來問為什麼沒收到匯款，越做越沒自信......\n",
       "</span><span class=\"f6\">: 我是希望能有人告訴我這是新手會計必經之路，有一天就不會這樣了\n",
       "</span><span class=\"f6\">: 或是我根本不適合這份工作，年後趕快離職！給我個痛快！！\n",
       "</span>\n",
       "\n",
       "其實會計其他事務什麼分錄、日常費用撥補、401 之類你都沒提\n",
       "\n",
       "單純以你的敘述看來應該就只是內部SOP沒設定好\n",
       "\n",
       "設定好之後應該根本不會出這種紕漏\n",
       "\n",
       "我本來想說給你釣竿的、乾脆直接給你魚\n",
       "\n",
       "希望妳不要太過煩惱，會計是有平衡的美感的（咦\n",
       "\n",
       "AR  應收\n",
       "\n",
       "1. 客供商建檔（這樣統編絕對不會搞錯\n",
       "\n",
       "2. 或至少發票開立請業助協助review\n",
       "\n",
       "AP 應付\n",
       "\n",
       "1. 制定日常付款時間，譬如每兩週的週五或該月底\n",
       "\n",
       "七月進來的請款單，最快就是8月中或8月底付\n",
       "\n",
       "2. 錢出去很重要，每次付款都至少要讓主管review\n",
       "\n",
       "(如果他真的這麼放心讓妳每次都會出錯就另當別論...\n",
       "\n",
       "好啦，其實收付款就是細心而已，加油\n",
       "\n",
       "\n",
       "\n",
       "\n",
       "--\n",
       "<span class=\"f2\">※ 發信站: 批踢踢實業坊(ptt.cc), 來自: 117.19.231.146\n",
       "</span><span class=\"f2\">※ 文章網址: <a href=\"https://www.ptt.cc/bbs/Salary/M.1532954873.A.646.html\" rel=\"nofollow\" target=\"_blank\">https://www.ptt.cc/bbs/Salary/M.1532954873.A.646.html</a>\n",
       "</span><span class=\"f2\">※ 編輯: SportLeo (117.19.231.146), 07/30/2018 20:50:11\n",
       "</span><div class=\"push\"><span class=\"hl push-tag\">推 </span><span class=\"f3 hl push-userid\">ally2007</span><span class=\"f3 push-content\">: 推好心，原po加油！</span><span class=\"push-ipdatetime\"> 07/30 21:07\n",
       "</span></div><div class=\"push\"><span class=\"hl push-tag\">推 </span><span class=\"f3 hl push-userid\">sm799979</span><span class=\"f3 push-content\">: 謝謝你用心的回文，其實我的工作內容並不如你陳述的那</span><span class=\"push-ipdatetime\"> 07/30 21:10\n",
       "</span></div><div class=\"push\"><span class=\"f1 hl push-tag\">→ </span><span class=\"f3 hl push-userid\">sm799979</span><span class=\"f3 push-content\">: 麼專業，但是仍然大有幫助，如果我補足了細心不足這塊，</span><span class=\"push-ipdatetime\"> 07/30 21:10\n",
       "</span></div><div class=\"push\"><span class=\"f1 hl push-tag\">→ </span><span class=\"f3 hl push-userid\">sm799979</span><span class=\"f3 push-content\">: 我相信我可以做的到的，萬分感激！</span><span class=\"push-ipdatetime\"> 07/30 21:10\n",
       "</span></div><div class=\"push\"><span class=\"hl push-tag\">推 </span><span class=\"f3 hl push-userid\">coyoteY</span><span class=\"f3 push-content\">: 推好心,如果公司沒提供軟體,可以試著用excel建檔會更方便</span><span class=\"push-ipdatetime\"> 07/30 21:26\n",
       "</span></div><div class=\"push\"><span class=\"hl push-tag\">推 </span><span class=\"f3 hl push-userid\">qmqmqm</span><span class=\"f3 push-content\">: 推好心</span><span class=\"push-ipdatetime\"> 07/30 21:43\n",
       "</span></div><div class=\"push\"><span class=\"hl push-tag\">推 </span><span class=\"f3 hl push-userid\">y932987</span><span class=\"f3 push-content\">: 其實他應該多做一個覆核的程序 這些事情真的都不難 是普</span><span class=\"push-ipdatetime\"> 07/30 22:57\n",
       "</span></div><div class=\"push\"><span class=\"f1 hl push-tag\">→ </span><span class=\"f3 hl push-userid\">y932987</span><span class=\"f3 push-content\">: 通的日常 只是沒核對</span><span class=\"push-ipdatetime\"> 07/30 22:57\n",
       "</span></div><div class=\"push\"><span class=\"hl push-tag\">推 </span><span class=\"f3 hl push-userid\">BreakingBad</span><span class=\"f3 push-content\">: 如果不確定廠商名稱，打公司登記查詢都會有正確資料</span><span class=\"push-ipdatetime\"> 07/30 23:14\n",
       "</span></div><div class=\"push\"><span class=\"f1 hl push-tag\">→ </span><span class=\"f3 hl push-userid\">BreakingBad</span><span class=\"f3 push-content\">: ，在開發票之前確認一下即可</span><span class=\"push-ipdatetime\"> 07/30 23:14\n",
       "</span></div><div class=\"push\"><span class=\"f1 hl push-tag\">→ </span><span class=\"f3 hl push-userid\">BreakingBad</span><span class=\"f3 push-content\">: 我發現我不是會計，但是這些我全部都得做XD</span><span class=\"push-ipdatetime\"> 07/30 23:15\n",
       "</span></div><div class=\"push\"><span class=\"hl push-tag\">推 </span><span class=\"f3 hl push-userid\">chris0428</span><span class=\"f3 push-content\">: 是好心龜龜</span><span class=\"push-ipdatetime\"> 07/31 07:14\n",
       "</span></div><div class=\"push\"><span class=\"hl push-tag\">推 </span><span class=\"f3 hl push-userid\">romand</span><span class=\"f3 push-content\">: 推好心,可是這些AR等用語完全不會會計的人會了解嗎@@</span><span class=\"push-ipdatetime\"> 07/31 09:23\n",
       "</span></div></div>"
      ]
     },
     "execution_count": 282,
     "metadata": {},
     "output_type": "execute_result"
    }
   ],
   "source": [
    "content_obj = soup.select('#main-content')[0]\n",
    "content_obj"
   ]
  },
  {
   "cell_type": "code",
   "execution_count": 284,
   "metadata": {},
   "outputs": [],
   "source": [
    "for span in content_obj.select('.article-meta-value'):\n",
    "    span.decompose()"
   ]
  },
  {
   "cell_type": "code",
   "execution_count": 289,
   "metadata": {},
   "outputs": [],
   "source": [
    "for span in content_obj.select('.article-meta-tag'):\n",
    "    span.decompose()"
   ]
  },
  {
   "cell_type": "code",
   "execution_count": 292,
   "metadata": {},
   "outputs": [],
   "source": [
    "for div in content_obj.select('.push'):\n",
    "    div.decompose()"
   ]
  },
  {
   "cell_type": "code",
   "execution_count": 297,
   "metadata": {},
   "outputs": [],
   "source": [
    "for span in content_obj.select('.f2'):\n",
    "    span.decompose()"
   ]
  },
  {
   "cell_type": "code",
   "execution_count": 303,
   "metadata": {},
   "outputs": [
    {
     "data": {
      "text/plain": [
       "'啊，看到你這篇文章感覺妳很緊張，\\n\\n想給你一點方向，希望妳放寬心，部分敘述恕刪\\n\\n\\n引述《sm799979 (whay)》之銘言：\\n: 文長，希望能有跟我差不多經歷的人給我點建議！\\n: 當初，\\n: 我面試的職務掛名是行政助理，\\n: 是一間印刷公司包括老闆、老闆娘、業務、業助、工務、司機的7人公司，\\n\\n七人小公司配置一位會計合情合理\\n\\n: 在老闆娘面試時她有提到\\n: 必須處理會計相關事宜，\\n: 我有趕緊說，這個部分我不太懂\\n: （高中時我連乙級都考不過），\\n: 但是老闆娘說這都是制式化的東西，很簡單，因為沒接觸過我也就信了。\\n\\n因為妳沒接觸過可能不知道書上的會計\\n\\n跟實務上的會計其實還是差很多\\n\\n: 但是從第一個月開始，會計的部分總是三天一小錯，五天一大錯，\\n: 被罵到第二個月時我就提了離職，\\n: 老闆娘一開始答應，\\n: 但是後來又叫同事來勸我，\\n: 說我很好相處，沒心機，\\n: 出去會被人家欺負，公司環境單純，要我再試試看，\\n: 我當下覺得有人願意教我我很感動，且我很惜情，她們也都在工作上相當專業，於是我\\n就\\n: 選擇再努力看看。\\n: 直到現在，我做錯的事情大概有\\n: 發票開錯抬頭、\\n: 廠商的帳號、戶名打錯、\\n: 該月要匯給廠商的沒入到沒匯、\\n: 該匯給甲廠商的匯去給乙廠商...等等這幾項比較嚴重的。（目前的週期來到每兩個禮\\n拜\\n: 一件大錯。）\\n\\n好，根據上述其實妳做的有 AR / AP\\n\\n其實發票開錯title 是有點誇張XD\\n\\n如果系統都建檔好，根本不會開錯\\n\\n如果沒用系統，那至少要有一個 excel keep 客戶檔案\\n\\n那AP 的部份應付未匯代表你可以從付款排程去下手\\n\\n這個月進來的付款文件/發票，假設下個月就要付\\n\\n文件收納歸好，到了固定付款日再讓主管核閱過\\n\\n就可以減少應支付未匯的部分\\n\\n（難道說主管都不會問你說這禮拜要付誰錢嗎XD\\n\\n至於匯錯這種東西更誇張...A廠商付款文件2萬元\\n\\n假設老闆娘核閱過還是付3萬，那是誰的責任？\\n\\n\\n\\n: 老闆娘今天就很崩潰因為我匯錯錢這個大忌，她也未要辭退我，我也不敢引咎辭職，因\\n為\\n: 接下來是印刷業的旺季，非常忙碌，要在這個時候讓她應徵人進來實在太不厚道。\\n: 我知道自己的問題是太過粗心，\\n: 我想是因為我從來沒做過類似的工作（以前都是做客服、門市..等等的）\\n: ，也未在老闆娘的底下工作過，\\n: 很多事情無法遮掩補救，\\n: 很容易就被發現，\\n: 可是正確率卻一直無法提升上去，\\n: 導致我現在只要聽到老闆娘接電話我就緊張到流汗，\\n: 不知道是客戶打來說發票開錯了，\\n: 還是廠商打來問為什麼沒收到匯款，越做越沒自信......\\n: 我是希望能有人告訴我這是新手會計必經之路，有一天就不會這樣了\\n: 或是我根本不適合這份工作，年後趕快離職！給我個痛快！！\\n\\n\\n其實會計其他事務什麼分錄、日常費用撥補、401 之類你都沒提\\n\\n單純以你的敘述看來應該就只是內部SOP沒設定好\\n\\n設定好之後應該根本不會出這種紕漏\\n\\n我本來想說給你釣竿的、乾脆直接給你魚\\n\\n希望妳不要太過煩惱，會計是有平衡的美感的（咦\\n\\nAR  應收\\n\\n1. 客供商建檔（這樣統編絕對不會搞錯\\n\\n2. 或至少發票開立請業助協助review\\n\\nAP 應付\\n\\n1. 制定日常付款時間，譬如每兩週的週五或該月底\\n\\n七月進來的請款單，最快就是8月中或8月底付\\n\\n2. 錢出去很重要，每次付款都至少要讓主管review\\n\\n(如果他真的這麼放心讓妳每次都會出錯就另當別論...\\n\\n好啦，其實收付款就是細心而已，加油'"
      ]
     },
     "execution_count": 303,
     "metadata": {},
     "output_type": "execute_result"
    }
   ],
   "source": [
    "content = content_obj.text.strip()[:-2].strip()\n",
    "content"
   ]
  },
  {
   "cell_type": "code",
   "execution_count": 426,
   "metadata": {},
   "outputs": [],
   "source": [
    "def get_ptt_article(url,headers):\n",
    "    try:\n",
    "        print('--->url: %s'%(url))\n",
    "        doc = dict()\n",
    "        res = requests.get(url,headers=headers)\n",
    "        soup = BeautifulSoup(res.text,'lxml')\n",
    "        meta_values = soup.findAll('span',attrs={'class':'article-meta-value'})\n",
    "        author = meta_values[0].text\n",
    "        author_id,author_nickname = re.match('(.+) \\((.*)\\)',author).group(1),re.match('(.+) \\((.*)\\)',author).group(2)\n",
    "        board = meta_values[1].text\n",
    "        title = meta_values[2].text\n",
    "        dt = meta_values[3].text\n",
    "        tm = int(datetime.strptime(dt,'%a %b %d %H:%M:%S %Y').timestamp())\n",
    "        author_infos = soup.findAll('span',attrs={'class':'f2'})\n",
    "        for span in author_infos:\n",
    "            m = re.match('※ 發信站\\: 批踢踢實業坊\\(ptt\\.cc\\), 來自\\: (\\d.+)',span.text) \n",
    "            if m:\n",
    "                ip = m.group(1)\n",
    "        pushs = soup.findAll('div',attrs={'class':'push'})\n",
    "    #     comments = [{\n",
    "    #       'tag': push.find('span',attrs={'class':'push-tag'}).text.strip(),\n",
    "    #       'author': push.find('span',attrs={'class':'push-userid'}).text.strip(),\n",
    "    #       'content': push.find('span',attrs={'class':'push-content'}).text.split(':')[1].strip(),\n",
    "    #       'tm': int(datetime.strptime( '%s/%s'%(datetime.strptime(dt,'%a %b %d %H:%M:%S %Y').year,push.select('.push-ipdatetime')[0].text.strip()),'%Y/%m/%d %H:%M').timestamp())\n",
    "    #     } for push in pushs]\n",
    "        content_obj = soup.find('div',{'id':'main-content'})\n",
    "        for s in content_obj.findAll('span',{'class':'f2'}):\n",
    "            s.decompose()\n",
    "\n",
    "        for s in content_obj.findAll('span',{'class':'article-meta-tag'}):\n",
    "            s.decompose()\n",
    "\n",
    "        for s in content_obj.findAll('span',{'class':'article-meta-value'}):\n",
    "            s.decompose()\n",
    "\n",
    "        for s in content_obj.findAll('div',{'class':'push'}):\n",
    "            s.decompose()\n",
    "        content = content_obj.text.strip()\n",
    "        content = content[:-2].strip() if content[-2:] == '--' else content\n",
    "        doc['author_id'] = author_id\n",
    "        doc['author_nickname'] = author_nickname\n",
    "        doc['board'] = board\n",
    "        doc['tm'] = tm\n",
    "        doc['ip'] = ip\n",
    "    #     doc['comments'] = comments\n",
    "        doc['title'] = title\n",
    "        doc['content'] = content\n",
    "    except Exception as e:\n",
    "        print('%s has error '%(url))\n",
    "        print(e)\n",
    "    return doc"
   ]
  },
  {
   "cell_type": "code",
   "execution_count": 383,
   "metadata": {},
   "outputs": [
    {
     "data": {
      "text/html": [
       "<div>\n",
       "<style>\n",
       "    .dataframe thead tr:only-child th {\n",
       "        text-align: right;\n",
       "    }\n",
       "\n",
       "    .dataframe thead th {\n",
       "        text-align: left;\n",
       "    }\n",
       "\n",
       "    .dataframe tbody tr th {\n",
       "        vertical-align: top;\n",
       "    }\n",
       "</style>\n",
       "<table border=\"1\" class=\"dataframe\">\n",
       "  <thead>\n",
       "    <tr style=\"text-align: right;\">\n",
       "      <th></th>\n",
       "      <th>a</th>\n",
       "    </tr>\n",
       "  </thead>\n",
       "  <tbody>\n",
       "    <tr>\n",
       "      <th>0</th>\n",
       "      <td>1</td>\n",
       "    </tr>\n",
       "    <tr>\n",
       "      <th>1</th>\n",
       "      <td>2</td>\n",
       "    </tr>\n",
       "  </tbody>\n",
       "</table>\n",
       "</div>"
      ],
      "text/plain": [
       "   a\n",
       "0  1\n",
       "1  2"
      ]
     },
     "execution_count": 383,
     "metadata": {},
     "output_type": "execute_result"
    }
   ],
   "source": [
    "tmp_docs = [{'a':1},{'a':2}]\n",
    "pd.DataFrame(tmp_docs)"
   ]
  },
  {
   "cell_type": "code",
   "execution_count": 399,
   "metadata": {},
   "outputs": [
    {
     "data": {
      "text/html": [
       "<div>\n",
       "<style>\n",
       "    .dataframe thead tr:only-child th {\n",
       "        text-align: right;\n",
       "    }\n",
       "\n",
       "    .dataframe thead th {\n",
       "        text-align: left;\n",
       "    }\n",
       "\n",
       "    .dataframe tbody tr th {\n",
       "        vertical-align: top;\n",
       "    }\n",
       "</style>\n",
       "<table border=\"1\" class=\"dataframe\">\n",
       "  <thead>\n",
       "    <tr style=\"text-align: right;\">\n",
       "      <th></th>\n",
       "      <th>0</th>\n",
       "    </tr>\n",
       "  </thead>\n",
       "  <tbody>\n",
       "    <tr>\n",
       "      <th>0</th>\n",
       "      <td>None</td>\n",
       "    </tr>\n",
       "    <tr>\n",
       "      <th>1</th>\n",
       "      <td>{'a': 1}</td>\n",
       "    </tr>\n",
       "    <tr>\n",
       "      <th>2</th>\n",
       "      <td>{'a': 2}</td>\n",
       "    </tr>\n",
       "  </tbody>\n",
       "</table>\n",
       "</div>"
      ],
      "text/plain": [
       "          0\n",
       "0      None\n",
       "1  {'a': 1}\n",
       "2  {'a': 2}"
      ]
     },
     "execution_count": 399,
     "metadata": {},
     "output_type": "execute_result"
    }
   ],
   "source": [
    "tmp_docs = [None,{'a':1},{'a':2}]\n",
    "pd.DataFrame(tmp_docs)"
   ]
  },
  {
   "cell_type": "code",
   "execution_count": 335,
   "metadata": {
    "scrolled": true
   },
   "outputs": [
    {
     "name": "stdout",
     "output_type": "stream",
     "text": [
      "--->url: https://www.ptt.cc/bbs/Salary/M.1532954873.A.646.html\n"
     ]
    },
    {
     "data": {
      "text/plain": [
       "{'author_id': 'SportLeo',\n",
       " 'author_nickname': '阿基里斯',\n",
       " 'board': 'Salary',\n",
       " 'comments': [{'author': 'ally2007',\n",
       "   'content': '推好心，原po加油！',\n",
       "   'tag': '推',\n",
       "   'tm': 1532956020},\n",
       "  {'author': 'sm799979',\n",
       "   'content': '謝謝你用心的回文，其實我的工作內容並不如你陳述的那',\n",
       "   'tag': '推',\n",
       "   'tm': 1532956200},\n",
       "  {'author': 'sm799979',\n",
       "   'content': '麼專業，但是仍然大有幫助，如果我補足了細心不足這塊，',\n",
       "   'tag': '→',\n",
       "   'tm': 1532956200},\n",
       "  {'author': 'sm799979',\n",
       "   'content': '我相信我可以做的到的，萬分感激！',\n",
       "   'tag': '→',\n",
       "   'tm': 1532956200},\n",
       "  {'author': 'coyoteY',\n",
       "   'content': '推好心,如果公司沒提供軟體,可以試著用excel建檔會更方便',\n",
       "   'tag': '推',\n",
       "   'tm': 1532957160},\n",
       "  {'author': 'qmqmqm', 'content': '推好心', 'tag': '推', 'tm': 1532958180},\n",
       "  {'author': 'y932987',\n",
       "   'content': '其實他應該多做一個覆核的程序 這些事情真的都不難 是普',\n",
       "   'tag': '推',\n",
       "   'tm': 1532962620},\n",
       "  {'author': 'y932987', 'content': '通的日常 只是沒核對', 'tag': '→', 'tm': 1532962620},\n",
       "  {'author': 'BreakingBad',\n",
       "   'content': '如果不確定廠商名稱，打公司登記查詢都會有正確資料',\n",
       "   'tag': '推',\n",
       "   'tm': 1532963640},\n",
       "  {'author': 'BreakingBad',\n",
       "   'content': '，在開發票之前確認一下即可',\n",
       "   'tag': '→',\n",
       "   'tm': 1532963640},\n",
       "  {'author': 'BreakingBad',\n",
       "   'content': '我發現我不是會計，但是這些我全部都得做XD',\n",
       "   'tag': '→',\n",
       "   'tm': 1532963700},\n",
       "  {'author': 'chris0428', 'content': '是好心龜龜', 'tag': '推', 'tm': 1532992440},\n",
       "  {'author': 'romand',\n",
       "   'content': '推好心,可是這些AR等用語完全不會會計的人會了解嗎@@',\n",
       "   'tag': '推',\n",
       "   'tm': 1533000180},\n",
       "  {'author': 'edcs', 'content': '我只知道AV', 'tag': '推', 'tm': 1533006000}],\n",
       " 'content': '啊，看到你這篇文章感覺妳很緊張，\\n\\n想給你一點方向，希望妳放寬心，部分敘述恕刪\\n\\n\\n引述《sm799979 (whay)》之銘言：\\n: 文長，希望能有跟我差不多經歷的人給我點建議！\\n: 當初，\\n: 我面試的職務掛名是行政助理，\\n: 是一間印刷公司包括老闆、老闆娘、業務、業助、工務、司機的7人公司，\\n\\n七人小公司配置一位會計合情合理\\n\\n: 在老闆娘面試時她有提到\\n: 必須處理會計相關事宜，\\n: 我有趕緊說，這個部分我不太懂\\n: （高中時我連乙級都考不過），\\n: 但是老闆娘說這都是制式化的東西，很簡單，因為沒接觸過我也就信了。\\n\\n因為妳沒接觸過可能不知道書上的會計\\n\\n跟實務上的會計其實還是差很多\\n\\n: 但是從第一個月開始，會計的部分總是三天一小錯，五天一大錯，\\n: 被罵到第二個月時我就提了離職，\\n: 老闆娘一開始答應，\\n: 但是後來又叫同事來勸我，\\n: 說我很好相處，沒心機，\\n: 出去會被人家欺負，公司環境單純，要我再試試看，\\n: 我當下覺得有人願意教我我很感動，且我很惜情，她們也都在工作上相當專業，於是我\\n就\\n: 選擇再努力看看。\\n: 直到現在，我做錯的事情大概有\\n: 發票開錯抬頭、\\n: 廠商的帳號、戶名打錯、\\n: 該月要匯給廠商的沒入到沒匯、\\n: 該匯給甲廠商的匯去給乙廠商...等等這幾項比較嚴重的。（目前的週期來到每兩個禮\\n拜\\n: 一件大錯。）\\n\\n好，根據上述其實妳做的有 AR / AP\\n\\n其實發票開錯title 是有點誇張XD\\n\\n如果系統都建檔好，根本不會開錯\\n\\n如果沒用系統，那至少要有一個 excel keep 客戶檔案\\n\\n那AP 的部份應付未匯代表你可以從付款排程去下手\\n\\n這個月進來的付款文件/發票，假設下個月就要付\\n\\n文件收納歸好，到了固定付款日再讓主管核閱過\\n\\n就可以減少應支付未匯的部分\\n\\n（難道說主管都不會問你說這禮拜要付誰錢嗎XD\\n\\n至於匯錯這種東西更誇張...A廠商付款文件2萬元\\n\\n假設老闆娘核閱過還是付3萬，那是誰的責任？\\n\\n\\n\\n: 老闆娘今天就很崩潰因為我匯錯錢這個大忌，她也未要辭退我，我也不敢引咎辭職，因\\n為\\n: 接下來是印刷業的旺季，非常忙碌，要在這個時候讓她應徵人進來實在太不厚道。\\n: 我知道自己的問題是太過粗心，\\n: 我想是因為我從來沒做過類似的工作（以前都是做客服、門市..等等的）\\n: ，也未在老闆娘的底下工作過，\\n: 很多事情無法遮掩補救，\\n: 很容易就被發現，\\n: 可是正確率卻一直無法提升上去，\\n: 導致我現在只要聽到老闆娘接電話我就緊張到流汗，\\n: 不知道是客戶打來說發票開錯了，\\n: 還是廠商打來問為什麼沒收到匯款，越做越沒自信......\\n: 我是希望能有人告訴我這是新手會計必經之路，有一天就不會這樣了\\n: 或是我根本不適合這份工作，年後趕快離職！給我個痛快！！\\n\\n\\n其實會計其他事務什麼分錄、日常費用撥補、401 之類你都沒提\\n\\n單純以你的敘述看來應該就只是內部SOP沒設定好\\n\\n設定好之後應該根本不會出這種紕漏\\n\\n我本來想說給你釣竿的、乾脆直接給你魚\\n\\n希望妳不要太過煩惱，會計是有平衡的美感的（咦\\n\\nAR  應收\\n\\n1. 客供商建檔（這樣統編絕對不會搞錯\\n\\n2. 或至少發票開立請業助協助review\\n\\nAP 應付\\n\\n1. 制定日常付款時間，譬如每兩週的週五或該月底\\n\\n七月進來的請款單，最快就是8月中或8月底付\\n\\n2. 錢出去很重要，每次付款都至少要讓主管review\\n\\n(如果他真的這麼放心讓妳每次都會出錯就另當別論...\\n\\n好啦，其實收付款就是細心而已，加油',\n",
       " 'ip': '117.19.231.146',\n",
       " 'title': 'Re: [問題] 不會會計的會計',\n",
       " 'tm': 1532954871}"
      ]
     },
     "execution_count": 335,
     "metadata": {},
     "output_type": "execute_result"
    }
   ],
   "source": [
    "get_ptt_article('https://www.ptt.cc/bbs/Salary/M.1532954873.A.646.html')"
   ]
  },
  {
   "cell_type": "code",
   "execution_count": 326,
   "metadata": {},
   "outputs": [],
   "source": [
    "docs = []\n",
    "for url in urls:\n",
    "    docs.append(get_ptt_article(url))"
   ]
  },
  {
   "cell_type": "code",
   "execution_count": 328,
   "metadata": {},
   "outputs": [
    {
     "data": {
      "text/plain": [
       "18"
      ]
     },
     "execution_count": 328,
     "metadata": {},
     "output_type": "execute_result"
    }
   ],
   "source": [
    "len(docs)"
   ]
  },
  {
   "cell_type": "code",
   "execution_count": 427,
   "metadata": {},
   "outputs": [],
   "source": [
    "def get_ptt_article_list(page_url,headers):\n",
    "    urls = []\n",
    "    res = requests.get(page_url,headers=headers)\n",
    "    soup = BeautifulSoup(res.text,'lxml')\n",
    "    article_list = soup.select('.r-ent .title a')\n",
    "    for article in article_list:\n",
    "        url = domain + article['href']\n",
    "#         print(url)\n",
    "        urls.append(url)\n",
    "    return urls"
   ]
  },
  {
   "cell_type": "code",
   "execution_count": 432,
   "metadata": {},
   "outputs": [],
   "source": [
    "def get_ptt(board,total_page=1):\n",
    "    docs = []\n",
    "    headers = {\n",
    "      \"cookie\": \"__cfduid=d5f2274637142c63b85585c60c8fa1e9b1502083011; _ga=GA1.2.2014264793.1502083012; over18=1; _gid=GA1.2.504188955.1532926138\",\\\n",
    "      \"user-agent\": \"Mozilla/5.0 (Macintosh; Intel Mac OS X 10_13_4) AppleWebKit/537.36 (KHTML, like Gecko) Chrome/67.0.3396.99 Safari/537.36\"\\\n",
    "    }\n",
    "    domain = 'https://www.ptt.cc'\n",
    "    url = '%s/bbs/%s/index.html'%(domain,board)\n",
    "    print(url)\n",
    "    res =requests.get(url,headers=headers)\n",
    "    soup = BeautifulSoup(res.text,'lxml')\n",
    "    for i in soup.select('.btn.wide'):\n",
    "        if i.text == '‹ 上頁':\n",
    "            m = re.match('.+/index(\\d+).html',i['href'])\n",
    "            last_page = int(m.group(1))+1\n",
    "    print(last_page)\n",
    "    for page in range(last_page,last_page-total_page,-1):\n",
    "        page_url = '{}/bbs/{}/index{}.html'.format(domain,board,page)\n",
    "        urls =get_ptt_article_list(page_url,headers)\n",
    "        for url in urls:\n",
    "            doc = get_ptt_article(url,headers)\n",
    "            docs.append(doc)\n",
    "    df = pd.DataFrame(list(filter(None,docs)))\n",
    "    return df"
   ]
  },
  {
   "cell_type": "code",
   "execution_count": 433,
   "metadata": {},
   "outputs": [
    {
     "name": "stdout",
     "output_type": "stream",
     "text": [
      "https://www.ptt.cc/bbs/Gossiping/index.html\n",
      "39094\n",
      "--->url: https://www.ptt.cc/bbs/Gossiping/M.1533022803.A.2A5.html\n",
      "--->url: https://www.ptt.cc/bbs/Gossiping/M.1533022806.A.54D.html\n",
      "--->url: https://www.ptt.cc/bbs/Gossiping/M.1533022807.A.A15.html\n",
      "--->url: https://www.ptt.cc/bbs/Gossiping/M.1533022853.A.B15.html\n",
      "--->url: https://www.ptt.cc/bbs/Gossiping/M.1533022867.A.740.html\n",
      "--->url: https://www.ptt.cc/bbs/Gossiping/M.1533022890.A.C0E.html\n",
      "--->url: https://www.ptt.cc/bbs/Gossiping/M.1533022921.A.EC6.html\n",
      "--->url: https://www.ptt.cc/bbs/Gossiping/M.1533022929.A.E38.html\n",
      "--->url: https://www.ptt.cc/bbs/Gossiping/M.1533022932.A.706.html\n",
      "--->url: https://www.ptt.cc/bbs/Gossiping/M.1533022951.A.0B7.html\n",
      "--->url: https://www.ptt.cc/bbs/Gossiping/M.1533022952.A.DDC.html\n",
      "--->url: https://www.ptt.cc/bbs/Gossiping/M.1533022970.A.589.html\n",
      "--->url: https://www.ptt.cc/bbs/Gossiping/M.1533023027.A.C31.html\n",
      "--->url: https://www.ptt.cc/bbs/Gossiping/M.1533023084.A.F63.html\n",
      "--->url: https://www.ptt.cc/bbs/Gossiping/M.1533023102.A.58E.html\n",
      "--->url: https://www.ptt.cc/bbs/Gossiping/M.1533023153.A.212.html\n",
      "--->url: https://www.ptt.cc/bbs/Gossiping/M.1533023190.A.303.html\n",
      "--->url: https://www.ptt.cc/bbs/Gossiping/M.1533023202.A.56B.html\n",
      "--->url: https://www.ptt.cc/bbs/Gossiping/M.1533023272.A.E9F.html\n",
      "--->url: https://www.ptt.cc/bbs/Gossiping/M.1510415718.A.D77.html\n",
      "--->url: https://www.ptt.cc/bbs/Gossiping/M.1530414891.A.838.html\n",
      "https://www.ptt.cc/bbs/Gossiping/M.1530414891.A.838.html has error \n",
      "list index out of range\n",
      "--->url: https://www.ptt.cc/bbs/Gossiping/M.1531408379.A.983.html\n",
      "--->url: https://www.ptt.cc/bbs/Gossiping/M.1532353741.A.CCF.html\n",
      "--->url: https://www.ptt.cc/bbs/Gossiping/M.1532526256.A.563.html\n"
     ]
    },
    {
     "data": {
      "text/html": [
       "<div>\n",
       "<style>\n",
       "    .dataframe thead tr:only-child th {\n",
       "        text-align: right;\n",
       "    }\n",
       "\n",
       "    .dataframe thead th {\n",
       "        text-align: left;\n",
       "    }\n",
       "\n",
       "    .dataframe tbody tr th {\n",
       "        vertical-align: top;\n",
       "    }\n",
       "</style>\n",
       "<table border=\"1\" class=\"dataframe\">\n",
       "  <thead>\n",
       "    <tr style=\"text-align: right;\">\n",
       "      <th></th>\n",
       "      <th>author_id</th>\n",
       "      <th>author_nickname</th>\n",
       "      <th>board</th>\n",
       "      <th>content</th>\n",
       "      <th>ip</th>\n",
       "      <th>title</th>\n",
       "      <th>tm</th>\n",
       "    </tr>\n",
       "  </thead>\n",
       "  <tbody>\n",
       "    <tr>\n",
       "      <th>0</th>\n",
       "      <td>autokey</td>\n",
       "      <td>該起床啦</td>\n",
       "      <td>Gossiping</td>\n",
       "      <td>: 綠盟：反對深澳電廠 也不認同以核養綠\\n\\n之前我一個想減肥的朋友\\n他跟我說他反對不吃...</td>\n",
       "      <td>111.249.168.130</td>\n",
       "      <td>Re: [新聞] 綠盟：反對深澳電廠 也不認同以核養綠</td>\n",
       "      <td>1533022799</td>\n",
       "    </tr>\n",
       "    <tr>\n",
       "      <th>1</th>\n",
       "      <td>a874622</td>\n",
       "      <td>流浪者</td>\n",
       "      <td>Gossiping</td>\n",
       "      <td>: 當時美國屬意台灣退出安理會中國席位，由中共政府代表中國在聯合國的席位。\\n: 所以那時台...</td>\n",
       "      <td>114.36.191.219</td>\n",
       "      <td>Re: [新聞] 賴清德：蔣介石退出聯合國埋下大錯</td>\n",
       "      <td>1533022804</td>\n",
       "    </tr>\n",
       "    <tr>\n",
       "      <th>2</th>\n",
       "      <td>TigerLily</td>\n",
       "      <td></td>\n",
       "      <td>Gossiping</td>\n",
       "      <td>要降低青年購屋壓力，避免大家生不出小孩\\n\\n應該是多蓋公宅才對\\n\\n還要限定剛結婚的夫妻...</td>\n",
       "      <td>223.138.171.78</td>\n",
       "      <td>Re: [新聞] 降青年購屋壓力 徐國勇：擬提1成自備款</td>\n",
       "      <td>1533022805</td>\n",
       "    </tr>\n",
       "    <tr>\n",
       "      <th>3</th>\n",
       "      <td>mandalin</td>\n",
       "      <td>金山下智久</td>\n",
       "      <td>Gossiping</td>\n",
       "      <td>1.媒體來源:三立新聞網\\n\\n2.完整新聞標題:\\n\\n爆打空服員生殖器、嚇哭乘客　大媽被...</td>\n",
       "      <td>59.127.172.58</td>\n",
       "      <td>[新聞] 爆打空服員生殖器、嚇哭乘客　大媽被封「</td>\n",
       "      <td>1533022849</td>\n",
       "    </tr>\n",
       "    <tr>\n",
       "      <th>4</th>\n",
       "      <td>azman1018z</td>\n",
       "      <td>冷漠的旁觀</td>\n",
       "      <td>Gossiping</td>\n",
       "      <td>姑婆勇這草包可以再蠢一點啊\\n\\n沒頭期款→降低頭期款成數\\n房貸太貴→20年改30，40,...</td>\n",
       "      <td>49.217.134.215</td>\n",
       "      <td>Re: [新聞] 降青年購屋壓力 徐國勇：擬提1成自備款</td>\n",
       "      <td>1533022865</td>\n",
       "    </tr>\n",
       "    <tr>\n",
       "      <th>5</th>\n",
       "      <td>biyouth5566</td>\n",
       "      <td>比欸ㄟ肖年阿</td>\n",
       "      <td>Gossiping</td>\n",
       "      <td>1.媒體來源:\\n\\n中時電子報\\n\\n2.完整新聞標題:\\n\\n大學生自製Kuso影片 狠...</td>\n",
       "      <td>49.215.153.173</td>\n",
       "      <td>[新聞] 大學生自製Kuso影片 狠諷蘇貞昌騙神明話</td>\n",
       "      <td>1533022887</td>\n",
       "    </tr>\n",
       "    <tr>\n",
       "      <th>6</th>\n",
       "      <td>CF661020</td>\n",
       "      <td>秋風之痕</td>\n",
       "      <td>Gossiping</td>\n",
       "      <td>1.媒體來源:新頭殼newtalk |洪翠蓮 綜合報導 2018年7月31日\\n\\n2.完整...</td>\n",
       "      <td>59.120.53.117</td>\n",
       "      <td>[新聞] 西伯利亞太陽離奇消失3小時 俄政府無解</td>\n",
       "      <td>1533022916</td>\n",
       "    </tr>\n",
       "    <tr>\n",
       "      <th>7</th>\n",
       "      <td>ray90910</td>\n",
       "      <td>閉起眼睛你最掛念誰</td>\n",
       "      <td>Gossiping</td>\n",
       "      <td>如題\\n半導體界著名的摩爾定律：\\n\\n積體電路上可容納的電晶體數目\\n約每隔兩年便會增加一...</td>\n",
       "      <td>61.228.3.62</td>\n",
       "      <td>[問卦] 為啥摩爾隨便講個話大家都把它當定律？</td>\n",
       "      <td>1533022924</td>\n",
       "    </tr>\n",
       "    <tr>\n",
       "      <th>8</th>\n",
       "      <td>Kay731</td>\n",
       "      <td>K少</td>\n",
       "      <td>Gossiping</td>\n",
       "      <td>買了兩三個機械鍵盤過，\\n\\n青軸，茶軸，黑軸都用過了，\\n\\n感覺茶軸真的是手感最好，有機...</td>\n",
       "      <td>180.217.185.143</td>\n",
       "      <td>[問卦] 有機械鍵盤茶軸才是王道的八卦嗎？</td>\n",
       "      <td>1533022925</td>\n",
       "    </tr>\n",
       "    <tr>\n",
       "      <th>9</th>\n",
       "      <td>q5212</td>\n",
       "      <td>q5212</td>\n",
       "      <td>Gossiping</td>\n",
       "      <td>: 剛拔完智齒 醫生問要不要膠原蛋白\\n: 說可以比較快讓傷口好起來\\n: 開價一顆3000...</td>\n",
       "      <td>223.140.20.148</td>\n",
       "      <td>Re: [問卦] 拔智齒的膠原蛋白</td>\n",
       "      <td>1533022949</td>\n",
       "    </tr>\n",
       "    <tr>\n",
       "      <th>10</th>\n",
       "      <td>Arnol</td>\n",
       "      <td>還是太淺了</td>\n",
       "      <td>Gossiping</td>\n",
       "      <td>: 2017/06/22  高院判決理由\\n: 呂炳宏其實有2次救人機會，因此才會發布聲明解...</td>\n",
       "      <td>1.168.24.59</td>\n",
       "      <td>Re: [新聞] 媽媽嘴案連帶賠368萬 呂炳宏與股東翻盤無</td>\n",
       "      <td>1533022948</td>\n",
       "    </tr>\n",
       "    <tr>\n",
       "      <th>11</th>\n",
       "      <td>assassinASHE</td>\n",
       "      <td>幹古專用帳號</td>\n",
       "      <td>Gossiping</td>\n",
       "      <td>高中以上太老了\\n\\n國中剛剛好\\n\\n怎樣才能跟國中妹一起念書\\n\\n念完書還可以一起吃冰...</td>\n",
       "      <td>1.170.8.25</td>\n",
       "      <td>[問卦] 怎麼樣才能跟國中妹一起念書??</td>\n",
       "      <td>1533022967</td>\n",
       "    </tr>\n",
       "    <tr>\n",
       "      <th>12</th>\n",
       "      <td>codevery0117</td>\n",
       "      <td>砧板</td>\n",
       "      <td>Gossiping</td>\n",
       "      <td>本肥跟女友雖然都買便宜的安全帽，不過我想我能回答這個問題\\n\\nhttps://i.imgu...</td>\n",
       "      <td>223.138.115.99</td>\n",
       "      <td>Re: [問卦] 安全帽買很貴的人在想什麼</td>\n",
       "      <td>1533023024</td>\n",
       "    </tr>\n",
       "    <tr>\n",
       "      <th>13</th>\n",
       "      <td>breath35</td>\n",
       "      <td>ddd</td>\n",
       "      <td>Gossiping</td>\n",
       "      <td>東奧正名民進黨袖手 台聯：不該冷淡\\n\\n台灣醒報 https://anntw.com/ar...</td>\n",
       "      <td>118.160.89.159</td>\n",
       "      <td>[新聞] 東奧正名民進黨袖手 台聯：不該冷淡</td>\n",
       "      <td>1533023081</td>\n",
       "    </tr>\n",
       "    <tr>\n",
       "      <th>14</th>\n",
       "      <td>s1155697</td>\n",
       "      <td>s1155697</td>\n",
       "      <td>Gossiping</td>\n",
       "      <td>: 我買了一包菸，那瞬間我已經繳了健康捐，政府同意我抽菸了OK，你繳了啥?\\n: 我在我家抽...</td>\n",
       "      <td>163.15.161.247</td>\n",
       "      <td>Re: [問卦] 吸菸者該死嗎?</td>\n",
       "      <td>1533023099</td>\n",
       "    </tr>\n",
       "    <tr>\n",
       "      <th>15</th>\n",
       "      <td>Vasilii</td>\n",
       "      <td>Vasilii</td>\n",
       "      <td>Gossiping</td>\n",
       "      <td>在美國\\n\\n人們常常說想住美國加州\\n\\n因為天氣很暖 舒服\\n\\n那跟台灣不是很像嗎\\n...</td>\n",
       "      <td>119.77.159.45</td>\n",
       "      <td>[問卦] 有沒有加州跟台灣的八卦</td>\n",
       "      <td>1533023150</td>\n",
       "    </tr>\n",
       "    <tr>\n",
       "      <th>16</th>\n",
       "      <td>sa99</td>\n",
       "      <td>no deviation</td>\n",
       "      <td>Gossiping</td>\n",
       "      <td>甲甲是上帝賜與人類的神聖種族\\n\\n尊爵不凡，能正常人所不能\\n\\n這麼高貴的種族身分證應該...</td>\n",
       "      <td>101.15.197.190</td>\n",
       "      <td>[問卦] 為什麼不幫甲甲換彩虹身分證？</td>\n",
       "      <td>1533023188</td>\n",
       "    </tr>\n",
       "    <tr>\n",
       "      <th>17</th>\n",
       "      <td>glthe1</td>\n",
       "      <td>姆咪教-金毛獅王</td>\n",
       "      <td>Gossiping</td>\n",
       "      <td>沒辦法開源就要想辦法節流啊\\n\\n很多推文說一個月外食一萬很正常，問題是大哥你今天領25K啊...</td>\n",
       "      <td>117.19.202.32</td>\n",
       "      <td>Re: [新聞] 快遞員月薪2萬5　吐司開水撐五天</td>\n",
       "      <td>1533023200</td>\n",
       "    </tr>\n",
       "    <tr>\n",
       "      <th>18</th>\n",
       "      <td>dilano</td>\n",
       "      <td>幸福</td>\n",
       "      <td>Gossiping</td>\n",
       "      <td>改革殯葬搶政績！陸政府強行「搶棺」銷毀　老人心碎痛哭\\n\\nSETN／綜合報導\\n\\n中國大...</td>\n",
       "      <td>61.228.40.193</td>\n",
       "      <td>[新聞] 改革殯葬！陸政府強行搶棺銷毀　老人痛哭</td>\n",
       "      <td>1533023270</td>\n",
       "    </tr>\n",
       "    <tr>\n",
       "      <th>19</th>\n",
       "      <td>Kay731</td>\n",
       "      <td>K少</td>\n",
       "      <td>Gossiping</td>\n",
       "      <td>╭─────────────────────────────────────╮\\n│ 本板為...</td>\n",
       "      <td>1.164.56.34</td>\n",
       "      <td>[公告] 八卦板板規(2017.11.11)</td>\n",
       "      <td>1510415713</td>\n",
       "    </tr>\n",
       "    <tr>\n",
       "      <th>20</th>\n",
       "      <td>x25628014</td>\n",
       "      <td>傻孩子</td>\n",
       "      <td>Gossiping</td>\n",
       "      <td>尋求行車記錄器畫面或目擊者\\n時間： 107/07/10　18:00~18:40\\n地點： ...</td>\n",
       "      <td>114.41.4.127</td>\n",
       "      <td>[協尋]7/10臨港路與西濱路口(阿得釣具)行車紀錄</td>\n",
       "      <td>1531408375</td>\n",
       "    </tr>\n",
       "    <tr>\n",
       "      <th>21</th>\n",
       "      <td>chevalierxd</td>\n",
       "      <td>獨孤求噓-風青羊</td>\n",
       "      <td>Gossiping</td>\n",
       "      <td>尋求行車記錄器畫面\\n時間： 107/07/23　15:02~15:05\\n地點： 台北市信...</td>\n",
       "      <td>223.140.180.235</td>\n",
       "      <td>[協尋] 忠孝東路4段 逸仙路口行車紀錄器影片</td>\n",
       "      <td>1532353738</td>\n",
       "    </tr>\n",
       "    <tr>\n",
       "      <th>22</th>\n",
       "      <td>saniyan</td>\n",
       "      <td>檬皮</td>\n",
       "      <td>Gossiping</td>\n",
       "      <td>大家好，希望能協尋行車記錄器畫面\\n\\n時間：7/25 15:20~15:25 左右\\n地點...</td>\n",
       "      <td>118.166.196.228</td>\n",
       "      <td>[協尋] 7/25 忠孝東路六段212巷口行車紀錄</td>\n",
       "      <td>1532526254</td>\n",
       "    </tr>\n",
       "  </tbody>\n",
       "</table>\n",
       "</div>"
      ],
      "text/plain": [
       "       author_id author_nickname      board  \\\n",
       "0        autokey            該起床啦  Gossiping   \n",
       "1        a874622             流浪者  Gossiping   \n",
       "2      TigerLily                  Gossiping   \n",
       "3       mandalin           金山下智久  Gossiping   \n",
       "4     azman1018z           冷漠的旁觀  Gossiping   \n",
       "5    biyouth5566          比欸ㄟ肖年阿  Gossiping   \n",
       "6       CF661020            秋風之痕  Gossiping   \n",
       "7       ray90910       閉起眼睛你最掛念誰  Gossiping   \n",
       "8         Kay731              K少  Gossiping   \n",
       "9          q5212           q5212  Gossiping   \n",
       "10         Arnol           還是太淺了  Gossiping   \n",
       "11  assassinASHE          幹古專用帳號  Gossiping   \n",
       "12  codevery0117              砧板  Gossiping   \n",
       "13      breath35             ddd  Gossiping   \n",
       "14      s1155697        s1155697  Gossiping   \n",
       "15       Vasilii         Vasilii  Gossiping   \n",
       "16          sa99    no deviation  Gossiping   \n",
       "17        glthe1        姆咪教-金毛獅王  Gossiping   \n",
       "18        dilano              幸福  Gossiping   \n",
       "19        Kay731              K少  Gossiping   \n",
       "20     x25628014             傻孩子  Gossiping   \n",
       "21   chevalierxd        獨孤求噓-風青羊  Gossiping   \n",
       "22       saniyan              檬皮  Gossiping   \n",
       "\n",
       "                                              content               ip  \\\n",
       "0   : 綠盟：反對深澳電廠 也不認同以核養綠\\n\\n之前我一個想減肥的朋友\\n他跟我說他反對不吃...  111.249.168.130   \n",
       "1   : 當時美國屬意台灣退出安理會中國席位，由中共政府代表中國在聯合國的席位。\\n: 所以那時台...   114.36.191.219   \n",
       "2   要降低青年購屋壓力，避免大家生不出小孩\\n\\n應該是多蓋公宅才對\\n\\n還要限定剛結婚的夫妻...   223.138.171.78   \n",
       "3   1.媒體來源:三立新聞網\\n\\n2.完整新聞標題:\\n\\n爆打空服員生殖器、嚇哭乘客　大媽被...    59.127.172.58   \n",
       "4   姑婆勇這草包可以再蠢一點啊\\n\\n沒頭期款→降低頭期款成數\\n房貸太貴→20年改30，40,...   49.217.134.215   \n",
       "5   1.媒體來源:\\n\\n中時電子報\\n\\n2.完整新聞標題:\\n\\n大學生自製Kuso影片 狠...   49.215.153.173   \n",
       "6   1.媒體來源:新頭殼newtalk |洪翠蓮 綜合報導 2018年7月31日\\n\\n2.完整...    59.120.53.117   \n",
       "7   如題\\n半導體界著名的摩爾定律：\\n\\n積體電路上可容納的電晶體數目\\n約每隔兩年便會增加一...      61.228.3.62   \n",
       "8   買了兩三個機械鍵盤過，\\n\\n青軸，茶軸，黑軸都用過了，\\n\\n感覺茶軸真的是手感最好，有機...  180.217.185.143   \n",
       "9   : 剛拔完智齒 醫生問要不要膠原蛋白\\n: 說可以比較快讓傷口好起來\\n: 開價一顆3000...   223.140.20.148   \n",
       "10  : 2017/06/22  高院判決理由\\n: 呂炳宏其實有2次救人機會，因此才會發布聲明解...      1.168.24.59   \n",
       "11  高中以上太老了\\n\\n國中剛剛好\\n\\n怎樣才能跟國中妹一起念書\\n\\n念完書還可以一起吃冰...       1.170.8.25   \n",
       "12  本肥跟女友雖然都買便宜的安全帽，不過我想我能回答這個問題\\n\\nhttps://i.imgu...   223.138.115.99   \n",
       "13  東奧正名民進黨袖手 台聯：不該冷淡\\n\\n台灣醒報 https://anntw.com/ar...   118.160.89.159   \n",
       "14  : 我買了一包菸，那瞬間我已經繳了健康捐，政府同意我抽菸了OK，你繳了啥?\\n: 我在我家抽...   163.15.161.247   \n",
       "15  在美國\\n\\n人們常常說想住美國加州\\n\\n因為天氣很暖 舒服\\n\\n那跟台灣不是很像嗎\\n...    119.77.159.45   \n",
       "16  甲甲是上帝賜與人類的神聖種族\\n\\n尊爵不凡，能正常人所不能\\n\\n這麼高貴的種族身分證應該...   101.15.197.190   \n",
       "17  沒辦法開源就要想辦法節流啊\\n\\n很多推文說一個月外食一萬很正常，問題是大哥你今天領25K啊...    117.19.202.32   \n",
       "18  改革殯葬搶政績！陸政府強行「搶棺」銷毀　老人心碎痛哭\\n\\nSETN／綜合報導\\n\\n中國大...    61.228.40.193   \n",
       "19  ╭─────────────────────────────────────╮\\n│ 本板為...      1.164.56.34   \n",
       "20  尋求行車記錄器畫面或目擊者\\n時間： 107/07/10　18:00~18:40\\n地點： ...     114.41.4.127   \n",
       "21  尋求行車記錄器畫面\\n時間： 107/07/23　15:02~15:05\\n地點： 台北市信...  223.140.180.235   \n",
       "22  大家好，希望能協尋行車記錄器畫面\\n\\n時間：7/25 15:20~15:25 左右\\n地點...  118.166.196.228   \n",
       "\n",
       "                             title          tm  \n",
       "0      Re: [新聞] 綠盟：反對深澳電廠 也不認同以核養綠  1533022799  \n",
       "1        Re: [新聞] 賴清德：蔣介石退出聯合國埋下大錯  1533022804  \n",
       "2     Re: [新聞] 降青年購屋壓力 徐國勇：擬提1成自備款  1533022805  \n",
       "3         [新聞] 爆打空服員生殖器、嚇哭乘客　大媽被封「  1533022849  \n",
       "4     Re: [新聞] 降青年購屋壓力 徐國勇：擬提1成自備款  1533022865  \n",
       "5       [新聞] 大學生自製Kuso影片 狠諷蘇貞昌騙神明話  1533022887  \n",
       "6         [新聞] 西伯利亞太陽離奇消失3小時 俄政府無解  1533022916  \n",
       "7          [問卦] 為啥摩爾隨便講個話大家都把它當定律？  1533022924  \n",
       "8            [問卦] 有機械鍵盤茶軸才是王道的八卦嗎？  1533022925  \n",
       "9                Re: [問卦] 拔智齒的膠原蛋白  1533022949  \n",
       "10  Re: [新聞] 媽媽嘴案連帶賠368萬 呂炳宏與股東翻盤無  1533022948  \n",
       "11            [問卦] 怎麼樣才能跟國中妹一起念書??  1533022967  \n",
       "12           Re: [問卦] 安全帽買很貴的人在想什麼  1533023024  \n",
       "13          [新聞] 東奧正名民進黨袖手 台聯：不該冷淡  1533023081  \n",
       "14                Re: [問卦] 吸菸者該死嗎?  1533023099  \n",
       "15                [問卦] 有沒有加州跟台灣的八卦  1533023150  \n",
       "16             [問卦] 為什麼不幫甲甲換彩虹身分證？  1533023188  \n",
       "17       Re: [新聞] 快遞員月薪2萬5　吐司開水撐五天  1533023200  \n",
       "18        [新聞] 改革殯葬！陸政府強行搶棺銷毀　老人痛哭  1533023270  \n",
       "19          [公告] 八卦板板規(2017.11.11)  1510415713  \n",
       "20      [協尋]7/10臨港路與西濱路口(阿得釣具)行車紀錄  1531408375  \n",
       "21         [協尋] 忠孝東路4段 逸仙路口行車紀錄器影片  1532353738  \n",
       "22       [協尋] 7/25 忠孝東路六段212巷口行車紀錄  1532526254  "
      ]
     },
     "execution_count": 433,
     "metadata": {},
     "output_type": "execute_result"
    }
   ],
   "source": [
    "get_ptt('Gossiping')"
   ]
  },
  {
   "cell_type": "code",
   "execution_count": 372,
   "metadata": {},
   "outputs": [
    {
     "name": "stdout",
     "output_type": "stream",
     "text": [
      "Requirement already satisfied: pandas in /Users/YorkLin/.pyenv/versions/3.6.0/lib/python3.6/site-packages\n",
      "Requirement already satisfied: numpy>=1.7.0 in /Users/YorkLin/.pyenv/versions/3.6.0/lib/python3.6/site-packages (from pandas)\n",
      "Requirement already satisfied: python-dateutil>=2 in /Users/YorkLin/.pyenv/versions/3.6.0/lib/python3.6/site-packages (from pandas)\n",
      "Requirement already satisfied: pytz>=2011k in /Users/YorkLin/.pyenv/versions/3.6.0/lib/python3.6/site-packages (from pandas)\n",
      "Requirement already satisfied: six>=1.5 in /Users/YorkLin/.pyenv/versions/3.6.0/lib/python3.6/site-packages (from python-dateutil>=2->pandas)\n",
      "\u001b[33mYou are using pip version 9.0.1, however version 18.0 is available.\n",
      "You should consider upgrading via the 'pip install --upgrade pip' command.\u001b[0m\n"
     ]
    }
   ],
   "source": [
    "!pip install pandas"
   ]
  },
  {
   "cell_type": "code",
   "execution_count": 373,
   "metadata": {},
   "outputs": [],
   "source": [
    "import pandas as pd"
   ]
  },
  {
   "cell_type": "code",
   "execution_count": 392,
   "metadata": {},
   "outputs": [
    {
     "data": {
      "text/html": [
       "<div>\n",
       "<style>\n",
       "    .dataframe thead tr:only-child th {\n",
       "        text-align: right;\n",
       "    }\n",
       "\n",
       "    .dataframe thead th {\n",
       "        text-align: left;\n",
       "    }\n",
       "\n",
       "    .dataframe tbody tr th {\n",
       "        vertical-align: top;\n",
       "    }\n",
       "</style>\n",
       "<table border=\"1\" class=\"dataframe\">\n",
       "  <thead>\n",
       "    <tr style=\"text-align: right;\">\n",
       "      <th></th>\n",
       "      <th>author_id</th>\n",
       "      <th>author_nickname</th>\n",
       "      <th>board</th>\n",
       "      <th>content</th>\n",
       "      <th>ip</th>\n",
       "      <th>title</th>\n",
       "      <th>tm</th>\n",
       "    </tr>\n",
       "  </thead>\n",
       "  <tbody>\n",
       "    <tr>\n",
       "      <th>0</th>\n",
       "      <td>demkoko</td>\n",
       "      <td>迪恩科科</td>\n",
       "      <td>Salary</td>\n",
       "      <td>我從事家事清潔，不算資深，但小有心得，如果在工作上，你很厭倦心理上的倦怠感(俗\\n稱心好累)...</td>\n",
       "      <td>36.229.189.184</td>\n",
       "      <td>[心得] 我在潔客幫當家事服務人員</td>\n",
       "      <td>1532999767</td>\n",
       "    </tr>\n",
       "    <tr>\n",
       "      <th>1</th>\n",
       "      <td>milkhouse</td>\n",
       "      <td>兔兔夫人</td>\n",
       "      <td>Salary</td>\n",
       "      <td>純粹分享自身經驗。\\n\\n在我剛出社會時，在一家證券商當業務經理的助理。\\n因為證券經手高額...</td>\n",
       "      <td>117.19.146.4</td>\n",
       "      <td>Re: [問題] 人事保證書 (已多板爬文)</td>\n",
       "      <td>1533005987</td>\n",
       "    </tr>\n",
       "    <tr>\n",
       "      <th>2</th>\n",
       "      <td>hebeshaman</td>\n",
       "      <td>Hebe</td>\n",
       "      <td>Salary</td>\n",
       "      <td>不知道有人做過DHL洋基通運的工作嗎?\\n\\n上面都寫說第一年為派遣性質\\n\\n請問他們是跟...</td>\n",
       "      <td>59.115.82.65</td>\n",
       "      <td>[討論] DHL洋基通運派遣問題</td>\n",
       "      <td>1533006985</td>\n",
       "    </tr>\n",
       "    <tr>\n",
       "      <th>3</th>\n",
       "      <td>JedLin</td>\n",
       "      <td>汪汪</td>\n",
       "      <td>Salary</td>\n",
       "      <td>**感謝版主通過審核**\\n\\n→你是否常覺得工作很忙，但當有人問你在忙什麼，卻答不上來？\\...</td>\n",
       "      <td>114.40.14.77</td>\n",
       "      <td>[活動] 8/22(三)別窮忙！「結果思維」提升執行力</td>\n",
       "      <td>1533008068</td>\n",
       "    </tr>\n",
       "    <tr>\n",
       "      <th>4</th>\n",
       "      <td>kuandeho</td>\n",
       "      <td>榴槤王</td>\n",
       "      <td>Salary</td>\n",
       "      <td>各位年薪三百萬安安\\n\\n最近B Yeah季啊\\n\\n想必很多人跟我一樣各種找工作\\n\\n不...</td>\n",
       "      <td>180.217.246.120</td>\n",
       "      <td>[討論] 讓履歷排在HR清單前端的方法</td>\n",
       "      <td>1533008348</td>\n",
       "    </tr>\n",
       "    <tr>\n",
       "      <th>5</th>\n",
       "      <td>charlesgreen</td>\n",
       "      <td>小綠人查理斯</td>\n",
       "      <td>Salary</td>\n",
       "      <td>在勞基法災防假正式立法之前\\n\\n颱風有休假.但是不給薪並不違法\\n\\n只有規定不能扣全勤....</td>\n",
       "      <td>220.132.66.219</td>\n",
       "      <td>[討論] 面試有人會想到要問是否颱風給假給薪嗎?</td>\n",
       "      <td>1533015061</td>\n",
       "    </tr>\n",
       "    <tr>\n",
       "      <th>6</th>\n",
       "      <td>xavieraho</td>\n",
       "      <td>Xavia</td>\n",
       "      <td>Salary</td>\n",
       "      <td>前幾天，英國公司的同事來臺灣\\n\\n聊到年假的話題\\n\\n我跟她解釋，臺灣這邊工作滿半年有3...</td>\n",
       "      <td>118.163.137.211</td>\n",
       "      <td>[閒聊]  跟英國同事聊特休假，才知道...</td>\n",
       "      <td>1533015171</td>\n",
       "    </tr>\n",
       "    <tr>\n",
       "      <th>7</th>\n",
       "      <td>babechen</td>\n",
       "      <td>噹噹噹~</td>\n",
       "      <td>Salary</td>\n",
       "      <td>下周要去台灣牧田面試營業人員\\n請問有人面試過嗎?\\n還是有接觸過知道這公司的文化薪資福利等...</td>\n",
       "      <td>42.75.28.56</td>\n",
       "      <td>[問題] 台灣牧田</td>\n",
       "      <td>1533015703</td>\n",
       "    </tr>\n",
       "    <tr>\n",
       "      <th>8</th>\n",
       "      <td>quee5201314</td>\n",
       "      <td>husan</td>\n",
       "      <td>Salary</td>\n",
       "      <td>========== 詢問公司相關資訊，請使用 [公司]類別，勿使用 [問題] 類別 ===...</td>\n",
       "      <td>61.222.236.178</td>\n",
       "      <td>[討論] 同事離職簽這個</td>\n",
       "      <td>1533017930</td>\n",
       "    </tr>\n",
       "    <tr>\n",
       "      <th>9</th>\n",
       "      <td>lasoon</td>\n",
       "      <td>拉孫</td>\n",
       "      <td>Salary</td>\n",
       "      <td>大家好\\n這篇文章將常用就業網站與情報作彙整\\n如果有相關網站推薦請推文,各位也能在推文搜尋...</td>\n",
       "      <td>1.163.155.75</td>\n",
       "      <td>[情報] 職場常用網站(歡迎來信增加)</td>\n",
       "      <td>1409102619</td>\n",
       "    </tr>\n",
       "    <tr>\n",
       "      <th>10</th>\n",
       "      <td>DDRMIX</td>\n",
       "      <td>約翰．史密斯</td>\n",
       "      <td>Salary</td>\n",
       "      <td>這裡是工作職場板\\n基本上只要是和工作相關的活動\\n沒有明顯利益性質的\\n一般不會限制太多\\...</td>\n",
       "      <td>114.46.79.26</td>\n",
       "      <td>[公告] 關於板上免費服務與活動</td>\n",
       "      <td>1519225643</td>\n",
       "    </tr>\n",
       "    <tr>\n",
       "      <th>11</th>\n",
       "      <td>DDRMIX</td>\n",
       "      <td>約翰．史密斯</td>\n",
       "      <td>Salary</td>\n",
       "      <td>關於討論的風氣\\n有兩點想跟大家聊聊\\n1.「不中聽的話」和「吵架」的差別\\n2.鼓勵大家多...</td>\n",
       "      <td>114.46.78.162</td>\n",
       "      <td>[板務] 討論的風氣</td>\n",
       "      <td>1526355650</td>\n",
       "    </tr>\n",
       "    <tr>\n",
       "      <th>12</th>\n",
       "      <td>popo60433 (蝦米碗糕</td>\n",
       "      <td>*′▽`)ﾉ</td>\n",
       "      <td>Salary</td>\n",
       "      <td>作者: Reewalker (報告饅頭班長不夠) 看板: Tech_Job\\n標題: Fw:...</td>\n",
       "      <td>49.215.176.114</td>\n",
       "      <td>Fw: [新聞] 全民放假去！7成5荷蘭人放暑假 公司還給</td>\n",
       "      <td>1532947201</td>\n",
       "    </tr>\n",
       "    <tr>\n",
       "      <th>13</th>\n",
       "      <td>sm799979</td>\n",
       "      <td>whay</td>\n",
       "      <td>Salary</td>\n",
       "      <td>文長，希望能有跟我差不多經歷的人給我點建議！\\n\\n當初，\\n我面試的職務掛名是行政助理，\\...</td>\n",
       "      <td>36.230.95.108</td>\n",
       "      <td>[選擇] 不會會計的會計</td>\n",
       "      <td>1532951049</td>\n",
       "    </tr>\n",
       "    <tr>\n",
       "      <th>14</th>\n",
       "      <td>r780224</td>\n",
       "      <td>綠豆的小孩</td>\n",
       "      <td>Salary</td>\n",
       "      <td>公司名稱：德林股份有限公司\\n\\n\\n職缺名稱：會計助理\\n\\n\\n\\n投遞履歷被邀約面試，...</td>\n",
       "      <td>101.8.227.7</td>\n",
       "      <td>[公司] 德林股份有限公司-會計助理</td>\n",
       "      <td>1532952779</td>\n",
       "    </tr>\n",
       "    <tr>\n",
       "      <th>15</th>\n",
       "      <td>SportLeo</td>\n",
       "      <td>阿基里斯</td>\n",
       "      <td>Salary</td>\n",
       "      <td>啊，看到你這篇文章感覺妳很緊張，\\n\\n想給你一點方向，希望妳放寬心，部分敘述恕刪\\n\\n\\...</td>\n",
       "      <td>117.19.231.146</td>\n",
       "      <td>Re: [問題] 不會會計的會計</td>\n",
       "      <td>1532954871</td>\n",
       "    </tr>\n",
       "    <tr>\n",
       "      <th>16</th>\n",
       "      <td>nkes60917</td>\n",
       "      <td>千葉りんご</td>\n",
       "      <td>Salary</td>\n",
       "      <td>背景：國立大學統計所應屆畢\\n\\n有參與過指導教授與外面公司合作的企劃負責統計分析，使用的工...</td>\n",
       "      <td>1.34.168.32</td>\n",
       "      <td>[心得] 統計所新鮮人面試心得</td>\n",
       "      <td>1532956172</td>\n",
       "    </tr>\n",
       "    <tr>\n",
       "      <th>17</th>\n",
       "      <td>milkteaholic</td>\n",
       "      <td>Roonie</td>\n",
       "      <td>Salary</td>\n",
       "      <td>以下幫朋友代ＰＯ，再請有經驗的版友能給點建議。\\n謝謝！\\n----------------...</td>\n",
       "      <td>220.130.37.121</td>\n",
       "      <td>[選擇] 四大 安侯與勤業</td>\n",
       "      <td>1532958455</td>\n",
       "    </tr>\n",
       "    <tr>\n",
       "      <th>18</th>\n",
       "      <td>tsuchiya</td>\n",
       "      <td>tsuchiya</td>\n",
       "      <td>Salary</td>\n",
       "      <td>「職涯管理與求職準備」免費講座\\n。洞悉企業選才關鍵準則，知彼知己提高錄取機會\\n。學會選擇...</td>\n",
       "      <td>1.200.206.156</td>\n",
       "      <td>[情報] 職涯發展講座</td>\n",
       "      <td>1532960040</td>\n",
       "    </tr>\n",
       "    <tr>\n",
       "      <th>19</th>\n",
       "      <td>room13cs</td>\n",
       "      <td>曉之</td>\n",
       "      <td>Salary</td>\n",
       "      <td>應徵公司職位:樂點股份有限公司(GASH POINT)/資深行銷企劃主任\\n\\n想請教有在裡...</td>\n",
       "      <td>180.217.165.20</td>\n",
       "      <td>[公司] 樂點GASH POINT資深行銷企劃主任請教</td>\n",
       "      <td>1532960756</td>\n",
       "    </tr>\n",
       "    <tr>\n",
       "      <th>20</th>\n",
       "      <td>asdya</td>\n",
       "      <td>.人.</td>\n",
       "      <td>Salary</td>\n",
       "      <td>如題，想幫女友找找看有沒有類似的工作，性質隨便，女友本身是護理師(30y)，但是沒\\n有在意...</td>\n",
       "      <td>111.83.21.106</td>\n",
       "      <td>[問題] 不計薪水、輕鬆以及見紅就放的工作</td>\n",
       "      <td>1532961082</td>\n",
       "    </tr>\n",
       "    <tr>\n",
       "      <th>21</th>\n",
       "      <td>bryan123466</td>\n",
       "      <td>狗房</td>\n",
       "      <td>Salary</td>\n",
       "      <td>各位大大好,\\n\\n今天被資遣時主管告知如果未將客戶名片歸還將屬偷竊行為\\n\\n想請問版上大...</td>\n",
       "      <td>220.135.42.66</td>\n",
       "      <td>[問題]客戶名片帶回家,主管告知這是偷竊行為</td>\n",
       "      <td>1532961985</td>\n",
       "    </tr>\n",
       "    <tr>\n",
       "      <th>22</th>\n",
       "      <td>wdz1223</td>\n",
       "      <td>新手</td>\n",
       "      <td>Salary</td>\n",
       "      <td>最近在看無照律師主角常常工作熬夜\\n\\n隔天還繼續上班又加班熬夜\\n\\n這樣不違反勞基法嗎？</td>\n",
       "      <td>114.137.211.67</td>\n",
       "      <td>[問題] 美國有勞基法嗎？</td>\n",
       "      <td>1532964557</td>\n",
       "    </tr>\n",
       "    <tr>\n",
       "      <th>23</th>\n",
       "      <td>reteporeh</td>\n",
       "      <td>薑薑薑薑薑</td>\n",
       "      <td>Salary</td>\n",
       "      <td>事情是這樣的\\n\\n三個月前因為跟前主管管理不當\\n\\n在填離職原因時算是有跟人資和上層告狀...</td>\n",
       "      <td>49.159.146.177</td>\n",
       "      <td>[問題] 回鍋前公司(不同職位)</td>\n",
       "      <td>1532965344</td>\n",
       "    </tr>\n",
       "    <tr>\n",
       "      <th>24</th>\n",
       "      <td>loveswazi</td>\n",
       "      <td>ffff</td>\n",
       "      <td>Salary</td>\n",
       "      <td>這版的人多數都很幼稚，\\n你最好不要聽他們的。\\n\\n我先問你幾個問題：\\n\\n你手上的名片...</td>\n",
       "      <td>101.8.161.149</td>\n",
       "      <td>Re: [問題]客戶名片帶回家,主管告知這是偷竊行為</td>\n",
       "      <td>1532965755</td>\n",
       "    </tr>\n",
       "    <tr>\n",
       "      <th>25</th>\n",
       "      <td>aegisty</td>\n",
       "      <td>桃型潛水艇</td>\n",
       "      <td>Salary</td>\n",
       "      <td>小弟現在有一個工作機會\\n\\n工作地點在101\\n\\n沒錯，就是信義區那個竹筍\\n\\n是70...</td>\n",
       "      <td>118.150.21.226</td>\n",
       "      <td>[討論] 有沒有在101上班過...</td>\n",
       "      <td>1532968084</td>\n",
       "    </tr>\n",
       "    <tr>\n",
       "      <th>26</th>\n",
       "      <td>KPI888</td>\n",
       "      <td>發哥</td>\n",
       "      <td>Salary</td>\n",
       "      <td>$ 97,344,842\\n\\n看過一些非會計背景的人\\n\\n面對這個金額時 在那邊數位數 ...</td>\n",
       "      <td>115.43.229.170</td>\n",
       "      <td>Re: [問題] 不會會計的會計</td>\n",
       "      <td>1532990509</td>\n",
       "    </tr>\n",
       "    <tr>\n",
       "      <th>27</th>\n",
       "      <td>goooeooo</td>\n",
       "      <td>ge</td>\n",
       "      <td>Salary</td>\n",
       "      <td>經常離職都會遇到這樣\\n\\n離職者心態 我要走了 公司憑什麼要我個人整理的資料\\n\\n主管或...</td>\n",
       "      <td>222.72.115.252</td>\n",
       "      <td>Re: [問題]客戶名片帶回家,主管告知這是偷竊行為</td>\n",
       "      <td>1532992234</td>\n",
       "    </tr>\n",
       "    <tr>\n",
       "      <th>28</th>\n",
       "      <td>loveswazi</td>\n",
       "      <td>ffff</td>\n",
       "      <td>Salary</td>\n",
       "      <td>在職場十年了\\n我從來不覺得身邊有什麼小人\\n\\n只要你學會換位思考\\n你會發現多數人都只是...</td>\n",
       "      <td>101.8.161.149</td>\n",
       "      <td>Re: [閒聊] 各位都怎麼看待職場上的小人??</td>\n",
       "      <td>1532994764</td>\n",
       "    </tr>\n",
       "    <tr>\n",
       "      <th>29</th>\n",
       "      <td>MixPart</td>\n",
       "      <td>薄片豆干</td>\n",
       "      <td>Salary</td>\n",
       "      <td>代po\\n\\n................\\n\\n\\n欲離職，根據以前離職人員經驗，加班...</td>\n",
       "      <td>101.137.255.230</td>\n",
       "      <td>[問題] 離職加班費拿不到</td>\n",
       "      <td>1532998204</td>\n",
       "    </tr>\n",
       "    <tr>\n",
       "      <th>30</th>\n",
       "      <td>goooeooo</td>\n",
       "      <td>ge</td>\n",
       "      <td>Salary</td>\n",
       "      <td>雖然推文大家都挺成熟的\\n\\n但現實面 我以前的薪水比同事多3成\\n\\n對方就會開始擺爛 裝...</td>\n",
       "      <td>222.72.115.252</td>\n",
       "      <td>Re: [討論] 如果你發現同工不同酬，你會？</td>\n",
       "      <td>1532897369</td>\n",
       "    </tr>\n",
       "    <tr>\n",
       "      <th>31</th>\n",
       "      <td>t7788921</td>\n",
       "      <td>AG</td>\n",
       "      <td>Salary</td>\n",
       "      <td>女友在北部某上市傳產，在公司四年多\\n\\n這間公司滿鳥的講出來娛樂大家一下\\n\\n\\n\\n\\...</td>\n",
       "      <td>211.22.27.58</td>\n",
       "      <td>Re: [討論] 如果你發現同工不同酬，你會？</td>\n",
       "      <td>1532913901</td>\n",
       "    </tr>\n",
       "    <tr>\n",
       "      <th>32</th>\n",
       "      <td>stanleyiane</td>\n",
       "      <td>999</td>\n",
       "      <td>Salary</td>\n",
       "      <td>小弟在上周於某一家保險公司筆試+面試\\n\\n主管在筆試結束後約半小時才進來，除了例行性請我介...</td>\n",
       "      <td>42.71.38.63</td>\n",
       "      <td>[閒聊] 職場新鮮人的幾個問題</td>\n",
       "      <td>1532920582</td>\n",
       "    </tr>\n",
       "    <tr>\n",
       "      <th>33</th>\n",
       "      <td>hosu</td>\n",
       "      <td>小塚</td>\n",
       "      <td>Salary</td>\n",
       "      <td>公司名稱:南亞塑膠\\n\\n地點:台北台塑大樓\\n\\n職務:產品推廣管理師\\n\\n\\n幫友人代...</td>\n",
       "      <td>110.28.131.50</td>\n",
       "      <td>台塑南亞 產品推廣管理師</td>\n",
       "      <td>1532922072</td>\n",
       "    </tr>\n",
       "    <tr>\n",
       "      <th>34</th>\n",
       "      <td>sec5566</td>\n",
       "      <td>sec</td>\n",
       "      <td>Salary</td>\n",
       "      <td>部門要來一個新人，\\n可是我算一下根本沒有位子，\\n然後新人跟我是一樣的功能，\\n公司沒幾個...</td>\n",
       "      <td>42.72.131.165</td>\n",
       "      <td>[問題] 是不是快失業了</td>\n",
       "      <td>1532923639</td>\n",
       "    </tr>\n",
       "    <tr>\n",
       "      <th>35</th>\n",
       "      <td>tashimaki</td>\n",
       "      <td>Yuan</td>\n",
       "      <td>Salary</td>\n",
       "      <td>我前幾個月辭職了\\n主因: 與同事相處有問題\\n\\n在前公司待了快4年，雖然後續都有新員工(...</td>\n",
       "      <td>58.115.42.208</td>\n",
       "      <td>Re: [問題] 有必要為了職場霸凌換公司嗎？</td>\n",
       "      <td>1532924057</td>\n",
       "    </tr>\n",
       "    <tr>\n",
       "      <th>36</th>\n",
       "      <td>consequence</td>\n",
       "      <td>consequence</td>\n",
       "      <td>Salary</td>\n",
       "      <td>嗆求職者多讀書 人資被肉搜「7分大學」畢業\\n\\n2018-07-30 11:25聯合新聞網...</td>\n",
       "      <td>178.128.78.112</td>\n",
       "      <td>[新聞] 嗆求職者多讀書 人資被肉搜「7分大學」畢</td>\n",
       "      <td>1532925488</td>\n",
       "    </tr>\n",
       "    <tr>\n",
       "      <th>37</th>\n",
       "      <td>ilovemus</td>\n",
       "      <td>io</td>\n",
       "      <td>Salary</td>\n",
       "      <td>大家好\\n\\n最近接到LALAMOVE說明會的電話，他們說如果正職跑月薪\\n可以到$4500...</td>\n",
       "      <td>61.61.12.115</td>\n",
       "      <td>[問題] LALAMOVE 月薪45000?</td>\n",
       "      <td>1532926694</td>\n",
       "    </tr>\n",
       "    <tr>\n",
       "      <th>38</th>\n",
       "      <td>tortoise56</td>\n",
       "      <td>南投陳在天</td>\n",
       "      <td>Salary</td>\n",
       "      <td>如題\\n\\n本魯這個月進去一間污水廠工作\\n\\n這是政府外包的工作\\n\\n我的工作內容就是採...</td>\n",
       "      <td>111.83.94.63</td>\n",
       "      <td>[討論] 同事不適任 但是調我 怎麼辦?</td>\n",
       "      <td>1532935540</td>\n",
       "    </tr>\n",
       "    <tr>\n",
       "      <th>39</th>\n",
       "      <td>oasisrose</td>\n",
       "      <td>brand new</td>\n",
       "      <td>Salary</td>\n",
       "      <td>請問有領過失業給付的朋友\\n\\n在找到工作後要回報已就業\\n\\n\\n請問你們的就業服務站會打...</td>\n",
       "      <td>95.97.35.18</td>\n",
       "      <td>[問題] 失業給付通報就業後</td>\n",
       "      <td>1532936899</td>\n",
       "    </tr>\n",
       "    <tr>\n",
       "      <th>40</th>\n",
       "      <td>daigakuimo</td>\n",
       "      <td>憂鬱的地瓜</td>\n",
       "      <td>Salary</td>\n",
       "      <td>各位大大好\\n\\n小弟目前就讀後段國立動物科學碩士班\\n\\n預訂2個月後可以畢業（論文早就給...</td>\n",
       "      <td>39.12.45.247</td>\n",
       "      <td>[問題] 動科碩畢業生求職諮詢</td>\n",
       "      <td>1532939307</td>\n",
       "    </tr>\n",
       "    <tr>\n",
       "      <th>41</th>\n",
       "      <td>uudogman</td>\n",
       "      <td>胖胖</td>\n",
       "      <td>Salary</td>\n",
       "      <td>各位大大好，請問大家\\n\\n有沒有人待過梧濟工業\\n\\n最近收到面試通知，台中的業務人員\\n...</td>\n",
       "      <td>115.82.48.107</td>\n",
       "      <td>[公司] 梧濟工業 台中業務工程師</td>\n",
       "      <td>1532940858</td>\n",
       "    </tr>\n",
       "    <tr>\n",
       "      <th>42</th>\n",
       "      <td>YOPOYOPO</td>\n",
       "      <td>痔瘡小天使。</td>\n",
       "      <td>Salary</td>\n",
       "      <td>作者: WNBA (~^O^~) 看板: Gossiping\\n標題: [新聞] 徵美國店長...</td>\n",
       "      <td>50.24.132.213</td>\n",
       "      <td>Fw: [新聞] 徵美國店長！CoCo都可「月薪開3萬3」</td>\n",
       "      <td>1532943838</td>\n",
       "    </tr>\n",
       "    <tr>\n",
       "      <th>43</th>\n",
       "      <td>cutefayue</td>\n",
       "      <td>把心放寬 世界也變寬了</td>\n",
       "      <td>Salary</td>\n",
       "      <td>今年7/6離職，日前收到人資通知，我7月份的薪資（假設是10000元），但由於今年1～7\\n...</td>\n",
       "      <td>223.137.68.112</td>\n",
       "      <td>[問題] 年假發放時間</td>\n",
       "      <td>1532943955</td>\n",
       "    </tr>\n",
       "    <tr>\n",
       "      <th>44</th>\n",
       "      <td>an520701</td>\n",
       "      <td>joanne</td>\n",
       "      <td>Salary</td>\n",
       "      <td>請問有人有收到體檢通知了嗎？\\n通知跟通知之間大約會間隔多久啊？\\n我是7/18面試的，謝謝</td>\n",
       "      <td>223.136.147.235</td>\n",
       "      <td>[問題] 長榮物流內勤人員</td>\n",
       "      <td>1532945000</td>\n",
       "    </tr>\n",
       "    <tr>\n",
       "      <th>45</th>\n",
       "      <td>snowish</td>\n",
       "      <td>雪の冀</td>\n",
       "      <td>Salary</td>\n",
       "      <td>各位大大好，代PO\\n\\n經爬文後發現各有論點，歡迎大方討論，謝謝!\\n\\n\\n------...</td>\n",
       "      <td>140.135.60.204</td>\n",
       "      <td>[問題] 人事保證書 (已多板爬文)</td>\n",
       "      <td>1532946570</td>\n",
       "    </tr>\n",
       "    <tr>\n",
       "      <th>46</th>\n",
       "      <td>zoeqa</td>\n",
       "      <td>拉拉烏</td>\n",
       "      <td>Salary</td>\n",
       "      <td>各位Salary的前輩們好\\n\\n本文由版主同意後PO出\\n晚輩的畢業論文需要一些幫助，主題...</td>\n",
       "      <td>31.205.227.148</td>\n",
       "      <td>[問卷]台灣敏捷軟體開發實踐的關鍵成功因素</td>\n",
       "      <td>1532947143</td>\n",
       "    </tr>\n",
       "  </tbody>\n",
       "</table>\n",
       "</div>"
      ],
      "text/plain": [
       "          author_id author_nickname   board  \\\n",
       "0           demkoko            迪恩科科  Salary   \n",
       "1         milkhouse            兔兔夫人  Salary   \n",
       "2        hebeshaman            Hebe  Salary   \n",
       "3            JedLin              汪汪  Salary   \n",
       "4          kuandeho             榴槤王  Salary   \n",
       "5      charlesgreen          小綠人查理斯  Salary   \n",
       "6         xavieraho           Xavia  Salary   \n",
       "7          babechen            噹噹噹~  Salary   \n",
       "8       quee5201314           husan  Salary   \n",
       "9            lasoon              拉孫  Salary   \n",
       "10           DDRMIX          約翰．史密斯  Salary   \n",
       "11           DDRMIX          約翰．史密斯  Salary   \n",
       "12  popo60433 (蝦米碗糕         *′▽`)ﾉ   Salary   \n",
       "13         sm799979            whay  Salary   \n",
       "14          r780224           綠豆的小孩  Salary   \n",
       "15         SportLeo            阿基里斯  Salary   \n",
       "16        nkes60917           千葉りんご  Salary   \n",
       "17     milkteaholic          Roonie  Salary   \n",
       "18         tsuchiya        tsuchiya  Salary   \n",
       "19         room13cs              曉之  Salary   \n",
       "20            asdya             .人.  Salary   \n",
       "21      bryan123466              狗房  Salary   \n",
       "22          wdz1223              新手  Salary   \n",
       "23        reteporeh           薑薑薑薑薑  Salary   \n",
       "24        loveswazi            ffff  Salary   \n",
       "25          aegisty           桃型潛水艇  Salary   \n",
       "26           KPI888              發哥  Salary   \n",
       "27         goooeooo              ge  Salary   \n",
       "28        loveswazi            ffff  Salary   \n",
       "29          MixPart            薄片豆干  Salary   \n",
       "30         goooeooo              ge  Salary   \n",
       "31         t7788921              AG  Salary   \n",
       "32      stanleyiane             999  Salary   \n",
       "33             hosu              小塚  Salary   \n",
       "34          sec5566             sec  Salary   \n",
       "35        tashimaki            Yuan  Salary   \n",
       "36      consequence     consequence  Salary   \n",
       "37         ilovemus              io  Salary   \n",
       "38       tortoise56           南投陳在天  Salary   \n",
       "39        oasisrose       brand new  Salary   \n",
       "40       daigakuimo           憂鬱的地瓜  Salary   \n",
       "41         uudogman              胖胖  Salary   \n",
       "42         YOPOYOPO          痔瘡小天使。  Salary   \n",
       "43        cutefayue     把心放寬 世界也變寬了  Salary   \n",
       "44         an520701          joanne  Salary   \n",
       "45          snowish             雪の冀  Salary   \n",
       "46            zoeqa             拉拉烏  Salary   \n",
       "\n",
       "                                              content               ip  \\\n",
       "0   我從事家事清潔，不算資深，但小有心得，如果在工作上，你很厭倦心理上的倦怠感(俗\\n稱心好累)...   36.229.189.184   \n",
       "1   純粹分享自身經驗。\\n\\n在我剛出社會時，在一家證券商當業務經理的助理。\\n因為證券經手高額...     117.19.146.4   \n",
       "2   不知道有人做過DHL洋基通運的工作嗎?\\n\\n上面都寫說第一年為派遣性質\\n\\n請問他們是跟...     59.115.82.65   \n",
       "3   **感謝版主通過審核**\\n\\n→你是否常覺得工作很忙，但當有人問你在忙什麼，卻答不上來？\\...     114.40.14.77   \n",
       "4   各位年薪三百萬安安\\n\\n最近B Yeah季啊\\n\\n想必很多人跟我一樣各種找工作\\n\\n不...  180.217.246.120   \n",
       "5   在勞基法災防假正式立法之前\\n\\n颱風有休假.但是不給薪並不違法\\n\\n只有規定不能扣全勤....   220.132.66.219   \n",
       "6   前幾天，英國公司的同事來臺灣\\n\\n聊到年假的話題\\n\\n我跟她解釋，臺灣這邊工作滿半年有3...  118.163.137.211   \n",
       "7   下周要去台灣牧田面試營業人員\\n請問有人面試過嗎?\\n還是有接觸過知道這公司的文化薪資福利等...      42.75.28.56   \n",
       "8   ========== 詢問公司相關資訊，請使用 [公司]類別，勿使用 [問題] 類別 ===...   61.222.236.178   \n",
       "9   大家好\\n這篇文章將常用就業網站與情報作彙整\\n如果有相關網站推薦請推文,各位也能在推文搜尋...     1.163.155.75   \n",
       "10  這裡是工作職場板\\n基本上只要是和工作相關的活動\\n沒有明顯利益性質的\\n一般不會限制太多\\...     114.46.79.26   \n",
       "11  關於討論的風氣\\n有兩點想跟大家聊聊\\n1.「不中聽的話」和「吵架」的差別\\n2.鼓勵大家多...    114.46.78.162   \n",
       "12  作者: Reewalker (報告饅頭班長不夠) 看板: Tech_Job\\n標題: Fw:...   49.215.176.114   \n",
       "13  文長，希望能有跟我差不多經歷的人給我點建議！\\n\\n當初，\\n我面試的職務掛名是行政助理，\\...    36.230.95.108   \n",
       "14  公司名稱：德林股份有限公司\\n\\n\\n職缺名稱：會計助理\\n\\n\\n\\n投遞履歷被邀約面試，...      101.8.227.7   \n",
       "15  啊，看到你這篇文章感覺妳很緊張，\\n\\n想給你一點方向，希望妳放寬心，部分敘述恕刪\\n\\n\\...   117.19.231.146   \n",
       "16  背景：國立大學統計所應屆畢\\n\\n有參與過指導教授與外面公司合作的企劃負責統計分析，使用的工...      1.34.168.32   \n",
       "17  以下幫朋友代ＰＯ，再請有經驗的版友能給點建議。\\n謝謝！\\n----------------...   220.130.37.121   \n",
       "18  「職涯管理與求職準備」免費講座\\n。洞悉企業選才關鍵準則，知彼知己提高錄取機會\\n。學會選擇...    1.200.206.156   \n",
       "19  應徵公司職位:樂點股份有限公司(GASH POINT)/資深行銷企劃主任\\n\\n想請教有在裡...   180.217.165.20   \n",
       "20  如題，想幫女友找找看有沒有類似的工作，性質隨便，女友本身是護理師(30y)，但是沒\\n有在意...    111.83.21.106   \n",
       "21  各位大大好,\\n\\n今天被資遣時主管告知如果未將客戶名片歸還將屬偷竊行為\\n\\n想請問版上大...    220.135.42.66   \n",
       "22     最近在看無照律師主角常常工作熬夜\\n\\n隔天還繼續上班又加班熬夜\\n\\n這樣不違反勞基法嗎？   114.137.211.67   \n",
       "23  事情是這樣的\\n\\n三個月前因為跟前主管管理不當\\n\\n在填離職原因時算是有跟人資和上層告狀...   49.159.146.177   \n",
       "24  這版的人多數都很幼稚，\\n你最好不要聽他們的。\\n\\n我先問你幾個問題：\\n\\n你手上的名片...    101.8.161.149   \n",
       "25  小弟現在有一個工作機會\\n\\n工作地點在101\\n\\n沒錯，就是信義區那個竹筍\\n\\n是70...   118.150.21.226   \n",
       "26  $ 97,344,842\\n\\n看過一些非會計背景的人\\n\\n面對這個金額時 在那邊數位數 ...   115.43.229.170   \n",
       "27  經常離職都會遇到這樣\\n\\n離職者心態 我要走了 公司憑什麼要我個人整理的資料\\n\\n主管或...   222.72.115.252   \n",
       "28  在職場十年了\\n我從來不覺得身邊有什麼小人\\n\\n只要你學會換位思考\\n你會發現多數人都只是...    101.8.161.149   \n",
       "29  代po\\n\\n................\\n\\n\\n欲離職，根據以前離職人員經驗，加班...  101.137.255.230   \n",
       "30  雖然推文大家都挺成熟的\\n\\n但現實面 我以前的薪水比同事多3成\\n\\n對方就會開始擺爛 裝...   222.72.115.252   \n",
       "31  女友在北部某上市傳產，在公司四年多\\n\\n這間公司滿鳥的講出來娛樂大家一下\\n\\n\\n\\n\\...     211.22.27.58   \n",
       "32  小弟在上周於某一家保險公司筆試+面試\\n\\n主管在筆試結束後約半小時才進來，除了例行性請我介...      42.71.38.63   \n",
       "33  公司名稱:南亞塑膠\\n\\n地點:台北台塑大樓\\n\\n職務:產品推廣管理師\\n\\n\\n幫友人代...    110.28.131.50   \n",
       "34  部門要來一個新人，\\n可是我算一下根本沒有位子，\\n然後新人跟我是一樣的功能，\\n公司沒幾個...    42.72.131.165   \n",
       "35  我前幾個月辭職了\\n主因: 與同事相處有問題\\n\\n在前公司待了快4年，雖然後續都有新員工(...    58.115.42.208   \n",
       "36  嗆求職者多讀書 人資被肉搜「7分大學」畢業\\n\\n2018-07-30 11:25聯合新聞網...   178.128.78.112   \n",
       "37  大家好\\n\\n最近接到LALAMOVE說明會的電話，他們說如果正職跑月薪\\n可以到$4500...     61.61.12.115   \n",
       "38  如題\\n\\n本魯這個月進去一間污水廠工作\\n\\n這是政府外包的工作\\n\\n我的工作內容就是採...     111.83.94.63   \n",
       "39  請問有領過失業給付的朋友\\n\\n在找到工作後要回報已就業\\n\\n\\n請問你們的就業服務站會打...      95.97.35.18   \n",
       "40  各位大大好\\n\\n小弟目前就讀後段國立動物科學碩士班\\n\\n預訂2個月後可以畢業（論文早就給...     39.12.45.247   \n",
       "41  各位大大好，請問大家\\n\\n有沒有人待過梧濟工業\\n\\n最近收到面試通知，台中的業務人員\\n...    115.82.48.107   \n",
       "42  作者: WNBA (~^O^~) 看板: Gossiping\\n標題: [新聞] 徵美國店長...    50.24.132.213   \n",
       "43  今年7/6離職，日前收到人資通知，我7月份的薪資（假設是10000元），但由於今年1～7\\n...   223.137.68.112   \n",
       "44     請問有人有收到體檢通知了嗎？\\n通知跟通知之間大約會間隔多久啊？\\n我是7/18面試的，謝謝  223.136.147.235   \n",
       "45  各位大大好，代PO\\n\\n經爬文後發現各有論點，歡迎大方討論，謝謝!\\n\\n\\n------...   140.135.60.204   \n",
       "46  各位Salary的前輩們好\\n\\n本文由版主同意後PO出\\n晚輩的畢業論文需要一些幫助，主題...   31.205.227.148   \n",
       "\n",
       "                            title          tm  \n",
       "0               [心得] 我在潔客幫當家事服務人員  1532999767  \n",
       "1          Re: [問題] 人事保證書 (已多板爬文)  1533005987  \n",
       "2                [討論] DHL洋基通運派遣問題  1533006985  \n",
       "3     [活動] 8/22(三)別窮忙！「結果思維」提升執行力  1533008068  \n",
       "4             [討論] 讓履歷排在HR清單前端的方法  1533008348  \n",
       "5        [討論] 面試有人會想到要問是否颱風給假給薪嗎?  1533015061  \n",
       "6          [閒聊]  跟英國同事聊特休假，才知道...  1533015171  \n",
       "7                       [問題] 台灣牧田  1533015703  \n",
       "8                    [討論] 同事離職簽這個  1533017930  \n",
       "9             [情報] 職場常用網站(歡迎來信增加)  1409102619  \n",
       "10               [公告] 關於板上免費服務與活動  1519225643  \n",
       "11                     [板務] 討論的風氣  1526355650  \n",
       "12  Fw: [新聞] 全民放假去！7成5荷蘭人放暑假 公司還給  1532947201  \n",
       "13                   [選擇] 不會會計的會計  1532951049  \n",
       "14             [公司] 德林股份有限公司-會計助理  1532952779  \n",
       "15               Re: [問題] 不會會計的會計  1532954871  \n",
       "16                [心得] 統計所新鮮人面試心得  1532956172  \n",
       "17                  [選擇] 四大 安侯與勤業  1532958455  \n",
       "18                    [情報] 職涯發展講座  1532960040  \n",
       "19    [公司] 樂點GASH POINT資深行銷企劃主任請教  1532960756  \n",
       "20          [問題] 不計薪水、輕鬆以及見紅就放的工作  1532961082  \n",
       "21         [問題]客戶名片帶回家,主管告知這是偷竊行為  1532961985  \n",
       "22                  [問題] 美國有勞基法嗎？  1532964557  \n",
       "23               [問題] 回鍋前公司(不同職位)  1532965344  \n",
       "24     Re: [問題]客戶名片帶回家,主管告知這是偷竊行為  1532965755  \n",
       "25             [討論] 有沒有在101上班過...  1532968084  \n",
       "26               Re: [問題] 不會會計的會計  1532990509  \n",
       "27     Re: [問題]客戶名片帶回家,主管告知這是偷竊行為  1532992234  \n",
       "28       Re: [閒聊] 各位都怎麼看待職場上的小人??  1532994764  \n",
       "29                  [問題] 離職加班費拿不到  1532998204  \n",
       "30        Re: [討論] 如果你發現同工不同酬，你會？  1532897369  \n",
       "31        Re: [討論] 如果你發現同工不同酬，你會？  1532913901  \n",
       "32                [閒聊] 職場新鮮人的幾個問題  1532920582  \n",
       "33                   台塑南亞 產品推廣管理師  1532922072  \n",
       "34                   [問題] 是不是快失業了  1532923639  \n",
       "35        Re: [問題] 有必要為了職場霸凌換公司嗎？  1532924057  \n",
       "36      [新聞] 嗆求職者多讀書 人資被肉搜「7分大學」畢  1532925488  \n",
       "37         [問題] LALAMOVE 月薪45000?  1532926694  \n",
       "38           [討論] 同事不適任 但是調我 怎麼辦?  1532935540  \n",
       "39                 [問題] 失業給付通報就業後  1532936899  \n",
       "40                [問題] 動科碩畢業生求職諮詢  1532939307  \n",
       "41              [公司] 梧濟工業 台中業務工程師  1532940858  \n",
       "42  Fw: [新聞] 徵美國店長！CoCo都可「月薪開3萬3」  1532943838  \n",
       "43                    [問題] 年假發放時間  1532943955  \n",
       "44                  [問題] 長榮物流內勤人員  1532945000  \n",
       "45             [問題] 人事保證書 (已多板爬文)  1532946570  \n",
       "46          [問卷]台灣敏捷軟體開發實踐的關鍵成功因素  1532947143  "
      ]
     },
     "execution_count": 392,
     "metadata": {},
     "output_type": "execute_result"
    }
   ],
   "source": [
    "# list(filter(lambda x: x['board'] == 'Salary',docs))\n",
    "df = pd.DataFrame(list(filter(None,docs)))\n",
    "df"
   ]
  },
  {
   "cell_type": "code",
   "execution_count": 394,
   "metadata": {},
   "outputs": [],
   "source": [
    "df.to_csv('./salary_articles.csv')"
   ]
  },
  {
   "cell_type": "code",
   "execution_count": 396,
   "metadata": {},
   "outputs": [
    {
     "name": "stdout",
     "output_type": "stream",
     "text": [
      ",author_id,author_nickname,board,content,ip,title,tm\r\n",
      "0,demkoko,迪恩科科,Salary,\"我從事家事清潔，不算資深，但小有心得，如果在工作上，你很厭倦心理上的倦怠感(俗\r\n",
      "稱心好累)，而比較不怕身體上的累，歡迎你繼續閱讀下去。\r\n",
      "\r\n",
      "其實我真的覺得上下班打卡是一件很沒意義的事，因為你有出席跟你有做事，完全是兩馬\r\n"
     ]
    }
   ],
   "source": [
    "! head -n 5 salary_articles.csv"
   ]
  },
  {
   "cell_type": "code",
   "execution_count": 397,
   "metadata": {},
   "outputs": [
    {
     "data": {
      "text/html": [
       "<div>\n",
       "<style>\n",
       "    .dataframe thead tr:only-child th {\n",
       "        text-align: right;\n",
       "    }\n",
       "\n",
       "    .dataframe thead th {\n",
       "        text-align: left;\n",
       "    }\n",
       "\n",
       "    .dataframe tbody tr th {\n",
       "        vertical-align: top;\n",
       "    }\n",
       "</style>\n",
       "<table border=\"1\" class=\"dataframe\">\n",
       "  <thead>\n",
       "    <tr style=\"text-align: right;\">\n",
       "      <th></th>\n",
       "      <th>Unnamed: 0</th>\n",
       "      <th>author_id</th>\n",
       "      <th>author_nickname</th>\n",
       "      <th>board</th>\n",
       "      <th>content</th>\n",
       "      <th>ip</th>\n",
       "      <th>title</th>\n",
       "      <th>tm</th>\n",
       "    </tr>\n",
       "  </thead>\n",
       "  <tbody>\n",
       "    <tr>\n",
       "      <th>0</th>\n",
       "      <td>0</td>\n",
       "      <td>demkoko</td>\n",
       "      <td>迪恩科科</td>\n",
       "      <td>Salary</td>\n",
       "      <td>我從事家事清潔，不算資深，但小有心得，如果在工作上，你很厭倦心理上的倦怠感(俗\\n稱心好累)...</td>\n",
       "      <td>36.229.189.184</td>\n",
       "      <td>[心得] 我在潔客幫當家事服務人員</td>\n",
       "      <td>1532999767</td>\n",
       "    </tr>\n",
       "    <tr>\n",
       "      <th>1</th>\n",
       "      <td>1</td>\n",
       "      <td>milkhouse</td>\n",
       "      <td>兔兔夫人</td>\n",
       "      <td>Salary</td>\n",
       "      <td>純粹分享自身經驗。\\n\\n在我剛出社會時，在一家證券商當業務經理的助理。\\n因為證券經手高額...</td>\n",
       "      <td>117.19.146.4</td>\n",
       "      <td>Re: [問題] 人事保證書 (已多板爬文)</td>\n",
       "      <td>1533005987</td>\n",
       "    </tr>\n",
       "    <tr>\n",
       "      <th>2</th>\n",
       "      <td>2</td>\n",
       "      <td>hebeshaman</td>\n",
       "      <td>Hebe</td>\n",
       "      <td>Salary</td>\n",
       "      <td>不知道有人做過DHL洋基通運的工作嗎?\\n\\n上面都寫說第一年為派遣性質\\n\\n請問他們是跟...</td>\n",
       "      <td>59.115.82.65</td>\n",
       "      <td>[討論] DHL洋基通運派遣問題</td>\n",
       "      <td>1533006985</td>\n",
       "    </tr>\n",
       "    <tr>\n",
       "      <th>3</th>\n",
       "      <td>3</td>\n",
       "      <td>JedLin</td>\n",
       "      <td>汪汪</td>\n",
       "      <td>Salary</td>\n",
       "      <td>**感謝版主通過審核**\\n\\n→你是否常覺得工作很忙，但當有人問你在忙什麼，卻答不上來？\\...</td>\n",
       "      <td>114.40.14.77</td>\n",
       "      <td>[活動] 8/22(三)別窮忙！「結果思維」提升執行力</td>\n",
       "      <td>1533008068</td>\n",
       "    </tr>\n",
       "    <tr>\n",
       "      <th>4</th>\n",
       "      <td>4</td>\n",
       "      <td>kuandeho</td>\n",
       "      <td>榴槤王</td>\n",
       "      <td>Salary</td>\n",
       "      <td>各位年薪三百萬安安\\n\\n最近B Yeah季啊\\n\\n想必很多人跟我一樣各種找工作\\n\\n不...</td>\n",
       "      <td>180.217.246.120</td>\n",
       "      <td>[討論] 讓履歷排在HR清單前端的方法</td>\n",
       "      <td>1533008348</td>\n",
       "    </tr>\n",
       "    <tr>\n",
       "      <th>5</th>\n",
       "      <td>5</td>\n",
       "      <td>charlesgreen</td>\n",
       "      <td>小綠人查理斯</td>\n",
       "      <td>Salary</td>\n",
       "      <td>在勞基法災防假正式立法之前\\n\\n颱風有休假.但是不給薪並不違法\\n\\n只有規定不能扣全勤....</td>\n",
       "      <td>220.132.66.219</td>\n",
       "      <td>[討論] 面試有人會想到要問是否颱風給假給薪嗎?</td>\n",
       "      <td>1533015061</td>\n",
       "    </tr>\n",
       "    <tr>\n",
       "      <th>6</th>\n",
       "      <td>6</td>\n",
       "      <td>xavieraho</td>\n",
       "      <td>Xavia</td>\n",
       "      <td>Salary</td>\n",
       "      <td>前幾天，英國公司的同事來臺灣\\n\\n聊到年假的話題\\n\\n我跟她解釋，臺灣這邊工作滿半年有3...</td>\n",
       "      <td>118.163.137.211</td>\n",
       "      <td>[閒聊]  跟英國同事聊特休假，才知道...</td>\n",
       "      <td>1533015171</td>\n",
       "    </tr>\n",
       "    <tr>\n",
       "      <th>7</th>\n",
       "      <td>7</td>\n",
       "      <td>babechen</td>\n",
       "      <td>噹噹噹~</td>\n",
       "      <td>Salary</td>\n",
       "      <td>下周要去台灣牧田面試營業人員\\n請問有人面試過嗎?\\n還是有接觸過知道這公司的文化薪資福利等...</td>\n",
       "      <td>42.75.28.56</td>\n",
       "      <td>[問題] 台灣牧田</td>\n",
       "      <td>1533015703</td>\n",
       "    </tr>\n",
       "    <tr>\n",
       "      <th>8</th>\n",
       "      <td>8</td>\n",
       "      <td>quee5201314</td>\n",
       "      <td>husan</td>\n",
       "      <td>Salary</td>\n",
       "      <td>========== 詢問公司相關資訊，請使用 [公司]類別，勿使用 [問題] 類別 ===...</td>\n",
       "      <td>61.222.236.178</td>\n",
       "      <td>[討論] 同事離職簽這個</td>\n",
       "      <td>1533017930</td>\n",
       "    </tr>\n",
       "    <tr>\n",
       "      <th>9</th>\n",
       "      <td>9</td>\n",
       "      <td>lasoon</td>\n",
       "      <td>拉孫</td>\n",
       "      <td>Salary</td>\n",
       "      <td>大家好\\n這篇文章將常用就業網站與情報作彙整\\n如果有相關網站推薦請推文,各位也能在推文搜尋...</td>\n",
       "      <td>1.163.155.75</td>\n",
       "      <td>[情報] 職場常用網站(歡迎來信增加)</td>\n",
       "      <td>1409102619</td>\n",
       "    </tr>\n",
       "    <tr>\n",
       "      <th>10</th>\n",
       "      <td>10</td>\n",
       "      <td>DDRMIX</td>\n",
       "      <td>約翰．史密斯</td>\n",
       "      <td>Salary</td>\n",
       "      <td>這裡是工作職場板\\n基本上只要是和工作相關的活動\\n沒有明顯利益性質的\\n一般不會限制太多\\...</td>\n",
       "      <td>114.46.79.26</td>\n",
       "      <td>[公告] 關於板上免費服務與活動</td>\n",
       "      <td>1519225643</td>\n",
       "    </tr>\n",
       "    <tr>\n",
       "      <th>11</th>\n",
       "      <td>11</td>\n",
       "      <td>DDRMIX</td>\n",
       "      <td>約翰．史密斯</td>\n",
       "      <td>Salary</td>\n",
       "      <td>關於討論的風氣\\n有兩點想跟大家聊聊\\n1.「不中聽的話」和「吵架」的差別\\n2.鼓勵大家多...</td>\n",
       "      <td>114.46.78.162</td>\n",
       "      <td>[板務] 討論的風氣</td>\n",
       "      <td>1526355650</td>\n",
       "    </tr>\n",
       "    <tr>\n",
       "      <th>12</th>\n",
       "      <td>12</td>\n",
       "      <td>popo60433 (蝦米碗糕</td>\n",
       "      <td>*′▽`)ﾉ</td>\n",
       "      <td>Salary</td>\n",
       "      <td>作者: Reewalker (報告饅頭班長不夠) 看板: Tech_Job\\n標題: Fw:...</td>\n",
       "      <td>49.215.176.114</td>\n",
       "      <td>Fw: [新聞] 全民放假去！7成5荷蘭人放暑假 公司還給</td>\n",
       "      <td>1532947201</td>\n",
       "    </tr>\n",
       "    <tr>\n",
       "      <th>13</th>\n",
       "      <td>13</td>\n",
       "      <td>sm799979</td>\n",
       "      <td>whay</td>\n",
       "      <td>Salary</td>\n",
       "      <td>文長，希望能有跟我差不多經歷的人給我點建議！\\n\\n當初，\\n我面試的職務掛名是行政助理，\\...</td>\n",
       "      <td>36.230.95.108</td>\n",
       "      <td>[選擇] 不會會計的會計</td>\n",
       "      <td>1532951049</td>\n",
       "    </tr>\n",
       "    <tr>\n",
       "      <th>14</th>\n",
       "      <td>14</td>\n",
       "      <td>r780224</td>\n",
       "      <td>綠豆的小孩</td>\n",
       "      <td>Salary</td>\n",
       "      <td>公司名稱：德林股份有限公司\\n\\n\\n職缺名稱：會計助理\\n\\n\\n\\n投遞履歷被邀約面試，...</td>\n",
       "      <td>101.8.227.7</td>\n",
       "      <td>[公司] 德林股份有限公司-會計助理</td>\n",
       "      <td>1532952779</td>\n",
       "    </tr>\n",
       "    <tr>\n",
       "      <th>15</th>\n",
       "      <td>15</td>\n",
       "      <td>SportLeo</td>\n",
       "      <td>阿基里斯</td>\n",
       "      <td>Salary</td>\n",
       "      <td>啊，看到你這篇文章感覺妳很緊張，\\n\\n想給你一點方向，希望妳放寬心，部分敘述恕刪\\n\\n\\...</td>\n",
       "      <td>117.19.231.146</td>\n",
       "      <td>Re: [問題] 不會會計的會計</td>\n",
       "      <td>1532954871</td>\n",
       "    </tr>\n",
       "    <tr>\n",
       "      <th>16</th>\n",
       "      <td>16</td>\n",
       "      <td>nkes60917</td>\n",
       "      <td>千葉りんご</td>\n",
       "      <td>Salary</td>\n",
       "      <td>背景：國立大學統計所應屆畢\\n\\n有參與過指導教授與外面公司合作的企劃負責統計分析，使用的工...</td>\n",
       "      <td>1.34.168.32</td>\n",
       "      <td>[心得] 統計所新鮮人面試心得</td>\n",
       "      <td>1532956172</td>\n",
       "    </tr>\n",
       "    <tr>\n",
       "      <th>17</th>\n",
       "      <td>17</td>\n",
       "      <td>milkteaholic</td>\n",
       "      <td>Roonie</td>\n",
       "      <td>Salary</td>\n",
       "      <td>以下幫朋友代ＰＯ，再請有經驗的版友能給點建議。\\n謝謝！\\n----------------...</td>\n",
       "      <td>220.130.37.121</td>\n",
       "      <td>[選擇] 四大 安侯與勤業</td>\n",
       "      <td>1532958455</td>\n",
       "    </tr>\n",
       "    <tr>\n",
       "      <th>18</th>\n",
       "      <td>18</td>\n",
       "      <td>tsuchiya</td>\n",
       "      <td>tsuchiya</td>\n",
       "      <td>Salary</td>\n",
       "      <td>「職涯管理與求職準備」免費講座\\n。洞悉企業選才關鍵準則，知彼知己提高錄取機會\\n。學會選擇...</td>\n",
       "      <td>1.200.206.156</td>\n",
       "      <td>[情報] 職涯發展講座</td>\n",
       "      <td>1532960040</td>\n",
       "    </tr>\n",
       "    <tr>\n",
       "      <th>19</th>\n",
       "      <td>19</td>\n",
       "      <td>room13cs</td>\n",
       "      <td>曉之</td>\n",
       "      <td>Salary</td>\n",
       "      <td>應徵公司職位:樂點股份有限公司(GASH POINT)/資深行銷企劃主任\\n\\n想請教有在裡...</td>\n",
       "      <td>180.217.165.20</td>\n",
       "      <td>[公司] 樂點GASH POINT資深行銷企劃主任請教</td>\n",
       "      <td>1532960756</td>\n",
       "    </tr>\n",
       "    <tr>\n",
       "      <th>20</th>\n",
       "      <td>20</td>\n",
       "      <td>asdya</td>\n",
       "      <td>.人.</td>\n",
       "      <td>Salary</td>\n",
       "      <td>如題，想幫女友找找看有沒有類似的工作，性質隨便，女友本身是護理師(30y)，但是沒\\n有在意...</td>\n",
       "      <td>111.83.21.106</td>\n",
       "      <td>[問題] 不計薪水、輕鬆以及見紅就放的工作</td>\n",
       "      <td>1532961082</td>\n",
       "    </tr>\n",
       "    <tr>\n",
       "      <th>21</th>\n",
       "      <td>21</td>\n",
       "      <td>bryan123466</td>\n",
       "      <td>狗房</td>\n",
       "      <td>Salary</td>\n",
       "      <td>各位大大好,\\n\\n今天被資遣時主管告知如果未將客戶名片歸還將屬偷竊行為\\n\\n想請問版上大...</td>\n",
       "      <td>220.135.42.66</td>\n",
       "      <td>[問題]客戶名片帶回家,主管告知這是偷竊行為</td>\n",
       "      <td>1532961985</td>\n",
       "    </tr>\n",
       "    <tr>\n",
       "      <th>22</th>\n",
       "      <td>22</td>\n",
       "      <td>wdz1223</td>\n",
       "      <td>新手</td>\n",
       "      <td>Salary</td>\n",
       "      <td>最近在看無照律師主角常常工作熬夜\\n\\n隔天還繼續上班又加班熬夜\\n\\n這樣不違反勞基法嗎？</td>\n",
       "      <td>114.137.211.67</td>\n",
       "      <td>[問題] 美國有勞基法嗎？</td>\n",
       "      <td>1532964557</td>\n",
       "    </tr>\n",
       "    <tr>\n",
       "      <th>23</th>\n",
       "      <td>23</td>\n",
       "      <td>reteporeh</td>\n",
       "      <td>薑薑薑薑薑</td>\n",
       "      <td>Salary</td>\n",
       "      <td>事情是這樣的\\n\\n三個月前因為跟前主管管理不當\\n\\n在填離職原因時算是有跟人資和上層告狀...</td>\n",
       "      <td>49.159.146.177</td>\n",
       "      <td>[問題] 回鍋前公司(不同職位)</td>\n",
       "      <td>1532965344</td>\n",
       "    </tr>\n",
       "    <tr>\n",
       "      <th>24</th>\n",
       "      <td>24</td>\n",
       "      <td>loveswazi</td>\n",
       "      <td>ffff</td>\n",
       "      <td>Salary</td>\n",
       "      <td>這版的人多數都很幼稚，\\n你最好不要聽他們的。\\n\\n我先問你幾個問題：\\n\\n你手上的名片...</td>\n",
       "      <td>101.8.161.149</td>\n",
       "      <td>Re: [問題]客戶名片帶回家,主管告知這是偷竊行為</td>\n",
       "      <td>1532965755</td>\n",
       "    </tr>\n",
       "    <tr>\n",
       "      <th>25</th>\n",
       "      <td>25</td>\n",
       "      <td>aegisty</td>\n",
       "      <td>桃型潛水艇</td>\n",
       "      <td>Salary</td>\n",
       "      <td>小弟現在有一個工作機會\\n\\n工作地點在101\\n\\n沒錯，就是信義區那個竹筍\\n\\n是70...</td>\n",
       "      <td>118.150.21.226</td>\n",
       "      <td>[討論] 有沒有在101上班過...</td>\n",
       "      <td>1532968084</td>\n",
       "    </tr>\n",
       "    <tr>\n",
       "      <th>26</th>\n",
       "      <td>26</td>\n",
       "      <td>KPI888</td>\n",
       "      <td>發哥</td>\n",
       "      <td>Salary</td>\n",
       "      <td>$ 97,344,842\\n\\n看過一些非會計背景的人\\n\\n面對這個金額時 在那邊數位數 ...</td>\n",
       "      <td>115.43.229.170</td>\n",
       "      <td>Re: [問題] 不會會計的會計</td>\n",
       "      <td>1532990509</td>\n",
       "    </tr>\n",
       "    <tr>\n",
       "      <th>27</th>\n",
       "      <td>27</td>\n",
       "      <td>goooeooo</td>\n",
       "      <td>ge</td>\n",
       "      <td>Salary</td>\n",
       "      <td>經常離職都會遇到這樣\\n\\n離職者心態 我要走了 公司憑什麼要我個人整理的資料\\n\\n主管或...</td>\n",
       "      <td>222.72.115.252</td>\n",
       "      <td>Re: [問題]客戶名片帶回家,主管告知這是偷竊行為</td>\n",
       "      <td>1532992234</td>\n",
       "    </tr>\n",
       "    <tr>\n",
       "      <th>28</th>\n",
       "      <td>28</td>\n",
       "      <td>loveswazi</td>\n",
       "      <td>ffff</td>\n",
       "      <td>Salary</td>\n",
       "      <td>在職場十年了\\n我從來不覺得身邊有什麼小人\\n\\n只要你學會換位思考\\n你會發現多數人都只是...</td>\n",
       "      <td>101.8.161.149</td>\n",
       "      <td>Re: [閒聊] 各位都怎麼看待職場上的小人??</td>\n",
       "      <td>1532994764</td>\n",
       "    </tr>\n",
       "    <tr>\n",
       "      <th>29</th>\n",
       "      <td>29</td>\n",
       "      <td>MixPart</td>\n",
       "      <td>薄片豆干</td>\n",
       "      <td>Salary</td>\n",
       "      <td>代po\\n\\n................\\n\\n\\n欲離職，根據以前離職人員經驗，加班...</td>\n",
       "      <td>101.137.255.230</td>\n",
       "      <td>[問題] 離職加班費拿不到</td>\n",
       "      <td>1532998204</td>\n",
       "    </tr>\n",
       "    <tr>\n",
       "      <th>30</th>\n",
       "      <td>30</td>\n",
       "      <td>goooeooo</td>\n",
       "      <td>ge</td>\n",
       "      <td>Salary</td>\n",
       "      <td>雖然推文大家都挺成熟的\\n\\n但現實面 我以前的薪水比同事多3成\\n\\n對方就會開始擺爛 裝...</td>\n",
       "      <td>222.72.115.252</td>\n",
       "      <td>Re: [討論] 如果你發現同工不同酬，你會？</td>\n",
       "      <td>1532897369</td>\n",
       "    </tr>\n",
       "    <tr>\n",
       "      <th>31</th>\n",
       "      <td>31</td>\n",
       "      <td>t7788921</td>\n",
       "      <td>AG</td>\n",
       "      <td>Salary</td>\n",
       "      <td>女友在北部某上市傳產，在公司四年多\\n\\n這間公司滿鳥的講出來娛樂大家一下\\n\\n\\n\\n\\...</td>\n",
       "      <td>211.22.27.58</td>\n",
       "      <td>Re: [討論] 如果你發現同工不同酬，你會？</td>\n",
       "      <td>1532913901</td>\n",
       "    </tr>\n",
       "    <tr>\n",
       "      <th>32</th>\n",
       "      <td>32</td>\n",
       "      <td>stanleyiane</td>\n",
       "      <td>999</td>\n",
       "      <td>Salary</td>\n",
       "      <td>小弟在上周於某一家保險公司筆試+面試\\n\\n主管在筆試結束後約半小時才進來，除了例行性請我介...</td>\n",
       "      <td>42.71.38.63</td>\n",
       "      <td>[閒聊] 職場新鮮人的幾個問題</td>\n",
       "      <td>1532920582</td>\n",
       "    </tr>\n",
       "    <tr>\n",
       "      <th>33</th>\n",
       "      <td>33</td>\n",
       "      <td>hosu</td>\n",
       "      <td>小塚</td>\n",
       "      <td>Salary</td>\n",
       "      <td>公司名稱:南亞塑膠\\n\\n地點:台北台塑大樓\\n\\n職務:產品推廣管理師\\n\\n\\n幫友人代...</td>\n",
       "      <td>110.28.131.50</td>\n",
       "      <td>台塑南亞 產品推廣管理師</td>\n",
       "      <td>1532922072</td>\n",
       "    </tr>\n",
       "    <tr>\n",
       "      <th>34</th>\n",
       "      <td>34</td>\n",
       "      <td>sec5566</td>\n",
       "      <td>sec</td>\n",
       "      <td>Salary</td>\n",
       "      <td>部門要來一個新人，\\n可是我算一下根本沒有位子，\\n然後新人跟我是一樣的功能，\\n公司沒幾個...</td>\n",
       "      <td>42.72.131.165</td>\n",
       "      <td>[問題] 是不是快失業了</td>\n",
       "      <td>1532923639</td>\n",
       "    </tr>\n",
       "    <tr>\n",
       "      <th>35</th>\n",
       "      <td>35</td>\n",
       "      <td>tashimaki</td>\n",
       "      <td>Yuan</td>\n",
       "      <td>Salary</td>\n",
       "      <td>我前幾個月辭職了\\n主因: 與同事相處有問題\\n\\n在前公司待了快4年，雖然後續都有新員工(...</td>\n",
       "      <td>58.115.42.208</td>\n",
       "      <td>Re: [問題] 有必要為了職場霸凌換公司嗎？</td>\n",
       "      <td>1532924057</td>\n",
       "    </tr>\n",
       "    <tr>\n",
       "      <th>36</th>\n",
       "      <td>36</td>\n",
       "      <td>consequence</td>\n",
       "      <td>consequence</td>\n",
       "      <td>Salary</td>\n",
       "      <td>嗆求職者多讀書 人資被肉搜「7分大學」畢業\\n\\n2018-07-30 11:25聯合新聞網...</td>\n",
       "      <td>178.128.78.112</td>\n",
       "      <td>[新聞] 嗆求職者多讀書 人資被肉搜「7分大學」畢</td>\n",
       "      <td>1532925488</td>\n",
       "    </tr>\n",
       "    <tr>\n",
       "      <th>37</th>\n",
       "      <td>37</td>\n",
       "      <td>ilovemus</td>\n",
       "      <td>io</td>\n",
       "      <td>Salary</td>\n",
       "      <td>大家好\\n\\n最近接到LALAMOVE說明會的電話，他們說如果正職跑月薪\\n可以到$4500...</td>\n",
       "      <td>61.61.12.115</td>\n",
       "      <td>[問題] LALAMOVE 月薪45000?</td>\n",
       "      <td>1532926694</td>\n",
       "    </tr>\n",
       "    <tr>\n",
       "      <th>38</th>\n",
       "      <td>38</td>\n",
       "      <td>tortoise56</td>\n",
       "      <td>南投陳在天</td>\n",
       "      <td>Salary</td>\n",
       "      <td>如題\\n\\n本魯這個月進去一間污水廠工作\\n\\n這是政府外包的工作\\n\\n我的工作內容就是採...</td>\n",
       "      <td>111.83.94.63</td>\n",
       "      <td>[討論] 同事不適任 但是調我 怎麼辦?</td>\n",
       "      <td>1532935540</td>\n",
       "    </tr>\n",
       "    <tr>\n",
       "      <th>39</th>\n",
       "      <td>39</td>\n",
       "      <td>oasisrose</td>\n",
       "      <td>brand new</td>\n",
       "      <td>Salary</td>\n",
       "      <td>請問有領過失業給付的朋友\\n\\n在找到工作後要回報已就業\\n\\n\\n請問你們的就業服務站會打...</td>\n",
       "      <td>95.97.35.18</td>\n",
       "      <td>[問題] 失業給付通報就業後</td>\n",
       "      <td>1532936899</td>\n",
       "    </tr>\n",
       "    <tr>\n",
       "      <th>40</th>\n",
       "      <td>40</td>\n",
       "      <td>daigakuimo</td>\n",
       "      <td>憂鬱的地瓜</td>\n",
       "      <td>Salary</td>\n",
       "      <td>各位大大好\\n\\n小弟目前就讀後段國立動物科學碩士班\\n\\n預訂2個月後可以畢業（論文早就給...</td>\n",
       "      <td>39.12.45.247</td>\n",
       "      <td>[問題] 動科碩畢業生求職諮詢</td>\n",
       "      <td>1532939307</td>\n",
       "    </tr>\n",
       "    <tr>\n",
       "      <th>41</th>\n",
       "      <td>41</td>\n",
       "      <td>uudogman</td>\n",
       "      <td>胖胖</td>\n",
       "      <td>Salary</td>\n",
       "      <td>各位大大好，請問大家\\n\\n有沒有人待過梧濟工業\\n\\n最近收到面試通知，台中的業務人員\\n...</td>\n",
       "      <td>115.82.48.107</td>\n",
       "      <td>[公司] 梧濟工業 台中業務工程師</td>\n",
       "      <td>1532940858</td>\n",
       "    </tr>\n",
       "    <tr>\n",
       "      <th>42</th>\n",
       "      <td>42</td>\n",
       "      <td>YOPOYOPO</td>\n",
       "      <td>痔瘡小天使。</td>\n",
       "      <td>Salary</td>\n",
       "      <td>作者: WNBA (~^O^~) 看板: Gossiping\\n標題: [新聞] 徵美國店長...</td>\n",
       "      <td>50.24.132.213</td>\n",
       "      <td>Fw: [新聞] 徵美國店長！CoCo都可「月薪開3萬3」</td>\n",
       "      <td>1532943838</td>\n",
       "    </tr>\n",
       "    <tr>\n",
       "      <th>43</th>\n",
       "      <td>43</td>\n",
       "      <td>cutefayue</td>\n",
       "      <td>把心放寬 世界也變寬了</td>\n",
       "      <td>Salary</td>\n",
       "      <td>今年7/6離職，日前收到人資通知，我7月份的薪資（假設是10000元），但由於今年1～7\\n...</td>\n",
       "      <td>223.137.68.112</td>\n",
       "      <td>[問題] 年假發放時間</td>\n",
       "      <td>1532943955</td>\n",
       "    </tr>\n",
       "    <tr>\n",
       "      <th>44</th>\n",
       "      <td>44</td>\n",
       "      <td>an520701</td>\n",
       "      <td>joanne</td>\n",
       "      <td>Salary</td>\n",
       "      <td>請問有人有收到體檢通知了嗎？\\n通知跟通知之間大約會間隔多久啊？\\n我是7/18面試的，謝謝</td>\n",
       "      <td>223.136.147.235</td>\n",
       "      <td>[問題] 長榮物流內勤人員</td>\n",
       "      <td>1532945000</td>\n",
       "    </tr>\n",
       "    <tr>\n",
       "      <th>45</th>\n",
       "      <td>45</td>\n",
       "      <td>snowish</td>\n",
       "      <td>雪の冀</td>\n",
       "      <td>Salary</td>\n",
       "      <td>各位大大好，代PO\\n\\n經爬文後發現各有論點，歡迎大方討論，謝謝!\\n\\n\\n------...</td>\n",
       "      <td>140.135.60.204</td>\n",
       "      <td>[問題] 人事保證書 (已多板爬文)</td>\n",
       "      <td>1532946570</td>\n",
       "    </tr>\n",
       "    <tr>\n",
       "      <th>46</th>\n",
       "      <td>46</td>\n",
       "      <td>zoeqa</td>\n",
       "      <td>拉拉烏</td>\n",
       "      <td>Salary</td>\n",
       "      <td>各位Salary的前輩們好\\n\\n本文由版主同意後PO出\\n晚輩的畢業論文需要一些幫助，主題...</td>\n",
       "      <td>31.205.227.148</td>\n",
       "      <td>[問卷]台灣敏捷軟體開發實踐的關鍵成功因素</td>\n",
       "      <td>1532947143</td>\n",
       "    </tr>\n",
       "  </tbody>\n",
       "</table>\n",
       "</div>"
      ],
      "text/plain": [
       "    Unnamed: 0        author_id author_nickname   board  \\\n",
       "0            0          demkoko            迪恩科科  Salary   \n",
       "1            1        milkhouse            兔兔夫人  Salary   \n",
       "2            2       hebeshaman            Hebe  Salary   \n",
       "3            3           JedLin              汪汪  Salary   \n",
       "4            4         kuandeho             榴槤王  Salary   \n",
       "5            5     charlesgreen          小綠人查理斯  Salary   \n",
       "6            6        xavieraho           Xavia  Salary   \n",
       "7            7         babechen            噹噹噹~  Salary   \n",
       "8            8      quee5201314           husan  Salary   \n",
       "9            9           lasoon              拉孫  Salary   \n",
       "10          10           DDRMIX          約翰．史密斯  Salary   \n",
       "11          11           DDRMIX          約翰．史密斯  Salary   \n",
       "12          12  popo60433 (蝦米碗糕         *′▽`)ﾉ   Salary   \n",
       "13          13         sm799979            whay  Salary   \n",
       "14          14          r780224           綠豆的小孩  Salary   \n",
       "15          15         SportLeo            阿基里斯  Salary   \n",
       "16          16        nkes60917           千葉りんご  Salary   \n",
       "17          17     milkteaholic          Roonie  Salary   \n",
       "18          18         tsuchiya        tsuchiya  Salary   \n",
       "19          19         room13cs              曉之  Salary   \n",
       "20          20            asdya             .人.  Salary   \n",
       "21          21      bryan123466              狗房  Salary   \n",
       "22          22          wdz1223              新手  Salary   \n",
       "23          23        reteporeh           薑薑薑薑薑  Salary   \n",
       "24          24        loveswazi            ffff  Salary   \n",
       "25          25          aegisty           桃型潛水艇  Salary   \n",
       "26          26           KPI888              發哥  Salary   \n",
       "27          27         goooeooo              ge  Salary   \n",
       "28          28        loveswazi            ffff  Salary   \n",
       "29          29          MixPart            薄片豆干  Salary   \n",
       "30          30         goooeooo              ge  Salary   \n",
       "31          31         t7788921              AG  Salary   \n",
       "32          32      stanleyiane             999  Salary   \n",
       "33          33             hosu              小塚  Salary   \n",
       "34          34          sec5566             sec  Salary   \n",
       "35          35        tashimaki            Yuan  Salary   \n",
       "36          36      consequence     consequence  Salary   \n",
       "37          37         ilovemus              io  Salary   \n",
       "38          38       tortoise56           南投陳在天  Salary   \n",
       "39          39        oasisrose       brand new  Salary   \n",
       "40          40       daigakuimo           憂鬱的地瓜  Salary   \n",
       "41          41         uudogman              胖胖  Salary   \n",
       "42          42         YOPOYOPO          痔瘡小天使。  Salary   \n",
       "43          43        cutefayue     把心放寬 世界也變寬了  Salary   \n",
       "44          44         an520701          joanne  Salary   \n",
       "45          45          snowish             雪の冀  Salary   \n",
       "46          46            zoeqa             拉拉烏  Salary   \n",
       "\n",
       "                                              content               ip  \\\n",
       "0   我從事家事清潔，不算資深，但小有心得，如果在工作上，你很厭倦心理上的倦怠感(俗\\n稱心好累)...   36.229.189.184   \n",
       "1   純粹分享自身經驗。\\n\\n在我剛出社會時，在一家證券商當業務經理的助理。\\n因為證券經手高額...     117.19.146.4   \n",
       "2   不知道有人做過DHL洋基通運的工作嗎?\\n\\n上面都寫說第一年為派遣性質\\n\\n請問他們是跟...     59.115.82.65   \n",
       "3   **感謝版主通過審核**\\n\\n→你是否常覺得工作很忙，但當有人問你在忙什麼，卻答不上來？\\...     114.40.14.77   \n",
       "4   各位年薪三百萬安安\\n\\n最近B Yeah季啊\\n\\n想必很多人跟我一樣各種找工作\\n\\n不...  180.217.246.120   \n",
       "5   在勞基法災防假正式立法之前\\n\\n颱風有休假.但是不給薪並不違法\\n\\n只有規定不能扣全勤....   220.132.66.219   \n",
       "6   前幾天，英國公司的同事來臺灣\\n\\n聊到年假的話題\\n\\n我跟她解釋，臺灣這邊工作滿半年有3...  118.163.137.211   \n",
       "7   下周要去台灣牧田面試營業人員\\n請問有人面試過嗎?\\n還是有接觸過知道這公司的文化薪資福利等...      42.75.28.56   \n",
       "8   ========== 詢問公司相關資訊，請使用 [公司]類別，勿使用 [問題] 類別 ===...   61.222.236.178   \n",
       "9   大家好\\n這篇文章將常用就業網站與情報作彙整\\n如果有相關網站推薦請推文,各位也能在推文搜尋...     1.163.155.75   \n",
       "10  這裡是工作職場板\\n基本上只要是和工作相關的活動\\n沒有明顯利益性質的\\n一般不會限制太多\\...     114.46.79.26   \n",
       "11  關於討論的風氣\\n有兩點想跟大家聊聊\\n1.「不中聽的話」和「吵架」的差別\\n2.鼓勵大家多...    114.46.78.162   \n",
       "12  作者: Reewalker (報告饅頭班長不夠) 看板: Tech_Job\\n標題: Fw:...   49.215.176.114   \n",
       "13  文長，希望能有跟我差不多經歷的人給我點建議！\\n\\n當初，\\n我面試的職務掛名是行政助理，\\...    36.230.95.108   \n",
       "14  公司名稱：德林股份有限公司\\n\\n\\n職缺名稱：會計助理\\n\\n\\n\\n投遞履歷被邀約面試，...      101.8.227.7   \n",
       "15  啊，看到你這篇文章感覺妳很緊張，\\n\\n想給你一點方向，希望妳放寬心，部分敘述恕刪\\n\\n\\...   117.19.231.146   \n",
       "16  背景：國立大學統計所應屆畢\\n\\n有參與過指導教授與外面公司合作的企劃負責統計分析，使用的工...      1.34.168.32   \n",
       "17  以下幫朋友代ＰＯ，再請有經驗的版友能給點建議。\\n謝謝！\\n----------------...   220.130.37.121   \n",
       "18  「職涯管理與求職準備」免費講座\\n。洞悉企業選才關鍵準則，知彼知己提高錄取機會\\n。學會選擇...    1.200.206.156   \n",
       "19  應徵公司職位:樂點股份有限公司(GASH POINT)/資深行銷企劃主任\\n\\n想請教有在裡...   180.217.165.20   \n",
       "20  如題，想幫女友找找看有沒有類似的工作，性質隨便，女友本身是護理師(30y)，但是沒\\n有在意...    111.83.21.106   \n",
       "21  各位大大好,\\n\\n今天被資遣時主管告知如果未將客戶名片歸還將屬偷竊行為\\n\\n想請問版上大...    220.135.42.66   \n",
       "22     最近在看無照律師主角常常工作熬夜\\n\\n隔天還繼續上班又加班熬夜\\n\\n這樣不違反勞基法嗎？   114.137.211.67   \n",
       "23  事情是這樣的\\n\\n三個月前因為跟前主管管理不當\\n\\n在填離職原因時算是有跟人資和上層告狀...   49.159.146.177   \n",
       "24  這版的人多數都很幼稚，\\n你最好不要聽他們的。\\n\\n我先問你幾個問題：\\n\\n你手上的名片...    101.8.161.149   \n",
       "25  小弟現在有一個工作機會\\n\\n工作地點在101\\n\\n沒錯，就是信義區那個竹筍\\n\\n是70...   118.150.21.226   \n",
       "26  $ 97,344,842\\n\\n看過一些非會計背景的人\\n\\n面對這個金額時 在那邊數位數 ...   115.43.229.170   \n",
       "27  經常離職都會遇到這樣\\n\\n離職者心態 我要走了 公司憑什麼要我個人整理的資料\\n\\n主管或...   222.72.115.252   \n",
       "28  在職場十年了\\n我從來不覺得身邊有什麼小人\\n\\n只要你學會換位思考\\n你會發現多數人都只是...    101.8.161.149   \n",
       "29  代po\\n\\n................\\n\\n\\n欲離職，根據以前離職人員經驗，加班...  101.137.255.230   \n",
       "30  雖然推文大家都挺成熟的\\n\\n但現實面 我以前的薪水比同事多3成\\n\\n對方就會開始擺爛 裝...   222.72.115.252   \n",
       "31  女友在北部某上市傳產，在公司四年多\\n\\n這間公司滿鳥的講出來娛樂大家一下\\n\\n\\n\\n\\...     211.22.27.58   \n",
       "32  小弟在上周於某一家保險公司筆試+面試\\n\\n主管在筆試結束後約半小時才進來，除了例行性請我介...      42.71.38.63   \n",
       "33  公司名稱:南亞塑膠\\n\\n地點:台北台塑大樓\\n\\n職務:產品推廣管理師\\n\\n\\n幫友人代...    110.28.131.50   \n",
       "34  部門要來一個新人，\\n可是我算一下根本沒有位子，\\n然後新人跟我是一樣的功能，\\n公司沒幾個...    42.72.131.165   \n",
       "35  我前幾個月辭職了\\n主因: 與同事相處有問題\\n\\n在前公司待了快4年，雖然後續都有新員工(...    58.115.42.208   \n",
       "36  嗆求職者多讀書 人資被肉搜「7分大學」畢業\\n\\n2018-07-30 11:25聯合新聞網...   178.128.78.112   \n",
       "37  大家好\\n\\n最近接到LALAMOVE說明會的電話，他們說如果正職跑月薪\\n可以到$4500...     61.61.12.115   \n",
       "38  如題\\n\\n本魯這個月進去一間污水廠工作\\n\\n這是政府外包的工作\\n\\n我的工作內容就是採...     111.83.94.63   \n",
       "39  請問有領過失業給付的朋友\\n\\n在找到工作後要回報已就業\\n\\n\\n請問你們的就業服務站會打...      95.97.35.18   \n",
       "40  各位大大好\\n\\n小弟目前就讀後段國立動物科學碩士班\\n\\n預訂2個月後可以畢業（論文早就給...     39.12.45.247   \n",
       "41  各位大大好，請問大家\\n\\n有沒有人待過梧濟工業\\n\\n最近收到面試通知，台中的業務人員\\n...    115.82.48.107   \n",
       "42  作者: WNBA (~^O^~) 看板: Gossiping\\n標題: [新聞] 徵美國店長...    50.24.132.213   \n",
       "43  今年7/6離職，日前收到人資通知，我7月份的薪資（假設是10000元），但由於今年1～7\\n...   223.137.68.112   \n",
       "44     請問有人有收到體檢通知了嗎？\\n通知跟通知之間大約會間隔多久啊？\\n我是7/18面試的，謝謝  223.136.147.235   \n",
       "45  各位大大好，代PO\\n\\n經爬文後發現各有論點，歡迎大方討論，謝謝!\\n\\n\\n------...   140.135.60.204   \n",
       "46  各位Salary的前輩們好\\n\\n本文由版主同意後PO出\\n晚輩的畢業論文需要一些幫助，主題...   31.205.227.148   \n",
       "\n",
       "                            title          tm  \n",
       "0               [心得] 我在潔客幫當家事服務人員  1532999767  \n",
       "1          Re: [問題] 人事保證書 (已多板爬文)  1533005987  \n",
       "2                [討論] DHL洋基通運派遣問題  1533006985  \n",
       "3     [活動] 8/22(三)別窮忙！「結果思維」提升執行力  1533008068  \n",
       "4             [討論] 讓履歷排在HR清單前端的方法  1533008348  \n",
       "5        [討論] 面試有人會想到要問是否颱風給假給薪嗎?  1533015061  \n",
       "6          [閒聊]  跟英國同事聊特休假，才知道...  1533015171  \n",
       "7                       [問題] 台灣牧田  1533015703  \n",
       "8                    [討論] 同事離職簽這個  1533017930  \n",
       "9             [情報] 職場常用網站(歡迎來信增加)  1409102619  \n",
       "10               [公告] 關於板上免費服務與活動  1519225643  \n",
       "11                     [板務] 討論的風氣  1526355650  \n",
       "12  Fw: [新聞] 全民放假去！7成5荷蘭人放暑假 公司還給  1532947201  \n",
       "13                   [選擇] 不會會計的會計  1532951049  \n",
       "14             [公司] 德林股份有限公司-會計助理  1532952779  \n",
       "15               Re: [問題] 不會會計的會計  1532954871  \n",
       "16                [心得] 統計所新鮮人面試心得  1532956172  \n",
       "17                  [選擇] 四大 安侯與勤業  1532958455  \n",
       "18                    [情報] 職涯發展講座  1532960040  \n",
       "19    [公司] 樂點GASH POINT資深行銷企劃主任請教  1532960756  \n",
       "20          [問題] 不計薪水、輕鬆以及見紅就放的工作  1532961082  \n",
       "21         [問題]客戶名片帶回家,主管告知這是偷竊行為  1532961985  \n",
       "22                  [問題] 美國有勞基法嗎？  1532964557  \n",
       "23               [問題] 回鍋前公司(不同職位)  1532965344  \n",
       "24     Re: [問題]客戶名片帶回家,主管告知這是偷竊行為  1532965755  \n",
       "25             [討論] 有沒有在101上班過...  1532968084  \n",
       "26               Re: [問題] 不會會計的會計  1532990509  \n",
       "27     Re: [問題]客戶名片帶回家,主管告知這是偷竊行為  1532992234  \n",
       "28       Re: [閒聊] 各位都怎麼看待職場上的小人??  1532994764  \n",
       "29                  [問題] 離職加班費拿不到  1532998204  \n",
       "30        Re: [討論] 如果你發現同工不同酬，你會？  1532897369  \n",
       "31        Re: [討論] 如果你發現同工不同酬，你會？  1532913901  \n",
       "32                [閒聊] 職場新鮮人的幾個問題  1532920582  \n",
       "33                   台塑南亞 產品推廣管理師  1532922072  \n",
       "34                   [問題] 是不是快失業了  1532923639  \n",
       "35        Re: [問題] 有必要為了職場霸凌換公司嗎？  1532924057  \n",
       "36      [新聞] 嗆求職者多讀書 人資被肉搜「7分大學」畢  1532925488  \n",
       "37         [問題] LALAMOVE 月薪45000?  1532926694  \n",
       "38           [討論] 同事不適任 但是調我 怎麼辦?  1532935540  \n",
       "39                 [問題] 失業給付通報就業後  1532936899  \n",
       "40                [問題] 動科碩畢業生求職諮詢  1532939307  \n",
       "41              [公司] 梧濟工業 台中業務工程師  1532940858  \n",
       "42  Fw: [新聞] 徵美國店長！CoCo都可「月薪開3萬3」  1532943838  \n",
       "43                    [問題] 年假發放時間  1532943955  \n",
       "44                  [問題] 長榮物流內勤人員  1532945000  \n",
       "45             [問題] 人事保證書 (已多板爬文)  1532946570  \n",
       "46          [問卷]台灣敏捷軟體開發實踐的關鍵成功因素  1532947143  "
      ]
     },
     "execution_count": 397,
     "metadata": {},
     "output_type": "execute_result"
    }
   ],
   "source": [
    "pd.read_csv('./salary_articles.csv')"
   ]
  },
  {
   "cell_type": "markdown",
   "metadata": {},
   "source": [
    "### [ dateutil package ]"
   ]
  },
  {
   "cell_type": "code",
   "execution_count": 223,
   "metadata": {},
   "outputs": [],
   "source": [
    "from dateutil.relativedelta import relativedelta"
   ]
  },
  {
   "cell_type": "code",
   "execution_count": 329,
   "metadata": {},
   "outputs": [
    {
     "name": "stdout",
     "output_type": "stream",
     "text": [
      "2018-07-30 13:57:21.476644\n",
      "2018-06-30 13:57:21.476827\n",
      "2017-07-31 13:57:21.476941\n"
     ]
    }
   ],
   "source": [
    "print(datetime.now() - relativedelta(days=1))\n",
    "print(datetime.now() - relativedelta(months=1))\n",
    "print(datetime.now() - relativedelta(years=1))"
   ]
  },
  {
   "cell_type": "markdown",
   "metadata": {},
   "source": [
    "### [requests with headers]"
   ]
  },
  {
   "cell_type": "code",
   "execution_count": 412,
   "metadata": {},
   "outputs": [],
   "source": [
    "url = 'https://www.ptt.cc/bbs/Gossiping/index.html'"
   ]
  },
  {
   "cell_type": "code",
   "execution_count": 414,
   "metadata": {
    "scrolled": true
   },
   "outputs": [
    {
     "data": {
      "text/plain": [
       "'<!DOCTYPE html>\\n<html>\\n\\t<head>\\n\\t\\t<meta charset=\"utf-8\">\\n\\t\\t\\n\\n<meta name=\"viewport\" content=\"width=device-width, initial-scale=1\">\\n\\n<title>批踢踢實業坊</title>\\n\\n<link rel=\"stylesheet\" type=\"text/css\" href=\"//images.ptt.cc/bbs/v2.25/bbs-common.css\">\\n<link rel=\"stylesheet\" type=\"text/css\" href=\"//images.ptt.cc/bbs/v2.25/bbs-base.css\" media=\"screen\">\\n<link rel=\"stylesheet\" type=\"text/css\" href=\"//images.ptt.cc/bbs/v2.25/bbs-custom.css\">\\n<link rel=\"stylesheet\" type=\"text/css\" href=\"//images.ptt.cc/bbs/v2.25/pushstream.css\" media=\"screen\">\\n<link rel=\"stylesheet\" type=\"text/css\" href=\"//images.ptt.cc/bbs/v2.25/bbs-print.css\" media=\"print\">\\n\\n\\n\\n\\n\\t</head>\\n    <body>\\n\\t\\t\\n<div class=\"bbs-screen bbs-content\">\\n    <div class=\"over18-notice\">\\n        <p>本網站已依網站內容分級規定處理</p>\\n\\n        <p>警告︰您即將進入之看板內容需滿十八歲方可瀏覽。</p>\\n\\n        <p>若您尚未年滿十八歲，請點選離開。若您已滿十八歲，亦不可將本區之內容派發、傳閱、出售、出租、交給或借予年齡未滿18歲的人士瀏覽，或將本網站內容向該人士出示、播放或放映。</p>\\n    </div>\\n</div>\\n\\n<div class=\"bbs-screen bbs-content center clear\">\\n    <form action=\"/ask/over18\" method=\"post\">\\n        <input type=\"hidden\" name=\"from\" value=\"/bbs/Gossiping/index.html\">\\n        <div class=\"over18-button-container\">\\n            <button class=\"btn-big\" type=\"submit\" name=\"yes\" value=\"yes\">我同意，我已年滿十八歲<br><small>進入</small></button>\\n        </div>\\n        <div class=\"over18-button-container\">\\n            <button class=\"btn-big\" type=\"submit\" name=\"no\" value=\"no\">未滿十八歲或不同意本條款<br><small>離開</small></button>\\n        </div>\\n    </form>\\n</div>\\n\\n\\t\\t\\n\\n<script>\\n  (function(i,s,o,g,r,a,m){i[\\'GoogleAnalyticsObject\\']=r;i[r]=i[r]||function(){\\n  (i[r].q=i[r].q||[]).push(arguments)},i[r].l=1*new Date();a=s.createElement(o),\\n  m=s.getElementsByTagName(o)[0];a.async=1;a.src=g;m.parentNode.insertBefore(a,m)\\n  })(window,document,\\'script\\',\\'https://www.google-analytics.com/analytics.js\\',\\'ga\\');\\n\\n  ga(\\'create\\', \\'UA-32365737-1\\', {\\n    cookieDomain: \\'ptt.cc\\',\\n    legacyCookieDomain: \\'ptt.cc\\'\\n  });\\n  ga(\\'send\\', \\'pageview\\');\\n</script>\\n\\n\\n\\t\\t\\n<script src=\"//ajax.googleapis.com/ajax/libs/jquery/2.1.1/jquery.min.js\"></script>\\n<script src=\"//images.ptt.cc/bbs/v2.25/bbs.js\"></script>\\n\\n    </body>\\n</html>\\n'"
      ]
     },
     "execution_count": 414,
     "metadata": {},
     "output_type": "execute_result"
    }
   ],
   "source": [
    "res = requests.get(url)\n",
    "res.text"
   ]
  },
  {
   "cell_type": "code",
   "execution_count": 424,
   "metadata": {},
   "outputs": [],
   "source": [
    "import requests\n",
    "import json\n",
    "\n",
    "url = \"https://www.ptt.cc/bbs/Gossiping/index.html\"\n",
    "data = {}\n",
    "headers = json.loads(r'''{\n",
    "    \"cookie\": \"__cfduid=d5f2274637142c63b85585c60c8fa1e9b1502083011; _ga=GA1.2.2014264793.1502083012; over18=1; _gid=GA1.2.504188955.1532926138\",\n",
    "    \"user-agent\": \"Mozilla/5.0 (Macintosh; Intel Mac OS X 10_13_4) AppleWebKit/537.36 (KHTML, like Gecko) Chrome/67.0.3396.99 Safari/537.36\"\n",
    "}''')\n",
    "\n",
    "resp = requests.get(url, data=data, headers=headers)"
   ]
  },
  {
   "cell_type": "code",
   "execution_count": 435,
   "metadata": {},
   "outputs": [
    {
     "data": {
      "text/plain": [
       "<!DOCTYPE html>\n",
       "<html>\n",
       "<head>\n",
       "<meta charset=\"utf-8\"/>\n",
       "<meta content=\"width=device-width, initial-scale=1\" name=\"viewport\"/>\n",
       "<title>看板 Gossiping 文章列表 - 批踢踢實業坊</title>\n",
       "<link href=\"//images.ptt.cc/bbs/v2.25/bbs-common.css\" rel=\"stylesheet\" type=\"text/css\"/>\n",
       "<link href=\"//images.ptt.cc/bbs/v2.25/bbs-base.css\" media=\"screen\" rel=\"stylesheet\" type=\"text/css\"/>\n",
       "<link href=\"//images.ptt.cc/bbs/v2.25/bbs-custom.css\" rel=\"stylesheet\" type=\"text/css\"/>\n",
       "<link href=\"//images.ptt.cc/bbs/v2.25/pushstream.css\" media=\"screen\" rel=\"stylesheet\" type=\"text/css\"/>\n",
       "<link href=\"//images.ptt.cc/bbs/v2.25/bbs-print.css\" media=\"print\" rel=\"stylesheet\" type=\"text/css\"/>\n",
       "</head>\n",
       "<body>\n",
       "<div id=\"topbar-container\">\n",
       "<div class=\"bbs-content\" id=\"topbar\">\n",
       "<a href=\"/bbs/\" id=\"logo\">批踢踢實業坊</a>\n",
       "<span>›</span>\n",
       "<a class=\"board\" href=\"/bbs/Gossiping/index.html\"><span class=\"board-label\">看板 </span>Gossiping</a>\n",
       "<a class=\"right small\" href=\"/about.html\">關於我們</a>\n",
       "<a class=\"right small\" href=\"/contact.html\">聯絡資訊</a>\n",
       "</div>\n",
       "</div>\n",
       "<div id=\"main-container\">\n",
       "<div id=\"action-bar-container\">\n",
       "<div class=\"action-bar\">\n",
       "<div class=\"btn-group btn-group-dir\">\n",
       "<a class=\"btn selected\" href=\"/bbs/Gossiping/index.html\">看板</a>\n",
       "<a class=\"btn\" href=\"/man/Gossiping/index.html\">精華區</a>\n",
       "</div>\n",
       "<div class=\"btn-group btn-group-paging\">\n",
       "<a class=\"btn wide\" href=\"/bbs/Gossiping/index1.html\">最舊</a>\n",
       "<a class=\"btn wide\" href=\"/bbs/Gossiping/index39093.html\">‹ 上頁</a>\n",
       "<a class=\"btn wide disabled\">下頁 ›</a>\n",
       "<a class=\"btn wide\" href=\"/bbs/Gossiping/index.html\">最新</a>\n",
       "</div>\n",
       "</div>\n",
       "</div>\n",
       "<div class=\"r-list-container action-bar-margin bbs-screen\">\n",
       "<div class=\"search-bar\">\n",
       "<form action=\"search\" id=\"search-bar\" type=\"get\">\n",
       "<input class=\"query\" name=\"q\" placeholder=\"搜尋文章⋯\" type=\"text\" value=\"\"/>\n",
       "</form>\n",
       "</div>\n",
       "<div class=\"r-ent\">\n",
       "<div class=\"nrec\"><span class=\"hl f2\">3</span></div>\n",
       "<div class=\"title\">\n",
       "<a href=\"/bbs/Gossiping/M.1533022803.A.2A5.html\">Re: [新聞] 綠盟：反對深澳電廠 也不認同以核養綠</a>\n",
       "</div>\n",
       "<div class=\"meta\">\n",
       "<div class=\"author\">autokey</div>\n",
       "<div class=\"article-menu\">\n",
       "<div class=\"trigger\">⋯</div>\n",
       "<div class=\"dropdown\">\n",
       "<div class=\"item\"><a href=\"/bbs/Gossiping/search?q=thread%3A%5B%E6%96%B0%E8%81%9E%5D+%E7%B6%A0%E7%9B%9F%EF%BC%9A%E5%8F%8D%E5%B0%8D%E6%B7%B1%E6%BE%B3%E9%9B%BB%E5%BB%A0+%E4%B9%9F%E4%B8%8D%E8%AA%8D%E5%90%8C%E4%BB%A5%E6%A0%B8%E9%A4%8A%E7%B6%A0\">搜尋同標題文章</a></div>\n",
       "<div class=\"item\"><a href=\"/bbs/Gossiping/search?q=author%3Aautokey\">搜尋看板內 autokey 的文章</a></div>\n",
       "</div>\n",
       "</div>\n",
       "<div class=\"date\"> 7/31</div>\n",
       "<div class=\"mark\"></div>\n",
       "</div>\n",
       "</div>\n",
       "<div class=\"r-ent\">\n",
       "<div class=\"nrec\"><span class=\"hl f2\">1</span></div>\n",
       "<div class=\"title\">\n",
       "<a href=\"/bbs/Gossiping/M.1533022806.A.54D.html\">Re: [新聞] 賴清德：蔣介石退出聯合國埋下大錯</a>\n",
       "</div>\n",
       "<div class=\"meta\">\n",
       "<div class=\"author\">a874622</div>\n",
       "<div class=\"article-menu\">\n",
       "<div class=\"trigger\">⋯</div>\n",
       "<div class=\"dropdown\">\n",
       "<div class=\"item\"><a href=\"/bbs/Gossiping/search?q=thread%3A%5B%E6%96%B0%E8%81%9E%5D+%E8%B3%B4%E6%B8%85%E5%BE%B7%EF%BC%9A%E8%94%A3%E4%BB%8B%E7%9F%B3%E9%80%80%E5%87%BA%E8%81%AF%E5%90%88%E5%9C%8B%E5%9F%8B%E4%B8%8B%E5%A4%A7%E9%8C%AF\">搜尋同標題文章</a></div>\n",
       "<div class=\"item\"><a href=\"/bbs/Gossiping/search?q=author%3Aa874622\">搜尋看板內 a874622 的文章</a></div>\n",
       "</div>\n",
       "</div>\n",
       "<div class=\"date\"> 7/31</div>\n",
       "<div class=\"mark\"></div>\n",
       "</div>\n",
       "</div>\n",
       "<div class=\"r-ent\">\n",
       "<div class=\"nrec\"><span class=\"hl f2\">2</span></div>\n",
       "<div class=\"title\">\n",
       "<a href=\"/bbs/Gossiping/M.1533022807.A.A15.html\">Re: [新聞] 降青年購屋壓力 徐國勇：擬提1成自備</a>\n",
       "</div>\n",
       "<div class=\"meta\">\n",
       "<div class=\"author\">TigerLily</div>\n",
       "<div class=\"article-menu\">\n",
       "<div class=\"trigger\">⋯</div>\n",
       "<div class=\"dropdown\">\n",
       "<div class=\"item\"><a href=\"/bbs/Gossiping/search?q=thread%3A%5B%E6%96%B0%E8%81%9E%5D+%E9%99%8D%E9%9D%92%E5%B9%B4%E8%B3%BC%E5%B1%8B%E5%A3%93%E5%8A%9B+%E5%BE%90%E5%9C%8B%E5%8B%87%EF%BC%9A%E6%93%AC%E6%8F%901%E6%88%90%E8%87%AA%E5%82%99\">搜尋同標題文章</a></div>\n",
       "<div class=\"item\"><a href=\"/bbs/Gossiping/search?q=author%3ATigerLily\">搜尋看板內 TigerLily 的文章</a></div>\n",
       "</div>\n",
       "</div>\n",
       "<div class=\"date\"> 7/31</div>\n",
       "<div class=\"mark\"></div>\n",
       "</div>\n",
       "</div>\n",
       "<div class=\"r-ent\">\n",
       "<div class=\"nrec\"><span class=\"hl f2\">3</span></div>\n",
       "<div class=\"title\">\n",
       "<a href=\"/bbs/Gossiping/M.1533022853.A.B15.html\">[新聞] 爆打空服員生殖器、嚇哭乘客　大媽被封「</a>\n",
       "</div>\n",
       "<div class=\"meta\">\n",
       "<div class=\"author\">mandalin</div>\n",
       "<div class=\"article-menu\">\n",
       "<div class=\"trigger\">⋯</div>\n",
       "<div class=\"dropdown\">\n",
       "<div class=\"item\"><a href=\"/bbs/Gossiping/search?q=thread%3A%5B%E6%96%B0%E8%81%9E%5D+%E7%88%86%E6%89%93%E7%A9%BA%E6%9C%8D%E5%93%A1%E7%94%9F%E6%AE%96%E5%99%A8%E3%80%81%E5%9A%87%E5%93%AD%E4%B9%98%E5%AE%A2%E3%80%80%E5%A4%A7%E5%AA%BD%E8%A2%AB%E5%B0%81%E3%80%8C\">搜尋同標題文章</a></div>\n",
       "<div class=\"item\"><a href=\"/bbs/Gossiping/search?q=author%3Amandalin\">搜尋看板內 mandalin 的文章</a></div>\n",
       "</div>\n",
       "</div>\n",
       "<div class=\"date\"> 7/31</div>\n",
       "<div class=\"mark\"></div>\n",
       "</div>\n",
       "</div>\n",
       "<div class=\"r-ent\">\n",
       "<div class=\"nrec\"><span class=\"hl f2\">1</span></div>\n",
       "<div class=\"title\">\n",
       "<a href=\"/bbs/Gossiping/M.1533022867.A.740.html\">Re: [新聞] 降青年購屋壓力 徐國勇：擬提1成自備款</a>\n",
       "</div>\n",
       "<div class=\"meta\">\n",
       "<div class=\"author\">azman1018z</div>\n",
       "<div class=\"article-menu\">\n",
       "<div class=\"trigger\">⋯</div>\n",
       "<div class=\"dropdown\">\n",
       "<div class=\"item\"><a href=\"/bbs/Gossiping/search?q=thread%3A%5B%E6%96%B0%E8%81%9E%5D+%E9%99%8D%E9%9D%92%E5%B9%B4%E8%B3%BC%E5%B1%8B%E5%A3%93%E5%8A%9B+%E5%BE%90%E5%9C%8B%E5%8B%87%EF%BC%9A%E6%93%AC%E6%8F%901%E6%88%90%E8%87%AA%E5%82%99%E6%AC%BE\">搜尋同標題文章</a></div>\n",
       "<div class=\"item\"><a href=\"/bbs/Gossiping/search?q=author%3Aazman1018z\">搜尋看板內 azman1018z 的文章</a></div>\n",
       "</div>\n",
       "</div>\n",
       "<div class=\"date\"> 7/31</div>\n",
       "<div class=\"mark\"></div>\n",
       "</div>\n",
       "</div>\n",
       "<div class=\"r-ent\">\n",
       "<div class=\"nrec\"></div>\n",
       "<div class=\"title\">\n",
       "<a href=\"/bbs/Gossiping/M.1533022890.A.C0E.html\">[新聞] 大學生自製Kuso影片 狠諷蘇貞昌騙神明話</a>\n",
       "</div>\n",
       "<div class=\"meta\">\n",
       "<div class=\"author\">biyouth5566</div>\n",
       "<div class=\"article-menu\">\n",
       "<div class=\"trigger\">⋯</div>\n",
       "<div class=\"dropdown\">\n",
       "<div class=\"item\"><a href=\"/bbs/Gossiping/search?q=thread%3A%5B%E6%96%B0%E8%81%9E%5D+%E5%A4%A7%E5%AD%B8%E7%94%9F%E8%87%AA%E8%A3%BDKuso%E5%BD%B1%E7%89%87+%E7%8B%A0%E8%AB%B7%E8%98%87%E8%B2%9E%E6%98%8C%E9%A8%99%E7%A5%9E%E6%98%8E%E8%A9%B1\">搜尋同標題文章</a></div>\n",
       "<div class=\"item\"><a href=\"/bbs/Gossiping/search?q=author%3Abiyouth5566\">搜尋看板內 biyouth5566 的文章</a></div>\n",
       "</div>\n",
       "</div>\n",
       "<div class=\"date\"> 7/31</div>\n",
       "<div class=\"mark\"></div>\n",
       "</div>\n",
       "</div>\n",
       "<div class=\"r-ent\">\n",
       "<div class=\"nrec\"><span class=\"hl f2\">2</span></div>\n",
       "<div class=\"title\">\n",
       "<a href=\"/bbs/Gossiping/M.1533022921.A.EC6.html\">[新聞] 西伯利亞太陽離奇消失3小時 俄政府無解</a>\n",
       "</div>\n",
       "<div class=\"meta\">\n",
       "<div class=\"author\">CF661020</div>\n",
       "<div class=\"article-menu\">\n",
       "<div class=\"trigger\">⋯</div>\n",
       "<div class=\"dropdown\">\n",
       "<div class=\"item\"><a href=\"/bbs/Gossiping/search?q=thread%3A%5B%E6%96%B0%E8%81%9E%5D+%E8%A5%BF%E4%BC%AF%E5%88%A9%E4%BA%9E%E5%A4%AA%E9%99%BD%E9%9B%A2%E5%A5%87%E6%B6%88%E5%A4%B13%E5%B0%8F%E6%99%82+%E4%BF%84%E6%94%BF%E5%BA%9C%E7%84%A1%E8%A7%A3\">搜尋同標題文章</a></div>\n",
       "<div class=\"item\"><a href=\"/bbs/Gossiping/search?q=author%3ACF661020\">搜尋看板內 CF661020 的文章</a></div>\n",
       "</div>\n",
       "</div>\n",
       "<div class=\"date\"> 7/31</div>\n",
       "<div class=\"mark\"></div>\n",
       "</div>\n",
       "</div>\n",
       "<div class=\"r-ent\">\n",
       "<div class=\"nrec\"><span class=\"hl f2\">2</span></div>\n",
       "<div class=\"title\">\n",
       "<a href=\"/bbs/Gossiping/M.1533022929.A.E38.html\">[問卦] 為啥摩爾隨便講個話大家都把它當定律？</a>\n",
       "</div>\n",
       "<div class=\"meta\">\n",
       "<div class=\"author\">ray90910</div>\n",
       "<div class=\"article-menu\">\n",
       "<div class=\"trigger\">⋯</div>\n",
       "<div class=\"dropdown\">\n",
       "<div class=\"item\"><a href=\"/bbs/Gossiping/search?q=thread%3A%5B%E5%95%8F%E5%8D%A6%5D+%E7%82%BA%E5%95%A5%E6%91%A9%E7%88%BE%E9%9A%A8%E4%BE%BF%E8%AC%9B%E5%80%8B%E8%A9%B1%E5%A4%A7%E5%AE%B6%E9%83%BD%E6%8A%8A%E5%AE%83%E7%95%B6%E5%AE%9A%E5%BE%8B%EF%BC%9F\">搜尋同標題文章</a></div>\n",
       "<div class=\"item\"><a href=\"/bbs/Gossiping/search?q=author%3Aray90910\">搜尋看板內 ray90910 的文章</a></div>\n",
       "</div>\n",
       "</div>\n",
       "<div class=\"date\"> 7/31</div>\n",
       "<div class=\"mark\"></div>\n",
       "</div>\n",
       "</div>\n",
       "<div class=\"r-ent\">\n",
       "<div class=\"nrec\"><span class=\"hl f2\">1</span></div>\n",
       "<div class=\"title\">\n",
       "<a href=\"/bbs/Gossiping/M.1533022932.A.706.html\">[問卦] 有機械鍵盤茶軸才是王道的八卦嗎？</a>\n",
       "</div>\n",
       "<div class=\"meta\">\n",
       "<div class=\"author\">Kay731</div>\n",
       "<div class=\"article-menu\">\n",
       "<div class=\"trigger\">⋯</div>\n",
       "<div class=\"dropdown\">\n",
       "<div class=\"item\"><a href=\"/bbs/Gossiping/search?q=thread%3A%5B%E5%95%8F%E5%8D%A6%5D+%E6%9C%89%E6%A9%9F%E6%A2%B0%E9%8D%B5%E7%9B%A4%E8%8C%B6%E8%BB%B8%E6%89%8D%E6%98%AF%E7%8E%8B%E9%81%93%E7%9A%84%E5%85%AB%E5%8D%A6%E5%97%8E%EF%BC%9F\">搜尋同標題文章</a></div>\n",
       "<div class=\"item\"><a href=\"/bbs/Gossiping/search?q=author%3AKay731\">搜尋看板內 Kay731 的文章</a></div>\n",
       "</div>\n",
       "</div>\n",
       "<div class=\"date\"> 7/31</div>\n",
       "<div class=\"mark\"></div>\n",
       "</div>\n",
       "</div>\n",
       "<div class=\"r-ent\">\n",
       "<div class=\"nrec\"></div>\n",
       "<div class=\"title\">\n",
       "<a href=\"/bbs/Gossiping/M.1533022951.A.0B7.html\">Re: [問卦] 拔智齒的膠原蛋白</a>\n",
       "</div>\n",
       "<div class=\"meta\">\n",
       "<div class=\"author\">q5212</div>\n",
       "<div class=\"article-menu\">\n",
       "<div class=\"trigger\">⋯</div>\n",
       "<div class=\"dropdown\">\n",
       "<div class=\"item\"><a href=\"/bbs/Gossiping/search?q=thread%3A%5B%E5%95%8F%E5%8D%A6%5D+%E6%8B%94%E6%99%BA%E9%BD%92%E7%9A%84%E8%86%A0%E5%8E%9F%E8%9B%8B%E7%99%BD\">搜尋同標題文章</a></div>\n",
       "<div class=\"item\"><a href=\"/bbs/Gossiping/search?q=author%3Aq5212\">搜尋看板內 q5212 的文章</a></div>\n",
       "</div>\n",
       "</div>\n",
       "<div class=\"date\"> 7/31</div>\n",
       "<div class=\"mark\"></div>\n",
       "</div>\n",
       "</div>\n",
       "<div class=\"r-ent\">\n",
       "<div class=\"nrec\"><span class=\"hl f2\">1</span></div>\n",
       "<div class=\"title\">\n",
       "<a href=\"/bbs/Gossiping/M.1533022952.A.DDC.html\">Re: [新聞] 媽媽嘴案連帶賠368萬 呂炳宏與股東翻盤無</a>\n",
       "</div>\n",
       "<div class=\"meta\">\n",
       "<div class=\"author\">Arnol</div>\n",
       "<div class=\"article-menu\">\n",
       "<div class=\"trigger\">⋯</div>\n",
       "<div class=\"dropdown\">\n",
       "<div class=\"item\"><a href=\"/bbs/Gossiping/search?q=thread%3A%5B%E6%96%B0%E8%81%9E%5D+%E5%AA%BD%E5%AA%BD%E5%98%B4%E6%A1%88%E9%80%A3%E5%B8%B6%E8%B3%A0368%E8%90%AC+%E5%91%82%E7%82%B3%E5%AE%8F%E8%88%87%E8%82%A1%E6%9D%B1%E7%BF%BB%E7%9B%A4%E7%84%A1\">搜尋同標題文章</a></div>\n",
       "<div class=\"item\"><a href=\"/bbs/Gossiping/search?q=author%3AArnol\">搜尋看板內 Arnol 的文章</a></div>\n",
       "</div>\n",
       "</div>\n",
       "<div class=\"date\"> 7/31</div>\n",
       "<div class=\"mark\"></div>\n",
       "</div>\n",
       "</div>\n",
       "<div class=\"r-ent\">\n",
       "<div class=\"nrec\"></div>\n",
       "<div class=\"title\">\n",
       "<a href=\"/bbs/Gossiping/M.1533022970.A.589.html\">[問卦] 怎麼樣才能跟國中妹一起念書??</a>\n",
       "</div>\n",
       "<div class=\"meta\">\n",
       "<div class=\"author\">assassinASHE</div>\n",
       "<div class=\"article-menu\">\n",
       "<div class=\"trigger\">⋯</div>\n",
       "<div class=\"dropdown\">\n",
       "<div class=\"item\"><a href=\"/bbs/Gossiping/search?q=thread%3A%5B%E5%95%8F%E5%8D%A6%5D+%E6%80%8E%E9%BA%BC%E6%A8%A3%E6%89%8D%E8%83%BD%E8%B7%9F%E5%9C%8B%E4%B8%AD%E5%A6%B9%E4%B8%80%E8%B5%B7%E5%BF%B5%E6%9B%B8%3F%3F\">搜尋同標題文章</a></div>\n",
       "<div class=\"item\"><a href=\"/bbs/Gossiping/search?q=author%3AassassinASHE\">搜尋看板內 assassinASHE 的文章</a></div>\n",
       "</div>\n",
       "</div>\n",
       "<div class=\"date\"> 7/31</div>\n",
       "<div class=\"mark\"></div>\n",
       "</div>\n",
       "</div>\n",
       "<div class=\"r-ent\">\n",
       "<div class=\"nrec\"></div>\n",
       "<div class=\"title\">\n",
       "<a href=\"/bbs/Gossiping/M.1533023027.A.C31.html\">Re: [問卦] 安全帽買很貴的人在想什麼</a>\n",
       "</div>\n",
       "<div class=\"meta\">\n",
       "<div class=\"author\">codevery0117</div>\n",
       "<div class=\"article-menu\">\n",
       "<div class=\"trigger\">⋯</div>\n",
       "<div class=\"dropdown\">\n",
       "<div class=\"item\"><a href=\"/bbs/Gossiping/search?q=thread%3A%5B%E5%95%8F%E5%8D%A6%5D+%E5%AE%89%E5%85%A8%E5%B8%BD%E8%B2%B7%E5%BE%88%E8%B2%B4%E7%9A%84%E4%BA%BA%E5%9C%A8%E6%83%B3%E4%BB%80%E9%BA%BC\">搜尋同標題文章</a></div>\n",
       "<div class=\"item\"><a href=\"/bbs/Gossiping/search?q=author%3Acodevery0117\">搜尋看板內 codevery0117 的文章</a></div>\n",
       "</div>\n",
       "</div>\n",
       "<div class=\"date\"> 7/31</div>\n",
       "<div class=\"mark\"></div>\n",
       "</div>\n",
       "</div>\n",
       "<div class=\"r-list-sep\"></div>\n",
       "<div class=\"r-ent\">\n",
       "<div class=\"nrec\"><span class=\"hl f2\">1</span></div>\n",
       "<div class=\"title\">\n",
       "<a href=\"/bbs/Gossiping/M.1510415718.A.D77.html\">[公告] 八卦板板規(2017.11.11)</a>\n",
       "</div>\n",
       "<div class=\"meta\">\n",
       "<div class=\"author\">Kay731</div>\n",
       "<div class=\"article-menu\">\n",
       "<div class=\"trigger\">⋯</div>\n",
       "<div class=\"dropdown\">\n",
       "<div class=\"item\"><a href=\"/bbs/Gossiping/search?q=thread%3A%5B%E5%85%AC%E5%91%8A%5D+%E5%85%AB%E5%8D%A6%E6%9D%BF%E6%9D%BF%E8%A6%8F%282017.11.11%29\">搜尋同標題文章</a></div>\n",
       "<div class=\"item\"><a href=\"/bbs/Gossiping/search?q=author%3AKay731\">搜尋看板內 Kay731 的文章</a></div>\n",
       "</div>\n",
       "</div>\n",
       "<div class=\"date\">11/11</div>\n",
       "<div class=\"mark\">!</div>\n",
       "</div>\n",
       "</div>\n",
       "<div class=\"r-ent\">\n",
       "<div class=\"nrec\"><span class=\"hl f3\">95</span></div>\n",
       "<div class=\"title\">\n",
       "<a href=\"/bbs/Gossiping/M.1530414891.A.838.html\">[公告] 七月份置底閒聊文</a>\n",
       "</div>\n",
       "<div class=\"meta\">\n",
       "<div class=\"author\">Kay731</div>\n",
       "<div class=\"article-menu\">\n",
       "<div class=\"trigger\">⋯</div>\n",
       "<div class=\"dropdown\">\n",
       "<div class=\"item\"><a href=\"/bbs/Gossiping/search?q=thread%3A%5B%E5%85%AC%E5%91%8A%5D+%E4%B8%83%E6%9C%88%E4%BB%BD%E7%BD%AE%E5%BA%95%E9%96%92%E8%81%8A%E6%96%87\">搜尋同標題文章</a></div>\n",
       "<div class=\"item\"><a href=\"/bbs/Gossiping/search?q=author%3AKay731\">搜尋看板內 Kay731 的文章</a></div>\n",
       "</div>\n",
       "</div>\n",
       "<div class=\"date\"> 7/01</div>\n",
       "<div class=\"mark\">M</div>\n",
       "</div>\n",
       "</div>\n",
       "<div class=\"r-ent\">\n",
       "<div class=\"nrec\"><span class=\"hl f3\">13</span></div>\n",
       "<div class=\"title\">\n",
       "<a href=\"/bbs/Gossiping/M.1531408379.A.983.html\">[協尋] 7/10臨港路與西濱路口(阿得釣具)行車紀錄</a>\n",
       "</div>\n",
       "<div class=\"meta\">\n",
       "<div class=\"author\">x25628014</div>\n",
       "<div class=\"article-menu\">\n",
       "<div class=\"trigger\">⋯</div>\n",
       "<div class=\"dropdown\">\n",
       "<div class=\"item\"><a href=\"/bbs/Gossiping/search?q=thread%3A%5B%E5%8D%94%E5%B0%8B%5D+7%2F10%E8%87%A8%E6%B8%AF%E8%B7%AF%E8%88%87%E8%A5%BF%E6%BF%B1%E8%B7%AF%E5%8F%A3%28%E9%98%BF%E5%BE%97%E9%87%A3%E5%85%B7%29%E8%A1%8C%E8%BB%8A%E7%B4%80%E9%8C%84\">搜尋同標題文章</a></div>\n",
       "<div class=\"item\"><a href=\"/bbs/Gossiping/search?q=author%3Ax25628014\">搜尋看板內 x25628014 的文章</a></div>\n",
       "</div>\n",
       "</div>\n",
       "<div class=\"date\"> 7/12</div>\n",
       "<div class=\"mark\"></div>\n",
       "</div>\n",
       "</div>\n",
       "<div class=\"r-ent\">\n",
       "<div class=\"nrec\"><span class=\"hl f2\">9</span></div>\n",
       "<div class=\"title\">\n",
       "<a href=\"/bbs/Gossiping/M.1532353741.A.CCF.html\">[協尋] 7/23 忠孝東路4段 逸仙路口行車紀錄器影片 </a>\n",
       "</div>\n",
       "<div class=\"meta\">\n",
       "<div class=\"author\">chevalierxd</div>\n",
       "<div class=\"article-menu\">\n",
       "<div class=\"trigger\">⋯</div>\n",
       "<div class=\"dropdown\">\n",
       "<div class=\"item\"><a href=\"/bbs/Gossiping/search?q=thread%3A%5B%E5%8D%94%E5%B0%8B%5D+7%2F23+%E5%BF%A0%E5%AD%9D%E6%9D%B1%E8%B7%AF4%E6%AE%B5+%E9%80%B8%E4%BB%99%E8%B7%AF%E5%8F%A3%E8%A1%8C%E8%BB%8A%E7%B4%80%E9%8C%84%E5%99%A8%E5%BD%B1%E7%89%87+\">搜尋同標題文章</a></div>\n",
       "<div class=\"item\"><a href=\"/bbs/Gossiping/search?q=author%3Achevalierxd\">搜尋看板內 chevalierxd 的文章</a></div>\n",
       "</div>\n",
       "</div>\n",
       "<div class=\"date\"> 7/23</div>\n",
       "<div class=\"mark\"></div>\n",
       "</div>\n",
       "</div>\n",
       "<div class=\"r-ent\">\n",
       "<div class=\"nrec\"><span class=\"hl f3\">11</span></div>\n",
       "<div class=\"title\">\n",
       "<a href=\"/bbs/Gossiping/M.1532526256.A.563.html\">[協尋] 7/25 北市忠孝東路六段212巷口行車紀錄</a>\n",
       "</div>\n",
       "<div class=\"meta\">\n",
       "<div class=\"author\">saniyan</div>\n",
       "<div class=\"article-menu\">\n",
       "<div class=\"trigger\">⋯</div>\n",
       "<div class=\"dropdown\">\n",
       "<div class=\"item\"><a href=\"/bbs/Gossiping/search?q=thread%3A%5B%E5%8D%94%E5%B0%8B%5D+7%2F25+%E5%8C%97%E5%B8%82%E5%BF%A0%E5%AD%9D%E6%9D%B1%E8%B7%AF%E5%85%AD%E6%AE%B5212%E5%B7%B7%E5%8F%A3%E8%A1%8C%E8%BB%8A%E7%B4%80%E9%8C%84\">搜尋同標題文章</a></div>\n",
       "<div class=\"item\"><a href=\"/bbs/Gossiping/search?q=author%3Asaniyan\">搜尋看板內 saniyan 的文章</a></div>\n",
       "</div>\n",
       "</div>\n",
       "<div class=\"date\"> 7/25</div>\n",
       "<div class=\"mark\"></div>\n",
       "</div>\n",
       "</div>\n",
       "</div>\n",
       "<div class=\"bbs-screen bbs-footer-message\">本網站已依台灣網站內容分級規定處理。此區域為限制級，未滿十八歲者不得瀏覽。</div>\n",
       "</div>\n",
       "<script>\n",
       "  (function(i,s,o,g,r,a,m){i['GoogleAnalyticsObject']=r;i[r]=i[r]||function(){\n",
       "  (i[r].q=i[r].q||[]).push(arguments)},i[r].l=1*new Date();a=s.createElement(o),\n",
       "  m=s.getElementsByTagName(o)[0];a.async=1;a.src=g;m.parentNode.insertBefore(a,m)\n",
       "  })(window,document,'script','https://www.google-analytics.com/analytics.js','ga');\n",
       "\n",
       "  ga('create', 'UA-32365737-1', {\n",
       "    cookieDomain: 'ptt.cc',\n",
       "    legacyCookieDomain: 'ptt.cc'\n",
       "  });\n",
       "  ga('send', 'pageview');\n",
       "</script>\n",
       "<script src=\"//ajax.googleapis.com/ajax/libs/jquery/2.1.1/jquery.min.js\"></script>\n",
       "<script src=\"//images.ptt.cc/bbs/v2.25/bbs.js\"></script>\n",
       "</body>\n",
       "</html>"
      ]
     },
     "execution_count": 435,
     "metadata": {},
     "output_type": "execute_result"
    }
   ],
   "source": [
    "soup = BeautifulSoup(resp.text,'lxml')\n",
    "soup"
   ]
  },
  {
   "cell_type": "code",
   "execution_count": null,
   "metadata": {},
   "outputs": [],
   "source": []
  }
 ],
 "metadata": {
  "kernelspec": {
   "display_name": "Python 3",
   "language": "python",
   "name": "python3"
  },
  "language_info": {
   "codemirror_mode": {
    "name": "ipython",
    "version": 3
   },
   "file_extension": ".py",
   "mimetype": "text/x-python",
   "name": "python",
   "nbconvert_exporter": "python",
   "pygments_lexer": "ipython3",
   "version": "3.6.0"
  }
 },
 "nbformat": 4,
 "nbformat_minor": 2
}
