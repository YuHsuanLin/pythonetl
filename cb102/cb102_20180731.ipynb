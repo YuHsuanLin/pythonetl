{
 "cells": [
  {
   "cell_type": "code",
   "execution_count": 1,
   "metadata": {},
   "outputs": [],
   "source": [
    "import requests"
   ]
  },
  {
   "cell_type": "code",
   "execution_count": 3,
   "metadata": {},
   "outputs": [],
   "source": [
    "res =requests.get('https://www.ipify.org/')"
   ]
  },
  {
   "cell_type": "code",
   "execution_count": 4,
   "metadata": {},
   "outputs": [
    {
     "data": {
      "text/plain": [
       "b'<!DOCTYPE html>\\n<html lang=\"en\">\\n  <head>\\n    <meta charset=\"utf-8\">\\n    <meta http-equiv=\"X-UA-Compatible\" content=\"IE=edge\">\\n    <meta name=\"viewport\" content=\"width=device-width, initial-scale=1\">\\n    <title>ipify - A Simple Public IP Address API</title>\\n    <meta name=\"description\" content=\"ipify is a simple public IP address API, easy enough to integrate into any application in seconds.\">\\n    <link rel=\"stylesheet\" href=\"https://maxcdn.bootstrapcdn.com/bootstrap/3.3.4/css/bootstrap.min.css\">\\n    <link href=\"https://fonts.googleapis.com/css?family=Raleway\" rel=\"stylesheet\">\\n\\n    <!--[if lt IE 9]>\\n      <script src=\"https://oss.maxcdn.com/html5shiv/3.7.2/html5shiv.min.js\"></script>\\n      <script src=\"https://oss.maxcdn.com/respond/1.4.2/respond.min.js\"></script>\\n    <![endif]-->\\n    <link href=\"/static/css/prism.css\" rel=\"stylesheet\" type=\"text/css\">\\n    <link href=\"/static/css/style.css\" rel=\"stylesheet\" type=\"text/css\">\\n    <link rel=\"apple-touch-icon\" sizes=\"57x57\" href=\"/static/images/apple-icon-57x57.png\">\\n    <link rel=\"apple-touch-icon\" sizes=\"60x60\" href=\"/static/images/apple-icon-60x60.png\">\\n    <link rel=\"apple-touch-icon\" sizes=\"72x72\" href=\"/static/images/apple-icon-72x72.png\">\\n    <link rel=\"apple-touch-icon\" sizes=\"76x76\" href=\"/static/images/apple-icon-76x76.png\">\\n    <link rel=\"apple-touch-icon\" sizes=\"114x114\" href=\"/static/images/apple-icon-114x114.png\">\\n    <link rel=\"apple-touch-icon\" sizes=\"120x120\" href=\"/static/images/apple-icon-120x120.png\">\\n    <link rel=\"apple-touch-icon\" sizes=\"144x144\" href=\"/static/images/apple-icon-144x144.png\">\\n    <link rel=\"apple-touch-icon\" sizes=\"152x152\" href=\"/static/images/apple-icon-152x152.png\">\\n    <link rel=\"apple-touch-icon\" sizes=\"180x180\" href=\"/static/images/apple-icon-180x180.png\">\\n    <link rel=\"icon\" type=\"image/png\" sizes=\"192x192\"  href=\"/static/images/android-icon-192x192.png\">\\n    <link rel=\"icon\" type=\"image/png\" sizes=\"32x32\" href=\"/static/images/favicon-32x32.png\">\\n    <link rel=\"icon\" type=\"image/png\" sizes=\"96x96\" href=\"/static/images/favicon-96x96.png\">\\n    <link rel=\"icon\" type=\"image/png\" sizes=\"16x16\" href=\"/static/images/favicon-16x16.png\">\\n    <meta name=\"msapplication-TileColor\" content=\"#ffffff\">\\n    <meta name=\"msapplication-TileImage\" content=\"/static/images/ms-icon-144x144.png\">\\n    <meta name=\"theme-color\" content=\"#ffffff\">\\n    <script src=\"https://ajax.googleapis.com/ajax/libs/jquery/1.11.2/jquery.min.js\"></script>\\n  </head>\\n  <body>\\n    <div class=\"container\">\\n      <header>\\n        <a href=\"/\" title=\"ipify - A Simple IP Address API\">\\n          <div class=\"row\">\\n            <div class=\"col-xs-offset-2 col-xs-4 col-sm-offset-3 col-sm-3 col-md-offset-2 col-md-2\">\\n              <img alt=\"ipify logo (a globe sketch)\" src=\"/static/images/globe.png\" height=\"120\" width=\"100\">\\n            </div>\\n            <div class=\"col-xs-4 col-sm-6 col-md-8\">\\n              <div>\\n                <h1>ipify</h1>\\n                <h2 class=\"hidden-xs hidden-sm\">A Simple Public IP Address API</h2>\\n              </div>\\n            </div>\\n          </div>\\n        </a>\\n        <script>\\n          /*\\n           * This script will dynamically fetch the current user\\'s public IP\\n           * using the ipify API service.  It will then display it as the code\\n           * sample in the main entry block users see.  Once this is done, we\\'ll\\n           * also enable syntax highlighting on the page to make all the code\\n           * samples look pretty =)\\n           */\\n          $(function() {\\n            $.getJSON(\\n              \\'https://api.ipify.org?format=jsonp&callback=?\\',\\n              function (data) {\\n                $(\".ipdata\").text(\\'{\"ip\":\"\\' + data.ip + \\'\"}\\');\\n                Prism.highlightAll();\\n              }\\n            );\\n          });\\n        </script>\\n      </header>\\n      <div class=\"try row\">\\n        <div class=\"col-sm-offset-2 col-sm-8\">\\n          <div class=\"jumbotron\">\\n            <p>\\n              Want to get started right away? Don\\'t wait, run the code sample\\n              below in your terminal and check it out!\\n            </p>\\n            <pre><code class=\"language-bash\">$ curl \\'https://api.ipify.org?format=json\\'<br/>\\n<span class=\"ipdata\"></span></code></pre>\\n          </div>\\n        </div>\\n      </div>\\n      <div class=\"why row\">\\n        <div class=\"col-xs-12\">\\n          <h2>Why?</h2>\\n          <div class=\"row\">\\n            <div class=\"col-xs-offset-1 col-xs-10\">\\n              <p>\\n                Ever needed to get your public IP address <i>programmatically</i>?  Maybe\\n                you\\'re provisioning new cloud servers and need to know your IP --\\n                maybe you\\'re behind a corporate firewall and need to tunnel\\n                information -- whatever the reason: sometimes having a public IP\\n                address API is useful!\\n              </p>\\n              <p>\\n                You should use <b>ipify</b> because:\\n                <ul id=\"features\">\\n                  <li>\\n                    You can use it <i>without limit</i> (even if you\\'re doing\\n                    millions of requests per minute).\\n                  </li>\\n                  <li>\\n                    It\\'s always online and available, and its infrastructure is\\n                    powered by <a href=\"https://www.heroku.com/\" title=\"Heroku\">Heroku</a>,\\n                    which means that regardless of whether the server running the API\\n                    dies, or if there\\'s an enormous tornado which destroys half of\\n                    the east coast, <b>ipify</b> will still be running!\\n                  </li>\\n                  <li>\\n                    It works flawlessly with both IPv4 <i>and</i> IPv6 addresses, so\\n                    no matter what sort of technology you\\'re using, there won\\'t be\\n                    issues.\\n                  </li>\\n                  <li>\\n                    <b>ipify</b> is completely open source (check out the\\n                    <a href=\"https://github.com/rdegges/ipify-api\" title=\"ipify on GitHub\">GitHub repository</a>).\\n                  </li>\\n                  <li>\\n                    No visitor information is ever logged.  Period.\\n                  </li>\\n                  <li>\\n                    Lastly, <b>ipify</b> is funded by\\n                    <a href=\"http://www.rdegges.com/\" title=\"Randall Degges\">Randall Degges</a>,\\n                    so there\\'s no need to worry about the domain name disappearing\\n                    in three years or anything like that: <b>ipify</b> is here to\\n                    stay!\\n                  </li>\\n                </ul>\\n              </p>\\n            </div>\\n          </div>\\n        </div>\\n      </div>\\n      <div class=\"api row\">\\n        <div class=\"col-xs-12\">\\n          <h2>API Usage</h2>\\n          <div class=\"row\">\\n            <div class=\"col-xs-offset-1 col-xs-10\">\\n              <p>\\n                Using <b>ipify</b> is ridiculously simple.  You have three options.\\n                You can get your public IP directly (in plain text), you can get your\\n                public IP in JSON format, or you can get your public IP information in\\n                JSONP format (useful for Javascript developers).\\n              </p>\\n              <div class=\"table-responsive\">\\n                <table class=\"table table-striped table-bordered table-hover\">\\n                  <thead>\\n                    <tr>\\n                      <td>API URI</td>\\n                      <td>Response Type</td>\\n                      <td>Sample Output (IPv4)</td>\\n                      <td>Sample Output (IPv6)</td>\\n                    </tr>\\n                  </thead>\\n                  <tbody>\\n                    <tr>\\n                      <td><code>https://api.ipify.org</code></td>\\n                      <td><code>text</code></td>\\n                      <td><code>98.207.254.136</code></td>\\n                      <td><code>?</code></td>\\n                    </tr>\\n                    <tr>\\n                      <td><code>https://api.ipify.org?format=json</code></td>\\n                      <td><code>json</code></td>\\n                      <td><code>{\"ip\":\"98.207.254.136\"}</code></td>\\n                      <td><code>?</code></td>\\n                    </tr>\\n                    <tr>\\n                      <td><code>https://api.ipify.org?format=jsonp</code></td>\\n                      <td><code>jsonp</code></td>\\n                      <td><code>callback({\"ip\":\"98.207.254.136\"});</code></td>\\n                      <td><code>?</code></td>\\n                    </tr>\\n                    <tr>\\n                      <td><code>https://api.ipify.org?format=jsonp&callback=getip</code></td>\\n                      <td><code>jsonp</code></td>\\n                      <td><code>getip({\"ip\":\"98.207.254.136\"});</code></td>\\n                      <td><code>?</code></td>\\n                    </tr>\\n                  </tbody>\\n                </table>\\n              </div>\\n            </div>\\n          </div>\\n        </div>\\n      </div>\\n      <div class=\"examples row\">\\n        <div class=\"col-xs-12\">\\n          <h2>Examples</h2>\\n          <div class=\"row\">\\n            <div class=\"col-xs-offset-1 col-xs-10\">\\n              <p>\\n                This section contains some common usage patterns from a variety of\\n                programming languages.  Want something included that isn\\'t listed\\n                here?\\n                <a href=\"mailto:r@rdegges.com\" title=\"Randall Degges\\' Email\">Email me!</a>\\n              </p>\\n              <h3>Bash</h3>\\n              <pre><code class=\"language-bash\">#!/bin/bash\\n\\nip=$(curl -s https://api.ipify.org)\\necho \"My public IP address is: $ip\"</code></pre>\\n\\n              <h3>NGS (Next Generation Shell)</h3>\\n              <pre><code class=\"language-bash\">ip=`curl -s https://api.ipify.org`\\necho(\"My public IP address is: $ip\")</code></pre>\\n\\n              <h3>Python</h3>\\n              <pre><code class=\"language-python\"># This example requires the requests library be installed.  You can learn more\\n# about the Requests library here: http://docs.python-requests.org/en/latest/\\nfrom requests import get\\n\\nip = get(\\'https://api.ipify.org\\').text\\nprint(\\'My public IP address is: {}\\'.format(ip))</code></pre>\\n\\n              <h3>Ruby</h3>\\n              <pre><code class=\"language-ruby\">require \"net/http\"\\n\\nip = Net::HTTP.get(URI(\"https://api.ipify.org\"))\\nputs \"My public IP Address is: \" + ip</code></pre>\\n\\n              <h3>PHP</h3>\\n              <pre><code class=\"language-php\">&lt;?php\\n    $ip = file_get_contents(\\'https://api.ipify.org\\');\\n    echo \"My public IP address is: \" . $ip;\\n?&gt;</code></pre>\\n\\n              <h3>Java</h3>\\n              <pre><code class=\"language-java\">try (java.util.Scanner s = new java.util.Scanner(new java.net.URL(\"https://api.ipify.org\").openStream(), \"UTF-8\").useDelimiter(\"\\\\\\\\A\")) {\\n    System.out.println(\"My current IP address is \" + s.next());\\n} catch (java.io.IOException e) {\\n    e.printStackTrace();\\n}\\n</code></pre>\\n\\n              <h3>Perl</h3>\\n              <pre><code class=\"language-perl\">use strict;\\nuse warnings;\\nuse LWP::UserAgent;\\n\\nmy $ua = new LWP::UserAgent();\\nmy $ip = $ua-&gt;get(\\'https://api.ipify.org\\')-&gt;content;\\nprint \\'My public IP address is: \\'. $ip;</code></pre>\\n\\n              <h3>C#</h3>\\n              <pre><code class=\"language-csharp\">var httpClient = new HttpClient();\\nvar ip = await httpClient.GetStringAsync(\"https://api.ipify.org\");\\nConsole.WriteLine($\"My public IP address is: {ip}\");</code></pre>\\n\\n              <h3>VB.NET</h3>\\n              <pre><code class=\"language-csharp\">Dim httpClient As New System.Net.Http.HttpClient\\nDim ip As String = Await httpClient.GetStringAsync(\"https://api.ipify.org\")\\nConsole.WriteLine($\"My public IP address is: {ip}\")</code></pre>\\n\\n              <h3>NodeJS</h3>\\n              <pre><code class=\"language-javascript\">var http = require(\\'http\\');\\n\\nhttp.get({\\'host\\': \\'api.ipify.org\\', \\'port\\': 80, \\'path\\': \\'/\\'}, function(resp) {\\n  resp.on(\\'data\\', function(ip) {\\n    console.log(\"My public IP address is: \" + ip);\\n  });\\n});</code></pre>\\n\\n              <h3>Go</h3>\\n              <pre><code class=\"language-go\">package main\\n\\nimport (\\n        \"io/ioutil\"\\n        \"net/http\"\\n        \"os\"\\n)\\n\\nfunc main() {\\n        res, _ := http.Get(\"https://api.ipify.org\")\\n        ip, _ := ioutil.ReadAll(res.Body)\\n        os.Stdout.Write(ip)\\n}</code></pre>\\n\\n              <h3>Racket</h3>\\n              <pre><code class=\"language-scheme\">(require net/url)\\n\\n(define ip (port->string (get-pure-port (string->url \"https://api.ipify.org\"))))\\n(printf \"My public IP address is: ~a\" ip)</code></pre>\\n\\n              <h3>Lisp</h3>\\n              <pre><code class=\"language-scheme\">;This example requires the drakma http package installed.\\n;It can be found here: http://www.weitz.de/drakma\\n\\n(let ((stream\\n    (drakma:http-request \"https://api.ipify.org\" :want-stream t)))\\n  (let ((public-ip (read-line stream)))\\n    (format t \"My public IP address is: ~A\" public-ip)))</code></pre>\\n\\n              <h3>Xojo</h3>\\n              <pre><code class=\"language-xojo\">Dim s As New HTTPSecureSocket\\nDim t As String = s.Get(\"https://api.ipify.org\",10)\\nMsgBox \"My public IP Address is: \" + t</code></pre>\\n\\n              <h3>Scala</h3>\\n              <pre><code class=\"language-scala\">val addr = scala.io.Source.fromURL(\"https://api.ipify.org\").mkString\\nprintln(s\"My public IP address is: $addr\")</code></pre>\\n\\n              <h3>Javascript</h3>\\n              <pre><code class=\"language-javascript\">&lt;script type=\"application/javascript\"&gt;\\n  function getIP(json) {\\n    document.write(\"My public IP address is: \", json.ip);\\n  }\\n&lt;/script&gt;\\n\\n&lt;script type=\"application/javascript\" src=\"https://api.ipify.org?format=jsonp&callback=getIP\"&gt;&lt;/script&gt;</code></pre>\\n\\n              <h3>jQuery</h3>\\n              <pre><code class=\"language-javascript\">&lt;script type=\"application/javascript\"&gt;\\n  $(function() {\\n    $.getJSON(\"https://api.ipify.org?format=jsonp&callback=?\",\\n      function(json) {\\n        document.write(\"My public IP address is: \", json.ip);\\n      }\\n    );\\n  });\\n&lt;/script&gt;</code></pre>\\n\\n              <h3>C#</h3>\\n              <pre><code class=\"language-java\">using System;\\nusing System.Net;\\n\\nnamespace Ipify.Examples {\\n    class Program {\\n        public static void Main (string[] args) {\\n            WebClient webClient = new WebClient();\\n            string publicIp = webClient.DownloadString(\"https://api.ipify.org\");\\n            Console.WriteLine(\"My public IP Address is: {0}\", publicIp);\\n        }\\n    }\\n}</code></pre>\\n\\n              <h3>Elixir</h3>\\n              <pre><code class=\"language-elixir\">:inets.start\\n{:ok, {_, _, inet_addr}} = :httpc.request(\\'http://api.ipify.org\\')\\n:inets.stop</code></pre>\\n\\n              <h3>nim</h3>\\n              <pre><code class=\"language-nim\">import HttpClient\\nvar ip = newHttpClient().getContent(\"https://api.ipify.org\")\\necho(\"My public IP address is: \", ip)</code></pre>\\n\\n              <h3>PowerShell</h3>\\n              <pre><code class=\"language-powershell\">$ip = Invoke-RestMethod -Uri \\'https://api.ipify.org?format=json\\'\\n\"My public IP address is: $($ip.ip)\"</code></pre>\\n\\n              <h3>Lua</h3>\\n              <pre><code class=\"language-lua\">http.Fetch(\"https://api.ipify.org\", function(body) print(\"My ip is: \" .. body ) end</code></pre>\\n\\n              <h3>PureBasic</h3>\\n              <pre><code class=\"language-basic\">InitNetwork()\\n*Buffer = ReceiveHTTPMemory(\"https://api.ipify.org?format=json\")\\nIf *Buffer\\n  ParseJSON(0, PeekS(*Buffer, MemorySize(*Buffer), #PB_UTF8))\\n  FreeMemory(*Buffer)\\n  Debug GetJSONString(GetJSONMember(JSONValue(0), \"ip\"))\\nEndIf</code></pre>\\n\\n              <h3>LiveCode</h3>\\n              <pre><code class=\"language-ruby\">put \"My public IP address is\" &amp;&amp; url \"https://api.ipify.org\"</code></pre>\\n\\n              <h3>Objective-C</h3>\\n              <pre><code class=\"objectivec\">NSURL *url = [NSURL URLWithString:@\"https://api.ipify.org/\"];\\nNSString *ipAddress = [NSString stringWithContentsOfURL:url encoding:NSUTF8StringEncoding error:nil];\\nNSLog(@\"My public IP address is: %@\", ipAddress);</code></pre>\\n\\n              <h3>Arduino</h3>\\n              <pre><code class=\"language-clike\">if (client.connect(\"api.ipify.org\", 80)) {\\n    Serial.println(\"connected\");\\n    client.println(\"GET / HTTP/1.0\");\\n    client.println(\"Host: api.ipify.org\");\\n    client.println();\\n} else {\\n    Serial.println(\"connection failed\");\\n}</code></pre>\\n            </div>\\n          </div>\\n        </div>\\n      </div>\\n      <div class=\"libraries row\">\\n        <div class=\"col-xs-12\">\\n          <h2>Libraries</h2>\\n          <div class=\"row\">\\n            <div class=\"col-xs-offset-1 col-xs-10\">\\n              <p>\\n                If you want to use <b>ipify</b> in your favorite programming\\n                language, but want to keep your code nice and tidy, feel free to\\n                use one of our libraries below!  They\\'ll make your life a little\\n                bit easier and more enjoyable =)\\n              </p>\\n              <p>\\n                <b>NOTE</b>: Don\\'t see a library for your favorite programming\\n                language?  If you create one, I\\'ll be happy to link to it below!\\n                Just <a href=\"mailto:r@rdegges.com\">shoot me an email</a> with\\n                the details and I\\'ll gladly link to it!\\n              </p>\\n              <div class=\"table-responsive\">\\n                <table class=\"table table-striped table-bordered table-hover\">\\n                  <thead>\\n                    <tr>\\n                      <td>Library URL</td>\\n                      <td>Language</td>\\n                      <td>Author</td>\\n                      <td>Official?</td>\\n                    </tr>\\n                  </thead>\\n                  <tbody>\\n                    <tr>\\n                      <td><code><a href=\"https://github.com/rdegges/go-ipify\">https://github.com/rdegges/go-ipify</a></code></td>\\n                      <td><code>Go</code></td>\\n                      <td><code><a href=\"http://www.rdegges.com/\">Randall Degges</a></code></td>\\n                      <td><code>yes</code></td>\\n                    </tr>\\n                    <tr>\\n                      <td><code><a href=\"https://github.com/rdegges/python-ipify\">https://github.com/rdegges/python-ipify</a></code></td>\\n                      <td><code>Python</code></td>\\n                      <td><code><a href=\"http://www.rdegges.com/\">Randall Degges</a></code></td>\\n                      <td><code>yes</code></td>\\n                    </tr>\\n                    <tr>\\n                      <td><code><a href=\"https://github.com/xtonousou/ipify.sh\">https://github.com/xtonousou/ipify.sh</a></code></td>\\n                      <td><code>Bash</code></td>\\n                      <td><code><a href=\"https://xtonousou.github.io\">Sotirios M. Roussis</a></code></td>\\n                      <td><code>no</code></td>\\n                    </tr>\\n                    <tr>\\n                      <td><code><a href=\"https://github.com/troglobit/lipify\">https://github.com/troglobit/lipify</a></code></td>\\n                      <td><code>C</code></td>\\n                      <td><code><a href=\"http://troglobit.com/\">Joachim Nilsson</a></code></td>\\n                      <td><code>no</code></td>\\n                    </tr>\\n                    <tr>\\n                      <td><code><a href=\"https://github.com/sideshowcoder/ipify-c\">https://github.com/sideshowcoder/ipify-c</a></code></td>\\n                      <td><code>C</code></td>\\n                      <td><code><a href=\"http://sideshowcoder.com/\">Philipp Fehre</a></code></td>\\n                      <td><code>no</code></td>\\n                    </tr>\\n                    <tr>\\n                      <td><code><a href=\"https://github.com/sindresorhus/ipify\">https://github.com/sindresorhus/ipify</a></code></td>\\n                      <td><code>Node.js</code></td>\\n                      <td><code><a href=\"http://sindresorhus.com/\">Sindre Sorhus</a></code></td>\\n                      <td><code>no</code></td>\\n                    </tr>\\n                    <tr>\\n                      <td><code><a href=\"https://bitbucket.org/stevenjeffries/java-ipify\">https://bitbucket.org/stevenjeffries/java-ipify</a></code></td>\\n                      <td><code>Java</code></td>\\n                      <td><code><a href=\"https://bitbucket.org/stevenjeffries\">Steven Jeffries</a></code></td>\\n                      <td><code>no</code></td>\\n                    </tr>\\n                    <tr>\\n                      <td><code><a href=\"https://github.com/vincent-peng/swift-ipify\">https://github.com/vincent-peng/swift-ipify</a></code></td>\\n                      <td><code>Swift</code></td>\\n                      <td><code><a href=\"https://github.com/vincent-peng\">Vincent Peng</a></code></td>\\n                      <td><code>no</code></td>\\n                    </tr>\\n                    <tr>\\n                      <td><code><a href=\"https://github.com/gabulyaz/elixir-ipify\">https://github.com/gabulyaz/elixir-ipify</a></code></td>\\n                      <td><code>Elixir</code></td>\\n                      <td><code><a href=\"https://github.com/gabulyaz\">Zolt\\xc3\\xa1n Gabulya</a></code></td>\\n                      <td><code>no</code></td>\\n                    </tr>\\n                    <tr>\\n                      <td><code><a href=\"https://github.com/benjamin-smith/php-ipify\">https://github.com/benjamin-smith/php-ipify</a></code></td>\\n                      <td><code>PHP</code></td>\\n                      <td><code><a href=\"http://benjaminsmith.com/\">Benjamin Smith</a></code></td>\\n                      <td><code>no</code></td>\\n                    </tr>\\n                    <tr>\\n                      <td><code><a href=\"https://github.com/gregce/ipify\">https://github.com/gregce/ipify</a></code></td>\\n                      <td><code>R</code></td>\\n                      <td><code><a href=\"https://github.com/gregce\">Greg Ceccarelli</a></code></td>\\n                      <td><code>no</code></td>\\n                    </tr>\\n                    <tr>\\n                      <td><code><a href=\"https://github.com/aprendexojo/ipify\">https://github.com/aprendexojo/ipify</a></code></td>\\n                      <td><code>Xojo</code></td>\\n                      <td><code><a href=\"https://www.aprendexojo.com/\">Javier Rodriguez </a></code></td>\\n                      <td><code>no</code></td>\\n                    </tr>\\n                    <tr>\\n                      <td><code><a href=\"https://github.com/Chuongv/CHVIpify\">https://github.com/Chuongv/CHVIpify</a></code></td>\\n                      <td><code>Objective-C</code></td>\\n                      <td><code><a href=\"https://chuongv.github.io/\">Chuong Vu</a></code></td>\\n                      <td><code>no</code></td>\\n                    </tr>\\n                    <tr>\\n                      <td><code><a href=\"https://github.com/davidmus/Ipify.NET\">https://github.com/davidmus/Ipify.NET</a></code></td>\\n                      <td><code>.NET</code></td>\\n                      <td><code><a href=\"https://github.com/davidmus\">David Musgrove</a></code></td>\\n                      <td><code>no</code></td>\\n                    </tr>\\n                    <tr>\\n                      <td><code><a href=\"https://github.com/mauricioabreu/crystal-ipify\">https://github.com/mauricioabreu/crystal-ipify</a></code></td>\\n                      <td><code>Crystal</code></td>\\n                      <td><code><a href=\"https://github.com/mauricioabreu\">Mauricio de Abreu Antunes</a></code></td>\\n                      <td><code>no</code></td>\\n                    </tr>\\n                    <tr>\\n                      <td><code><a href=\"https://github.com/Borkason/ipify\">https://github.com/Borkason/ipify</a></code></td>\\n                      <td><code>Rust</code></td>\\n                      <td><code><a href=\"https://github.com/Borkason\">Daniel Niccoli</a></code></td>\\n                      <td><code>no</code></td>\\n                    </tr>\\n                    <tr>\\n                      <td><code><a href=\"https://github.com/coldnew/ipify.clj\">https://github.com/coldnew/ipify.clj</a></code></td>\\n                      <td><code>Clojurescript</code></td>\\n                      <td><code><a href=\"https://github.com/coldnew\">Yen-Chin Lee</a></code></td>\\n                      <td><code>no</code></td>\\n                    </tr>\\n                  </tbody>\\n                </table>\\n              </div>\\n            </div>\\n          </div>\\n        </div>\\n      </div>\\n      <footer>\\n        <p>\\n          Built with &#10084; by <a href=\"http://www.rdegges.com/\"\\n            title=\"Randall Degges\">Randall Degges</a> (<a\\n            href=\"https://twitter.com/rdegges\" title=\"Randall Degges on\\n            Twitter\">@rdegges</a>). Logo by <a\\n            href=\"http://www.samanthadegges.com/\" title=\"Samantha\\n            Degges\">Samantha Degges</a> (<a\\n            href=\"https://twitter.com/samanthadegges\" title=\"Samantha Degges on\\n            Twitter\">@samanthadegges</a>).\\n        </p>\\n      </footer>\\n    </div>\\n    <script src=\"/static/js/bootstrap.min.js\"></script>\\n    <script src=\"/static/js/prism.js\" data-manual></script>\\n    <script src=\"https://maxcdn.bootstrapcdn.com/bootstrap/3.3.4/js/bootstrap.min.js\"></script>\\n    <script>\\n      (function(i,s,o,g,r,a,m){i[\\'GoogleAnalyticsObject\\']=r;i[r]=i[r]||function(){\\n      (i[r].q=i[r].q||[]).push(arguments)},i[r].l=1*new Date();a=s.createElement(o),\\n      m=s.getElementsByTagName(o)[0];a.async=1;a.src=g;m.parentNode.insertBefore(a,m)\\n      })(window,document,\\'script\\',\\'//www.google-analytics.com/analytics.js\\',\\'ga\\');\\n      ga(\\'create\\', \\'UA-11364428-26\\', \\'ipify.org\\');\\n      ga(\\'send\\', \\'pageview\\');\\n    </script>\\n    <div style=\"display:none;\"><img src=\"https://www.linkedin.com/profile/view?authToken=zRgB&authType=name&id=320347190\"/></div>\\n  </body>\\n</html>\\n'"
      ]
     },
     "execution_count": 4,
     "metadata": {},
     "output_type": "execute_result"
    }
   ],
   "source": [
    "res.content"
   ]
  },
  {
   "cell_type": "code",
   "execution_count": 5,
   "metadata": {},
   "outputs": [
    {
     "data": {
      "text/plain": [
       "'<!DOCTYPE html>\\n<html lang=\"en\">\\n  <head>\\n    <meta charset=\"utf-8\">\\n    <meta http-equiv=\"X-UA-Compatible\" content=\"IE=edge\">\\n    <meta name=\"viewport\" content=\"width=device-width, initial-scale=1\">\\n    <title>ipify - A Simple Public IP Address API</title>\\n    <meta name=\"description\" content=\"ipify is a simple public IP address API, easy enough to integrate into any application in seconds.\">\\n    <link rel=\"stylesheet\" href=\"https://maxcdn.bootstrapcdn.com/bootstrap/3.3.4/css/bootstrap.min.css\">\\n    <link href=\"https://fonts.googleapis.com/css?family=Raleway\" rel=\"stylesheet\">\\n\\n    <!--[if lt IE 9]>\\n      <script src=\"https://oss.maxcdn.com/html5shiv/3.7.2/html5shiv.min.js\"></script>\\n      <script src=\"https://oss.maxcdn.com/respond/1.4.2/respond.min.js\"></script>\\n    <![endif]-->\\n    <link href=\"/static/css/prism.css\" rel=\"stylesheet\" type=\"text/css\">\\n    <link href=\"/static/css/style.css\" rel=\"stylesheet\" type=\"text/css\">\\n    <link rel=\"apple-touch-icon\" sizes=\"57x57\" href=\"/static/images/apple-icon-57x57.png\">\\n    <link rel=\"apple-touch-icon\" sizes=\"60x60\" href=\"/static/images/apple-icon-60x60.png\">\\n    <link rel=\"apple-touch-icon\" sizes=\"72x72\" href=\"/static/images/apple-icon-72x72.png\">\\n    <link rel=\"apple-touch-icon\" sizes=\"76x76\" href=\"/static/images/apple-icon-76x76.png\">\\n    <link rel=\"apple-touch-icon\" sizes=\"114x114\" href=\"/static/images/apple-icon-114x114.png\">\\n    <link rel=\"apple-touch-icon\" sizes=\"120x120\" href=\"/static/images/apple-icon-120x120.png\">\\n    <link rel=\"apple-touch-icon\" sizes=\"144x144\" href=\"/static/images/apple-icon-144x144.png\">\\n    <link rel=\"apple-touch-icon\" sizes=\"152x152\" href=\"/static/images/apple-icon-152x152.png\">\\n    <link rel=\"apple-touch-icon\" sizes=\"180x180\" href=\"/static/images/apple-icon-180x180.png\">\\n    <link rel=\"icon\" type=\"image/png\" sizes=\"192x192\"  href=\"/static/images/android-icon-192x192.png\">\\n    <link rel=\"icon\" type=\"image/png\" sizes=\"32x32\" href=\"/static/images/favicon-32x32.png\">\\n    <link rel=\"icon\" type=\"image/png\" sizes=\"96x96\" href=\"/static/images/favicon-96x96.png\">\\n    <link rel=\"icon\" type=\"image/png\" sizes=\"16x16\" href=\"/static/images/favicon-16x16.png\">\\n    <meta name=\"msapplication-TileColor\" content=\"#ffffff\">\\n    <meta name=\"msapplication-TileImage\" content=\"/static/images/ms-icon-144x144.png\">\\n    <meta name=\"theme-color\" content=\"#ffffff\">\\n    <script src=\"https://ajax.googleapis.com/ajax/libs/jquery/1.11.2/jquery.min.js\"></script>\\n  </head>\\n  <body>\\n    <div class=\"container\">\\n      <header>\\n        <a href=\"/\" title=\"ipify - A Simple IP Address API\">\\n          <div class=\"row\">\\n            <div class=\"col-xs-offset-2 col-xs-4 col-sm-offset-3 col-sm-3 col-md-offset-2 col-md-2\">\\n              <img alt=\"ipify logo (a globe sketch)\" src=\"/static/images/globe.png\" height=\"120\" width=\"100\">\\n            </div>\\n            <div class=\"col-xs-4 col-sm-6 col-md-8\">\\n              <div>\\n                <h1>ipify</h1>\\n                <h2 class=\"hidden-xs hidden-sm\">A Simple Public IP Address API</h2>\\n              </div>\\n            </div>\\n          </div>\\n        </a>\\n        <script>\\n          /*\\n           * This script will dynamically fetch the current user\\'s public IP\\n           * using the ipify API service.  It will then display it as the code\\n           * sample in the main entry block users see.  Once this is done, we\\'ll\\n           * also enable syntax highlighting on the page to make all the code\\n           * samples look pretty =)\\n           */\\n          $(function() {\\n            $.getJSON(\\n              \\'https://api.ipify.org?format=jsonp&callback=?\\',\\n              function (data) {\\n                $(\".ipdata\").text(\\'{\"ip\":\"\\' + data.ip + \\'\"}\\');\\n                Prism.highlightAll();\\n              }\\n            );\\n          });\\n        </script>\\n      </header>\\n      <div class=\"try row\">\\n        <div class=\"col-sm-offset-2 col-sm-8\">\\n          <div class=\"jumbotron\">\\n            <p>\\n              Want to get started right away? Don\\'t wait, run the code sample\\n              below in your terminal and check it out!\\n            </p>\\n            <pre><code class=\"language-bash\">$ curl \\'https://api.ipify.org?format=json\\'<br/>\\n<span class=\"ipdata\"></span></code></pre>\\n          </div>\\n        </div>\\n      </div>\\n      <div class=\"why row\">\\n        <div class=\"col-xs-12\">\\n          <h2>Why?</h2>\\n          <div class=\"row\">\\n            <div class=\"col-xs-offset-1 col-xs-10\">\\n              <p>\\n                Ever needed to get your public IP address <i>programmatically</i>?  Maybe\\n                you\\'re provisioning new cloud servers and need to know your IP --\\n                maybe you\\'re behind a corporate firewall and need to tunnel\\n                information -- whatever the reason: sometimes having a public IP\\n                address API is useful!\\n              </p>\\n              <p>\\n                You should use <b>ipify</b> because:\\n                <ul id=\"features\">\\n                  <li>\\n                    You can use it <i>without limit</i> (even if you\\'re doing\\n                    millions of requests per minute).\\n                  </li>\\n                  <li>\\n                    It\\'s always online and available, and its infrastructure is\\n                    powered by <a href=\"https://www.heroku.com/\" title=\"Heroku\">Heroku</a>,\\n                    which means that regardless of whether the server running the API\\n                    dies, or if there\\'s an enormous tornado which destroys half of\\n                    the east coast, <b>ipify</b> will still be running!\\n                  </li>\\n                  <li>\\n                    It works flawlessly with both IPv4 <i>and</i> IPv6 addresses, so\\n                    no matter what sort of technology you\\'re using, there won\\'t be\\n                    issues.\\n                  </li>\\n                  <li>\\n                    <b>ipify</b> is completely open source (check out the\\n                    <a href=\"https://github.com/rdegges/ipify-api\" title=\"ipify on GitHub\">GitHub repository</a>).\\n                  </li>\\n                  <li>\\n                    No visitor information is ever logged.  Period.\\n                  </li>\\n                  <li>\\n                    Lastly, <b>ipify</b> is funded by\\n                    <a href=\"http://www.rdegges.com/\" title=\"Randall Degges\">Randall Degges</a>,\\n                    so there\\'s no need to worry about the domain name disappearing\\n                    in three years or anything like that: <b>ipify</b> is here to\\n                    stay!\\n                  </li>\\n                </ul>\\n              </p>\\n            </div>\\n          </div>\\n        </div>\\n      </div>\\n      <div class=\"api row\">\\n        <div class=\"col-xs-12\">\\n          <h2>API Usage</h2>\\n          <div class=\"row\">\\n            <div class=\"col-xs-offset-1 col-xs-10\">\\n              <p>\\n                Using <b>ipify</b> is ridiculously simple.  You have three options.\\n                You can get your public IP directly (in plain text), you can get your\\n                public IP in JSON format, or you can get your public IP information in\\n                JSONP format (useful for Javascript developers).\\n              </p>\\n              <div class=\"table-responsive\">\\n                <table class=\"table table-striped table-bordered table-hover\">\\n                  <thead>\\n                    <tr>\\n                      <td>API URI</td>\\n                      <td>Response Type</td>\\n                      <td>Sample Output (IPv4)</td>\\n                      <td>Sample Output (IPv6)</td>\\n                    </tr>\\n                  </thead>\\n                  <tbody>\\n                    <tr>\\n                      <td><code>https://api.ipify.org</code></td>\\n                      <td><code>text</code></td>\\n                      <td><code>98.207.254.136</code></td>\\n                      <td><code>?</code></td>\\n                    </tr>\\n                    <tr>\\n                      <td><code>https://api.ipify.org?format=json</code></td>\\n                      <td><code>json</code></td>\\n                      <td><code>{\"ip\":\"98.207.254.136\"}</code></td>\\n                      <td><code>?</code></td>\\n                    </tr>\\n                    <tr>\\n                      <td><code>https://api.ipify.org?format=jsonp</code></td>\\n                      <td><code>jsonp</code></td>\\n                      <td><code>callback({\"ip\":\"98.207.254.136\"});</code></td>\\n                      <td><code>?</code></td>\\n                    </tr>\\n                    <tr>\\n                      <td><code>https://api.ipify.org?format=jsonp&callback=getip</code></td>\\n                      <td><code>jsonp</code></td>\\n                      <td><code>getip({\"ip\":\"98.207.254.136\"});</code></td>\\n                      <td><code>?</code></td>\\n                    </tr>\\n                  </tbody>\\n                </table>\\n              </div>\\n            </div>\\n          </div>\\n        </div>\\n      </div>\\n      <div class=\"examples row\">\\n        <div class=\"col-xs-12\">\\n          <h2>Examples</h2>\\n          <div class=\"row\">\\n            <div class=\"col-xs-offset-1 col-xs-10\">\\n              <p>\\n                This section contains some common usage patterns from a variety of\\n                programming languages.  Want something included that isn\\'t listed\\n                here?\\n                <a href=\"mailto:r@rdegges.com\" title=\"Randall Degges\\' Email\">Email me!</a>\\n              </p>\\n              <h3>Bash</h3>\\n              <pre><code class=\"language-bash\">#!/bin/bash\\n\\nip=$(curl -s https://api.ipify.org)\\necho \"My public IP address is: $ip\"</code></pre>\\n\\n              <h3>NGS (Next Generation Shell)</h3>\\n              <pre><code class=\"language-bash\">ip=`curl -s https://api.ipify.org`\\necho(\"My public IP address is: $ip\")</code></pre>\\n\\n              <h3>Python</h3>\\n              <pre><code class=\"language-python\"># This example requires the requests library be installed.  You can learn more\\n# about the Requests library here: http://docs.python-requests.org/en/latest/\\nfrom requests import get\\n\\nip = get(\\'https://api.ipify.org\\').text\\nprint(\\'My public IP address is: {}\\'.format(ip))</code></pre>\\n\\n              <h3>Ruby</h3>\\n              <pre><code class=\"language-ruby\">require \"net/http\"\\n\\nip = Net::HTTP.get(URI(\"https://api.ipify.org\"))\\nputs \"My public IP Address is: \" + ip</code></pre>\\n\\n              <h3>PHP</h3>\\n              <pre><code class=\"language-php\">&lt;?php\\n    $ip = file_get_contents(\\'https://api.ipify.org\\');\\n    echo \"My public IP address is: \" . $ip;\\n?&gt;</code></pre>\\n\\n              <h3>Java</h3>\\n              <pre><code class=\"language-java\">try (java.util.Scanner s = new java.util.Scanner(new java.net.URL(\"https://api.ipify.org\").openStream(), \"UTF-8\").useDelimiter(\"\\\\\\\\A\")) {\\n    System.out.println(\"My current IP address is \" + s.next());\\n} catch (java.io.IOException e) {\\n    e.printStackTrace();\\n}\\n</code></pre>\\n\\n              <h3>Perl</h3>\\n              <pre><code class=\"language-perl\">use strict;\\nuse warnings;\\nuse LWP::UserAgent;\\n\\nmy $ua = new LWP::UserAgent();\\nmy $ip = $ua-&gt;get(\\'https://api.ipify.org\\')-&gt;content;\\nprint \\'My public IP address is: \\'. $ip;</code></pre>\\n\\n              <h3>C#</h3>\\n              <pre><code class=\"language-csharp\">var httpClient = new HttpClient();\\nvar ip = await httpClient.GetStringAsync(\"https://api.ipify.org\");\\nConsole.WriteLine($\"My public IP address is: {ip}\");</code></pre>\\n\\n              <h3>VB.NET</h3>\\n              <pre><code class=\"language-csharp\">Dim httpClient As New System.Net.Http.HttpClient\\nDim ip As String = Await httpClient.GetStringAsync(\"https://api.ipify.org\")\\nConsole.WriteLine($\"My public IP address is: {ip}\")</code></pre>\\n\\n              <h3>NodeJS</h3>\\n              <pre><code class=\"language-javascript\">var http = require(\\'http\\');\\n\\nhttp.get({\\'host\\': \\'api.ipify.org\\', \\'port\\': 80, \\'path\\': \\'/\\'}, function(resp) {\\n  resp.on(\\'data\\', function(ip) {\\n    console.log(\"My public IP address is: \" + ip);\\n  });\\n});</code></pre>\\n\\n              <h3>Go</h3>\\n              <pre><code class=\"language-go\">package main\\n\\nimport (\\n        \"io/ioutil\"\\n        \"net/http\"\\n        \"os\"\\n)\\n\\nfunc main() {\\n        res, _ := http.Get(\"https://api.ipify.org\")\\n        ip, _ := ioutil.ReadAll(res.Body)\\n        os.Stdout.Write(ip)\\n}</code></pre>\\n\\n              <h3>Racket</h3>\\n              <pre><code class=\"language-scheme\">(require net/url)\\n\\n(define ip (port->string (get-pure-port (string->url \"https://api.ipify.org\"))))\\n(printf \"My public IP address is: ~a\" ip)</code></pre>\\n\\n              <h3>Lisp</h3>\\n              <pre><code class=\"language-scheme\">;This example requires the drakma http package installed.\\n;It can be found here: http://www.weitz.de/drakma\\n\\n(let ((stream\\n    (drakma:http-request \"https://api.ipify.org\" :want-stream t)))\\n  (let ((public-ip (read-line stream)))\\n    (format t \"My public IP address is: ~A\" public-ip)))</code></pre>\\n\\n              <h3>Xojo</h3>\\n              <pre><code class=\"language-xojo\">Dim s As New HTTPSecureSocket\\nDim t As String = s.Get(\"https://api.ipify.org\",10)\\nMsgBox \"My public IP Address is: \" + t</code></pre>\\n\\n              <h3>Scala</h3>\\n              <pre><code class=\"language-scala\">val addr = scala.io.Source.fromURL(\"https://api.ipify.org\").mkString\\nprintln(s\"My public IP address is: $addr\")</code></pre>\\n\\n              <h3>Javascript</h3>\\n              <pre><code class=\"language-javascript\">&lt;script type=\"application/javascript\"&gt;\\n  function getIP(json) {\\n    document.write(\"My public IP address is: \", json.ip);\\n  }\\n&lt;/script&gt;\\n\\n&lt;script type=\"application/javascript\" src=\"https://api.ipify.org?format=jsonp&callback=getIP\"&gt;&lt;/script&gt;</code></pre>\\n\\n              <h3>jQuery</h3>\\n              <pre><code class=\"language-javascript\">&lt;script type=\"application/javascript\"&gt;\\n  $(function() {\\n    $.getJSON(\"https://api.ipify.org?format=jsonp&callback=?\",\\n      function(json) {\\n        document.write(\"My public IP address is: \", json.ip);\\n      }\\n    );\\n  });\\n&lt;/script&gt;</code></pre>\\n\\n              <h3>C#</h3>\\n              <pre><code class=\"language-java\">using System;\\nusing System.Net;\\n\\nnamespace Ipify.Examples {\\n    class Program {\\n        public static void Main (string[] args) {\\n            WebClient webClient = new WebClient();\\n            string publicIp = webClient.DownloadString(\"https://api.ipify.org\");\\n            Console.WriteLine(\"My public IP Address is: {0}\", publicIp);\\n        }\\n    }\\n}</code></pre>\\n\\n              <h3>Elixir</h3>\\n              <pre><code class=\"language-elixir\">:inets.start\\n{:ok, {_, _, inet_addr}} = :httpc.request(\\'http://api.ipify.org\\')\\n:inets.stop</code></pre>\\n\\n              <h3>nim</h3>\\n              <pre><code class=\"language-nim\">import HttpClient\\nvar ip = newHttpClient().getContent(\"https://api.ipify.org\")\\necho(\"My public IP address is: \", ip)</code></pre>\\n\\n              <h3>PowerShell</h3>\\n              <pre><code class=\"language-powershell\">$ip = Invoke-RestMethod -Uri \\'https://api.ipify.org?format=json\\'\\n\"My public IP address is: $($ip.ip)\"</code></pre>\\n\\n              <h3>Lua</h3>\\n              <pre><code class=\"language-lua\">http.Fetch(\"https://api.ipify.org\", function(body) print(\"My ip is: \" .. body ) end</code></pre>\\n\\n              <h3>PureBasic</h3>\\n              <pre><code class=\"language-basic\">InitNetwork()\\n*Buffer = ReceiveHTTPMemory(\"https://api.ipify.org?format=json\")\\nIf *Buffer\\n  ParseJSON(0, PeekS(*Buffer, MemorySize(*Buffer), #PB_UTF8))\\n  FreeMemory(*Buffer)\\n  Debug GetJSONString(GetJSONMember(JSONValue(0), \"ip\"))\\nEndIf</code></pre>\\n\\n              <h3>LiveCode</h3>\\n              <pre><code class=\"language-ruby\">put \"My public IP address is\" &amp;&amp; url \"https://api.ipify.org\"</code></pre>\\n\\n              <h3>Objective-C</h3>\\n              <pre><code class=\"objectivec\">NSURL *url = [NSURL URLWithString:@\"https://api.ipify.org/\"];\\nNSString *ipAddress = [NSString stringWithContentsOfURL:url encoding:NSUTF8StringEncoding error:nil];\\nNSLog(@\"My public IP address is: %@\", ipAddress);</code></pre>\\n\\n              <h3>Arduino</h3>\\n              <pre><code class=\"language-clike\">if (client.connect(\"api.ipify.org\", 80)) {\\n    Serial.println(\"connected\");\\n    client.println(\"GET / HTTP/1.0\");\\n    client.println(\"Host: api.ipify.org\");\\n    client.println();\\n} else {\\n    Serial.println(\"connection failed\");\\n}</code></pre>\\n            </div>\\n          </div>\\n        </div>\\n      </div>\\n      <div class=\"libraries row\">\\n        <div class=\"col-xs-12\">\\n          <h2>Libraries</h2>\\n          <div class=\"row\">\\n            <div class=\"col-xs-offset-1 col-xs-10\">\\n              <p>\\n                If you want to use <b>ipify</b> in your favorite programming\\n                language, but want to keep your code nice and tidy, feel free to\\n                use one of our libraries below!  They\\'ll make your life a little\\n                bit easier and more enjoyable =)\\n              </p>\\n              <p>\\n                <b>NOTE</b>: Don\\'t see a library for your favorite programming\\n                language?  If you create one, I\\'ll be happy to link to it below!\\n                Just <a href=\"mailto:r@rdegges.com\">shoot me an email</a> with\\n                the details and I\\'ll gladly link to it!\\n              </p>\\n              <div class=\"table-responsive\">\\n                <table class=\"table table-striped table-bordered table-hover\">\\n                  <thead>\\n                    <tr>\\n                      <td>Library URL</td>\\n                      <td>Language</td>\\n                      <td>Author</td>\\n                      <td>Official?</td>\\n                    </tr>\\n                  </thead>\\n                  <tbody>\\n                    <tr>\\n                      <td><code><a href=\"https://github.com/rdegges/go-ipify\">https://github.com/rdegges/go-ipify</a></code></td>\\n                      <td><code>Go</code></td>\\n                      <td><code><a href=\"http://www.rdegges.com/\">Randall Degges</a></code></td>\\n                      <td><code>yes</code></td>\\n                    </tr>\\n                    <tr>\\n                      <td><code><a href=\"https://github.com/rdegges/python-ipify\">https://github.com/rdegges/python-ipify</a></code></td>\\n                      <td><code>Python</code></td>\\n                      <td><code><a href=\"http://www.rdegges.com/\">Randall Degges</a></code></td>\\n                      <td><code>yes</code></td>\\n                    </tr>\\n                    <tr>\\n                      <td><code><a href=\"https://github.com/xtonousou/ipify.sh\">https://github.com/xtonousou/ipify.sh</a></code></td>\\n                      <td><code>Bash</code></td>\\n                      <td><code><a href=\"https://xtonousou.github.io\">Sotirios M. Roussis</a></code></td>\\n                      <td><code>no</code></td>\\n                    </tr>\\n                    <tr>\\n                      <td><code><a href=\"https://github.com/troglobit/lipify\">https://github.com/troglobit/lipify</a></code></td>\\n                      <td><code>C</code></td>\\n                      <td><code><a href=\"http://troglobit.com/\">Joachim Nilsson</a></code></td>\\n                      <td><code>no</code></td>\\n                    </tr>\\n                    <tr>\\n                      <td><code><a href=\"https://github.com/sideshowcoder/ipify-c\">https://github.com/sideshowcoder/ipify-c</a></code></td>\\n                      <td><code>C</code></td>\\n                      <td><code><a href=\"http://sideshowcoder.com/\">Philipp Fehre</a></code></td>\\n                      <td><code>no</code></td>\\n                    </tr>\\n                    <tr>\\n                      <td><code><a href=\"https://github.com/sindresorhus/ipify\">https://github.com/sindresorhus/ipify</a></code></td>\\n                      <td><code>Node.js</code></td>\\n                      <td><code><a href=\"http://sindresorhus.com/\">Sindre Sorhus</a></code></td>\\n                      <td><code>no</code></td>\\n                    </tr>\\n                    <tr>\\n                      <td><code><a href=\"https://bitbucket.org/stevenjeffries/java-ipify\">https://bitbucket.org/stevenjeffries/java-ipify</a></code></td>\\n                      <td><code>Java</code></td>\\n                      <td><code><a href=\"https://bitbucket.org/stevenjeffries\">Steven Jeffries</a></code></td>\\n                      <td><code>no</code></td>\\n                    </tr>\\n                    <tr>\\n                      <td><code><a href=\"https://github.com/vincent-peng/swift-ipify\">https://github.com/vincent-peng/swift-ipify</a></code></td>\\n                      <td><code>Swift</code></td>\\n                      <td><code><a href=\"https://github.com/vincent-peng\">Vincent Peng</a></code></td>\\n                      <td><code>no</code></td>\\n                    </tr>\\n                    <tr>\\n                      <td><code><a href=\"https://github.com/gabulyaz/elixir-ipify\">https://github.com/gabulyaz/elixir-ipify</a></code></td>\\n                      <td><code>Elixir</code></td>\\n                      <td><code><a href=\"https://github.com/gabulyaz\">ZoltÃ¡n Gabulya</a></code></td>\\n                      <td><code>no</code></td>\\n                    </tr>\\n                    <tr>\\n                      <td><code><a href=\"https://github.com/benjamin-smith/php-ipify\">https://github.com/benjamin-smith/php-ipify</a></code></td>\\n                      <td><code>PHP</code></td>\\n                      <td><code><a href=\"http://benjaminsmith.com/\">Benjamin Smith</a></code></td>\\n                      <td><code>no</code></td>\\n                    </tr>\\n                    <tr>\\n                      <td><code><a href=\"https://github.com/gregce/ipify\">https://github.com/gregce/ipify</a></code></td>\\n                      <td><code>R</code></td>\\n                      <td><code><a href=\"https://github.com/gregce\">Greg Ceccarelli</a></code></td>\\n                      <td><code>no</code></td>\\n                    </tr>\\n                    <tr>\\n                      <td><code><a href=\"https://github.com/aprendexojo/ipify\">https://github.com/aprendexojo/ipify</a></code></td>\\n                      <td><code>Xojo</code></td>\\n                      <td><code><a href=\"https://www.aprendexojo.com/\">Javier Rodriguez </a></code></td>\\n                      <td><code>no</code></td>\\n                    </tr>\\n                    <tr>\\n                      <td><code><a href=\"https://github.com/Chuongv/CHVIpify\">https://github.com/Chuongv/CHVIpify</a></code></td>\\n                      <td><code>Objective-C</code></td>\\n                      <td><code><a href=\"https://chuongv.github.io/\">Chuong Vu</a></code></td>\\n                      <td><code>no</code></td>\\n                    </tr>\\n                    <tr>\\n                      <td><code><a href=\"https://github.com/davidmus/Ipify.NET\">https://github.com/davidmus/Ipify.NET</a></code></td>\\n                      <td><code>.NET</code></td>\\n                      <td><code><a href=\"https://github.com/davidmus\">David Musgrove</a></code></td>\\n                      <td><code>no</code></td>\\n                    </tr>\\n                    <tr>\\n                      <td><code><a href=\"https://github.com/mauricioabreu/crystal-ipify\">https://github.com/mauricioabreu/crystal-ipify</a></code></td>\\n                      <td><code>Crystal</code></td>\\n                      <td><code><a href=\"https://github.com/mauricioabreu\">Mauricio de Abreu Antunes</a></code></td>\\n                      <td><code>no</code></td>\\n                    </tr>\\n                    <tr>\\n                      <td><code><a href=\"https://github.com/Borkason/ipify\">https://github.com/Borkason/ipify</a></code></td>\\n                      <td><code>Rust</code></td>\\n                      <td><code><a href=\"https://github.com/Borkason\">Daniel Niccoli</a></code></td>\\n                      <td><code>no</code></td>\\n                    </tr>\\n                    <tr>\\n                      <td><code><a href=\"https://github.com/coldnew/ipify.clj\">https://github.com/coldnew/ipify.clj</a></code></td>\\n                      <td><code>Clojurescript</code></td>\\n                      <td><code><a href=\"https://github.com/coldnew\">Yen-Chin Lee</a></code></td>\\n                      <td><code>no</code></td>\\n                    </tr>\\n                  </tbody>\\n                </table>\\n              </div>\\n            </div>\\n          </div>\\n        </div>\\n      </div>\\n      <footer>\\n        <p>\\n          Built with &#10084; by <a href=\"http://www.rdegges.com/\"\\n            title=\"Randall Degges\">Randall Degges</a> (<a\\n            href=\"https://twitter.com/rdegges\" title=\"Randall Degges on\\n            Twitter\">@rdegges</a>). Logo by <a\\n            href=\"http://www.samanthadegges.com/\" title=\"Samantha\\n            Degges\">Samantha Degges</a> (<a\\n            href=\"https://twitter.com/samanthadegges\" title=\"Samantha Degges on\\n            Twitter\">@samanthadegges</a>).\\n        </p>\\n      </footer>\\n    </div>\\n    <script src=\"/static/js/bootstrap.min.js\"></script>\\n    <script src=\"/static/js/prism.js\" data-manual></script>\\n    <script src=\"https://maxcdn.bootstrapcdn.com/bootstrap/3.3.4/js/bootstrap.min.js\"></script>\\n    <script>\\n      (function(i,s,o,g,r,a,m){i[\\'GoogleAnalyticsObject\\']=r;i[r]=i[r]||function(){\\n      (i[r].q=i[r].q||[]).push(arguments)},i[r].l=1*new Date();a=s.createElement(o),\\n      m=s.getElementsByTagName(o)[0];a.async=1;a.src=g;m.parentNode.insertBefore(a,m)\\n      })(window,document,\\'script\\',\\'//www.google-analytics.com/analytics.js\\',\\'ga\\');\\n      ga(\\'create\\', \\'UA-11364428-26\\', \\'ipify.org\\');\\n      ga(\\'send\\', \\'pageview\\');\\n    </script>\\n    <div style=\"display:none;\"><img src=\"https://www.linkedin.com/profile/view?authToken=zRgB&authType=name&id=320347190\"/></div>\\n  </body>\\n</html>\\n'"
      ]
     },
     "execution_count": 5,
     "metadata": {},
     "output_type": "execute_result"
    }
   ],
   "source": [
    "res.text"
   ]
  },
  {
   "cell_type": "code",
   "execution_count": 12,
   "metadata": {},
   "outputs": [
    {
     "name": "stdout",
     "output_type": "stream",
     "text": [
      "Requirement already satisfied: beautifulsoup4 in /Users/YorkLin/.pyenv/versions/3.6.0/lib/python3.6/site-packages\n",
      "\u001b[33mYou are using pip version 9.0.1, however version 18.0 is available.\n",
      "You should consider upgrading via the 'pip install --upgrade pip' command.\u001b[0m\n",
      "Requirement already satisfied: lxml in /Users/YorkLin/.pyenv/versions/3.6.0/lib/python3.6/site-packages\n",
      "\u001b[33mYou are using pip version 9.0.1, however version 18.0 is available.\n",
      "You should consider upgrading via the 'pip install --upgrade pip' command.\u001b[0m\n"
     ]
    }
   ],
   "source": [
    "!pip install beautifulsoup4\n",
    "!pip install lxml"
   ]
  },
  {
   "cell_type": "code",
   "execution_count": 13,
   "metadata": {},
   "outputs": [],
   "source": [
    "from bs4 import BeautifulSoup"
   ]
  },
  {
   "cell_type": "code",
   "execution_count": 14,
   "metadata": {},
   "outputs": [],
   "source": []
  },
  {
   "cell_type": "code",
   "execution_count": 16,
   "metadata": {},
   "outputs": [],
   "source": [
    "soup = BeautifulSoup(html_doc,'lxml')"
   ]
  },
  {
   "cell_type": "code",
   "execution_count": 18,
   "metadata": {},
   "outputs": [
    {
     "data": {
      "text/plain": [
       "<title>Hello World</title>"
      ]
     },
     "execution_count": 18,
     "metadata": {},
     "output_type": "execute_result"
    }
   ],
   "source": [
    "soup.title"
   ]
  },
  {
   "cell_type": "code",
   "execution_count": 19,
   "metadata": {},
   "outputs": [
    {
     "data": {
      "text/plain": [
       "<p>This is a test.</p>"
      ]
     },
     "execution_count": 19,
     "metadata": {},
     "output_type": "execute_result"
    }
   ],
   "source": [
    "soup.p"
   ]
  },
  {
   "cell_type": "code",
   "execution_count": 20,
   "metadata": {},
   "outputs": [
    {
     "data": {
      "text/plain": [
       "<a href=\"/my_link1\" id=\"link1\">Link 1</a>"
      ]
     },
     "execution_count": 20,
     "metadata": {},
     "output_type": "execute_result"
    }
   ],
   "source": [
    "soup.a"
   ]
  },
  {
   "cell_type": "code",
   "execution_count": 25,
   "metadata": {},
   "outputs": [
    {
     "name": "stdout",
     "output_type": "stream",
     "text": [
      "/my_link1\n",
      "/my_link2\n"
     ]
    }
   ],
   "source": [
    "for a in soup.select('a'):\n",
    "    print(a['href'])"
   ]
  },
  {
   "cell_type": "code",
   "execution_count": 27,
   "metadata": {},
   "outputs": [
    {
     "name": "stdout",
     "output_type": "stream",
     "text": [
      "/my_link1\n",
      "/my_link2\n"
     ]
    }
   ],
   "source": [
    "for a in soup.select('a'):\n",
    "    print(a.get('href'))"
   ]
  },
  {
   "cell_type": "code",
   "execution_count": 31,
   "metadata": {},
   "outputs": [
    {
     "data": {
      "text/plain": [
       "'link1'"
      ]
     },
     "execution_count": 31,
     "metadata": {},
     "output_type": "execute_result"
    }
   ],
   "source": [
    "soup.find('a').get('id')"
   ]
  },
  {
   "cell_type": "code",
   "execution_count": 29,
   "metadata": {},
   "outputs": [
    {
     "data": {
      "text/plain": [
       "[<a href=\"/my_link1\" id=\"link1\">Link 1</a>,\n",
       " <a href=\"/my_link2\" id=\"link2\">Link 2</a>]"
      ]
     },
     "execution_count": 29,
     "metadata": {},
     "output_type": "execute_result"
    }
   ],
   "source": [
    "soup.findAll('a')"
   ]
  },
  {
   "cell_type": "code",
   "execution_count": 32,
   "metadata": {},
   "outputs": [
    {
     "data": {
      "text/plain": [
       "[<b class=\"boldtext\">Bold Text</b>]"
      ]
     },
     "execution_count": 32,
     "metadata": {},
     "output_type": "execute_result"
    }
   ],
   "source": [
    "#取得class\n",
    "soup.select('.boldtext')"
   ]
  },
  {
   "cell_type": "code",
   "execution_count": 33,
   "metadata": {},
   "outputs": [
    {
     "data": {
      "text/plain": [
       "[<a href=\"/my_link1\" id=\"link1\">Link 1</a>]"
      ]
     },
     "execution_count": 33,
     "metadata": {},
     "output_type": "execute_result"
    }
   ],
   "source": [
    "#取得id\n",
    "soup.select('#link1')"
   ]
  },
  {
   "cell_type": "code",
   "execution_count": 38,
   "metadata": {},
   "outputs": [
    {
     "data": {
      "text/plain": [
       "'Bold Text'"
      ]
     },
     "execution_count": 38,
     "metadata": {},
     "output_type": "execute_result"
    }
   ],
   "source": [
    "soup.select('body')[0].select('b')[0].text"
   ]
  },
  {
   "cell_type": "code",
   "execution_count": 40,
   "metadata": {},
   "outputs": [
    {
     "data": {
      "text/plain": [
       "[<b class=\"boldtext\">Bold Text</b>]"
      ]
     },
     "execution_count": 40,
     "metadata": {},
     "output_type": "execute_result"
    }
   ],
   "source": [
    "soup.select('body b')"
   ]
  },
  {
   "cell_type": "code",
   "execution_count": null,
   "metadata": {},
   "outputs": [],
   "source": [
    "soup.select('body > b')"
   ]
  },
  {
   "cell_type": "code",
   "execution_count": 42,
   "metadata": {},
   "outputs": [],
   "source": [
    "url = 'https://www.ptt.cc/bbs/Salary/index2822.html'"
   ]
  },
  {
   "cell_type": "code",
   "execution_count": 44,
   "metadata": {},
   "outputs": [],
   "source": [
    "res = requests.get(url)"
   ]
  },
  {
   "cell_type": "code",
   "execution_count": 47,
   "metadata": {},
   "outputs": [],
   "source": [
    "soup = BeautifulSoup(res.text,'lxml')"
   ]
  },
  {
   "cell_type": "code",
   "execution_count": 53,
   "metadata": {},
   "outputs": [
    {
     "name": "stdout",
     "output_type": "stream",
     "text": [
      "/bbs/Salary/M.1532947202.A.9B3.html\n",
      "/bbs/Salary/M.1532951051.A.15A.html\n",
      "/bbs/Salary/M.1532952783.A.42D.html\n",
      "/bbs/Salary/M.1532954873.A.646.html\n",
      "/bbs/Salary/M.1532956178.A.0C5.html\n",
      "/bbs/Salary/M.1532958457.A.019.html\n",
      "/bbs/Salary/M.1532960045.A.EB6.html\n",
      "/bbs/Salary/M.1532960759.A.11A.html\n",
      "/bbs/Salary/M.1532961085.A.D0F.html\n",
      "/bbs/Salary/M.1532961988.A.0C9.html\n",
      "/bbs/Salary/M.1532964559.A.8AD.html\n",
      "/bbs/Salary/M.1532965347.A.1BF.html\n",
      "/bbs/Salary/M.1532965757.A.B70.html\n",
      "/bbs/Salary/M.1532968086.A.F70.html\n",
      "/bbs/Salary/M.1532990511.A.053.html\n",
      "/bbs/Salary/M.1532992237.A.9DB.html\n",
      "/bbs/Salary/M.1532994767.A.8AE.html\n",
      "/bbs/Salary/M.1532998206.A.5B2.html\n"
     ]
    }
   ],
   "source": [
    "for i in soup.select('.r-ent .title a'):\n",
    "    print(i.get('href'))"
   ]
  },
  {
   "cell_type": "code",
   "execution_count": null,
   "metadata": {},
   "outputs": [],
   "source": []
  }
 ],
 "metadata": {
  "kernelspec": {
   "display_name": "Python 3",
   "language": "python",
   "name": "python3"
  },
  "language_info": {
   "codemirror_mode": {
    "name": "ipython",
    "version": 3
   },
   "file_extension": ".py",
   "mimetype": "text/x-python",
   "name": "python",
   "nbconvert_exporter": "python",
   "pygments_lexer": "ipython3",
   "version": "3.6.0"
  }
 },
 "nbformat": 4,
 "nbformat_minor": 2
}
