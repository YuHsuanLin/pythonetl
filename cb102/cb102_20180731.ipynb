{
 "cells": [
  {
   "cell_type": "code",
   "execution_count": 1,
   "metadata": {},
   "outputs": [],
   "source": [
    "import requests"
   ]
  },
  {
   "cell_type": "code",
   "execution_count": 3,
   "metadata": {},
   "outputs": [],
   "source": [
    "res =requests.get('https://www.ipify.org/')"
   ]
  },
  {
   "cell_type": "code",
   "execution_count": 56,
   "metadata": {},
   "outputs": [],
   "source": [
    "# res.content"
   ]
  },
  {
   "cell_type": "code",
   "execution_count": 57,
   "metadata": {},
   "outputs": [],
   "source": [
    "# res.text"
   ]
  },
  {
   "cell_type": "code",
   "execution_count": 12,
   "metadata": {},
   "outputs": [
    {
     "name": "stdout",
     "output_type": "stream",
     "text": [
      "Requirement already satisfied: beautifulsoup4 in /Users/YorkLin/.pyenv/versions/3.6.0/lib/python3.6/site-packages\n",
      "\u001b[33mYou are using pip version 9.0.1, however version 18.0 is available.\n",
      "You should consider upgrading via the 'pip install --upgrade pip' command.\u001b[0m\n",
      "Requirement already satisfied: lxml in /Users/YorkLin/.pyenv/versions/3.6.0/lib/python3.6/site-packages\n",
      "\u001b[33mYou are using pip version 9.0.1, however version 18.0 is available.\n",
      "You should consider upgrading via the 'pip install --upgrade pip' command.\u001b[0m\n"
     ]
    }
   ],
   "source": [
    "!pip install beautifulsoup4\n",
    "!pip install lxml"
   ]
  },
  {
   "cell_type": "code",
   "execution_count": 13,
   "metadata": {},
   "outputs": [],
   "source": [
    "from bs4 import BeautifulSoup"
   ]
  },
  {
   "cell_type": "code",
   "execution_count": 58,
   "metadata": {},
   "outputs": [],
   "source": [
    "html_doc = \"\"\"\n",
    "<html><head><title>Hello World</title></head>\n",
    "<body><h2>Test Header</h2>\n",
    "<p>This is a test.</p>\n",
    "<a id=\"link1\" href=\"/my_link1\">Link 1</a>\n",
    "<a id=\"link2\" href=\"/my_link2\">Link 2</a>\n",
    "<p>Hello, <b class=\"boldtext\">Bold Text</b></p>\n",
    "</body></html>\n",
    "\"\"\""
   ]
  },
  {
   "cell_type": "code",
   "execution_count": 16,
   "metadata": {},
   "outputs": [],
   "source": [
    "soup = BeautifulSoup(html_doc,'lxml')"
   ]
  },
  {
   "cell_type": "code",
   "execution_count": 18,
   "metadata": {},
   "outputs": [
    {
     "data": {
      "text/plain": [
       "<title>Hello World</title>"
      ]
     },
     "execution_count": 18,
     "metadata": {},
     "output_type": "execute_result"
    }
   ],
   "source": [
    "soup.title"
   ]
  },
  {
   "cell_type": "code",
   "execution_count": 19,
   "metadata": {},
   "outputs": [
    {
     "data": {
      "text/plain": [
       "<p>This is a test.</p>"
      ]
     },
     "execution_count": 19,
     "metadata": {},
     "output_type": "execute_result"
    }
   ],
   "source": [
    "soup.p"
   ]
  },
  {
   "cell_type": "code",
   "execution_count": 20,
   "metadata": {},
   "outputs": [
    {
     "data": {
      "text/plain": [
       "<a href=\"/my_link1\" id=\"link1\">Link 1</a>"
      ]
     },
     "execution_count": 20,
     "metadata": {},
     "output_type": "execute_result"
    }
   ],
   "source": [
    "soup.a"
   ]
  },
  {
   "cell_type": "code",
   "execution_count": 25,
   "metadata": {},
   "outputs": [
    {
     "name": "stdout",
     "output_type": "stream",
     "text": [
      "/my_link1\n",
      "/my_link2\n"
     ]
    }
   ],
   "source": [
    "for a in soup.select('a'):\n",
    "    print(a['href'])"
   ]
  },
  {
   "cell_type": "code",
   "execution_count": 27,
   "metadata": {},
   "outputs": [
    {
     "name": "stdout",
     "output_type": "stream",
     "text": [
      "/my_link1\n",
      "/my_link2\n"
     ]
    }
   ],
   "source": [
    "for a in soup.select('a'):\n",
    "    print(a.get('href'))"
   ]
  },
  {
   "cell_type": "code",
   "execution_count": 31,
   "metadata": {},
   "outputs": [
    {
     "data": {
      "text/plain": [
       "'link1'"
      ]
     },
     "execution_count": 31,
     "metadata": {},
     "output_type": "execute_result"
    }
   ],
   "source": [
    "soup.find('a').get('id')"
   ]
  },
  {
   "cell_type": "code",
   "execution_count": 29,
   "metadata": {},
   "outputs": [
    {
     "data": {
      "text/plain": [
       "[<a href=\"/my_link1\" id=\"link1\">Link 1</a>,\n",
       " <a href=\"/my_link2\" id=\"link2\">Link 2</a>]"
      ]
     },
     "execution_count": 29,
     "metadata": {},
     "output_type": "execute_result"
    }
   ],
   "source": [
    "soup.findAll('a')"
   ]
  },
  {
   "cell_type": "code",
   "execution_count": 32,
   "metadata": {},
   "outputs": [
    {
     "data": {
      "text/plain": [
       "[<b class=\"boldtext\">Bold Text</b>]"
      ]
     },
     "execution_count": 32,
     "metadata": {},
     "output_type": "execute_result"
    }
   ],
   "source": [
    "#取得class\n",
    "soup.select('.boldtext')"
   ]
  },
  {
   "cell_type": "code",
   "execution_count": 33,
   "metadata": {},
   "outputs": [
    {
     "data": {
      "text/plain": [
       "[<a href=\"/my_link1\" id=\"link1\">Link 1</a>]"
      ]
     },
     "execution_count": 33,
     "metadata": {},
     "output_type": "execute_result"
    }
   ],
   "source": [
    "#取得id\n",
    "soup.select('#link1')"
   ]
  },
  {
   "cell_type": "code",
   "execution_count": 38,
   "metadata": {},
   "outputs": [
    {
     "data": {
      "text/plain": [
       "'Bold Text'"
      ]
     },
     "execution_count": 38,
     "metadata": {},
     "output_type": "execute_result"
    }
   ],
   "source": [
    "soup.select('body')[0].select('b')[0].text"
   ]
  },
  {
   "cell_type": "code",
   "execution_count": 40,
   "metadata": {},
   "outputs": [
    {
     "data": {
      "text/plain": [
       "[<b class=\"boldtext\">Bold Text</b>]"
      ]
     },
     "execution_count": 40,
     "metadata": {},
     "output_type": "execute_result"
    }
   ],
   "source": [
    "soup.select('body b')"
   ]
  },
  {
   "cell_type": "markdown",
   "metadata": {},
   "source": [
    "### [ptt列表頁爬蟲]"
   ]
  },
  {
   "cell_type": "code",
   "execution_count": 319,
   "metadata": {},
   "outputs": [],
   "source": [
    "url = 'https://www.ptt.cc/bbs/Salary/index2822.html'"
   ]
  },
  {
   "cell_type": "code",
   "execution_count": 320,
   "metadata": {},
   "outputs": [],
   "source": [
    "res = requests.get(url)"
   ]
  },
  {
   "cell_type": "code",
   "execution_count": 321,
   "metadata": {},
   "outputs": [],
   "source": [
    "soup = BeautifulSoup(res.text,'lxml')"
   ]
  },
  {
   "cell_type": "code",
   "execution_count": 322,
   "metadata": {
    "scrolled": true
   },
   "outputs": [
    {
     "name": "stdout",
     "output_type": "stream",
     "text": [
      "https://www.ptt.cc/bbs/Salary/M.1532947202.A.9B3.html\n",
      "https://www.ptt.cc/bbs/Salary/M.1532951051.A.15A.html\n",
      "https://www.ptt.cc/bbs/Salary/M.1532952783.A.42D.html\n",
      "https://www.ptt.cc/bbs/Salary/M.1532954873.A.646.html\n",
      "https://www.ptt.cc/bbs/Salary/M.1532956178.A.0C5.html\n",
      "https://www.ptt.cc/bbs/Salary/M.1532958457.A.019.html\n",
      "https://www.ptt.cc/bbs/Salary/M.1532960045.A.EB6.html\n",
      "https://www.ptt.cc/bbs/Salary/M.1532960759.A.11A.html\n",
      "https://www.ptt.cc/bbs/Salary/M.1532961085.A.D0F.html\n",
      "https://www.ptt.cc/bbs/Salary/M.1532961988.A.0C9.html\n",
      "https://www.ptt.cc/bbs/Salary/M.1532964559.A.8AD.html\n",
      "https://www.ptt.cc/bbs/Salary/M.1532965347.A.1BF.html\n",
      "https://www.ptt.cc/bbs/Salary/M.1532965757.A.B70.html\n",
      "https://www.ptt.cc/bbs/Salary/M.1532968086.A.F70.html\n",
      "https://www.ptt.cc/bbs/Salary/M.1532990511.A.053.html\n",
      "https://www.ptt.cc/bbs/Salary/M.1532992237.A.9DB.html\n",
      "https://www.ptt.cc/bbs/Salary/M.1532994767.A.8AE.html\n",
      "https://www.ptt.cc/bbs/Salary/M.1532998206.A.5B2.html\n"
     ]
    }
   ],
   "source": [
    "domain = 'https://www.ptt.cc'\n",
    "urls = []\n",
    "for i in soup.select('.r-ent .title a'):\n",
    "    print(domain + i.get('href'))\n",
    "    urls.append(domain + i.get('href'))"
   ]
  },
  {
   "cell_type": "code",
   "execution_count": 323,
   "metadata": {},
   "outputs": [
    {
     "data": {
      "text/plain": [
       "['https://www.ptt.cc/bbs/Salary/M.1532947202.A.9B3.html',\n",
       " 'https://www.ptt.cc/bbs/Salary/M.1532951051.A.15A.html',\n",
       " 'https://www.ptt.cc/bbs/Salary/M.1532952783.A.42D.html',\n",
       " 'https://www.ptt.cc/bbs/Salary/M.1532954873.A.646.html',\n",
       " 'https://www.ptt.cc/bbs/Salary/M.1532956178.A.0C5.html',\n",
       " 'https://www.ptt.cc/bbs/Salary/M.1532958457.A.019.html',\n",
       " 'https://www.ptt.cc/bbs/Salary/M.1532960045.A.EB6.html',\n",
       " 'https://www.ptt.cc/bbs/Salary/M.1532960759.A.11A.html',\n",
       " 'https://www.ptt.cc/bbs/Salary/M.1532961085.A.D0F.html',\n",
       " 'https://www.ptt.cc/bbs/Salary/M.1532961988.A.0C9.html',\n",
       " 'https://www.ptt.cc/bbs/Salary/M.1532964559.A.8AD.html',\n",
       " 'https://www.ptt.cc/bbs/Salary/M.1532965347.A.1BF.html',\n",
       " 'https://www.ptt.cc/bbs/Salary/M.1532965757.A.B70.html',\n",
       " 'https://www.ptt.cc/bbs/Salary/M.1532968086.A.F70.html',\n",
       " 'https://www.ptt.cc/bbs/Salary/M.1532990511.A.053.html',\n",
       " 'https://www.ptt.cc/bbs/Salary/M.1532992237.A.9DB.html',\n",
       " 'https://www.ptt.cc/bbs/Salary/M.1532994767.A.8AE.html',\n",
       " 'https://www.ptt.cc/bbs/Salary/M.1532998206.A.5B2.html']"
      ]
     },
     "execution_count": 323,
     "metadata": {},
     "output_type": "execute_result"
    }
   ],
   "source": [
    "urls"
   ]
  },
  {
   "cell_type": "markdown",
   "metadata": {},
   "source": [
    "### [ ptt內文頁爬蟲 ]"
   ]
  },
  {
   "cell_type": "code",
   "execution_count": 59,
   "metadata": {},
   "outputs": [],
   "source": [
    "url = 'https://www.ptt.cc/bbs/Salary/M.1532954873.A.646.html'"
   ]
  },
  {
   "cell_type": "code",
   "execution_count": 60,
   "metadata": {},
   "outputs": [],
   "source": [
    "res = requests.get(url)"
   ]
  },
  {
   "cell_type": "code",
   "execution_count": 62,
   "metadata": {},
   "outputs": [],
   "source": [
    "soup =BeautifulSoup(res.text,'lxml')"
   ]
  },
  {
   "cell_type": "code",
   "execution_count": 65,
   "metadata": {},
   "outputs": [],
   "source": [
    "meta_list = soup.select('.article-meta-value')"
   ]
  },
  {
   "cell_type": "code",
   "execution_count": 67,
   "metadata": {},
   "outputs": [
    {
     "data": {
      "text/plain": [
       "'SportLeo (阿基里斯)'"
      ]
     },
     "execution_count": 67,
     "metadata": {},
     "output_type": "execute_result"
    }
   ],
   "source": [
    "meta_list[0].text"
   ]
  },
  {
   "cell_type": "markdown",
   "metadata": {},
   "source": [
    "### [ 正規表達法 ]"
   ]
  },
  {
   "cell_type": "code",
   "execution_count": 68,
   "metadata": {},
   "outputs": [],
   "source": [
    "import re"
   ]
  },
  {
   "cell_type": "markdown",
   "metadata": {},
   "source": [
    "```\n",
    ".     -> 萬用字元\n",
    "\\d    -> 0-9\n",
    "\\w    -> a-zA-Z0-9\n",
    "\\W    -> \\n \\t\n",
    "\n",
    "\n",
    "{2}   -> repeat 2 times\n",
    "{1,9} -> repeat min 1 time, max 9 times\n",
    "+ -> greedy repeat 1-N times\n",
    "* -> greedy repeat 0-N times\n",
    "+? -> lazy repeat 1-N times\n",
    "*? -> lazy repeat 0-N times\n",
    "?\n",
    "\n",
    "() -> capture group\n",
    "```"
   ]
  },
  {
   "cell_type": "code",
   "execution_count": null,
   "metadata": {},
   "outputs": [],
   "source": [
    "s = 'york@largitdata.com'"
   ]
  },
  {
   "cell_type": "code",
   "execution_count": 71,
   "metadata": {},
   "outputs": [
    {
     "data": {
      "text/plain": [
       "<_sre.SRE_Match object; span=(0, 19), match='york@largitdata.com'>"
      ]
     },
     "execution_count": 71,
     "metadata": {},
     "output_type": "execute_result"
    }
   ],
   "source": [
    "#\\ escape\n",
    "re.search('\\w+@\\w+\\.\\w+',s)"
   ]
  },
  {
   "cell_type": "code",
   "execution_count": 74,
   "metadata": {},
   "outputs": [
    {
     "data": {
      "text/plain": [
       "('york', 'largitdata.com')"
      ]
     },
     "execution_count": 74,
     "metadata": {},
     "output_type": "execute_result"
    }
   ],
   "source": [
    "re.match('(\\w+)@(\\w+\\.\\w+)',s).groups()"
   ]
  },
  {
   "cell_type": "code",
   "execution_count": 77,
   "metadata": {},
   "outputs": [
    {
     "data": {
      "text/plain": [
       "'york@largitdata.com'"
      ]
     },
     "execution_count": 77,
     "metadata": {},
     "output_type": "execute_result"
    }
   ],
   "source": [
    "re.match('(\\w+)@(\\w+\\.\\w+)',s).group(0)"
   ]
  },
  {
   "cell_type": "code",
   "execution_count": 75,
   "metadata": {},
   "outputs": [
    {
     "data": {
      "text/plain": [
       "'york'"
      ]
     },
     "execution_count": 75,
     "metadata": {},
     "output_type": "execute_result"
    }
   ],
   "source": [
    "re.match('(\\w+)@(\\w+\\.\\w+)',s).group(1)"
   ]
  },
  {
   "cell_type": "code",
   "execution_count": 76,
   "metadata": {},
   "outputs": [
    {
     "data": {
      "text/plain": [
       "'largitdata.com'"
      ]
     },
     "execution_count": 76,
     "metadata": {},
     "output_type": "execute_result"
    }
   ],
   "source": [
    "re.match('(\\w+)@(\\w+\\.\\w+)',s).group(2)"
   ]
  },
  {
   "cell_type": "code",
   "execution_count": 89,
   "metadata": {},
   "outputs": [
    {
     "data": {
      "text/plain": [
       "'SportLeo (阿基里斯)'"
      ]
     },
     "execution_count": 89,
     "metadata": {},
     "output_type": "execute_result"
    }
   ],
   "source": [
    "meta_list[0].text"
   ]
  },
  {
   "cell_type": "code",
   "execution_count": 95,
   "metadata": {},
   "outputs": [
    {
     "data": {
      "text/plain": [
       "('SportLeo', '阿基里斯')"
      ]
     },
     "execution_count": 95,
     "metadata": {},
     "output_type": "execute_result"
    }
   ],
   "source": [
    "re.match('(\\w+) \\((.*)\\)',meta_list[0].text).groups()"
   ]
  },
  {
   "cell_type": "code",
   "execution_count": 96,
   "metadata": {},
   "outputs": [
    {
     "data": {
      "text/plain": [
       "'SportLeo'"
      ]
     },
     "execution_count": 96,
     "metadata": {},
     "output_type": "execute_result"
    }
   ],
   "source": [
    "author_name = re.match('(\\w+) \\((.*)\\)',meta_list[0].text).group(1)\n",
    "author_name"
   ]
  },
  {
   "cell_type": "code",
   "execution_count": 97,
   "metadata": {},
   "outputs": [
    {
     "data": {
      "text/plain": [
       "'阿基里斯'"
      ]
     },
     "execution_count": 97,
     "metadata": {},
     "output_type": "execute_result"
    }
   ],
   "source": [
    "author_nickname = re.match('(\\w+) \\((.*)\\)',meta_list[0].text).group(2)\n",
    "author_nickname"
   ]
  },
  {
   "cell_type": "code",
   "execution_count": 94,
   "metadata": {},
   "outputs": [
    {
     "name": "stdout",
     "output_type": "stream",
     "text": [
      "('SportLeo', '')\n"
     ]
    }
   ],
   "source": [
    "print(re.match('(\\w+) \\((.*)\\)','SportLeo ()').groups())"
   ]
  },
  {
   "cell_type": "code",
   "execution_count": 98,
   "metadata": {},
   "outputs": [],
   "source": [
    "?re"
   ]
  },
  {
   "cell_type": "code",
   "execution_count": 99,
   "metadata": {},
   "outputs": [],
   "source": [
    "?re.match"
   ]
  },
  {
   "cell_type": "code",
   "execution_count": 100,
   "metadata": {},
   "outputs": [],
   "source": [
    "phone = '0987-654-312'"
   ]
  },
  {
   "cell_type": "code",
   "execution_count": 103,
   "metadata": {},
   "outputs": [
    {
     "data": {
      "text/plain": [
       "'0987-654-312'"
      ]
     },
     "execution_count": 103,
     "metadata": {},
     "output_type": "execute_result"
    }
   ],
   "source": [
    "re.match('(\\d+-\\d+-\\d+)',phone).group(1)"
   ]
  },
  {
   "cell_type": "code",
   "execution_count": 104,
   "metadata": {},
   "outputs": [
    {
     "data": {
      "text/plain": [
       "'0987-654-312'"
      ]
     },
     "execution_count": 104,
     "metadata": {},
     "output_type": "execute_result"
    }
   ],
   "source": [
    "re.match('(\\d{4}-\\d{3}-\\d{3})',phone).group(1)"
   ]
  },
  {
   "cell_type": "code",
   "execution_count": 105,
   "metadata": {},
   "outputs": [
    {
     "data": {
      "text/plain": [
       "'0987-654-312'"
      ]
     },
     "execution_count": 105,
     "metadata": {},
     "output_type": "execute_result"
    }
   ],
   "source": [
    "re.match('(\\d{3,5}-\\d{3,4}-\\d{3,4})',phone).group(1)"
   ]
  },
  {
   "cell_type": "code",
   "execution_count": 108,
   "metadata": {},
   "outputs": [],
   "source": [
    "phones = '''0987-654-312','0987654312'''"
   ]
  },
  {
   "cell_type": "code",
   "execution_count": 109,
   "metadata": {},
   "outputs": [
    {
     "data": {
      "text/plain": [
       "['0987-654-312', '0987654312']"
      ]
     },
     "execution_count": 109,
     "metadata": {},
     "output_type": "execute_result"
    }
   ],
   "source": [
    "re.findall('(\\d{4}-?\\d{3}-?\\d{3})',phones)"
   ]
  },
  {
   "cell_type": "code",
   "execution_count": 110,
   "metadata": {},
   "outputs": [
    {
     "data": {
      "text/plain": [
       "'\\n\\\\d{4}\\\\d{3}\\\\d{3} == \\\\d{10}\\n'"
      ]
     },
     "execution_count": 110,
     "metadata": {},
     "output_type": "execute_result"
    }
   ],
   "source": [
    "'''\n",
    "\\d{4}\\d{3}\\d{3} == \\d{10}\n",
    "'''"
   ]
  },
  {
   "cell_type": "code",
   "execution_count": 111,
   "metadata": {},
   "outputs": [],
   "source": [
    "hello = '<em>hello world</em>'"
   ]
  },
  {
   "cell_type": "code",
   "execution_count": 114,
   "metadata": {},
   "outputs": [
    {
     "data": {
      "text/plain": [
       "('em>hello world</em',)"
      ]
     },
     "execution_count": 114,
     "metadata": {},
     "output_type": "execute_result"
    }
   ],
   "source": [
    "re.match('<(.+)>',hello).groups()"
   ]
  },
  {
   "cell_type": "code",
   "execution_count": 115,
   "metadata": {},
   "outputs": [
    {
     "data": {
      "text/plain": [
       "('em',)"
      ]
     },
     "execution_count": 115,
     "metadata": {},
     "output_type": "execute_result"
    }
   ],
   "source": [
    "re.match('<(.+?)>',hello).groups()"
   ]
  },
  {
   "cell_type": "code",
   "execution_count": 143,
   "metadata": {},
   "outputs": [
    {
     "data": {
      "text/plain": [
       "'Salary'"
      ]
     },
     "execution_count": 143,
     "metadata": {},
     "output_type": "execute_result"
    }
   ],
   "source": [
    "board = meta_list[1].text\n",
    "board"
   ]
  },
  {
   "cell_type": "code",
   "execution_count": 144,
   "metadata": {},
   "outputs": [
    {
     "data": {
      "text/plain": [
       "'Re: [問題] 不會會計的會計'"
      ]
     },
     "execution_count": 144,
     "metadata": {},
     "output_type": "execute_result"
    }
   ],
   "source": [
    "title =meta_list[2].text.strip()\n",
    "title"
   ]
  },
  {
   "cell_type": "code",
   "execution_count": 131,
   "metadata": {},
   "outputs": [],
   "source": [
    "q='\\n 1111 \\n'"
   ]
  },
  {
   "cell_type": "code",
   "execution_count": 132,
   "metadata": {},
   "outputs": [
    {
     "data": {
      "text/plain": [
       "'1111'"
      ]
     },
     "execution_count": 132,
     "metadata": {},
     "output_type": "execute_result"
    }
   ],
   "source": [
    "q.strip()"
   ]
  },
  {
   "cell_type": "code",
   "execution_count": 133,
   "metadata": {},
   "outputs": [],
   "source": [
    "q2 = '111 \\t\\t\\t\\t\\t'"
   ]
  },
  {
   "cell_type": "code",
   "execution_count": 134,
   "metadata": {},
   "outputs": [
    {
     "data": {
      "text/plain": [
       "'111'"
      ]
     },
     "execution_count": 134,
     "metadata": {},
     "output_type": "execute_result"
    }
   ],
   "source": [
    "q2.strip()"
   ]
  },
  {
   "cell_type": "code",
   "execution_count": 135,
   "metadata": {},
   "outputs": [],
   "source": [
    "q3 ='111    '"
   ]
  },
  {
   "cell_type": "code",
   "execution_count": 136,
   "metadata": {},
   "outputs": [
    {
     "data": {
      "text/plain": [
       "'111'"
      ]
     },
     "execution_count": 136,
     "metadata": {},
     "output_type": "execute_result"
    }
   ],
   "source": [
    "q3.strip()"
   ]
  },
  {
   "cell_type": "code",
   "execution_count": 137,
   "metadata": {},
   "outputs": [
    {
     "data": {
      "text/plain": [
       "'111'"
      ]
     },
     "execution_count": 137,
     "metadata": {},
     "output_type": "execute_result"
    }
   ],
   "source": [
    "q3.rstrip()"
   ]
  },
  {
   "cell_type": "code",
   "execution_count": 138,
   "metadata": {},
   "outputs": [
    {
     "data": {
      "text/plain": [
       "'111    '"
      ]
     },
     "execution_count": 138,
     "metadata": {},
     "output_type": "execute_result"
    }
   ],
   "source": [
    "q3.lstrip()"
   ]
  },
  {
   "cell_type": "code",
   "execution_count": 145,
   "metadata": {},
   "outputs": [],
   "source": [
    "dt = meta_list[3].text.strip()"
   ]
  },
  {
   "cell_type": "code",
   "execution_count": 146,
   "metadata": {},
   "outputs": [
    {
     "data": {
      "text/plain": [
       "'Mon Jul 30 20:47:51 2018'"
      ]
     },
     "execution_count": 146,
     "metadata": {},
     "output_type": "execute_result"
    }
   ],
   "source": [
    "dt"
   ]
  },
  {
   "cell_type": "markdown",
   "metadata": {},
   "source": [
    "### [ time conversion ]"
   ]
  },
  {
   "cell_type": "code",
   "execution_count": 167,
   "metadata": {},
   "outputs": [],
   "source": [
    "from datetime import datetime,timedelta"
   ]
  },
  {
   "cell_type": "code",
   "execution_count": 148,
   "metadata": {},
   "outputs": [
    {
     "data": {
      "text/plain": [
       "datetime.datetime(2018, 7, 31, 10, 44, 45, 442957)"
      ]
     },
     "execution_count": 148,
     "metadata": {},
     "output_type": "execute_result"
    }
   ],
   "source": [
    "datetime.now()"
   ]
  },
  {
   "cell_type": "markdown",
   "metadata": {},
   "source": [
    "- strptime / strftime\n",
    "- https://docs.python.org/3/library/datetime.html#strftime-and-strptime-behavior"
   ]
  },
  {
   "cell_type": "code",
   "execution_count": 150,
   "metadata": {},
   "outputs": [
    {
     "data": {
      "text/plain": [
       "'2018-07-31'"
      ]
     },
     "execution_count": 150,
     "metadata": {},
     "output_type": "execute_result"
    }
   ],
   "source": [
    "datetime.now().strftime('%Y-%m-%d')"
   ]
  },
  {
   "cell_type": "code",
   "execution_count": 151,
   "metadata": {},
   "outputs": [
    {
     "data": {
      "text/plain": [
       "str"
      ]
     },
     "execution_count": 151,
     "metadata": {},
     "output_type": "execute_result"
    }
   ],
   "source": [
    "type(datetime.now().strftime('%Y-%m-%d'))"
   ]
  },
  {
   "cell_type": "code",
   "execution_count": 153,
   "metadata": {},
   "outputs": [
    {
     "data": {
      "text/plain": [
       "'2018-07-31 10:49:07'"
      ]
     },
     "execution_count": 153,
     "metadata": {},
     "output_type": "execute_result"
    }
   ],
   "source": [
    "datetime.now().strftime('%Y-%m-%d %H:%M:%S')"
   ]
  },
  {
   "cell_type": "code",
   "execution_count": 155,
   "metadata": {},
   "outputs": [],
   "source": [
    "?datetime.strptime"
   ]
  },
  {
   "cell_type": "code",
   "execution_count": 156,
   "metadata": {},
   "outputs": [
    {
     "data": {
      "text/plain": [
       "'Mon Jul 30 20:47:51 2018'"
      ]
     },
     "execution_count": 156,
     "metadata": {},
     "output_type": "execute_result"
    }
   ],
   "source": [
    "dt"
   ]
  },
  {
   "cell_type": "code",
   "execution_count": 158,
   "metadata": {},
   "outputs": [
    {
     "data": {
      "text/plain": [
       "'2018-07-30 20:47:51'"
      ]
     },
     "execution_count": 158,
     "metadata": {},
     "output_type": "execute_result"
    }
   ],
   "source": [
    "datetime.strptime(dt,'%a %b %d %H:%M:%S %Y').strftime('%Y-%m-%d %H:%M:%S')"
   ]
  },
  {
   "cell_type": "code",
   "execution_count": 161,
   "metadata": {},
   "outputs": [
    {
     "data": {
      "text/plain": [
       "1533005807"
      ]
     },
     "execution_count": 161,
     "metadata": {},
     "output_type": "execute_result"
    }
   ],
   "source": [
    "int(datetime.now().timestamp())"
   ]
  },
  {
   "cell_type": "code",
   "execution_count": 166,
   "metadata": {},
   "outputs": [
    {
     "data": {
      "text/plain": [
       "1532954871"
      ]
     },
     "execution_count": 166,
     "metadata": {},
     "output_type": "execute_result"
    }
   ],
   "source": [
    "tm = int(datetime.strptime(dt,'%a %b %d %H:%M:%S %Y').timestamp())\n",
    "tm"
   ]
  },
  {
   "cell_type": "code",
   "execution_count": 178,
   "metadata": {},
   "outputs": [
    {
     "data": {
      "text/plain": [
       "datetime.datetime(2017, 7, 31, 11, 26, 48, 566826)"
      ]
     },
     "execution_count": 178,
     "metadata": {},
     "output_type": "execute_result"
    }
   ],
   "source": [
    "datetime.now() - timedelta(days=365)"
   ]
  },
  {
   "cell_type": "code",
   "execution_count": 183,
   "metadata": {},
   "outputs": [
    {
     "data": {
      "text/plain": [
       "'※ 發信站: 批踢踢實業坊(ptt.cc), 來自: 117.19.231.146'"
      ]
     },
     "execution_count": 183,
     "metadata": {},
     "output_type": "execute_result"
    }
   ],
   "source": [
    "ip_str = soup.select('.f2')[0].text.strip()\n",
    "ip_str"
   ]
  },
  {
   "cell_type": "code",
   "execution_count": 186,
   "metadata": {},
   "outputs": [
    {
     "data": {
      "text/plain": [
       "'117.19.231.146'"
      ]
     },
     "execution_count": 186,
     "metadata": {},
     "output_type": "execute_result"
    }
   ],
   "source": [
    "re.match('※ 發信站: 批踢踢實業坊\\(ptt.cc\\), 來自: (\\d+\\.\\d+\\.\\d+\\.\\d+)',ip_str).group(1)"
   ]
  },
  {
   "cell_type": "code",
   "execution_count": 188,
   "metadata": {},
   "outputs": [
    {
     "data": {
      "text/plain": [
       "'117.19.231.146'"
      ]
     },
     "execution_count": 188,
     "metadata": {},
     "output_type": "execute_result"
    }
   ],
   "source": [
    "ip = re.match('※ 發信站: 批踢踢實業坊\\(ptt.cc\\), 來自: (\\d{1,3}\\.\\d{1,3}\\.\\d{1,3}\\.\\d{1,3})',ip_str).group(1)\n",
    "ip"
   ]
  },
  {
   "cell_type": "code",
   "execution_count": 200,
   "metadata": {},
   "outputs": [
    {
     "name": "stdout",
     "output_type": "stream",
     "text": [
      "117.19.231.146\n"
     ]
    }
   ],
   "source": [
    "for s in soup.select('.f2'):\n",
    "    m =re.match('※ 發信站: 批踢踢實業坊\\(ptt.cc\\), 來自: (\\d{1,3}\\.\\d{1,3}\\.\\d{1,3}\\.\\d{1,3})',s.text)\n",
    "    if m:\n",
    "        print(m.group(1))\n",
    "        ip = m.group(1)"
   ]
  },
  {
   "cell_type": "code",
   "execution_count": 201,
   "metadata": {},
   "outputs": [
    {
     "data": {
      "text/plain": [
       "'117.19.231.146'"
      ]
     },
     "execution_count": 201,
     "metadata": {},
     "output_type": "execute_result"
    }
   ],
   "source": [
    "ip"
   ]
  },
  {
   "cell_type": "code",
   "execution_count": 196,
   "metadata": {},
   "outputs": [
    {
     "name": "stdout",
     "output_type": "stream",
     "text": [
      "empty\n"
     ]
    }
   ],
   "source": [
    "ww = ''\n",
    "if ww:\n",
    "    print('not empty')\n",
    "else:\n",
    "    print('empty')"
   ]
  },
  {
   "cell_type": "code",
   "execution_count": 197,
   "metadata": {},
   "outputs": [
    {
     "name": "stdout",
     "output_type": "stream",
     "text": [
      "empty\n"
     ]
    }
   ],
   "source": [
    "li =[]\n",
    "if li:\n",
    "    print('not empty')\n",
    "else:\n",
    "    print('empty')"
   ]
  },
  {
   "cell_type": "code",
   "execution_count": 203,
   "metadata": {},
   "outputs": [],
   "source": [
    "comments = soup.select('.push')"
   ]
  },
  {
   "cell_type": "code",
   "execution_count": 221,
   "metadata": {},
   "outputs": [
    {
     "data": {
      "text/plain": [
       "'推'"
      ]
     },
     "execution_count": 221,
     "metadata": {},
     "output_type": "execute_result"
    }
   ],
   "source": [
    "tag = comments[0].find_all('span',attrs={'class':'push-tag'})[0].text.strip()\n",
    "tag"
   ]
  },
  {
   "cell_type": "code",
   "execution_count": 222,
   "metadata": {},
   "outputs": [
    {
     "data": {
      "text/plain": [
       "'ally2007'"
      ]
     },
     "execution_count": 222,
     "metadata": {},
     "output_type": "execute_result"
    }
   ],
   "source": [
    "push_author =  comments[0].find_all('span',attrs={'class':'push-userid'})[0].text.strip()\n",
    "push_author"
   ]
  },
  {
   "cell_type": "code",
   "execution_count": 243,
   "metadata": {},
   "outputs": [],
   "source": [
    "push_content = comments[0].select('.push-content')[0].text[1:].strip()"
   ]
  },
  {
   "cell_type": "code",
   "execution_count": 250,
   "metadata": {},
   "outputs": [
    {
     "data": {
      "text/plain": [
       "'07/30 21:07'"
      ]
     },
     "execution_count": 250,
     "metadata": {},
     "output_type": "execute_result"
    }
   ],
   "source": [
    "push_dt = comments[0].select('.push-ipdatetime')[0].text.strip()\n",
    "push_dt"
   ]
  },
  {
   "cell_type": "code",
   "execution_count": 251,
   "metadata": {},
   "outputs": [
    {
     "data": {
      "text/plain": [
       "datetime.datetime(1900, 7, 30, 21, 7)"
      ]
     },
     "execution_count": 251,
     "metadata": {},
     "output_type": "execute_result"
    }
   ],
   "source": [
    "datetime.strptime(push_dt,'%m/%d %H:%M')"
   ]
  },
  {
   "cell_type": "code",
   "execution_count": 256,
   "metadata": {},
   "outputs": [
    {
     "name": "stdout",
     "output_type": "stream",
     "text": [
      "2018\n",
      "7\n",
      "31\n"
     ]
    }
   ],
   "source": [
    "print(datetime.now().year)\n",
    "print(datetime.now().month)\n",
    "print(datetime.now().day)"
   ]
  },
  {
   "cell_type": "code",
   "execution_count": 268,
   "metadata": {},
   "outputs": [
    {
     "data": {
      "text/plain": [
       "1532956020.0"
      ]
     },
     "execution_count": 268,
     "metadata": {},
     "output_type": "execute_result"
    }
   ],
   "source": [
    "#str(datetime.now().year) + '/' + push_dt\n",
    "#'%s/%s'%(datetime.now().year,push_dt)\n",
    "'%s/%s'%(datetime.strptime(dt,'%a %b %d %H:%M:%S %Y').year,push_dt)\n",
    "push_tm = datetime.strptime( '%s/%s'%(datetime.strptime(dt,'%a %b %d %H:%M:%S %Y').year,push_dt),'%Y/%m/%d %H:%M').timestamp()\n",
    "push_tm"
   ]
  },
  {
   "cell_type": "code",
   "execution_count": 272,
   "metadata": {},
   "outputs": [],
   "source": [
    "pushs=list()\n",
    "for comment in comments:\n",
    "    push = {\n",
    "       'tag': comment.find_all('span',attrs={'class':'push-tag'})[0].text.strip(),\n",
    "       'push_author': comment.find_all('span',attrs={'class':'push-userid'})[0].text.strip(),\n",
    "       'push_content': comment.select('.push-content')[0].text[1:].strip(),\n",
    "       'push_tm': datetime.strptime( '%s/%s'%(datetime.strptime(dt,'%a %b %d %H:%M:%S %Y').year,comment.select('.push-ipdatetime')[0].text.strip()),'%Y/%m/%d %H:%M').timestamp()\n",
    "    }\n",
    "    pushs.append(push)"
   ]
  },
  {
   "cell_type": "code",
   "execution_count": 275,
   "metadata": {},
   "outputs": [],
   "source": [
    "pushs = [{\n",
    "       'tag': comment.find_all('span',attrs={'class':'push-tag'})[0].text.strip(),\n",
    "       'push_author': comment.find_all('span',attrs={'class':'push-userid'})[0].text.strip(),\n",
    "       'push_content': comment.select('.push-content')[0].text[1:].strip(),\n",
    "       'push_tm': datetime.strptime( '%s/%s'%(datetime.strptime(dt,'%a %b %d %H:%M:%S %Y').year,comment.select('.push-ipdatetime')[0].text.strip()),'%Y/%m/%d %H:%M').timestamp()\n",
    "    } for comment in comments] "
   ]
  },
  {
   "cell_type": "code",
   "execution_count": 276,
   "metadata": {},
   "outputs": [
    {
     "name": "stdout",
     "output_type": "stream",
     "text": [
      "[{'tag': '推', 'push_author': 'ally2007', 'push_content': '推好心，原po加油！', 'push_tm': 1532956020.0}, {'tag': '推', 'push_author': 'sm799979', 'push_content': '謝謝你用心的回文，其實我的工作內容並不如你陳述的那', 'push_tm': 1532956200.0}, {'tag': '→', 'push_author': 'sm799979', 'push_content': '麼專業，但是仍然大有幫助，如果我補足了細心不足這塊，', 'push_tm': 1532956200.0}, {'tag': '→', 'push_author': 'sm799979', 'push_content': '我相信我可以做的到的，萬分感激！', 'push_tm': 1532956200.0}, {'tag': '推', 'push_author': 'coyoteY', 'push_content': '推好心,如果公司沒提供軟體,可以試著用excel建檔會更方便', 'push_tm': 1532957160.0}, {'tag': '推', 'push_author': 'qmqmqm', 'push_content': '推好心', 'push_tm': 1532958180.0}, {'tag': '推', 'push_author': 'y932987', 'push_content': '其實他應該多做一個覆核的程序 這些事情真的都不難 是普', 'push_tm': 1532962620.0}, {'tag': '→', 'push_author': 'y932987', 'push_content': '通的日常 只是沒核對', 'push_tm': 1532962620.0}, {'tag': '推', 'push_author': 'BreakingBad', 'push_content': '如果不確定廠商名稱，打公司登記查詢都會有正確資料', 'push_tm': 1532963640.0}, {'tag': '→', 'push_author': 'BreakingBad', 'push_content': '，在開發票之前確認一下即可', 'push_tm': 1532963640.0}, {'tag': '→', 'push_author': 'BreakingBad', 'push_content': '我發現我不是會計，但是這些我全部都得做XD', 'push_tm': 1532963700.0}, {'tag': '推', 'push_author': 'chris0428', 'push_content': '是好心龜龜', 'push_tm': 1532992440.0}, {'tag': '推', 'push_author': 'romand', 'push_content': '推好心,可是這些AR等用語完全不會會計的人會了解嗎@@', 'push_tm': 1533000180.0}]\n"
     ]
    }
   ],
   "source": [
    "print(pushs)"
   ]
  },
  {
   "cell_type": "code",
   "execution_count": 282,
   "metadata": {},
   "outputs": [
    {
     "data": {
      "text/plain": [
       "<div class=\"bbs-screen bbs-content\" id=\"main-content\"><div class=\"article-metaline\"><span class=\"article-meta-tag\">作者</span><span class=\"article-meta-value\">SportLeo (阿基里斯)</span></div><div class=\"article-metaline-right\"><span class=\"article-meta-tag\">看板</span><span class=\"article-meta-value\">Salary</span></div><div class=\"article-metaline\"><span class=\"article-meta-tag\">標題</span><span class=\"article-meta-value\">Re: [問題] 不會會計的會計</span></div><div class=\"article-metaline\"><span class=\"article-meta-tag\">時間</span><span class=\"article-meta-value\">Mon Jul 30 20:47:51 2018</span></div>\n",
       "\n",
       "啊，看到你這篇文章感覺妳很緊張，\n",
       "\n",
       "想給你一點方向，希望妳放寬心，部分敘述恕刪\n",
       "\n",
       "\n",
       "引述《sm799979 (whay)》之銘言：\n",
       "<span class=\"f6\">: 文長，希望能有跟我差不多經歷的人給我點建議！\n",
       "</span><span class=\"f6\">: 當初，\n",
       "</span><span class=\"f6\">: 我面試的職務掛名是行政助理，\n",
       "</span><span class=\"f6\">: 是一間印刷公司包括老闆、老闆娘、業務、業助、工務、司機的7人公司，\n",
       "</span>\n",
       "七人小公司配置一位會計合情合理\n",
       "\n",
       "<span class=\"f6\">: 在老闆娘面試時她有提到\n",
       "</span><span class=\"f6\">: 必須處理會計相關事宜，\n",
       "</span><span class=\"f6\">: 我有趕緊說，這個部分我不太懂\n",
       "</span><span class=\"f6\">: （高中時我連乙級都考不過），\n",
       "</span><span class=\"f6\">: 但是老闆娘說這都是制式化的東西，很簡單，因為沒接觸過我也就信了。\n",
       "</span>\n",
       "因為妳沒接觸過可能不知道書上的會計\n",
       "\n",
       "跟實務上的會計其實還是差很多\n",
       "\n",
       "<span class=\"f6\">: 但是從第一個月開始，會計的部分總是三天一小錯，五天一大錯，\n",
       "</span><span class=\"f6\">: 被罵到第二個月時我就提了離職，\n",
       "</span><span class=\"f6\">: 老闆娘一開始答應，\n",
       "</span><span class=\"f6\">: 但是後來又叫同事來勸我，\n",
       "</span><span class=\"f6\">: 說我很好相處，沒心機，\n",
       "</span><span class=\"f6\">: 出去會被人家欺負，公司環境單純，要我再試試看，\n",
       "</span><span class=\"f6\">: 我當下覺得有人願意教我我很感動，且我很惜情，她們也都在工作上相當專業，於是我\n",
       "</span>就\n",
       "<span class=\"f6\">: 選擇再努力看看。\n",
       "</span><span class=\"f6\">: 直到現在，我做錯的事情大概有\n",
       "</span><span class=\"f6\">: 發票開錯抬頭、\n",
       "</span><span class=\"f6\">: 廠商的帳號、戶名打錯、\n",
       "</span><span class=\"f6\">: 該月要匯給廠商的沒入到沒匯、\n",
       "</span><span class=\"f6\">: 該匯給甲廠商的匯去給乙廠商...等等這幾項比較嚴重的。（目前的週期來到每兩個禮\n",
       "</span>拜\n",
       "<span class=\"f6\">: 一件大錯。）\n",
       "</span>\n",
       "好，根據上述其實妳做的有 AR / AP\n",
       "\n",
       "其實發票開錯title 是有點誇張XD\n",
       "\n",
       "如果系統都建檔好，根本不會開錯\n",
       "\n",
       "如果沒用系統，那至少要有一個 excel keep 客戶檔案\n",
       "\n",
       "那AP 的部份應付未匯代表你可以從付款排程去下手\n",
       "\n",
       "這個月進來的付款文件/發票，假設下個月就要付\n",
       "\n",
       "文件收納歸好，到了固定付款日再讓主管核閱過\n",
       "\n",
       "就可以減少應支付未匯的部分\n",
       "\n",
       "（難道說主管都不會問你說這禮拜要付誰錢嗎XD\n",
       "\n",
       "至於匯錯這種東西更誇張...A廠商付款文件2萬元\n",
       "\n",
       "假設老闆娘核閱過還是付3萬，那是誰的責任？\n",
       "\n",
       "\n",
       "\n",
       "<span class=\"f6\">: 老闆娘今天就很崩潰因為我匯錯錢這個大忌，她也未要辭退我，我也不敢引咎辭職，因\n",
       "</span>為\n",
       "<span class=\"f6\">: 接下來是印刷業的旺季，非常忙碌，要在這個時候讓她應徵人進來實在太不厚道。\n",
       "</span><span class=\"f6\">: 我知道自己的問題是太過粗心，\n",
       "</span><span class=\"f6\">: 我想是因為我從來沒做過類似的工作（以前都是做客服、門市..等等的）\n",
       "</span><span class=\"f6\">: ，也未在老闆娘的底下工作過，\n",
       "</span><span class=\"f6\">: 很多事情無法遮掩補救，\n",
       "</span><span class=\"f6\">: 很容易就被發現，\n",
       "</span><span class=\"f6\">: 可是正確率卻一直無法提升上去，\n",
       "</span><span class=\"f6\">: 導致我現在只要聽到老闆娘接電話我就緊張到流汗，\n",
       "</span><span class=\"f6\">: 不知道是客戶打來說發票開錯了，\n",
       "</span><span class=\"f6\">: 還是廠商打來問為什麼沒收到匯款，越做越沒自信......\n",
       "</span><span class=\"f6\">: 我是希望能有人告訴我這是新手會計必經之路，有一天就不會這樣了\n",
       "</span><span class=\"f6\">: 或是我根本不適合這份工作，年後趕快離職！給我個痛快！！\n",
       "</span>\n",
       "\n",
       "其實會計其他事務什麼分錄、日常費用撥補、401 之類你都沒提\n",
       "\n",
       "單純以你的敘述看來應該就只是內部SOP沒設定好\n",
       "\n",
       "設定好之後應該根本不會出這種紕漏\n",
       "\n",
       "我本來想說給你釣竿的、乾脆直接給你魚\n",
       "\n",
       "希望妳不要太過煩惱，會計是有平衡的美感的（咦\n",
       "\n",
       "AR  應收\n",
       "\n",
       "1. 客供商建檔（這樣統編絕對不會搞錯\n",
       "\n",
       "2. 或至少發票開立請業助協助review\n",
       "\n",
       "AP 應付\n",
       "\n",
       "1. 制定日常付款時間，譬如每兩週的週五或該月底\n",
       "\n",
       "七月進來的請款單，最快就是8月中或8月底付\n",
       "\n",
       "2. 錢出去很重要，每次付款都至少要讓主管review\n",
       "\n",
       "(如果他真的這麼放心讓妳每次都會出錯就另當別論...\n",
       "\n",
       "好啦，其實收付款就是細心而已，加油\n",
       "\n",
       "\n",
       "\n",
       "\n",
       "--\n",
       "<span class=\"f2\">※ 發信站: 批踢踢實業坊(ptt.cc), 來自: 117.19.231.146\n",
       "</span><span class=\"f2\">※ 文章網址: <a href=\"https://www.ptt.cc/bbs/Salary/M.1532954873.A.646.html\" rel=\"nofollow\" target=\"_blank\">https://www.ptt.cc/bbs/Salary/M.1532954873.A.646.html</a>\n",
       "</span><span class=\"f2\">※ 編輯: SportLeo (117.19.231.146), 07/30/2018 20:50:11\n",
       "</span><div class=\"push\"><span class=\"hl push-tag\">推 </span><span class=\"f3 hl push-userid\">ally2007</span><span class=\"f3 push-content\">: 推好心，原po加油！</span><span class=\"push-ipdatetime\"> 07/30 21:07\n",
       "</span></div><div class=\"push\"><span class=\"hl push-tag\">推 </span><span class=\"f3 hl push-userid\">sm799979</span><span class=\"f3 push-content\">: 謝謝你用心的回文，其實我的工作內容並不如你陳述的那</span><span class=\"push-ipdatetime\"> 07/30 21:10\n",
       "</span></div><div class=\"push\"><span class=\"f1 hl push-tag\">→ </span><span class=\"f3 hl push-userid\">sm799979</span><span class=\"f3 push-content\">: 麼專業，但是仍然大有幫助，如果我補足了細心不足這塊，</span><span class=\"push-ipdatetime\"> 07/30 21:10\n",
       "</span></div><div class=\"push\"><span class=\"f1 hl push-tag\">→ </span><span class=\"f3 hl push-userid\">sm799979</span><span class=\"f3 push-content\">: 我相信我可以做的到的，萬分感激！</span><span class=\"push-ipdatetime\"> 07/30 21:10\n",
       "</span></div><div class=\"push\"><span class=\"hl push-tag\">推 </span><span class=\"f3 hl push-userid\">coyoteY</span><span class=\"f3 push-content\">: 推好心,如果公司沒提供軟體,可以試著用excel建檔會更方便</span><span class=\"push-ipdatetime\"> 07/30 21:26\n",
       "</span></div><div class=\"push\"><span class=\"hl push-tag\">推 </span><span class=\"f3 hl push-userid\">qmqmqm</span><span class=\"f3 push-content\">: 推好心</span><span class=\"push-ipdatetime\"> 07/30 21:43\n",
       "</span></div><div class=\"push\"><span class=\"hl push-tag\">推 </span><span class=\"f3 hl push-userid\">y932987</span><span class=\"f3 push-content\">: 其實他應該多做一個覆核的程序 這些事情真的都不難 是普</span><span class=\"push-ipdatetime\"> 07/30 22:57\n",
       "</span></div><div class=\"push\"><span class=\"f1 hl push-tag\">→ </span><span class=\"f3 hl push-userid\">y932987</span><span class=\"f3 push-content\">: 通的日常 只是沒核對</span><span class=\"push-ipdatetime\"> 07/30 22:57\n",
       "</span></div><div class=\"push\"><span class=\"hl push-tag\">推 </span><span class=\"f3 hl push-userid\">BreakingBad</span><span class=\"f3 push-content\">: 如果不確定廠商名稱，打公司登記查詢都會有正確資料</span><span class=\"push-ipdatetime\"> 07/30 23:14\n",
       "</span></div><div class=\"push\"><span class=\"f1 hl push-tag\">→ </span><span class=\"f3 hl push-userid\">BreakingBad</span><span class=\"f3 push-content\">: ，在開發票之前確認一下即可</span><span class=\"push-ipdatetime\"> 07/30 23:14\n",
       "</span></div><div class=\"push\"><span class=\"f1 hl push-tag\">→ </span><span class=\"f3 hl push-userid\">BreakingBad</span><span class=\"f3 push-content\">: 我發現我不是會計，但是這些我全部都得做XD</span><span class=\"push-ipdatetime\"> 07/30 23:15\n",
       "</span></div><div class=\"push\"><span class=\"hl push-tag\">推 </span><span class=\"f3 hl push-userid\">chris0428</span><span class=\"f3 push-content\">: 是好心龜龜</span><span class=\"push-ipdatetime\"> 07/31 07:14\n",
       "</span></div><div class=\"push\"><span class=\"hl push-tag\">推 </span><span class=\"f3 hl push-userid\">romand</span><span class=\"f3 push-content\">: 推好心,可是這些AR等用語完全不會會計的人會了解嗎@@</span><span class=\"push-ipdatetime\"> 07/31 09:23\n",
       "</span></div></div>"
      ]
     },
     "execution_count": 282,
     "metadata": {},
     "output_type": "execute_result"
    }
   ],
   "source": [
    "content_obj = soup.select('#main-content')[0]\n",
    "content_obj"
   ]
  },
  {
   "cell_type": "code",
   "execution_count": 284,
   "metadata": {},
   "outputs": [],
   "source": [
    "for span in content_obj.select('.article-meta-value'):\n",
    "    span.decompose()"
   ]
  },
  {
   "cell_type": "code",
   "execution_count": 289,
   "metadata": {},
   "outputs": [],
   "source": [
    "for span in content_obj.select('.article-meta-tag'):\n",
    "    span.decompose()"
   ]
  },
  {
   "cell_type": "code",
   "execution_count": 292,
   "metadata": {},
   "outputs": [],
   "source": [
    "for div in content_obj.select('.push'):\n",
    "    div.decompose()"
   ]
  },
  {
   "cell_type": "code",
   "execution_count": 297,
   "metadata": {},
   "outputs": [],
   "source": [
    "for span in content_obj.select('.f2'):\n",
    "    span.decompose()"
   ]
  },
  {
   "cell_type": "code",
   "execution_count": 303,
   "metadata": {},
   "outputs": [
    {
     "data": {
      "text/plain": [
       "'啊，看到你這篇文章感覺妳很緊張，\\n\\n想給你一點方向，希望妳放寬心，部分敘述恕刪\\n\\n\\n引述《sm799979 (whay)》之銘言：\\n: 文長，希望能有跟我差不多經歷的人給我點建議！\\n: 當初，\\n: 我面試的職務掛名是行政助理，\\n: 是一間印刷公司包括老闆、老闆娘、業務、業助、工務、司機的7人公司，\\n\\n七人小公司配置一位會計合情合理\\n\\n: 在老闆娘面試時她有提到\\n: 必須處理會計相關事宜，\\n: 我有趕緊說，這個部分我不太懂\\n: （高中時我連乙級都考不過），\\n: 但是老闆娘說這都是制式化的東西，很簡單，因為沒接觸過我也就信了。\\n\\n因為妳沒接觸過可能不知道書上的會計\\n\\n跟實務上的會計其實還是差很多\\n\\n: 但是從第一個月開始，會計的部分總是三天一小錯，五天一大錯，\\n: 被罵到第二個月時我就提了離職，\\n: 老闆娘一開始答應，\\n: 但是後來又叫同事來勸我，\\n: 說我很好相處，沒心機，\\n: 出去會被人家欺負，公司環境單純，要我再試試看，\\n: 我當下覺得有人願意教我我很感動，且我很惜情，她們也都在工作上相當專業，於是我\\n就\\n: 選擇再努力看看。\\n: 直到現在，我做錯的事情大概有\\n: 發票開錯抬頭、\\n: 廠商的帳號、戶名打錯、\\n: 該月要匯給廠商的沒入到沒匯、\\n: 該匯給甲廠商的匯去給乙廠商...等等這幾項比較嚴重的。（目前的週期來到每兩個禮\\n拜\\n: 一件大錯。）\\n\\n好，根據上述其實妳做的有 AR / AP\\n\\n其實發票開錯title 是有點誇張XD\\n\\n如果系統都建檔好，根本不會開錯\\n\\n如果沒用系統，那至少要有一個 excel keep 客戶檔案\\n\\n那AP 的部份應付未匯代表你可以從付款排程去下手\\n\\n這個月進來的付款文件/發票，假設下個月就要付\\n\\n文件收納歸好，到了固定付款日再讓主管核閱過\\n\\n就可以減少應支付未匯的部分\\n\\n（難道說主管都不會問你說這禮拜要付誰錢嗎XD\\n\\n至於匯錯這種東西更誇張...A廠商付款文件2萬元\\n\\n假設老闆娘核閱過還是付3萬，那是誰的責任？\\n\\n\\n\\n: 老闆娘今天就很崩潰因為我匯錯錢這個大忌，她也未要辭退我，我也不敢引咎辭職，因\\n為\\n: 接下來是印刷業的旺季，非常忙碌，要在這個時候讓她應徵人進來實在太不厚道。\\n: 我知道自己的問題是太過粗心，\\n: 我想是因為我從來沒做過類似的工作（以前都是做客服、門市..等等的）\\n: ，也未在老闆娘的底下工作過，\\n: 很多事情無法遮掩補救，\\n: 很容易就被發現，\\n: 可是正確率卻一直無法提升上去，\\n: 導致我現在只要聽到老闆娘接電話我就緊張到流汗，\\n: 不知道是客戶打來說發票開錯了，\\n: 還是廠商打來問為什麼沒收到匯款，越做越沒自信......\\n: 我是希望能有人告訴我這是新手會計必經之路，有一天就不會這樣了\\n: 或是我根本不適合這份工作，年後趕快離職！給我個痛快！！\\n\\n\\n其實會計其他事務什麼分錄、日常費用撥補、401 之類你都沒提\\n\\n單純以你的敘述看來應該就只是內部SOP沒設定好\\n\\n設定好之後應該根本不會出這種紕漏\\n\\n我本來想說給你釣竿的、乾脆直接給你魚\\n\\n希望妳不要太過煩惱，會計是有平衡的美感的（咦\\n\\nAR  應收\\n\\n1. 客供商建檔（這樣統編絕對不會搞錯\\n\\n2. 或至少發票開立請業助協助review\\n\\nAP 應付\\n\\n1. 制定日常付款時間，譬如每兩週的週五或該月底\\n\\n七月進來的請款單，最快就是8月中或8月底付\\n\\n2. 錢出去很重要，每次付款都至少要讓主管review\\n\\n(如果他真的這麼放心讓妳每次都會出錯就另當別論...\\n\\n好啦，其實收付款就是細心而已，加油'"
      ]
     },
     "execution_count": 303,
     "metadata": {},
     "output_type": "execute_result"
    }
   ],
   "source": [
    "content = content_obj.text.strip()[:-2].strip()\n",
    "content"
   ]
  },
  {
   "cell_type": "code",
   "execution_count": 311,
   "metadata": {},
   "outputs": [],
   "source": [
    "def get_ptt_article(url):\n",
    "    doc = dict()\n",
    "    res = requests.get(url)\n",
    "    soup = BeautifulSoup(res.text,'lxml')\n",
    "    meta_values = soup.findAll('span',attrs={'class':'article-meta-value'})\n",
    "    author = meta_values[0].text\n",
    "    author_id,author_nickname = re.match('(.+) \\((.*)\\)',author).group(1),re.match('(.+) \\((.*)\\)',author).group(2)\n",
    "    board = meta_values[1].text\n",
    "    title = meta_values[2].text\n",
    "    dt = meta_values[3].text\n",
    "    tm = int(datetime.strptime(dt,'%a %b %d %H:%M:%S %Y').timestamp())\n",
    "    author_infos = soup.findAll('span',attrs={'class':'f2'})\n",
    "    for span in author_infos:\n",
    "        m = re.match('※ 發信站\\: 批踢踢實業坊\\(ptt\\.cc\\), 來自\\: (\\d.+)',span.text) \n",
    "        if m:\n",
    "            ip = m.group(1)\n",
    "    pushs = soup.findAll('div',attrs={'class':'push'})\n",
    "#     comments = [{\n",
    "#       'tag': push.find('span',attrs={'class':'push-tag'}).text.strip(),\n",
    "#       'author': push.find('span',attrs={'class':'push-userid'}).text.strip(),\n",
    "#       'content': push.find('span',attrs={'class':'push-content'}).text.split(':')[1].strip(),\n",
    "#       'tm': int(datetime.strptime( '%d/'%(datetime.now().year) + re.match('\\d{0,3}\\.?\\d{0,3}\\.?\\d{0,3}\\.?\\d{0,3} (\\d{2}\\/\\d{2} \\d{2}\\:\\d{2})',pushs[0].find('span',{'class':'push-ipdatetime'}).text.strip()).group(1) ,'%Y/%m/%d %H:%M').timestamp())\n",
    "#     } for push in pushs]\n",
    "    content_obj = soup.find('div',{'id':'main-content'})\n",
    "    for s in content_obj.findAll('span',{'class':'f2'}):\n",
    "        s.decompose()\n",
    "\n",
    "    for s in content_obj.findAll('span',{'class':'article-meta-tag'}):\n",
    "        s.decompose()\n",
    "\n",
    "    for s in content_obj.findAll('span',{'class':'article-meta-value'}):\n",
    "        s.decompose()\n",
    "\n",
    "    for s in content_obj.findAll('div',{'class':'push'}):\n",
    "        s.decompose()\n",
    "    content = content_obj.text.strip()\n",
    "    content = content[:-2].strip() if content[-2:] == '--' else content\n",
    "    doc['author_id'] = author_id\n",
    "    doc['author_nickname'] = author_nickname\n",
    "    doc['board'] = board\n",
    "    doc['tm'] = tm\n",
    "    doc['ip'] = ip\n",
    "    #doc['comments'] = comments\n",
    "    doc['title'] = title\n",
    "    doc['content'] = content\n",
    "    return doc"
   ]
  },
  {
   "cell_type": "code",
   "execution_count": 312,
   "metadata": {},
   "outputs": [
    {
     "data": {
      "text/plain": [
       "{'author_id': 'SportLeo',\n",
       " 'author_nickname': '阿基里斯',\n",
       " 'board': 'Salary',\n",
       " 'content': '啊，看到你這篇文章感覺妳很緊張，\\n\\n想給你一點方向，希望妳放寬心，部分敘述恕刪\\n\\n\\n引述《sm799979 (whay)》之銘言：\\n: 文長，希望能有跟我差不多經歷的人給我點建議！\\n: 當初，\\n: 我面試的職務掛名是行政助理，\\n: 是一間印刷公司包括老闆、老闆娘、業務、業助、工務、司機的7人公司，\\n\\n七人小公司配置一位會計合情合理\\n\\n: 在老闆娘面試時她有提到\\n: 必須處理會計相關事宜，\\n: 我有趕緊說，這個部分我不太懂\\n: （高中時我連乙級都考不過），\\n: 但是老闆娘說這都是制式化的東西，很簡單，因為沒接觸過我也就信了。\\n\\n因為妳沒接觸過可能不知道書上的會計\\n\\n跟實務上的會計其實還是差很多\\n\\n: 但是從第一個月開始，會計的部分總是三天一小錯，五天一大錯，\\n: 被罵到第二個月時我就提了離職，\\n: 老闆娘一開始答應，\\n: 但是後來又叫同事來勸我，\\n: 說我很好相處，沒心機，\\n: 出去會被人家欺負，公司環境單純，要我再試試看，\\n: 我當下覺得有人願意教我我很感動，且我很惜情，她們也都在工作上相當專業，於是我\\n就\\n: 選擇再努力看看。\\n: 直到現在，我做錯的事情大概有\\n: 發票開錯抬頭、\\n: 廠商的帳號、戶名打錯、\\n: 該月要匯給廠商的沒入到沒匯、\\n: 該匯給甲廠商的匯去給乙廠商...等等這幾項比較嚴重的。（目前的週期來到每兩個禮\\n拜\\n: 一件大錯。）\\n\\n好，根據上述其實妳做的有 AR / AP\\n\\n其實發票開錯title 是有點誇張XD\\n\\n如果系統都建檔好，根本不會開錯\\n\\n如果沒用系統，那至少要有一個 excel keep 客戶檔案\\n\\n那AP 的部份應付未匯代表你可以從付款排程去下手\\n\\n這個月進來的付款文件/發票，假設下個月就要付\\n\\n文件收納歸好，到了固定付款日再讓主管核閱過\\n\\n就可以減少應支付未匯的部分\\n\\n（難道說主管都不會問你說這禮拜要付誰錢嗎XD\\n\\n至於匯錯這種東西更誇張...A廠商付款文件2萬元\\n\\n假設老闆娘核閱過還是付3萬，那是誰的責任？\\n\\n\\n\\n: 老闆娘今天就很崩潰因為我匯錯錢這個大忌，她也未要辭退我，我也不敢引咎辭職，因\\n為\\n: 接下來是印刷業的旺季，非常忙碌，要在這個時候讓她應徵人進來實在太不厚道。\\n: 我知道自己的問題是太過粗心，\\n: 我想是因為我從來沒做過類似的工作（以前都是做客服、門市..等等的）\\n: ，也未在老闆娘的底下工作過，\\n: 很多事情無法遮掩補救，\\n: 很容易就被發現，\\n: 可是正確率卻一直無法提升上去，\\n: 導致我現在只要聽到老闆娘接電話我就緊張到流汗，\\n: 不知道是客戶打來說發票開錯了，\\n: 還是廠商打來問為什麼沒收到匯款，越做越沒自信......\\n: 我是希望能有人告訴我這是新手會計必經之路，有一天就不會這樣了\\n: 或是我根本不適合這份工作，年後趕快離職！給我個痛快！！\\n\\n\\n其實會計其他事務什麼分錄、日常費用撥補、401 之類你都沒提\\n\\n單純以你的敘述看來應該就只是內部SOP沒設定好\\n\\n設定好之後應該根本不會出這種紕漏\\n\\n我本來想說給你釣竿的、乾脆直接給你魚\\n\\n希望妳不要太過煩惱，會計是有平衡的美感的（咦\\n\\nAR  應收\\n\\n1. 客供商建檔（這樣統編絕對不會搞錯\\n\\n2. 或至少發票開立請業助協助review\\n\\nAP 應付\\n\\n1. 制定日常付款時間，譬如每兩週的週五或該月底\\n\\n七月進來的請款單，最快就是8月中或8月底付\\n\\n2. 錢出去很重要，每次付款都至少要讓主管review\\n\\n(如果他真的這麼放心讓妳每次都會出錯就另當別論...\\n\\n好啦，其實收付款就是細心而已，加油',\n",
       " 'ip': '117.19.231.146',\n",
       " 'title': 'Re: [問題] 不會會計的會計',\n",
       " 'tm': 1532954871}"
      ]
     },
     "execution_count": 312,
     "metadata": {},
     "output_type": "execute_result"
    }
   ],
   "source": [
    "get_ptt_article('https://www.ptt.cc/bbs/Salary/M.1532954873.A.646.html')"
   ]
  },
  {
   "cell_type": "code",
   "execution_count": 326,
   "metadata": {},
   "outputs": [],
   "source": [
    "docs = []\n",
    "for url in urls:\n",
    "    docs.append(get_ptt_article(url))"
   ]
  },
  {
   "cell_type": "code",
   "execution_count": 328,
   "metadata": {},
   "outputs": [
    {
     "data": {
      "text/plain": [
       "18"
      ]
     },
     "execution_count": 328,
     "metadata": {},
     "output_type": "execute_result"
    }
   ],
   "source": [
    "len(docs)"
   ]
  },
  {
   "cell_type": "markdown",
   "metadata": {},
   "source": [
    "### [ dateutil package ]"
   ]
  },
  {
   "cell_type": "code",
   "execution_count": 223,
   "metadata": {},
   "outputs": [],
   "source": [
    "from dateutil.relativedelta import relativedelta"
   ]
  },
  {
   "cell_type": "code",
   "execution_count": 329,
   "metadata": {},
   "outputs": [
    {
     "name": "stdout",
     "output_type": "stream",
     "text": [
      "2018-07-30 13:57:21.476644\n",
      "2018-06-30 13:57:21.476827\n",
      "2017-07-31 13:57:21.476941\n"
     ]
    }
   ],
   "source": [
    "print(datetime.now() - relativedelta(days=1))\n",
    "print(datetime.now() - relativedelta(months=1))\n",
    "print(datetime.now() - relativedelta(years=1))"
   ]
  },
  {
   "cell_type": "code",
   "execution_count": null,
   "metadata": {},
   "outputs": [],
   "source": []
  }
 ],
 "metadata": {
  "kernelspec": {
   "display_name": "Python 3",
   "language": "python",
   "name": "python3"
  },
  "language_info": {
   "codemirror_mode": {
    "name": "ipython",
    "version": 3
   },
   "file_extension": ".py",
   "mimetype": "text/x-python",
   "name": "python",
   "nbconvert_exporter": "python",
   "pygments_lexer": "ipython3",
   "version": "3.6.0"
  }
 },
 "nbformat": 4,
 "nbformat_minor": 2
}
