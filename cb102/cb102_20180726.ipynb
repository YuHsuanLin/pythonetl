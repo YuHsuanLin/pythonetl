{
 "cells": [
  {
   "cell_type": "markdown",
   "metadata": {},
   "source": [
    "```\n",
    "# https://hyperrate.com/thread.php?tid=28044\n",
    "sudo apt-key adv --keyserver keyserver.ubuntu.com --recv-keys 835AB0E3\n",
    "sudo echo \"deb http://hyperrate.com/gcin-ubuntu1604 eliu release\" >> /etc/apt/sources.list\n",
    "sudo apt-get update\n",
    "sudo apt-get install gcin\n",
    "```"
   ]
  },
  {
   "cell_type": "code",
   "execution_count": 1,
   "metadata": {},
   "outputs": [
    {
     "name": "stdout",
     "output_type": "stream",
     "text": [
      "Requirement already satisfied: jieba in /Users/ian/.pyenv/versions/3.6.5/Python.framework/Versions/3.6/lib/python3.6/site-packages\n",
      "\u001b[33mYou are using pip version 9.0.3, however version 10.0.1 is available.\n",
      "You should consider upgrading via the 'pip install --upgrade pip' command.\u001b[0m\n"
     ]
    }
   ],
   "source": [
    "!pip install jieba"
   ]
  },
  {
   "cell_type": "code",
   "execution_count": 2,
   "metadata": {},
   "outputs": [],
   "source": [
    "import jieba"
   ]
  },
  {
   "cell_type": "code",
   "execution_count": 3,
   "metadata": {},
   "outputs": [],
   "source": [
    "jieba.set_dictionary('./dict.txt.big')"
   ]
  },
  {
   "cell_type": "code",
   "execution_count": 4,
   "metadata": {},
   "outputs": [],
   "source": [
    "speech = open('./speech.txt').read()"
   ]
  },
  {
   "cell_type": "code",
   "execution_count": 5,
   "metadata": {},
   "outputs": [],
   "source": [
    "stopwords = open('./stopwords.txt').readlines()"
   ]
  },
  {
   "cell_type": "code",
   "execution_count": 6,
   "metadata": {},
   "outputs": [
    {
     "data": {
      "text/plain": [
       "['$\\n', '0\\n', '1\\n', '2\\n', '3\\n', '4\\n', '5\\n', '6\\n', '7\\n', '8\\n']"
      ]
     },
     "execution_count": 6,
     "metadata": {},
     "output_type": "execute_result"
    }
   ],
   "source": [
    "stopwords[:10]"
   ]
  },
  {
   "cell_type": "code",
   "execution_count": 7,
   "metadata": {},
   "outputs": [
    {
     "data": {
      "text/plain": [
       "'5'"
      ]
     },
     "execution_count": 7,
     "metadata": {},
     "output_type": "execute_result"
    }
   ],
   "source": [
    "'5\\n'.strip()"
   ]
  },
  {
   "cell_type": "code",
   "execution_count": 8,
   "metadata": {},
   "outputs": [
    {
     "data": {
      "text/plain": [
       "'asd'"
      ]
     },
     "execution_count": 8,
     "metadata": {},
     "output_type": "execute_result"
    }
   ],
   "source": [
    "'    \\t\\nasd\\t\\n\\n      \\n'.strip()"
   ]
  },
  {
   "cell_type": "code",
   "execution_count": 9,
   "metadata": {},
   "outputs": [],
   "source": [
    "stopwords = [word.strip() for word in stopwords]"
   ]
  },
  {
   "cell_type": "code",
   "execution_count": 10,
   "metadata": {},
   "outputs": [
    {
     "data": {
      "text/plain": [
       "['$', '0', '1', '2', '3', '4', '5', '6', '7', '8']"
      ]
     },
     "execution_count": 10,
     "metadata": {},
     "output_type": "execute_result"
    }
   ],
   "source": [
    "stopwords[:10]"
   ]
  },
  {
   "cell_type": "code",
   "execution_count": 11,
   "metadata": {},
   "outputs": [],
   "source": [
    "stopwords.append('\\n')"
   ]
  },
  {
   "cell_type": "code",
   "execution_count": 12,
   "metadata": {},
   "outputs": [
    {
     "data": {
      "text/plain": [
       "'各位友邦的元首與貴賓、各國駐臺使節及代表、現場的好朋友，全體國人同胞，大家好：\\n\\n感謝與承擔\\n\\n就在剛剛，我和陳建仁已經在總統府裡面，正式宣誓就任中華民國第十四任總統與副總統。我們要感謝這塊土地對我們'"
      ]
     },
     "execution_count": 12,
     "metadata": {},
     "output_type": "execute_result"
    }
   ],
   "source": [
    "speech[:100]"
   ]
  },
  {
   "cell_type": "code",
   "execution_count": 13,
   "metadata": {},
   "outputs": [
    {
     "name": "stderr",
     "output_type": "stream",
     "text": [
      "Building prefix dict from /Volumes/SanDisk256G/Code/teaching/pythonetl/cb102/dict.txt.big ...\n",
      "Loading model from cache /var/folders/nw/lrthh3612hv9zzl6s6s_xblr0000gn/T/jieba.u37ce57c938704528221aadf0e9c88e49.cache\n",
      "Loading model cost 1.535 seconds.\n",
      "Prefix dict has been built succesfully.\n"
     ]
    }
   ],
   "source": [
    "wordcnt = {}\n",
    "for word in jieba.cut(speech):\n",
    "    if word in stopwords:\n",
    "        continue\n",
    "    if word in wordcnt:\n",
    "        wordcnt[word] += 1\n",
    "    else:\n",
    "        wordcnt[word] = 1"
   ]
  },
  {
   "cell_type": "code",
   "execution_count": 14,
   "metadata": {},
   "outputs": [],
   "source": [
    "res_unsorted = [[word, cnt] for word, cnt in wordcnt.items()]"
   ]
  },
  {
   "cell_type": "code",
   "execution_count": 15,
   "metadata": {},
   "outputs": [],
   "source": [
    "def sorter(input_list):\n",
    "    return input_list[1]"
   ]
  },
  {
   "cell_type": "code",
   "execution_count": 16,
   "metadata": {},
   "outputs": [
    {
     "data": {
      "text/plain": [
       "3"
      ]
     },
     "execution_count": 16,
     "metadata": {},
     "output_type": "execute_result"
    }
   ],
   "source": [
    "['信任', 3]\n",
    "sorter(['信任', 3])"
   ]
  },
  {
   "cell_type": "code",
   "execution_count": 17,
   "metadata": {},
   "outputs": [
    {
     "data": {
      "text/plain": [
       "[['臺灣', 37],\n",
       " ['國家', 32],\n",
       " ['一個', 30],\n",
       " ['新政府', 27],\n",
       " ['會', 26],\n",
       " ['經濟', 25],\n",
       " ['民主', 22],\n",
       " ['社會', 21],\n",
       " ['發展', 20],\n",
       " ['區域', 18]]"
      ]
     },
     "execution_count": 17,
     "metadata": {},
     "output_type": "execute_result"
    }
   ],
   "source": [
    "sorted(res_unsorted, key=sorter, reverse=True)[:10]"
   ]
  },
  {
   "cell_type": "code",
   "execution_count": 18,
   "metadata": {},
   "outputs": [
    {
     "data": {
      "text/plain": [
       "[['臺灣', 37],\n",
       " ['國家', 32],\n",
       " ['一個', 30],\n",
       " ['新政府', 27],\n",
       " ['會', 26],\n",
       " ['經濟', 25],\n",
       " ['民主', 22],\n",
       " ['社會', 21],\n",
       " ['發展', 20],\n",
       " ['區域', 18]]"
      ]
     },
     "execution_count": 18,
     "metadata": {},
     "output_type": "execute_result"
    }
   ],
   "source": [
    "sorted(res_unsorted, key=lambda x: x[1], reverse=True)[:10]"
   ]
  },
  {
   "cell_type": "code",
   "execution_count": 19,
   "metadata": {},
   "outputs": [],
   "source": [
    "%matplotlib inline\n",
    "import matplotlib.pyplot as plt\n",
    "import pandas as pd"
   ]
  },
  {
   "cell_type": "code",
   "execution_count": 20,
   "metadata": {},
   "outputs": [
    {
     "data": {
      "text/plain": [
       "[{'word': '友邦', 'cnt': 2},\n",
       " {'word': '元首', 'cnt': 2},\n",
       " {'word': '貴賓', 'cnt': 1},\n",
       " {'word': '各國', 'cnt': 3},\n",
       " {'word': '駐', 'cnt': 1},\n",
       " {'word': '臺', 'cnt': 1},\n",
       " {'word': '使節', 'cnt': 1},\n",
       " {'word': '代表', 'cnt': 2},\n",
       " {'word': '現場', 'cnt': 2},\n",
       " {'word': '朋友', 'cnt': 1}]"
      ]
     },
     "execution_count": 20,
     "metadata": {},
     "output_type": "execute_result"
    }
   ],
   "source": [
    "word_cnt_dict = [{'word': word, 'cnt': cnt} for word, cnt in res_unsorted]\n",
    "word_cnt_dict[:10]"
   ]
  },
  {
   "cell_type": "code",
   "execution_count": 21,
   "metadata": {},
   "outputs": [],
   "source": [
    "df = pd.DataFrame(word_cnt_dict)"
   ]
  },
  {
   "cell_type": "code",
   "execution_count": 22,
   "metadata": {},
   "outputs": [
    {
     "data": {
      "text/html": [
       "<div>\n",
       "<style scoped>\n",
       "    .dataframe tbody tr th:only-of-type {\n",
       "        vertical-align: middle;\n",
       "    }\n",
       "\n",
       "    .dataframe tbody tr th {\n",
       "        vertical-align: top;\n",
       "    }\n",
       "\n",
       "    .dataframe thead th {\n",
       "        text-align: right;\n",
       "    }\n",
       "</style>\n",
       "<table border=\"1\" class=\"dataframe\">\n",
       "  <thead>\n",
       "    <tr style=\"text-align: right;\">\n",
       "      <th></th>\n",
       "      <th>cnt</th>\n",
       "      <th>word</th>\n",
       "    </tr>\n",
       "  </thead>\n",
       "  <tbody>\n",
       "    <tr>\n",
       "      <th>0</th>\n",
       "      <td>2</td>\n",
       "      <td>友邦</td>\n",
       "    </tr>\n",
       "    <tr>\n",
       "      <th>1</th>\n",
       "      <td>2</td>\n",
       "      <td>元首</td>\n",
       "    </tr>\n",
       "    <tr>\n",
       "      <th>2</th>\n",
       "      <td>1</td>\n",
       "      <td>貴賓</td>\n",
       "    </tr>\n",
       "    <tr>\n",
       "      <th>3</th>\n",
       "      <td>3</td>\n",
       "      <td>各國</td>\n",
       "    </tr>\n",
       "    <tr>\n",
       "      <th>4</th>\n",
       "      <td>1</td>\n",
       "      <td>駐</td>\n",
       "    </tr>\n",
       "  </tbody>\n",
       "</table>\n",
       "</div>"
      ],
      "text/plain": [
       "   cnt word\n",
       "0    2   友邦\n",
       "1    2   元首\n",
       "2    1   貴賓\n",
       "3    3   各國\n",
       "4    1    駐"
      ]
     },
     "execution_count": 22,
     "metadata": {},
     "output_type": "execute_result"
    }
   ],
   "source": [
    "df.head()"
   ]
  },
  {
   "cell_type": "code",
   "execution_count": 23,
   "metadata": {
    "scrolled": true
   },
   "outputs": [
    {
     "data": {
      "text/html": [
       "<div>\n",
       "<style scoped>\n",
       "    .dataframe tbody tr th:only-of-type {\n",
       "        vertical-align: middle;\n",
       "    }\n",
       "\n",
       "    .dataframe tbody tr th {\n",
       "        vertical-align: top;\n",
       "    }\n",
       "\n",
       "    .dataframe thead th {\n",
       "        text-align: right;\n",
       "    }\n",
       "</style>\n",
       "<table border=\"1\" class=\"dataframe\">\n",
       "  <thead>\n",
       "    <tr style=\"text-align: right;\">\n",
       "      <th></th>\n",
       "      <th>cnt</th>\n",
       "      <th>word</th>\n",
       "    </tr>\n",
       "  </thead>\n",
       "  <tbody>\n",
       "    <tr>\n",
       "      <th>57</th>\n",
       "      <td>37</td>\n",
       "      <td>臺灣</td>\n",
       "    </tr>\n",
       "    <tr>\n",
       "      <th>32</th>\n",
       "      <td>32</td>\n",
       "      <td>國家</td>\n",
       "    </tr>\n",
       "    <tr>\n",
       "      <th>72</th>\n",
       "      <td>30</td>\n",
       "      <td>一個</td>\n",
       "    </tr>\n",
       "    <tr>\n",
       "      <th>85</th>\n",
       "      <td>27</td>\n",
       "      <td>新政府</td>\n",
       "    </tr>\n",
       "    <tr>\n",
       "      <th>155</th>\n",
       "      <td>26</td>\n",
       "      <td>會</td>\n",
       "    </tr>\n",
       "    <tr>\n",
       "      <th>167</th>\n",
       "      <td>25</td>\n",
       "      <td>經濟</td>\n",
       "    </tr>\n",
       "    <tr>\n",
       "      <th>33</th>\n",
       "      <td>22</td>\n",
       "      <td>民主</td>\n",
       "    </tr>\n",
       "    <tr>\n",
       "      <th>160</th>\n",
       "      <td>21</td>\n",
       "      <td>社會</td>\n",
       "    </tr>\n",
       "    <tr>\n",
       "      <th>176</th>\n",
       "      <td>20</td>\n",
       "      <td>發展</td>\n",
       "    </tr>\n",
       "    <tr>\n",
       "      <th>303</th>\n",
       "      <td>18</td>\n",
       "      <td>區域</td>\n",
       "    </tr>\n",
       "  </tbody>\n",
       "</table>\n",
       "</div>"
      ],
      "text/plain": [
       "     cnt word\n",
       "57    37   臺灣\n",
       "32    32   國家\n",
       "72    30   一個\n",
       "85    27  新政府\n",
       "155   26    會\n",
       "167   25   經濟\n",
       "33    22   民主\n",
       "160   21   社會\n",
       "176   20   發展\n",
       "303   18   區域"
      ]
     },
     "execution_count": 23,
     "metadata": {},
     "output_type": "execute_result"
    }
   ],
   "source": [
    "df.sort_values('cnt', ascending=False)[:10]"
   ]
  },
  {
   "cell_type": "code",
   "execution_count": 24,
   "metadata": {},
   "outputs": [],
   "source": [
    "top_10 = df.sort_values('cnt', ascending=False)[:10]"
   ]
  },
  {
   "cell_type": "code",
   "execution_count": 25,
   "metadata": {
    "scrolled": true
   },
   "outputs": [
    {
     "data": {
      "text/html": [
       "<div>\n",
       "<style scoped>\n",
       "    .dataframe tbody tr th:only-of-type {\n",
       "        vertical-align: middle;\n",
       "    }\n",
       "\n",
       "    .dataframe tbody tr th {\n",
       "        vertical-align: top;\n",
       "    }\n",
       "\n",
       "    .dataframe thead th {\n",
       "        text-align: right;\n",
       "    }\n",
       "</style>\n",
       "<table border=\"1\" class=\"dataframe\">\n",
       "  <thead>\n",
       "    <tr style=\"text-align: right;\">\n",
       "      <th></th>\n",
       "      <th>cnt</th>\n",
       "      <th>word</th>\n",
       "    </tr>\n",
       "  </thead>\n",
       "  <tbody>\n",
       "    <tr>\n",
       "      <th>57</th>\n",
       "      <td>37</td>\n",
       "      <td>臺灣</td>\n",
       "    </tr>\n",
       "    <tr>\n",
       "      <th>32</th>\n",
       "      <td>32</td>\n",
       "      <td>國家</td>\n",
       "    </tr>\n",
       "    <tr>\n",
       "      <th>72</th>\n",
       "      <td>30</td>\n",
       "      <td>一個</td>\n",
       "    </tr>\n",
       "    <tr>\n",
       "      <th>85</th>\n",
       "      <td>27</td>\n",
       "      <td>新政府</td>\n",
       "    </tr>\n",
       "    <tr>\n",
       "      <th>155</th>\n",
       "      <td>26</td>\n",
       "      <td>會</td>\n",
       "    </tr>\n",
       "    <tr>\n",
       "      <th>167</th>\n",
       "      <td>25</td>\n",
       "      <td>經濟</td>\n",
       "    </tr>\n",
       "    <tr>\n",
       "      <th>33</th>\n",
       "      <td>22</td>\n",
       "      <td>民主</td>\n",
       "    </tr>\n",
       "    <tr>\n",
       "      <th>160</th>\n",
       "      <td>21</td>\n",
       "      <td>社會</td>\n",
       "    </tr>\n",
       "    <tr>\n",
       "      <th>176</th>\n",
       "      <td>20</td>\n",
       "      <td>發展</td>\n",
       "    </tr>\n",
       "    <tr>\n",
       "      <th>303</th>\n",
       "      <td>18</td>\n",
       "      <td>區域</td>\n",
       "    </tr>\n",
       "  </tbody>\n",
       "</table>\n",
       "</div>"
      ],
      "text/plain": [
       "     cnt word\n",
       "57    37   臺灣\n",
       "32    32   國家\n",
       "72    30   一個\n",
       "85    27  新政府\n",
       "155   26    會\n",
       "167   25   經濟\n",
       "33    22   民主\n",
       "160   21   社會\n",
       "176   20   發展\n",
       "303   18   區域"
      ]
     },
     "execution_count": 25,
     "metadata": {},
     "output_type": "execute_result"
    }
   ],
   "source": [
    "top_10"
   ]
  },
  {
   "cell_type": "code",
   "execution_count": 32,
   "metadata": {},
   "outputs": [
    {
     "data": {
      "image/png": "[encoded data removed]",
      "text/plain": [
       "<Figure size 432x288 with 1 Axes>"
      ]
     },
     "metadata": {},
     "output_type": "display_data"
    }
   ],
   "source": [
    "ax = top_10.set_index('word').plot(kind='bar')"
   ]
  },
  {
   "cell_type": "code",
   "execution_count": 52,
   "metadata": {},
   "outputs": [
    {
     "name": "stdout",
     "output_type": "stream",
     "text": [
      "Requirement already satisfied: requests in /Users/ian/.pyenv/versions/3.6.5/Python.framework/Versions/3.6/lib/python3.6/site-packages\n",
      "Requirement already satisfied: certifi>=2017.4.17 in /Users/ian/.pyenv/versions/3.6.5/Python.framework/Versions/3.6/lib/python3.6/site-packages (from requests)\n",
      "Requirement already satisfied: idna<2.8,>=2.5 in /Users/ian/.pyenv/versions/3.6.5/Python.framework/Versions/3.6/lib/python3.6/site-packages (from requests)\n",
      "Requirement already satisfied: urllib3<1.24,>=1.21.1 in /Users/ian/.pyenv/versions/3.6.5/Python.framework/Versions/3.6/lib/python3.6/site-packages (from requests)\n",
      "Requirement already satisfied: chardet<3.1.0,>=3.0.2 in /Users/ian/.pyenv/versions/3.6.5/Python.framework/Versions/3.6/lib/python3.6/site-packages (from requests)\n",
      "\u001b[33mYou are using pip version 9.0.3, however version 10.0.1 is available.\n",
      "You should consider upgrading via the 'pip install --upgrade pip' command.\u001b[0m\n"
     ]
    }
   ],
   "source": [
    "!pip install requests"
   ]
  },
  {
   "cell_type": "code",
   "execution_count": 60,
   "metadata": {},
   "outputs": [],
   "source": [
    "import requests\n",
    "# http://docs.python-requests.org/en/master/"
   ]
  },
  {
   "cell_type": "code",
   "execution_count": 54,
   "metadata": {},
   "outputs": [
    {
     "data": {
      "text/plain": [
       "<Response [200]>"
      ]
     },
     "execution_count": 54,
     "metadata": {},
     "output_type": "execute_result"
    }
   ],
   "source": [
    "requests.get(\"http://api.ipify.org\")"
   ]
  },
  {
   "cell_type": "code",
   "execution_count": 55,
   "metadata": {},
   "outputs": [],
   "source": [
    "from requests import get"
   ]
  },
  {
   "cell_type": "code",
   "execution_count": 56,
   "metadata": {},
   "outputs": [
    {
     "data": {
      "text/plain": [
       "<Response [200]>"
      ]
     },
     "execution_count": 56,
     "metadata": {},
     "output_type": "execute_result"
    }
   ],
   "source": [
    "get('http://api.ipify.org')"
   ]
  },
  {
   "cell_type": "code",
   "execution_count": 57,
   "metadata": {},
   "outputs": [],
   "source": [
    "import requests as r"
   ]
  },
  {
   "cell_type": "code",
   "execution_count": 58,
   "metadata": {},
   "outputs": [
    {
     "data": {
      "text/plain": [
       "<Response [200]>"
      ]
     },
     "execution_count": 58,
     "metadata": {},
     "output_type": "execute_result"
    }
   ],
   "source": [
    "r.get(\"http://api.ipify.org\")"
   ]
  },
  {
   "cell_type": "code",
   "execution_count": 79,
   "metadata": {
    "scrolled": true
   },
   "outputs": [],
   "source": [
    "resp = requests.get(\"https://www.ptt.cc/bbs/creditcard/index2786.html\")"
   ]
  },
  {
   "cell_type": "code",
   "execution_count": 80,
   "metadata": {},
   "outputs": [
    {
     "data": {
      "text/plain": [
       "200"
      ]
     },
     "execution_count": 80,
     "metadata": {},
     "output_type": "execute_result"
    }
   ],
   "source": [
    "resp.status_code"
   ]
  },
  {
   "cell_type": "code",
   "execution_count": 81,
   "metadata": {},
   "outputs": [
    {
     "data": {
      "text/plain": [
       "b'<!DOCTYPE html>\\n<html>\\n\\t<head>\\n\\t\\t<meta charset=\"utf-8\">\\n\\t\\t\\n\\n<meta name=\"viewport\" content=\"width=dev'"
      ]
     },
     "execution_count": 81,
     "metadata": {},
     "output_type": "execute_result"
    }
   ],
   "source": [
    "resp.content[:100]"
   ]
  },
  {
   "cell_type": "code",
   "execution_count": 82,
   "metadata": {},
   "outputs": [
    {
     "data": {
      "text/plain": [
       "'<!DOCTYPE html>\\n<html>\\n\\t<head>\\n\\t\\t<meta charset=\"utf-8\">\\n\\t\\t\\n\\n<meta name=\"viewport\" content=\"width=dev'"
      ]
     },
     "execution_count": 82,
     "metadata": {},
     "output_type": "execute_result"
    }
   ],
   "source": [
    "resp.content.decode('utf-8')[:100]"
   ]
  },
  {
   "cell_type": "code",
   "execution_count": 83,
   "metadata": {},
   "outputs": [
    {
     "data": {
      "text/plain": [
       "'<!DOCTYPE html>\\n<html>\\n\\t<head>\\n\\t\\t<meta charset=\"utf-8\">\\n\\t\\t\\n\\n<meta name=\"viewport\" content=\"width=device-width, initial-scale=1\">\\n\\n<title>看板 creditcard 文章列表 - 批踢踢實業坊</title>\\n\\n<link rel=\"stylesheet\" typ'"
      ]
     },
     "execution_count": 83,
     "metadata": {},
     "output_type": "execute_result"
    }
   ],
   "source": [
    "resp.text[:200]"
   ]
  },
  {
   "cell_type": "code",
   "execution_count": 78,
   "metadata": {},
   "outputs": [
    {
     "data": {
      "text/plain": [
       "'<!DOCTYPE html>\\n<html>\\n\\t<head>\\n\\t\\t<meta charset=\"utf-8\">\\n\\t\\t\\n\\n<meta name=\"viewport\" content=\"width=device-width, initial-scale=1\">\\n\\n<title>看板 creditcard 文章列表 - 批踢踢實業坊</title>\\n\\n<link rel=\"stylesheet\" type=\"text/css\" href=\"//images.ptt.cc/bbs/v2.25/bbs-common.css\">\\n<link rel=\"stylesheet\" type=\"text/css\" href=\"//images.ptt.cc/bbs/v2.25/bbs-base.css\" media=\"screen\">\\n<link rel=\"stylesheet\" type=\"text/css\" href=\"//images.ptt.cc/bbs/v2.25/bbs-custom.css\">\\n<link rel=\"stylesheet\" type=\"text/css\" href=\"//images.ptt.cc/bbs/v2.25/pushstream.css\" media=\"screen\">\\n<link rel=\"stylesheet\" type=\"text/css\" href=\"//images.ptt.cc/bbs/v2.25/bbs-print.css\" media=\"print\">\\n\\n\\n\\n\\n\\t</head>\\n    <body>\\n\\t\\t\\n<div id=\"topbar-container\">\\n\\t<div id=\"topbar\" class=\"bbs-content\">\\n\\t\\t<a id=\"logo\" href=\"/bbs/\">批踢踢實業坊</a>\\n\\t\\t<span>&rsaquo;</span>\\n\\t\\t<a class=\"board\" href=\"/bbs/creditcard/index.html\"><span class=\"board-label\">看板 </span>creditcard</a>\\n\\t\\t<a class=\"right small\" href=\"/about.html\">關於我們</a>\\n\\t\\t<a class=\"right small\" href=\"/contact.html\">聯絡資訊</a>\\n\\t</div>\\n</div>\\n\\n<div id=\"main-container\">\\n\\t<div id=\"action-bar-container\">\\n\\t\\t<div class=\"action-bar\">\\n\\t\\t\\t<div class=\"btn-group btn-group-dir\">\\n\\t\\t\\t\\t<a class=\"btn selected\" href=\"/bbs/creditcard/index.html\">看板</a>\\n\\t\\t\\t\\t<a class=\"btn\" href=\"/man/creditcard/index.html\">精華區</a>\\n\\t\\t\\t</div>\\n\\t\\t\\t<div class=\"btn-group btn-group-paging\">\\n\\t\\t\\t\\t<a class=\"btn wide\" href=\"/bbs/creditcard/index1.html\">最舊</a>\\n\\t\\t\\t\\t<a class=\"btn wide\" href=\"/bbs/creditcard/index2786.html\">&lsaquo; 上頁</a>\\n\\t\\t\\t\\t<a class=\"btn wide disabled\">下頁 &rsaquo;</a>\\n\\t\\t\\t\\t<a class=\"btn wide\" href=\"/bbs/creditcard/index.html\">最新</a>\\n\\t\\t\\t</div>\\n\\t\\t</div>\\n\\t</div>\\n\\n\\t<div class=\"r-list-container action-bar-margin bbs-screen\">\\n\\t\\t<div class=\"search-bar\">\\n\\t\\t\\t<form type=\"get\" action=\"search\" id=\"search-bar\">\\n\\t\\t\\t\\t<input class=\"query\" type=\"text\" name=\"q\" value=\"\" placeholder=\"搜尋文章&#x22ef;\">\\n\\t\\t\\t</form>\\n\\t\\t</div>\\n\\n\\t\\t\\n\\t\\t\\n            \\n        \\n        \\n\\t\\t<div class=\"r-ent\">\\n\\t\\t\\t<div class=\"nrec\"><span class=\"hl f3\">10</span></div>\\n\\t\\t\\t<div class=\"title\">\\n\\t\\t\\t\\n\\t\\t\\t\\t<a href=\"/bbs/creditcard/M.1532503685.A.E33.html\">[問題] 美國運通信用白金卡 首刷禮選擇</a>\\n\\t\\t\\t\\n\\t\\t\\t</div>\\n\\t\\t\\t<div class=\"meta\">\\n\\t\\t\\t\\t<div class=\"author\">george1343</div>\\n\\t\\t\\t\\t<div class=\"article-menu\">\\n\\t\\t\\t\\t\\t\\n\\t\\t\\t\\t\\t<div class=\"trigger\">&#x22ef;</div>\\n\\t\\t\\t\\t\\t<div class=\"dropdown\">\\n\\t\\t\\t\\t\\t\\t<div class=\"item\"><a href=\"/bbs/creditcard/search?q=thread%3A%5B%E5%95%8F%E9%A1%8C%5D&#43;%E7%BE%8E%E5%9C%8B%E9%81%8B%E9%80%9A%E4%BF%A1%E7%94%A8%E7%99%BD%E9%87%91%E5%8D%A1&#43;%E9%A6%96%E5%88%B7%E7%A6%AE%E9%81%B8%E6%93%87\">搜尋同標題文章</a></div>\\n\\t\\t\\t\\t\\t\\t\\n\\t\\t\\t\\t\\t\\t<div class=\"item\"><a href=\"/bbs/creditcard/search?q=author%3Ageorge1343\">搜尋看板內 george1343 的文章</a></div>\\n\\t\\t\\t\\t\\t\\t\\n\\t\\t\\t\\t\\t</div>\\n\\t\\t\\t\\t\\t\\n\\t\\t\\t\\t</div>\\n\\t\\t\\t\\t<div class=\"date\"> 7/25</div>\\n\\t\\t\\t\\t<div class=\"mark\"></div>\\n\\t\\t\\t</div>\\n\\t\\t</div>\\n\\n\\t\\t\\n            \\n        \\n        \\n\\t\\t<div class=\"r-ent\">\\n\\t\\t\\t<div class=\"nrec\"><span class=\"hl f3\">13</span></div>\\n\\t\\t\\t<div class=\"title\">\\n\\t\\t\\t\\n\\t\\t\\t\\t<a href=\"/bbs/creditcard/M.1532505495.A.12B.html\">[心得] 畢業 信用卡通通辦起來</a>\\n\\t\\t\\t\\n\\t\\t\\t</div>\\n\\t\\t\\t<div class=\"meta\">\\n\\t\\t\\t\\t<div class=\"author\">mp5566</div>\\n\\t\\t\\t\\t<div class=\"article-menu\">\\n\\t\\t\\t\\t\\t\\n\\t\\t\\t\\t\\t<div class=\"trigger\">&#x22ef;</div>\\n\\t\\t\\t\\t\\t<div class=\"dropdown\">\\n\\t\\t\\t\\t\\t\\t<div class=\"item\"><a href=\"/bbs/creditcard/search?q=thread%3A%5B%E5%BF%83%E5%BE%97%5D&#43;%E7%95%A2%E6%A5%AD&#43;%E4%BF%A1%E7%94%A8%E5%8D%A1%E9%80%9A%E9%80%9A%E8%BE%A6%E8%B5%B7%E4%BE%86\">搜尋同標題文章</a></div>\\n\\t\\t\\t\\t\\t\\t\\n\\t\\t\\t\\t\\t\\t<div class=\"item\"><a href=\"/bbs/creditcard/search?q=author%3Amp5566\">搜尋看板內 mp5566 的文章</a></div>\\n\\t\\t\\t\\t\\t\\t\\n\\t\\t\\t\\t\\t</div>\\n\\t\\t\\t\\t\\t\\n\\t\\t\\t\\t</div>\\n\\t\\t\\t\\t<div class=\"date\"> 7/25</div>\\n\\t\\t\\t\\t<div class=\"mark\"></div>\\n\\t\\t\\t</div>\\n\\t\\t</div>\\n\\n\\t\\t\\n            \\n        \\n        \\n\\t\\t<div class=\"r-ent\">\\n\\t\\t\\t<div class=\"nrec\"><span class=\"hl f3\">17</span></div>\\n\\t\\t\\t<div class=\"title\">\\n\\t\\t\\t\\n\\t\\t\\t\\t<a href=\"/bbs/creditcard/M.1532514679.A.92E.html\">[問題] SKYPE打信用卡客服無法正確輸入數字?</a>\\n\\t\\t\\t\\n\\t\\t\\t</div>\\n\\t\\t\\t<div class=\"meta\">\\n\\t\\t\\t\\t<div class=\"author\">finhisky</div>\\n\\t\\t\\t\\t<div class=\"article-menu\">\\n\\t\\t\\t\\t\\t\\n\\t\\t\\t\\t\\t<div class=\"trigger\">&#x22ef;</div>\\n\\t\\t\\t\\t\\t<div class=\"dropdown\">\\n\\t\\t\\t\\t\\t\\t<div class=\"item\"><a href=\"/bbs/creditcard/search?q=thread%3A%5B%E5%95%8F%E9%A1%8C%5D&#43;SKYPE%E6%89%93%E4%BF%A1%E7%94%A8%E5%8D%A1%E5%AE%A2%E6%9C%8D%E7%84%A1%E6%B3%95%E6%AD%A3%E7%A2%BA%E8%BC%B8%E5%85%A5%E6%95%B8%E5%AD%97%3F\">搜尋同標題文章</a></div>\\n\\t\\t\\t\\t\\t\\t\\n\\t\\t\\t\\t\\t\\t<div class=\"item\"><a href=\"/bbs/creditcard/search?q=author%3Afinhisky\">搜尋看板內 finhisky 的文章</a></div>\\n\\t\\t\\t\\t\\t\\t\\n\\t\\t\\t\\t\\t</div>\\n\\t\\t\\t\\t\\t\\n\\t\\t\\t\\t</div>\\n\\t\\t\\t\\t<div class=\"date\"> 7/25</div>\\n\\t\\t\\t\\t<div class=\"mark\"></div>\\n\\t\\t\\t</div>\\n\\t\\t</div>\\n\\n\\t\\t\\n            \\n        \\n        \\n\\t\\t<div class=\"r-ent\">\\n\\t\\t\\t<div class=\"nrec\"></div>\\n\\t\\t\\t<div class=\"title\">\\n\\t\\t\\t\\n\\t\\t\\t\\t(本文已被刪除) [eclse]\\n\\t\\t\\t\\n\\t\\t\\t</div>\\n\\t\\t\\t<div class=\"meta\">\\n\\t\\t\\t\\t<div class=\"author\">-</div>\\n\\t\\t\\t\\t<div class=\"article-menu\">\\n\\t\\t\\t\\t\\t\\n\\t\\t\\t\\t</div>\\n\\t\\t\\t\\t<div class=\"date\"> 7/25</div>\\n\\t\\t\\t\\t<div class=\"mark\"></div>\\n\\t\\t\\t</div>\\n\\t\\t</div>\\n\\n\\t\\t\\n            \\n        \\n        \\n\\t\\t<div class=\"r-ent\">\\n\\t\\t\\t<div class=\"nrec\"><span class=\"hl f3\">26</span></div>\\n\\t\\t\\t<div class=\"title\">\\n\\t\\t\\t\\n\\t\\t\\t\\t<a href=\"/bbs/creditcard/M.1532523222.A.285.html\">Re: [情報] koko卡買6年儲蓄險送15萬op點</a>\\n\\t\\t\\t\\n\\t\\t\\t</div>\\n\\t\\t\\t<div class=\"meta\">\\n\\t\\t\\t\\t<div class=\"author\">anc5566</div>\\n\\t\\t\\t\\t<div class=\"article-menu\">\\n\\t\\t\\t\\t\\t\\n\\t\\t\\t\\t\\t<div class=\"trigger\">&#x22ef;</div>\\n\\t\\t\\t\\t\\t<div class=\"dropdown\">\\n\\t\\t\\t\\t\\t\\t<div class=\"item\"><a href=\"/bbs/creditcard/search?q=thread%3A%5B%E6%83%85%E5%A0%B1%5D&#43;koko%E5%8D%A1%E8%B2%B76%E5%B9%B4%E5%84%B2%E8%93%84%E9%9A%AA%E9%80%8115%E8%90%ACop%E9%BB%9E\">搜尋同標題文章</a></div>\\n\\t\\t\\t\\t\\t\\t\\n\\t\\t\\t\\t\\t\\t<div class=\"item\"><a href=\"/bbs/creditcard/search?q=author%3Aanc5566\">搜尋看板內 anc5566 的文章</a></div>\\n\\t\\t\\t\\t\\t\\t\\n\\t\\t\\t\\t\\t</div>\\n\\t\\t\\t\\t\\t\\n\\t\\t\\t\\t</div>\\n\\t\\t\\t\\t<div class=\"date\"> 7/25</div>\\n\\t\\t\\t\\t<div class=\"mark\"></div>\\n\\t\\t\\t</div>\\n\\t\\t</div>\\n\\n\\t\\t\\n            \\n        \\n        \\n\\t\\t<div class=\"r-ent\">\\n\\t\\t\\t<div class=\"nrec\"><span class=\"hl f2\">9</span></div>\\n\\t\\t\\t<div class=\"title\">\\n\\t\\t\\t\\n\\t\\t\\t\\t<a href=\"/bbs/creditcard/M.1532525775.A.7CA.html\">[情報] LINE Pay 接受台北富邦銀行聯邦銀行投資</a>\\n\\t\\t\\t\\n\\t\\t\\t</div>\\n\\t\\t\\t<div class=\"meta\">\\n\\t\\t\\t\\t<div class=\"author\">alex1973</div>\\n\\t\\t\\t\\t<div class=\"article-menu\">\\n\\t\\t\\t\\t\\t\\n\\t\\t\\t\\t\\t<div class=\"trigger\">&#x22ef;</div>\\n\\t\\t\\t\\t\\t<div class=\"dropdown\">\\n\\t\\t\\t\\t\\t\\t<div class=\"item\"><a href=\"/bbs/creditcard/search?q=thread%3A%5B%E6%83%85%E5%A0%B1%5D&#43;LINE&#43;Pay&#43;%E6%8E%A5%E5%8F%97%E5%8F%B0%E5%8C%97%E5%AF%8C%E9%82%A6%E9%8A%80%E8%A1%8C%E8%81%AF%E9%82%A6%E9%8A%80%E8%A1%8C%E6%8A%95%E8%B3%87\">搜尋同標題文章</a></div>\\n\\t\\t\\t\\t\\t\\t\\n\\t\\t\\t\\t\\t\\t<div class=\"item\"><a href=\"/bbs/creditcard/search?q=author%3Aalex1973\">搜尋看板內 alex1973 的文章</a></div>\\n\\t\\t\\t\\t\\t\\t\\n\\t\\t\\t\\t\\t</div>\\n\\t\\t\\t\\t\\t\\n\\t\\t\\t\\t</div>\\n\\t\\t\\t\\t<div class=\"date\"> 7/25</div>\\n\\t\\t\\t\\t<div class=\"mark\"></div>\\n\\t\\t\\t</div>\\n\\t\\t</div>\\n\\n\\t\\t\\n            \\n        \\n        \\n\\t\\t<div class=\"r-ent\">\\n\\t\\t\\t<div class=\"nrec\"><span class=\"hl f2\">9</span></div>\\n\\t\\t\\t<div class=\"title\">\\n\\t\\t\\t\\n\\t\\t\\t\\t<a href=\"/bbs/creditcard/M.1532527960.A.D59.html\">[心得] 中信中油聯名卡 核卡</a>\\n\\t\\t\\t\\n\\t\\t\\t</div>\\n\\t\\t\\t<div class=\"meta\">\\n\\t\\t\\t\\t<div class=\"author\">mypineapple</div>\\n\\t\\t\\t\\t<div class=\"article-menu\">\\n\\t\\t\\t\\t\\t\\n\\t\\t\\t\\t\\t<div class=\"trigger\">&#x22ef;</div>\\n\\t\\t\\t\\t\\t<div class=\"dropdown\">\\n\\t\\t\\t\\t\\t\\t<div class=\"item\"><a href=\"/bbs/creditcard/search?q=thread%3A%5B%E5%BF%83%E5%BE%97%5D&#43;%E4%B8%AD%E4%BF%A1%E4%B8%AD%E6%B2%B9%E8%81%AF%E5%90%8D%E5%8D%A1&#43;%E6%A0%B8%E5%8D%A1\">搜尋同標題文章</a></div>\\n\\t\\t\\t\\t\\t\\t\\n\\t\\t\\t\\t\\t\\t<div class=\"item\"><a href=\"/bbs/creditcard/search?q=author%3Amypineapple\">搜尋看板內 mypineapple 的文章</a></div>\\n\\t\\t\\t\\t\\t\\t\\n\\t\\t\\t\\t\\t</div>\\n\\t\\t\\t\\t\\t\\n\\t\\t\\t\\t</div>\\n\\t\\t\\t\\t<div class=\"date\"> 7/25</div>\\n\\t\\t\\t\\t<div class=\"mark\"></div>\\n\\t\\t\\t</div>\\n\\t\\t</div>\\n\\n\\t\\t\\n            \\n        \\n        \\n\\t\\t<div class=\"r-ent\">\\n\\t\\t\\t<div class=\"nrec\"><span class=\"hl f3\">11</span></div>\\n\\t\\t\\t<div class=\"title\">\\n\\t\\t\\t\\n\\t\\t\\t\\t<a href=\"/bbs/creditcard/M.1532531103.A.CDA.html\">Re: [情報] koko卡買6年儲蓄險送15萬op點</a>\\n\\t\\t\\t\\n\\t\\t\\t</div>\\n\\t\\t\\t<div class=\"meta\">\\n\\t\\t\\t\\t<div class=\"author\">medama</div>\\n\\t\\t\\t\\t<div class=\"article-menu\">\\n\\t\\t\\t\\t\\t\\n\\t\\t\\t\\t\\t<div class=\"trigger\">&#x22ef;</div>\\n\\t\\t\\t\\t\\t<div class=\"dropdown\">\\n\\t\\t\\t\\t\\t\\t<div class=\"item\"><a href=\"/bbs/creditcard/search?q=thread%3A%5B%E6%83%85%E5%A0%B1%5D&#43;koko%E5%8D%A1%E8%B2%B76%E5%B9%B4%E5%84%B2%E8%93%84%E9%9A%AA%E9%80%8115%E8%90%ACop%E9%BB%9E\">搜尋同標題文章</a></div>\\n\\t\\t\\t\\t\\t\\t\\n\\t\\t\\t\\t\\t\\t<div class=\"item\"><a href=\"/bbs/creditcard/search?q=author%3Amedama\">搜尋看板內 medama 的文章</a></div>\\n\\t\\t\\t\\t\\t\\t\\n\\t\\t\\t\\t\\t</div>\\n\\t\\t\\t\\t\\t\\n\\t\\t\\t\\t</div>\\n\\t\\t\\t\\t<div class=\"date\"> 7/25</div>\\n\\t\\t\\t\\t<div class=\"mark\"></div>\\n\\t\\t\\t</div>\\n\\t\\t</div>\\n\\n\\t\\t\\n            \\n        \\n        \\n\\t\\t<div class=\"r-ent\">\\n\\t\\t\\t<div class=\"nrec\"><span class=\"hl f2\">1</span></div>\\n\\t\\t\\t<div class=\"title\">\\n\\t\\t\\t\\n\\t\\t\\t\\t<a href=\"/bbs/creditcard/M.1532531596.A.689.html\">[討論] 今年83女生節真的沒有17%回饋嗎? </a>\\n\\t\\t\\t\\n\\t\\t\\t</div>\\n\\t\\t\\t<div class=\"meta\">\\n\\t\\t\\t\\t<div class=\"author\">marosky</div>\\n\\t\\t\\t\\t<div class=\"article-menu\">\\n\\t\\t\\t\\t\\t\\n\\t\\t\\t\\t\\t<div class=\"trigger\">&#x22ef;</div>\\n\\t\\t\\t\\t\\t<div class=\"dropdown\">\\n\\t\\t\\t\\t\\t\\t<div class=\"item\"><a href=\"/bbs/creditcard/search?q=thread%3A%5B%E8%A8%8E%E8%AB%96%5D&#43;%E4%BB%8A%E5%B9%B483%E5%A5%B3%E7%94%9F%E7%AF%80%E7%9C%9F%E7%9A%84%E6%B2%92%E6%9C%8917%25%E5%9B%9E%E9%A5%8B%E5%97%8E%3F&#43;\">搜尋同標題文章</a></div>\\n\\t\\t\\t\\t\\t\\t\\n\\t\\t\\t\\t\\t\\t<div class=\"item\"><a href=\"/bbs/creditcard/search?q=author%3Amarosky\">搜尋看板內 marosky 的文章</a></div>\\n\\t\\t\\t\\t\\t\\t\\n\\t\\t\\t\\t\\t</div>\\n\\t\\t\\t\\t\\t\\n\\t\\t\\t\\t</div>\\n\\t\\t\\t\\t<div class=\"date\"> 7/25</div>\\n\\t\\t\\t\\t<div class=\"mark\"></div>\\n\\t\\t\\t</div>\\n\\t\\t</div>\\n\\n\\t\\t\\n            \\n        \\n        \\n\\t\\t<div class=\"r-ent\">\\n\\t\\t\\t<div class=\"nrec\"><span class=\"hl f3\">16</span></div>\\n\\t\\t\\t<div class=\"title\">\\n\\t\\t\\t\\n\\t\\t\\t\\t<a href=\"/bbs/creditcard/M.1532532004.A.D3D.html\">[情報] 玉山幸運PLUS鈦金卡自動加值10%回饋</a>\\n\\t\\t\\t\\n\\t\\t\\t</div>\\n\\t\\t\\t<div class=\"meta\">\\n\\t\\t\\t\\t<div class=\"author\">yabus</div>\\n\\t\\t\\t\\t<div class=\"article-menu\">\\n\\t\\t\\t\\t\\t\\n\\t\\t\\t\\t\\t<div class=\"trigger\">&#x22ef;</div>\\n\\t\\t\\t\\t\\t<div class=\"dropdown\">\\n\\t\\t\\t\\t\\t\\t<div class=\"item\"><a href=\"/bbs/creditcard/search?q=thread%3A%5B%E6%83%85%E5%A0%B1%5D&#43;%E7%8E%89%E5%B1%B1%E5%B9%B8%E9%81%8BPLUS%E9%88%A6%E9%87%91%E5%8D%A1%E8%87%AA%E5%8B%95%E5%8A%A0%E5%80%BC10%25%E5%9B%9E%E9%A5%8B\">搜尋同標題文章</a></div>\\n\\t\\t\\t\\t\\t\\t\\n\\t\\t\\t\\t\\t\\t<div class=\"item\"><a href=\"/bbs/creditcard/search?q=author%3Ayabus\">搜尋看板內 yabus 的文章</a></div>\\n\\t\\t\\t\\t\\t\\t\\n\\t\\t\\t\\t\\t</div>\\n\\t\\t\\t\\t\\t\\n\\t\\t\\t\\t</div>\\n\\t\\t\\t\\t<div class=\"date\"> 7/25</div>\\n\\t\\t\\t\\t<div class=\"mark\"></div>\\n\\t\\t\\t</div>\\n\\t\\t</div>\\n\\n\\t\\t\\n            \\n        \\n        \\n\\t\\t<div class=\"r-ent\">\\n\\t\\t\\t<div class=\"nrec\"></div>\\n\\t\\t\\t<div class=\"title\">\\n\\t\\t\\t\\n\\t\\t\\t\\t&lt;billylaw51&gt; 1-3未爬文 警告一次 by cg.\\n\\t\\t\\t\\n\\t\\t\\t</div>\\n\\t\\t\\t<div class=\"meta\">\\n\\t\\t\\t\\t<div class=\"author\">-</div>\\n\\t\\t\\t\\t<div class=\"article-menu\">\\n\\t\\t\\t\\t\\t\\n\\t\\t\\t\\t</div>\\n\\t\\t\\t\\t<div class=\"date\"> 7/25</div>\\n\\t\\t\\t\\t<div class=\"mark\"></div>\\n\\t\\t\\t</div>\\n\\t\\t</div>\\n\\n\\t\\t\\n            \\n        \\n        \\n\\t\\t<div class=\"r-ent\">\\n\\t\\t\\t<div class=\"nrec\"></div>\\n\\t\\t\\t<div class=\"title\">\\n\\t\\t\\t\\n\\t\\t\\t\\t(本文已被刪除) [vlkppa]\\n\\t\\t\\t\\n\\t\\t\\t</div>\\n\\t\\t\\t<div class=\"meta\">\\n\\t\\t\\t\\t<div class=\"author\">-</div>\\n\\t\\t\\t\\t<div class=\"article-menu\">\\n\\t\\t\\t\\t\\t\\n\\t\\t\\t\\t</div>\\n\\t\\t\\t\\t<div class=\"date\"> 7/26</div>\\n\\t\\t\\t\\t<div class=\"mark\"></div>\\n\\t\\t\\t</div>\\n\\t\\t</div>\\n\\n\\t\\t\\n            \\n        \\n        \\n\\t\\t<div class=\"r-ent\">\\n\\t\\t\\t<div class=\"nrec\"><span class=\"hl f2\">3</span></div>\\n\\t\\t\\t<div class=\"title\">\\n\\t\\t\\t\\n\\t\\t\\t\\t<a href=\"/bbs/creditcard/M.1532569489.A.701.html\">Re: [討論] 日本刷卡-七、八月JCB現金回饋%數最優</a>\\n\\t\\t\\t\\n\\t\\t\\t</div>\\n\\t\\t\\t<div class=\"meta\">\\n\\t\\t\\t\\t<div class=\"author\">tono0705</div>\\n\\t\\t\\t\\t<div class=\"article-menu\">\\n\\t\\t\\t\\t\\t\\n\\t\\t\\t\\t\\t<div class=\"trigger\">&#x22ef;</div>\\n\\t\\t\\t\\t\\t<div class=\"dropdown\">\\n\\t\\t\\t\\t\\t\\t<div class=\"item\"><a href=\"/bbs/creditcard/search?q=thread%3A%5B%E8%A8%8E%E8%AB%96%5D&#43;%E6%97%A5%E6%9C%AC%E5%88%B7%E5%8D%A1-%E4%B8%83%E3%80%81%E5%85%AB%E6%9C%88JCB%E7%8F%BE%E9%87%91%E5%9B%9E%E9%A5%8B%25%E6%95%B8%E6%9C%80%E5%84%AA\">搜尋同標題文章</a></div>\\n\\t\\t\\t\\t\\t\\t\\n\\t\\t\\t\\t\\t\\t<div class=\"item\"><a href=\"/bbs/creditcard/search?q=author%3Atono0705\">搜尋看板內 tono0705 的文章</a></div>\\n\\t\\t\\t\\t\\t\\t\\n\\t\\t\\t\\t\\t</div>\\n\\t\\t\\t\\t\\t\\n\\t\\t\\t\\t</div>\\n\\t\\t\\t\\t<div class=\"date\"> 7/26</div>\\n\\t\\t\\t\\t<div class=\"mark\"></div>\\n\\t\\t\\t</div>\\n\\t\\t</div>\\n\\n\\t\\t\\n            \\n        \\n        \\n\\t\\t<div class=\"r-ent\">\\n\\t\\t\\t<div class=\"nrec\"><span class=\"hl f2\">2</span></div>\\n\\t\\t\\t<div class=\"title\">\\n\\t\\t\\t\\n\\t\\t\\t\\t<a href=\"/bbs/creditcard/M.1532569641.A.3D2.html\">[閒聊] 聯邦剪卡被慰留</a>\\n\\t\\t\\t\\n\\t\\t\\t</div>\\n\\t\\t\\t<div class=\"meta\">\\n\\t\\t\\t\\t<div class=\"author\">Eppieyu</div>\\n\\t\\t\\t\\t<div class=\"article-menu\">\\n\\t\\t\\t\\t\\t\\n\\t\\t\\t\\t\\t<div class=\"trigger\">&#x22ef;</div>\\n\\t\\t\\t\\t\\t<div class=\"dropdown\">\\n\\t\\t\\t\\t\\t\\t<div class=\"item\"><a href=\"/bbs/creditcard/search?q=thread%3A%5B%E9%96%92%E8%81%8A%5D&#43;%E8%81%AF%E9%82%A6%E5%89%AA%E5%8D%A1%E8%A2%AB%E6%85%B0%E7%95%99\">搜尋同標題文章</a></div>\\n\\t\\t\\t\\t\\t\\t\\n\\t\\t\\t\\t\\t\\t<div class=\"item\"><a href=\"/bbs/creditcard/search?q=author%3AEppieyu\">搜尋看板內 Eppieyu 的文章</a></div>\\n\\t\\t\\t\\t\\t\\t\\n\\t\\t\\t\\t\\t</div>\\n\\t\\t\\t\\t\\t\\n\\t\\t\\t\\t</div>\\n\\t\\t\\t\\t<div class=\"date\"> 7/26</div>\\n\\t\\t\\t\\t<div class=\"mark\"></div>\\n\\t\\t\\t</div>\\n\\t\\t</div>\\n\\n\\t\\t\\n            \\n        \\n        \\n\\t\\t<div class=\"r-ent\">\\n\\t\\t\\t<div class=\"nrec\"><span class=\"hl f2\">1</span></div>\\n\\t\\t\\t<div class=\"title\">\\n\\t\\t\\t\\n\\t\\t\\t\\t<a href=\"/bbs/creditcard/M.1532572135.A.CA6.html\">[心得]中信linepay VISA 御璽卡 核卡 </a>\\n\\t\\t\\t\\n\\t\\t\\t</div>\\n\\t\\t\\t<div class=\"meta\">\\n\\t\\t\\t\\t<div class=\"author\">ash2501</div>\\n\\t\\t\\t\\t<div class=\"article-menu\">\\n\\t\\t\\t\\t\\t\\n\\t\\t\\t\\t\\t<div class=\"trigger\">&#x22ef;</div>\\n\\t\\t\\t\\t\\t<div class=\"dropdown\">\\n\\t\\t\\t\\t\\t\\t<div class=\"item\"><a href=\"/bbs/creditcard/search?q=thread%3A%5B%E5%BF%83%E5%BE%97%5D%E4%B8%AD%E4%BF%A1linepay&#43;VISA&#43;%E5%BE%A1%E7%92%BD%E5%8D%A1&#43;%E6%A0%B8%E5%8D%A1&#43;\">搜尋同標題文章</a></div>\\n\\t\\t\\t\\t\\t\\t\\n\\t\\t\\t\\t\\t\\t<div class=\"item\"><a href=\"/bbs/creditcard/search?q=author%3Aash2501\">搜尋看板內 ash2501 的文章</a></div>\\n\\t\\t\\t\\t\\t\\t\\n\\t\\t\\t\\t\\t</div>\\n\\t\\t\\t\\t\\t\\n\\t\\t\\t\\t</div>\\n\\t\\t\\t\\t<div class=\"date\"> 7/26</div>\\n\\t\\t\\t\\t<div class=\"mark\"></div>\\n\\t\\t\\t</div>\\n\\t\\t</div>\\n\\n\\t\\t\\n            \\n        \\n        \\n\\t\\t<div class=\"r-ent\">\\n\\t\\t\\t<div class=\"nrec\"><span class=\"hl f2\">2</span></div>\\n\\t\\t\\t<div class=\"title\">\\n\\t\\t\\t\\n\\t\\t\\t\\t<a href=\"/bbs/creditcard/M.1532572476.A.A29.html\">[心得] 星展飛行世界卡  核卡</a>\\n\\t\\t\\t\\n\\t\\t\\t</div>\\n\\t\\t\\t<div class=\"meta\">\\n\\t\\t\\t\\t<div class=\"author\">alexj</div>\\n\\t\\t\\t\\t<div class=\"article-menu\">\\n\\t\\t\\t\\t\\t\\n\\t\\t\\t\\t\\t<div class=\"trigger\">&#x22ef;</div>\\n\\t\\t\\t\\t\\t<div class=\"dropdown\">\\n\\t\\t\\t\\t\\t\\t<div class=\"item\"><a href=\"/bbs/creditcard/search?q=thread%3A%5B%E5%BF%83%E5%BE%97%5D&#43;%E6%98%9F%E5%B1%95%E9%A3%9B%E8%A1%8C%E4%B8%96%E7%95%8C%E5%8D%A1&#43;&#43;%E6%A0%B8%E5%8D%A1\">搜尋同標題文章</a></div>\\n\\t\\t\\t\\t\\t\\t\\n\\t\\t\\t\\t\\t\\t<div class=\"item\"><a href=\"/bbs/creditcard/search?q=author%3Aalexj\">搜尋看板內 alexj 的文章</a></div>\\n\\t\\t\\t\\t\\t\\t\\n\\t\\t\\t\\t\\t</div>\\n\\t\\t\\t\\t\\t\\n\\t\\t\\t\\t</div>\\n\\t\\t\\t\\t<div class=\"date\"> 7/26</div>\\n\\t\\t\\t\\t<div class=\"mark\"></div>\\n\\t\\t\\t</div>\\n\\t\\t</div>\\n\\n\\t\\t\\n        \\n        <div class=\"r-list-sep\"></div>\\n            \\n                \\n        \\n        \\n\\t\\t<div class=\"r-ent\">\\n\\t\\t\\t<div class=\"nrec\"><span class=\"hl f2\">3</span></div>\\n\\t\\t\\t<div class=\"title\">\\n\\t\\t\\t\\n\\t\\t\\t\\t<a href=\"/bbs/creditcard/M.1488251491.A.C7B.html\">[公告] === 卡板板規 V8.0 === (2018/05/25修訂)</a>\\n\\t\\t\\t\\n\\t\\t\\t</div>\\n\\t\\t\\t<div class=\"meta\">\\n\\t\\t\\t\\t<div class=\"author\">MoonAthenaX</div>\\n\\t\\t\\t\\t<div class=\"article-menu\">\\n\\t\\t\\t\\t\\t\\n\\t\\t\\t\\t\\t<div class=\"trigger\">&#x22ef;</div>\\n\\t\\t\\t\\t\\t<div class=\"dropdown\">\\n\\t\\t\\t\\t\\t\\t<div class=\"item\"><a href=\"/bbs/creditcard/search?q=thread%3A%5B%E5%85%AC%E5%91%8A%5D&#43;%3D%3D%3D&#43;%E5%8D%A1%E6%9D%BF%E6%9D%BF%E8%A6%8F&#43;V8.0&#43;%3D%3D%3D&#43;%282018%2F05%2F25%E4%BF%AE%E8%A8%82%29\">搜尋同標題文章</a></div>\\n\\t\\t\\t\\t\\t\\t\\n\\t\\t\\t\\t\\t\\t<div class=\"item\"><a href=\"/bbs/creditcard/search?q=author%3AMoonAthenaX\">搜尋看板內 MoonAthenaX 的文章</a></div>\\n\\t\\t\\t\\t\\t\\t\\n\\t\\t\\t\\t\\t</div>\\n\\t\\t\\t\\t\\t\\n\\t\\t\\t\\t</div>\\n\\t\\t\\t\\t<div class=\"date\"> 2/28</div>\\n\\t\\t\\t\\t<div class=\"mark\">M</div>\\n\\t\\t\\t</div>\\n\\t\\t</div>\\n\\n            \\n                \\n        \\n        \\n\\t\\t<div class=\"r-ent\">\\n\\t\\t\\t<div class=\"nrec\"><span class=\"hl f3\">51</span></div>\\n\\t\\t\\t<div class=\"title\">\\n\\t\\t\\t\\n\\t\\t\\t\\t<a href=\"/bbs/creditcard/M.1425488177.A.59D.html\">[公告] 置底檢舉專區</a>\\n\\t\\t\\t\\n\\t\\t\\t</div>\\n\\t\\t\\t<div class=\"meta\">\\n\\t\\t\\t\\t<div class=\"author\">bboy0720</div>\\n\\t\\t\\t\\t<div class=\"article-menu\">\\n\\t\\t\\t\\t\\t\\n\\t\\t\\t\\t\\t<div class=\"trigger\">&#x22ef;</div>\\n\\t\\t\\t\\t\\t<div class=\"dropdown\">\\n\\t\\t\\t\\t\\t\\t<div class=\"item\"><a href=\"/bbs/creditcard/search?q=thread%3A%5B%E5%85%AC%E5%91%8A%5D&#43;%E7%BD%AE%E5%BA%95%E6%AA%A2%E8%88%89%E5%B0%88%E5%8D%80\">搜尋同標題文章</a></div>\\n\\t\\t\\t\\t\\t\\t\\n\\t\\t\\t\\t\\t\\t<div class=\"item\"><a href=\"/bbs/creditcard/search?q=author%3Abboy0720\">搜尋看板內 bboy0720 的文章</a></div>\\n\\t\\t\\t\\t\\t\\t\\n\\t\\t\\t\\t\\t</div>\\n\\t\\t\\t\\t\\t\\n\\t\\t\\t\\t</div>\\n\\t\\t\\t\\t<div class=\"date\"> 3/05</div>\\n\\t\\t\\t\\t<div class=\"mark\">M</div>\\n\\t\\t\\t</div>\\n\\t\\t</div>\\n\\n            \\n                \\n        \\n        \\n\\t\\t<div class=\"r-ent\">\\n\\t\\t\\t<div class=\"nrec\"><span class=\"hl f3\">66</span></div>\\n\\t\\t\\t<div class=\"title\">\\n\\t\\t\\t\\n\\t\\t\\t\\t<a href=\"/bbs/creditcard/M.1425873650.A.F81.html\">[情報] 各家銀行0800免付費電話</a>\\n\\t\\t\\t\\n\\t\\t\\t</div>\\n\\t\\t\\t<div class=\"meta\">\\n\\t\\t\\t\\t<div class=\"author\">MoonAthenaX</div>\\n\\t\\t\\t\\t<div class=\"article-menu\">\\n\\t\\t\\t\\t\\t\\n\\t\\t\\t\\t\\t<div class=\"trigger\">&#x22ef;</div>\\n\\t\\t\\t\\t\\t<div class=\"dropdown\">\\n\\t\\t\\t\\t\\t\\t<div class=\"item\"><a href=\"/bbs/creditcard/search?q=thread%3A%5B%E6%83%85%E5%A0%B1%5D&#43;%E5%90%84%E5%AE%B6%E9%8A%80%E8%A1%8C0800%E5%85%8D%E4%BB%98%E8%B2%BB%E9%9B%BB%E8%A9%B1\">搜尋同標題文章</a></div>\\n\\t\\t\\t\\t\\t\\t\\n\\t\\t\\t\\t\\t\\t<div class=\"item\"><a href=\"/bbs/creditcard/search?q=author%3AMoonAthenaX\">搜尋看板內 MoonAthenaX 的文章</a></div>\\n\\t\\t\\t\\t\\t\\t\\n\\t\\t\\t\\t\\t</div>\\n\\t\\t\\t\\t\\t\\n\\t\\t\\t\\t</div>\\n\\t\\t\\t\\t<div class=\"date\"> 3/09</div>\\n\\t\\t\\t\\t<div class=\"mark\">M</div>\\n\\t\\t\\t</div>\\n\\t\\t</div>\\n\\n            \\n                \\n        \\n        \\n\\t\\t<div class=\"r-ent\">\\n\\t\\t\\t<div class=\"nrec\"><span class=\"hl f1\">爆</span></div>\\n\\t\\t\\t<div class=\"title\">\\n\\t\\t\\t\\n\\t\\t\\t\\t<a href=\"/bbs/creditcard/M.1528898930.A.F33.html\">[心得] 小資族 日常消費 最優惠回饋 整理(7/18)</a>\\n\\t\\t\\t\\n\\t\\t\\t</div>\\n\\t\\t\\t<div class=\"meta\">\\n\\t\\t\\t\\t<div class=\"author\">DarkRobert</div>\\n\\t\\t\\t\\t<div class=\"article-menu\">\\n\\t\\t\\t\\t\\t\\n\\t\\t\\t\\t\\t<div class=\"trigger\">&#x22ef;</div>\\n\\t\\t\\t\\t\\t<div class=\"dropdown\">\\n\\t\\t\\t\\t\\t\\t<div class=\"item\"><a href=\"/bbs/creditcard/search?q=thread%3A%5B%E5%BF%83%E5%BE%97%5D&#43;%E5%B0%8F%E8%B3%87%E6%97%8F&#43;%E6%97%A5%E5%B8%B8%E6%B6%88%E8%B2%BB&#43;%E6%9C%80%E5%84%AA%E6%83%A0%E5%9B%9E%E9%A5%8B&#43;%E6%95%B4%E7%90%86%287%2F18%29\">搜尋同標題文章</a></div>\\n\\t\\t\\t\\t\\t\\t\\n\\t\\t\\t\\t\\t\\t<div class=\"item\"><a href=\"/bbs/creditcard/search?q=author%3ADarkRobert\">搜尋看板內 DarkRobert 的文章</a></div>\\n\\t\\t\\t\\t\\t\\t\\n\\t\\t\\t\\t\\t</div>\\n\\t\\t\\t\\t\\t\\n\\t\\t\\t\\t</div>\\n\\t\\t\\t\\t<div class=\"date\"> 6/13</div>\\n\\t\\t\\t\\t<div class=\"mark\">M</div>\\n\\t\\t\\t</div>\\n\\t\\t</div>\\n\\n            \\n        \\n\\t</div>\\n\\n    \\n</div>\\n\\n\\t\\t\\n\\n<script>\\n  (function(i,s,o,g,r,a,m){i[\\'GoogleAnalyticsObject\\']=r;i[r]=i[r]||function(){\\n  (i[r].q=i[r].q||[]).push(arguments)},i[r].l=1*new Date();a=s.createElement(o),\\n  m=s.getElementsByTagName(o)[0];a.async=1;a.src=g;m.parentNode.insertBefore(a,m)\\n  })(window,document,\\'script\\',\\'https://www.google-analytics.com/analytics.js\\',\\'ga\\');\\n\\n  ga(\\'create\\', \\'UA-32365737-1\\', {\\n    cookieDomain: \\'ptt.cc\\',\\n    legacyCookieDomain: \\'ptt.cc\\'\\n  });\\n  ga(\\'send\\', \\'pageview\\');\\n</script>\\n\\n\\n\\t\\t\\n<script src=\"//ajax.googleapis.com/ajax/libs/jquery/2.1.1/jquery.min.js\"></script>\\n<script src=\"//images.ptt.cc/bbs/v2.25/bbs.js\"></script>\\n\\n    </body>\\n</html>\\n'"
      ]
     },
     "execution_count": 78,
     "metadata": {},
     "output_type": "execute_result"
    }
   ],
   "source": [
    "resp.text"
   ]
  },
  {
   "cell_type": "code",
   "execution_count": 85,
   "metadata": {},
   "outputs": [],
   "source": [
    "with open('./creditcard.html', 'w') as f:\n",
    "    f.write(resp.text)"
   ]
  },
  {
   "cell_type": "markdown",
   "metadata": {},
   "source": [
    "# Regex"
   ]
  },
  {
   "cell_type": "code",
   "execution_count": 121,
   "metadata": {},
   "outputs": [],
   "source": [
    "cool_html = '''<html>\n",
    "<head>\n",
    "</head>\n",
    "<body>\n",
    "<a class=\"btn wide\" href=\"/bbs/creditcard/index27983492429843287.html\">&lsaquo; 上頁</a>\n",
    "<a class=\"btn wide\" href=\"/bbs/creditcard/index278000070.html\">&lsaquo; 下頁</a>\n",
    "</body>\n",
    "</html>'''"
   ]
  },
  {
   "cell_type": "code",
   "execution_count": 113,
   "metadata": {},
   "outputs": [
    {
     "data": {
      "text/plain": [
       "[]"
      ]
     },
     "execution_count": 113,
     "metadata": {},
     "output_type": "execute_result"
    }
   ],
   "source": [
    "re.findall('2786', cool_html)"
   ]
  },
  {
   "cell_type": "code",
   "execution_count": 114,
   "metadata": {},
   "outputs": [
    {
     "data": {
      "text/plain": [
       "['2787', '2780', '0007']"
      ]
     },
     "execution_count": 114,
     "metadata": {},
     "output_type": "execute_result"
    }
   ],
   "source": [
    "# \\d => 0-9\n",
    "re.findall('\\d\\d\\d\\d', cool_html)"
   ]
  },
  {
   "cell_type": "code",
   "execution_count": 115,
   "metadata": {},
   "outputs": [
    {
     "data": {
      "text/plain": [
       "['2787', '278000070']"
      ]
     },
     "execution_count": 115,
     "metadata": {},
     "output_type": "execute_result"
    }
   ],
   "source": [
    "# X+ => repeat X, 1-N times\n",
    "re.findall('\\d+', cool_html)"
   ]
  },
  {
   "cell_type": "code",
   "execution_count": 118,
   "metadata": {},
   "outputs": [
    {
     "data": {
      "text/plain": [
       "['index2787.html', 'index278000070.html']"
      ]
     },
     "execution_count": 118,
     "metadata": {},
     "output_type": "execute_result"
    }
   ],
   "source": [
    "re.findall('index\\d+.html', cool_html)"
   ]
  },
  {
   "cell_type": "code",
   "execution_count": 123,
   "metadata": {},
   "outputs": [
    {
     "data": {
      "text/plain": [
       "['27983492429843287']"
      ]
     },
     "execution_count": 123,
     "metadata": {},
     "output_type": "execute_result"
    }
   ],
   "source": [
    "# () => capture group\n",
    "re.findall('index(\\d+).html\">&lsaquo; 上頁', cool_html)"
   ]
  },
  {
   "cell_type": "markdown",
   "metadata": {},
   "source": [
    "# PTT 爬蟲"
   ]
  },
  {
   "cell_type": "code",
   "execution_count": 90,
   "metadata": {},
   "outputs": [],
   "source": [
    "import re\n",
    "\n",
    "import requests as r"
   ]
  },
  {
   "cell_type": "code",
   "execution_count": 87,
   "metadata": {},
   "outputs": [],
   "source": [
    "url = 'https://www.ptt.cc/bbs/creditcard/index.html'"
   ]
  },
  {
   "cell_type": "code",
   "execution_count": 88,
   "metadata": {},
   "outputs": [],
   "source": [
    "resp = requests.get(url)"
   ]
  },
  {
   "cell_type": "code",
   "execution_count": 89,
   "metadata": {},
   "outputs": [
    {
     "data": {
      "text/plain": [
       "'<!DOCTYPE html>\\n<html>\\n\\t<head>\\n\\t\\t<meta charset=\"utf-8\">\\n\\t\\t\\n\\n<meta name=\"viewport\" content=\"width=device-width, initial-scale=1\">\\n\\n<title>看板 creditcard 文章列表 - 批踢踢實業坊</title>\\n\\n<link rel=\"stylesheet\" type=\"text/css\" href=\"//images.ptt.cc/bbs/v2.25/bbs-common.css\">\\n<link rel=\"stylesheet\" type=\"text/css\" href=\"//images.ptt.cc/bbs/v2.25/bbs-base.css\" media=\"screen\">\\n<link rel=\"stylesheet\" type=\"text/css\" href=\"//images.ptt.cc/bbs/v2.25/bbs-custom.css\">\\n<link rel=\"stylesheet\" type=\"text/css\" href=\"//images.ptt.cc/bbs/v2.25/pushstream.css\" media=\"screen\">\\n<link rel=\"stylesheet\" type=\"text/css\" href=\"//images.ptt.cc/bbs/v2.25/bbs-print.css\" media=\"print\">\\n\\n\\n\\n\\n\\t</head>\\n    <body>\\n\\t\\t\\n<div id=\"topbar-container\">\\n\\t<div id=\"topbar\" class=\"bbs-content\">\\n\\t\\t<a id=\"logo\" href=\"/bbs/\">批踢踢實業坊</a>\\n\\t\\t<span>&rsaquo;</span>\\n\\t\\t<a class=\"board\" href=\"/bbs/creditcard/index.html\"><span class=\"board-label\">看板 </span>creditcard</a>\\n\\t\\t<a class=\"right small\" href=\"/about.html\">關於我們</a>\\n\\t\\t<a class=\"right small\" href=\"/contact.html\">聯絡資訊</a>\\n\\t</div>\\n</div>\\n\\n<div id=\"main-container\">\\n\\t<div id=\"action-bar-container\">\\n\\t\\t<div class=\"action-bar\">\\n\\t\\t\\t<div class=\"btn-group btn-group-dir\">\\n\\t\\t\\t\\t<a class=\"btn selected\" href=\"/bbs/creditcard/index.html\">看板</a>\\n\\t\\t\\t\\t<a class=\"btn\" href=\"/man/creditcard/index.html\">精華區</a>\\n\\t\\t\\t</div>\\n\\t\\t\\t<div class=\"btn-group btn-group-paging\">\\n\\t\\t\\t\\t<a class=\"btn wide\" href=\"/bbs/creditcard/index1.html\">最舊</a>\\n\\t\\t\\t\\t<a class=\"btn wide\" href=\"/bbs/creditcard/index2786.html\">&lsaquo; 上頁</a>\\n\\t\\t\\t\\t<a class=\"btn wide disabled\">下頁 &rsaquo;</a>\\n\\t\\t\\t\\t<a class=\"btn wide\" href=\"/bbs/creditcard/index.html\">最新</a>\\n\\t\\t\\t</div>\\n\\t\\t</div>\\n\\t</div>\\n\\n\\t<div class=\"r-list-container action-bar-margin bbs-screen\">\\n\\t\\t<div class=\"search-bar\">\\n\\t\\t\\t<form type=\"get\" action=\"search\" id=\"search-bar\">\\n\\t\\t\\t\\t<input class=\"query\" type=\"text\" name=\"q\" value=\"\" placeholder=\"搜尋文章&#x22ef;\">\\n\\t\\t\\t</form>\\n\\t\\t</div>\\n\\n\\t\\t\\n\\t\\t\\n            \\n        \\n        \\n\\t\\t<div class=\"r-ent\">\\n\\t\\t\\t<div class=\"nrec\"><span class=\"hl f3\">10</span></div>\\n\\t\\t\\t<div class=\"title\">\\n\\t\\t\\t\\n\\t\\t\\t\\t<a href=\"/bbs/creditcard/M.1532503685.A.E33.html\">[問題] 美國運通信用白金卡 首刷禮選擇</a>\\n\\t\\t\\t\\n\\t\\t\\t</div>\\n\\t\\t\\t<div class=\"meta\">\\n\\t\\t\\t\\t<div class=\"author\">george1343</div>\\n\\t\\t\\t\\t<div class=\"article-menu\">\\n\\t\\t\\t\\t\\t\\n\\t\\t\\t\\t\\t<div class=\"trigger\">&#x22ef;</div>\\n\\t\\t\\t\\t\\t<div class=\"dropdown\">\\n\\t\\t\\t\\t\\t\\t<div class=\"item\"><a href=\"/bbs/creditcard/search?q=thread%3A%5B%E5%95%8F%E9%A1%8C%5D&#43;%E7%BE%8E%E5%9C%8B%E9%81%8B%E9%80%9A%E4%BF%A1%E7%94%A8%E7%99%BD%E9%87%91%E5%8D%A1&#43;%E9%A6%96%E5%88%B7%E7%A6%AE%E9%81%B8%E6%93%87\">搜尋同標題文章</a></div>\\n\\t\\t\\t\\t\\t\\t\\n\\t\\t\\t\\t\\t\\t<div class=\"item\"><a href=\"/bbs/creditcard/search?q=author%3Ageorge1343\">搜尋看板內 george1343 的文章</a></div>\\n\\t\\t\\t\\t\\t\\t\\n\\t\\t\\t\\t\\t</div>\\n\\t\\t\\t\\t\\t\\n\\t\\t\\t\\t</div>\\n\\t\\t\\t\\t<div class=\"date\"> 7/25</div>\\n\\t\\t\\t\\t<div class=\"mark\"></div>\\n\\t\\t\\t</div>\\n\\t\\t</div>\\n\\n\\t\\t\\n            \\n        \\n        \\n\\t\\t<div class=\"r-ent\">\\n\\t\\t\\t<div class=\"nrec\"><span class=\"hl f3\">14</span></div>\\n\\t\\t\\t<div class=\"title\">\\n\\t\\t\\t\\n\\t\\t\\t\\t<a href=\"/bbs/creditcard/M.1532505495.A.12B.html\">[心得] 畢業 信用卡通通辦起來</a>\\n\\t\\t\\t\\n\\t\\t\\t</div>\\n\\t\\t\\t<div class=\"meta\">\\n\\t\\t\\t\\t<div class=\"author\">mp5566</div>\\n\\t\\t\\t\\t<div class=\"article-menu\">\\n\\t\\t\\t\\t\\t\\n\\t\\t\\t\\t\\t<div class=\"trigger\">&#x22ef;</div>\\n\\t\\t\\t\\t\\t<div class=\"dropdown\">\\n\\t\\t\\t\\t\\t\\t<div class=\"item\"><a href=\"/bbs/creditcard/search?q=thread%3A%5B%E5%BF%83%E5%BE%97%5D&#43;%E7%95%A2%E6%A5%AD&#43;%E4%BF%A1%E7%94%A8%E5%8D%A1%E9%80%9A%E9%80%9A%E8%BE%A6%E8%B5%B7%E4%BE%86\">搜尋同標題文章</a></div>\\n\\t\\t\\t\\t\\t\\t\\n\\t\\t\\t\\t\\t\\t<div class=\"item\"><a href=\"/bbs/creditcard/search?q=author%3Amp5566\">搜尋看板內 mp5566 的文章</a></div>\\n\\t\\t\\t\\t\\t\\t\\n\\t\\t\\t\\t\\t</div>\\n\\t\\t\\t\\t\\t\\n\\t\\t\\t\\t</div>\\n\\t\\t\\t\\t<div class=\"date\"> 7/25</div>\\n\\t\\t\\t\\t<div class=\"mark\"></div>\\n\\t\\t\\t</div>\\n\\t\\t</div>\\n\\n\\t\\t\\n            \\n        \\n        \\n\\t\\t<div class=\"r-ent\">\\n\\t\\t\\t<div class=\"nrec\"><span class=\"hl f3\">17</span></div>\\n\\t\\t\\t<div class=\"title\">\\n\\t\\t\\t\\n\\t\\t\\t\\t<a href=\"/bbs/creditcard/M.1532514679.A.92E.html\">[問題] SKYPE打信用卡客服無法正確輸入數字?</a>\\n\\t\\t\\t\\n\\t\\t\\t</div>\\n\\t\\t\\t<div class=\"meta\">\\n\\t\\t\\t\\t<div class=\"author\">finhisky</div>\\n\\t\\t\\t\\t<div class=\"article-menu\">\\n\\t\\t\\t\\t\\t\\n\\t\\t\\t\\t\\t<div class=\"trigger\">&#x22ef;</div>\\n\\t\\t\\t\\t\\t<div class=\"dropdown\">\\n\\t\\t\\t\\t\\t\\t<div class=\"item\"><a href=\"/bbs/creditcard/search?q=thread%3A%5B%E5%95%8F%E9%A1%8C%5D&#43;SKYPE%E6%89%93%E4%BF%A1%E7%94%A8%E5%8D%A1%E5%AE%A2%E6%9C%8D%E7%84%A1%E6%B3%95%E6%AD%A3%E7%A2%BA%E8%BC%B8%E5%85%A5%E6%95%B8%E5%AD%97%3F\">搜尋同標題文章</a></div>\\n\\t\\t\\t\\t\\t\\t\\n\\t\\t\\t\\t\\t\\t<div class=\"item\"><a href=\"/bbs/creditcard/search?q=author%3Afinhisky\">搜尋看板內 finhisky 的文章</a></div>\\n\\t\\t\\t\\t\\t\\t\\n\\t\\t\\t\\t\\t</div>\\n\\t\\t\\t\\t\\t\\n\\t\\t\\t\\t</div>\\n\\t\\t\\t\\t<div class=\"date\"> 7/25</div>\\n\\t\\t\\t\\t<div class=\"mark\"></div>\\n\\t\\t\\t</div>\\n\\t\\t</div>\\n\\n\\t\\t\\n            \\n        \\n        \\n\\t\\t<div class=\"r-ent\">\\n\\t\\t\\t<div class=\"nrec\"></div>\\n\\t\\t\\t<div class=\"title\">\\n\\t\\t\\t\\n\\t\\t\\t\\t(本文已被刪除) [eclse]\\n\\t\\t\\t\\n\\t\\t\\t</div>\\n\\t\\t\\t<div class=\"meta\">\\n\\t\\t\\t\\t<div class=\"author\">-</div>\\n\\t\\t\\t\\t<div class=\"article-menu\">\\n\\t\\t\\t\\t\\t\\n\\t\\t\\t\\t</div>\\n\\t\\t\\t\\t<div class=\"date\"> 7/25</div>\\n\\t\\t\\t\\t<div class=\"mark\"></div>\\n\\t\\t\\t</div>\\n\\t\\t</div>\\n\\n\\t\\t\\n            \\n        \\n        \\n\\t\\t<div class=\"r-ent\">\\n\\t\\t\\t<div class=\"nrec\"><span class=\"hl f3\">32</span></div>\\n\\t\\t\\t<div class=\"title\">\\n\\t\\t\\t\\n\\t\\t\\t\\t<a href=\"/bbs/creditcard/M.1532523222.A.285.html\">Re: [情報] koko卡買6年儲蓄險送15萬op點</a>\\n\\t\\t\\t\\n\\t\\t\\t</div>\\n\\t\\t\\t<div class=\"meta\">\\n\\t\\t\\t\\t<div class=\"author\">anc5566</div>\\n\\t\\t\\t\\t<div class=\"article-menu\">\\n\\t\\t\\t\\t\\t\\n\\t\\t\\t\\t\\t<div class=\"trigger\">&#x22ef;</div>\\n\\t\\t\\t\\t\\t<div class=\"dropdown\">\\n\\t\\t\\t\\t\\t\\t<div class=\"item\"><a href=\"/bbs/creditcard/search?q=thread%3A%5B%E6%83%85%E5%A0%B1%5D&#43;koko%E5%8D%A1%E8%B2%B76%E5%B9%B4%E5%84%B2%E8%93%84%E9%9A%AA%E9%80%8115%E8%90%ACop%E9%BB%9E\">搜尋同標題文章</a></div>\\n\\t\\t\\t\\t\\t\\t\\n\\t\\t\\t\\t\\t\\t<div class=\"item\"><a href=\"/bbs/creditcard/search?q=author%3Aanc5566\">搜尋看板內 anc5566 的文章</a></div>\\n\\t\\t\\t\\t\\t\\t\\n\\t\\t\\t\\t\\t</div>\\n\\t\\t\\t\\t\\t\\n\\t\\t\\t\\t</div>\\n\\t\\t\\t\\t<div class=\"date\"> 7/25</div>\\n\\t\\t\\t\\t<div class=\"mark\"></div>\\n\\t\\t\\t</div>\\n\\t\\t</div>\\n\\n\\t\\t\\n            \\n        \\n        \\n\\t\\t<div class=\"r-ent\">\\n\\t\\t\\t<div class=\"nrec\"><span class=\"hl f2\">9</span></div>\\n\\t\\t\\t<div class=\"title\">\\n\\t\\t\\t\\n\\t\\t\\t\\t<a href=\"/bbs/creditcard/M.1532525775.A.7CA.html\">[情報] LINE Pay 接受台北富邦銀行聯邦銀行投資</a>\\n\\t\\t\\t\\n\\t\\t\\t</div>\\n\\t\\t\\t<div class=\"meta\">\\n\\t\\t\\t\\t<div class=\"author\">alex1973</div>\\n\\t\\t\\t\\t<div class=\"article-menu\">\\n\\t\\t\\t\\t\\t\\n\\t\\t\\t\\t\\t<div class=\"trigger\">&#x22ef;</div>\\n\\t\\t\\t\\t\\t<div class=\"dropdown\">\\n\\t\\t\\t\\t\\t\\t<div class=\"item\"><a href=\"/bbs/creditcard/search?q=thread%3A%5B%E6%83%85%E5%A0%B1%5D&#43;LINE&#43;Pay&#43;%E6%8E%A5%E5%8F%97%E5%8F%B0%E5%8C%97%E5%AF%8C%E9%82%A6%E9%8A%80%E8%A1%8C%E8%81%AF%E9%82%A6%E9%8A%80%E8%A1%8C%E6%8A%95%E8%B3%87\">搜尋同標題文章</a></div>\\n\\t\\t\\t\\t\\t\\t\\n\\t\\t\\t\\t\\t\\t<div class=\"item\"><a href=\"/bbs/creditcard/search?q=author%3Aalex1973\">搜尋看板內 alex1973 的文章</a></div>\\n\\t\\t\\t\\t\\t\\t\\n\\t\\t\\t\\t\\t</div>\\n\\t\\t\\t\\t\\t\\n\\t\\t\\t\\t</div>\\n\\t\\t\\t\\t<div class=\"date\"> 7/25</div>\\n\\t\\t\\t\\t<div class=\"mark\"></div>\\n\\t\\t\\t</div>\\n\\t\\t</div>\\n\\n\\t\\t\\n            \\n        \\n        \\n\\t\\t<div class=\"r-ent\">\\n\\t\\t\\t<div class=\"nrec\"><span class=\"hl f2\">9</span></div>\\n\\t\\t\\t<div class=\"title\">\\n\\t\\t\\t\\n\\t\\t\\t\\t<a href=\"/bbs/creditcard/M.1532527960.A.D59.html\">[心得] 中信中油聯名卡 核卡</a>\\n\\t\\t\\t\\n\\t\\t\\t</div>\\n\\t\\t\\t<div class=\"meta\">\\n\\t\\t\\t\\t<div class=\"author\">mypineapple</div>\\n\\t\\t\\t\\t<div class=\"article-menu\">\\n\\t\\t\\t\\t\\t\\n\\t\\t\\t\\t\\t<div class=\"trigger\">&#x22ef;</div>\\n\\t\\t\\t\\t\\t<div class=\"dropdown\">\\n\\t\\t\\t\\t\\t\\t<div class=\"item\"><a href=\"/bbs/creditcard/search?q=thread%3A%5B%E5%BF%83%E5%BE%97%5D&#43;%E4%B8%AD%E4%BF%A1%E4%B8%AD%E6%B2%B9%E8%81%AF%E5%90%8D%E5%8D%A1&#43;%E6%A0%B8%E5%8D%A1\">搜尋同標題文章</a></div>\\n\\t\\t\\t\\t\\t\\t\\n\\t\\t\\t\\t\\t\\t<div class=\"item\"><a href=\"/bbs/creditcard/search?q=author%3Amypineapple\">搜尋看板內 mypineapple 的文章</a></div>\\n\\t\\t\\t\\t\\t\\t\\n\\t\\t\\t\\t\\t</div>\\n\\t\\t\\t\\t\\t\\n\\t\\t\\t\\t</div>\\n\\t\\t\\t\\t<div class=\"date\"> 7/25</div>\\n\\t\\t\\t\\t<div class=\"mark\"></div>\\n\\t\\t\\t</div>\\n\\t\\t</div>\\n\\n\\t\\t\\n            \\n        \\n        \\n\\t\\t<div class=\"r-ent\">\\n\\t\\t\\t<div class=\"nrec\"><span class=\"hl f3\">13</span></div>\\n\\t\\t\\t<div class=\"title\">\\n\\t\\t\\t\\n\\t\\t\\t\\t<a href=\"/bbs/creditcard/M.1532531103.A.CDA.html\">Re: [情報] koko卡買6年儲蓄險送15萬op點</a>\\n\\t\\t\\t\\n\\t\\t\\t</div>\\n\\t\\t\\t<div class=\"meta\">\\n\\t\\t\\t\\t<div class=\"author\">medama</div>\\n\\t\\t\\t\\t<div class=\"article-menu\">\\n\\t\\t\\t\\t\\t\\n\\t\\t\\t\\t\\t<div class=\"trigger\">&#x22ef;</div>\\n\\t\\t\\t\\t\\t<div class=\"dropdown\">\\n\\t\\t\\t\\t\\t\\t<div class=\"item\"><a href=\"/bbs/creditcard/search?q=thread%3A%5B%E6%83%85%E5%A0%B1%5D&#43;koko%E5%8D%A1%E8%B2%B76%E5%B9%B4%E5%84%B2%E8%93%84%E9%9A%AA%E9%80%8115%E8%90%ACop%E9%BB%9E\">搜尋同標題文章</a></div>\\n\\t\\t\\t\\t\\t\\t\\n\\t\\t\\t\\t\\t\\t<div class=\"item\"><a href=\"/bbs/creditcard/search?q=author%3Amedama\">搜尋看板內 medama 的文章</a></div>\\n\\t\\t\\t\\t\\t\\t\\n\\t\\t\\t\\t\\t</div>\\n\\t\\t\\t\\t\\t\\n\\t\\t\\t\\t</div>\\n\\t\\t\\t\\t<div class=\"date\"> 7/25</div>\\n\\t\\t\\t\\t<div class=\"mark\"></div>\\n\\t\\t\\t</div>\\n\\t\\t</div>\\n\\n\\t\\t\\n            \\n        \\n        \\n\\t\\t<div class=\"r-ent\">\\n\\t\\t\\t<div class=\"nrec\"><span class=\"hl f2\">1</span></div>\\n\\t\\t\\t<div class=\"title\">\\n\\t\\t\\t\\n\\t\\t\\t\\t<a href=\"/bbs/creditcard/M.1532531596.A.689.html\">[討論] 今年83女生節真的沒有17%回饋嗎? </a>\\n\\t\\t\\t\\n\\t\\t\\t</div>\\n\\t\\t\\t<div class=\"meta\">\\n\\t\\t\\t\\t<div class=\"author\">marosky</div>\\n\\t\\t\\t\\t<div class=\"article-menu\">\\n\\t\\t\\t\\t\\t\\n\\t\\t\\t\\t\\t<div class=\"trigger\">&#x22ef;</div>\\n\\t\\t\\t\\t\\t<div class=\"dropdown\">\\n\\t\\t\\t\\t\\t\\t<div class=\"item\"><a href=\"/bbs/creditcard/search?q=thread%3A%5B%E8%A8%8E%E8%AB%96%5D&#43;%E4%BB%8A%E5%B9%B483%E5%A5%B3%E7%94%9F%E7%AF%80%E7%9C%9F%E7%9A%84%E6%B2%92%E6%9C%8917%25%E5%9B%9E%E9%A5%8B%E5%97%8E%3F&#43;\">搜尋同標題文章</a></div>\\n\\t\\t\\t\\t\\t\\t\\n\\t\\t\\t\\t\\t\\t<div class=\"item\"><a href=\"/bbs/creditcard/search?q=author%3Amarosky\">搜尋看板內 marosky 的文章</a></div>\\n\\t\\t\\t\\t\\t\\t\\n\\t\\t\\t\\t\\t</div>\\n\\t\\t\\t\\t\\t\\n\\t\\t\\t\\t</div>\\n\\t\\t\\t\\t<div class=\"date\"> 7/25</div>\\n\\t\\t\\t\\t<div class=\"mark\"></div>\\n\\t\\t\\t</div>\\n\\t\\t</div>\\n\\n\\t\\t\\n            \\n        \\n        \\n\\t\\t<div class=\"r-ent\">\\n\\t\\t\\t<div class=\"nrec\"><span class=\"hl f3\">16</span></div>\\n\\t\\t\\t<div class=\"title\">\\n\\t\\t\\t\\n\\t\\t\\t\\t<a href=\"/bbs/creditcard/M.1532532004.A.D3D.html\">[情報] 玉山幸運PLUS鈦金卡自動加值10%回饋</a>\\n\\t\\t\\t\\n\\t\\t\\t</div>\\n\\t\\t\\t<div class=\"meta\">\\n\\t\\t\\t\\t<div class=\"author\">yabus</div>\\n\\t\\t\\t\\t<div class=\"article-menu\">\\n\\t\\t\\t\\t\\t\\n\\t\\t\\t\\t\\t<div class=\"trigger\">&#x22ef;</div>\\n\\t\\t\\t\\t\\t<div class=\"dropdown\">\\n\\t\\t\\t\\t\\t\\t<div class=\"item\"><a href=\"/bbs/creditcard/search?q=thread%3A%5B%E6%83%85%E5%A0%B1%5D&#43;%E7%8E%89%E5%B1%B1%E5%B9%B8%E9%81%8BPLUS%E9%88%A6%E9%87%91%E5%8D%A1%E8%87%AA%E5%8B%95%E5%8A%A0%E5%80%BC10%25%E5%9B%9E%E9%A5%8B\">搜尋同標題文章</a></div>\\n\\t\\t\\t\\t\\t\\t\\n\\t\\t\\t\\t\\t\\t<div class=\"item\"><a href=\"/bbs/creditcard/search?q=author%3Ayabus\">搜尋看板內 yabus 的文章</a></div>\\n\\t\\t\\t\\t\\t\\t\\n\\t\\t\\t\\t\\t</div>\\n\\t\\t\\t\\t\\t\\n\\t\\t\\t\\t</div>\\n\\t\\t\\t\\t<div class=\"date\"> 7/25</div>\\n\\t\\t\\t\\t<div class=\"mark\"></div>\\n\\t\\t\\t</div>\\n\\t\\t</div>\\n\\n\\t\\t\\n            \\n        \\n        \\n\\t\\t<div class=\"r-ent\">\\n\\t\\t\\t<div class=\"nrec\"></div>\\n\\t\\t\\t<div class=\"title\">\\n\\t\\t\\t\\n\\t\\t\\t\\t&lt;billylaw51&gt; 1-3未爬文 警告一次 by cg.\\n\\t\\t\\t\\n\\t\\t\\t</div>\\n\\t\\t\\t<div class=\"meta\">\\n\\t\\t\\t\\t<div class=\"author\">-</div>\\n\\t\\t\\t\\t<div class=\"article-menu\">\\n\\t\\t\\t\\t\\t\\n\\t\\t\\t\\t</div>\\n\\t\\t\\t\\t<div class=\"date\"> 7/25</div>\\n\\t\\t\\t\\t<div class=\"mark\"></div>\\n\\t\\t\\t</div>\\n\\t\\t</div>\\n\\n\\t\\t\\n            \\n        \\n        \\n\\t\\t<div class=\"r-ent\">\\n\\t\\t\\t<div class=\"nrec\"></div>\\n\\t\\t\\t<div class=\"title\">\\n\\t\\t\\t\\n\\t\\t\\t\\t(本文已被刪除) [vlkppa]\\n\\t\\t\\t\\n\\t\\t\\t</div>\\n\\t\\t\\t<div class=\"meta\">\\n\\t\\t\\t\\t<div class=\"author\">-</div>\\n\\t\\t\\t\\t<div class=\"article-menu\">\\n\\t\\t\\t\\t\\t\\n\\t\\t\\t\\t</div>\\n\\t\\t\\t\\t<div class=\"date\"> 7/26</div>\\n\\t\\t\\t\\t<div class=\"mark\"></div>\\n\\t\\t\\t</div>\\n\\t\\t</div>\\n\\n\\t\\t\\n            \\n        \\n        \\n\\t\\t<div class=\"r-ent\">\\n\\t\\t\\t<div class=\"nrec\"><span class=\"hl f2\">4</span></div>\\n\\t\\t\\t<div class=\"title\">\\n\\t\\t\\t\\n\\t\\t\\t\\t<a href=\"/bbs/creditcard/M.1532569489.A.701.html\">Re: [討論] 日本刷卡-七、八月JCB現金回饋%數最優</a>\\n\\t\\t\\t\\n\\t\\t\\t</div>\\n\\t\\t\\t<div class=\"meta\">\\n\\t\\t\\t\\t<div class=\"author\">tono0705</div>\\n\\t\\t\\t\\t<div class=\"article-menu\">\\n\\t\\t\\t\\t\\t\\n\\t\\t\\t\\t\\t<div class=\"trigger\">&#x22ef;</div>\\n\\t\\t\\t\\t\\t<div class=\"dropdown\">\\n\\t\\t\\t\\t\\t\\t<div class=\"item\"><a href=\"/bbs/creditcard/search?q=thread%3A%5B%E8%A8%8E%E8%AB%96%5D&#43;%E6%97%A5%E6%9C%AC%E5%88%B7%E5%8D%A1-%E4%B8%83%E3%80%81%E5%85%AB%E6%9C%88JCB%E7%8F%BE%E9%87%91%E5%9B%9E%E9%A5%8B%25%E6%95%B8%E6%9C%80%E5%84%AA\">搜尋同標題文章</a></div>\\n\\t\\t\\t\\t\\t\\t\\n\\t\\t\\t\\t\\t\\t<div class=\"item\"><a href=\"/bbs/creditcard/search?q=author%3Atono0705\">搜尋看板內 tono0705 的文章</a></div>\\n\\t\\t\\t\\t\\t\\t\\n\\t\\t\\t\\t\\t</div>\\n\\t\\t\\t\\t\\t\\n\\t\\t\\t\\t</div>\\n\\t\\t\\t\\t<div class=\"date\"> 7/26</div>\\n\\t\\t\\t\\t<div class=\"mark\"></div>\\n\\t\\t\\t</div>\\n\\t\\t</div>\\n\\n\\t\\t\\n            \\n        \\n        \\n\\t\\t<div class=\"r-ent\">\\n\\t\\t\\t<div class=\"nrec\"><span class=\"hl f2\">3</span></div>\\n\\t\\t\\t<div class=\"title\">\\n\\t\\t\\t\\n\\t\\t\\t\\t<a href=\"/bbs/creditcard/M.1532569641.A.3D2.html\">[閒聊] 聯邦剪卡被慰留</a>\\n\\t\\t\\t\\n\\t\\t\\t</div>\\n\\t\\t\\t<div class=\"meta\">\\n\\t\\t\\t\\t<div class=\"author\">Eppieyu</div>\\n\\t\\t\\t\\t<div class=\"article-menu\">\\n\\t\\t\\t\\t\\t\\n\\t\\t\\t\\t\\t<div class=\"trigger\">&#x22ef;</div>\\n\\t\\t\\t\\t\\t<div class=\"dropdown\">\\n\\t\\t\\t\\t\\t\\t<div class=\"item\"><a href=\"/bbs/creditcard/search?q=thread%3A%5B%E9%96%92%E8%81%8A%5D&#43;%E8%81%AF%E9%82%A6%E5%89%AA%E5%8D%A1%E8%A2%AB%E6%85%B0%E7%95%99\">搜尋同標題文章</a></div>\\n\\t\\t\\t\\t\\t\\t\\n\\t\\t\\t\\t\\t\\t<div class=\"item\"><a href=\"/bbs/creditcard/search?q=author%3AEppieyu\">搜尋看板內 Eppieyu 的文章</a></div>\\n\\t\\t\\t\\t\\t\\t\\n\\t\\t\\t\\t\\t</div>\\n\\t\\t\\t\\t\\t\\n\\t\\t\\t\\t</div>\\n\\t\\t\\t\\t<div class=\"date\"> 7/26</div>\\n\\t\\t\\t\\t<div class=\"mark\"></div>\\n\\t\\t\\t</div>\\n\\t\\t</div>\\n\\n\\t\\t\\n            \\n        \\n        \\n\\t\\t<div class=\"r-ent\">\\n\\t\\t\\t<div class=\"nrec\"><span class=\"hl f2\">5</span></div>\\n\\t\\t\\t<div class=\"title\">\\n\\t\\t\\t\\n\\t\\t\\t\\t<a href=\"/bbs/creditcard/M.1532572135.A.CA6.html\">[心得]中信linepay VISA 御璽卡 核卡 </a>\\n\\t\\t\\t\\n\\t\\t\\t</div>\\n\\t\\t\\t<div class=\"meta\">\\n\\t\\t\\t\\t<div class=\"author\">ash2501</div>\\n\\t\\t\\t\\t<div class=\"article-menu\">\\n\\t\\t\\t\\t\\t\\n\\t\\t\\t\\t\\t<div class=\"trigger\">&#x22ef;</div>\\n\\t\\t\\t\\t\\t<div class=\"dropdown\">\\n\\t\\t\\t\\t\\t\\t<div class=\"item\"><a href=\"/bbs/creditcard/search?q=thread%3A%5B%E5%BF%83%E5%BE%97%5D%E4%B8%AD%E4%BF%A1linepay&#43;VISA&#43;%E5%BE%A1%E7%92%BD%E5%8D%A1&#43;%E6%A0%B8%E5%8D%A1&#43;\">搜尋同標題文章</a></div>\\n\\t\\t\\t\\t\\t\\t\\n\\t\\t\\t\\t\\t\\t<div class=\"item\"><a href=\"/bbs/creditcard/search?q=author%3Aash2501\">搜尋看板內 ash2501 的文章</a></div>\\n\\t\\t\\t\\t\\t\\t\\n\\t\\t\\t\\t\\t</div>\\n\\t\\t\\t\\t\\t\\n\\t\\t\\t\\t</div>\\n\\t\\t\\t\\t<div class=\"date\"> 7/26</div>\\n\\t\\t\\t\\t<div class=\"mark\"></div>\\n\\t\\t\\t</div>\\n\\t\\t</div>\\n\\n\\t\\t\\n            \\n        \\n        \\n\\t\\t<div class=\"r-ent\">\\n\\t\\t\\t<div class=\"nrec\"><span class=\"hl f2\">2</span></div>\\n\\t\\t\\t<div class=\"title\">\\n\\t\\t\\t\\n\\t\\t\\t\\t<a href=\"/bbs/creditcard/M.1532572476.A.A29.html\">[心得] 星展飛行世界卡  核卡</a>\\n\\t\\t\\t\\n\\t\\t\\t</div>\\n\\t\\t\\t<div class=\"meta\">\\n\\t\\t\\t\\t<div class=\"author\">alexj</div>\\n\\t\\t\\t\\t<div class=\"article-menu\">\\n\\t\\t\\t\\t\\t\\n\\t\\t\\t\\t\\t<div class=\"trigger\">&#x22ef;</div>\\n\\t\\t\\t\\t\\t<div class=\"dropdown\">\\n\\t\\t\\t\\t\\t\\t<div class=\"item\"><a href=\"/bbs/creditcard/search?q=thread%3A%5B%E5%BF%83%E5%BE%97%5D&#43;%E6%98%9F%E5%B1%95%E9%A3%9B%E8%A1%8C%E4%B8%96%E7%95%8C%E5%8D%A1&#43;&#43;%E6%A0%B8%E5%8D%A1\">搜尋同標題文章</a></div>\\n\\t\\t\\t\\t\\t\\t\\n\\t\\t\\t\\t\\t\\t<div class=\"item\"><a href=\"/bbs/creditcard/search?q=author%3Aalexj\">搜尋看板內 alexj 的文章</a></div>\\n\\t\\t\\t\\t\\t\\t\\n\\t\\t\\t\\t\\t</div>\\n\\t\\t\\t\\t\\t\\n\\t\\t\\t\\t</div>\\n\\t\\t\\t\\t<div class=\"date\"> 7/26</div>\\n\\t\\t\\t\\t<div class=\"mark\"></div>\\n\\t\\t\\t</div>\\n\\t\\t</div>\\n\\n\\t\\t\\n            \\n        \\n        \\n\\t\\t<div class=\"r-ent\">\\n\\t\\t\\t<div class=\"nrec\"></div>\\n\\t\\t\\t<div class=\"title\">\\n\\t\\t\\t\\n\\t\\t\\t\\t<a href=\"/bbs/creditcard/M.1532573760.A.37A.html\">[閒聊] 華南領航極致尊榮卡</a>\\n\\t\\t\\t\\n\\t\\t\\t</div>\\n\\t\\t\\t<div class=\"meta\">\\n\\t\\t\\t\\t<div class=\"author\">ckw968</div>\\n\\t\\t\\t\\t<div class=\"article-menu\">\\n\\t\\t\\t\\t\\t\\n\\t\\t\\t\\t\\t<div class=\"trigger\">&#x22ef;</div>\\n\\t\\t\\t\\t\\t<div class=\"dropdown\">\\n\\t\\t\\t\\t\\t\\t<div class=\"item\"><a href=\"/bbs/creditcard/search?q=thread%3A%5B%E9%96%92%E8%81%8A%5D&#43;%E8%8F%AF%E5%8D%97%E9%A0%98%E8%88%AA%E6%A5%B5%E8%87%B4%E5%B0%8A%E6%A6%AE%E5%8D%A1\">搜尋同標題文章</a></div>\\n\\t\\t\\t\\t\\t\\t\\n\\t\\t\\t\\t\\t\\t<div class=\"item\"><a href=\"/bbs/creditcard/search?q=author%3Ackw968\">搜尋看板內 ckw968 的文章</a></div>\\n\\t\\t\\t\\t\\t\\t\\n\\t\\t\\t\\t\\t</div>\\n\\t\\t\\t\\t\\t\\n\\t\\t\\t\\t</div>\\n\\t\\t\\t\\t<div class=\"date\"> 7/26</div>\\n\\t\\t\\t\\t<div class=\"mark\"></div>\\n\\t\\t\\t</div>\\n\\t\\t</div>\\n\\n\\t\\t\\n        \\n        <div class=\"r-list-sep\"></div>\\n            \\n                \\n        \\n        \\n\\t\\t<div class=\"r-ent\">\\n\\t\\t\\t<div class=\"nrec\"><span class=\"hl f2\">3</span></div>\\n\\t\\t\\t<div class=\"title\">\\n\\t\\t\\t\\n\\t\\t\\t\\t<a href=\"/bbs/creditcard/M.1488251491.A.C7B.html\">[公告] === 卡板板規 V8.0 === (2018/05/25修訂)</a>\\n\\t\\t\\t\\n\\t\\t\\t</div>\\n\\t\\t\\t<div class=\"meta\">\\n\\t\\t\\t\\t<div class=\"author\">MoonAthenaX</div>\\n\\t\\t\\t\\t<div class=\"article-menu\">\\n\\t\\t\\t\\t\\t\\n\\t\\t\\t\\t\\t<div class=\"trigger\">&#x22ef;</div>\\n\\t\\t\\t\\t\\t<div class=\"dropdown\">\\n\\t\\t\\t\\t\\t\\t<div class=\"item\"><a href=\"/bbs/creditcard/search?q=thread%3A%5B%E5%85%AC%E5%91%8A%5D&#43;%3D%3D%3D&#43;%E5%8D%A1%E6%9D%BF%E6%9D%BF%E8%A6%8F&#43;V8.0&#43;%3D%3D%3D&#43;%282018%2F05%2F25%E4%BF%AE%E8%A8%82%29\">搜尋同標題文章</a></div>\\n\\t\\t\\t\\t\\t\\t\\n\\t\\t\\t\\t\\t\\t<div class=\"item\"><a href=\"/bbs/creditcard/search?q=author%3AMoonAthenaX\">搜尋看板內 MoonAthenaX 的文章</a></div>\\n\\t\\t\\t\\t\\t\\t\\n\\t\\t\\t\\t\\t</div>\\n\\t\\t\\t\\t\\t\\n\\t\\t\\t\\t</div>\\n\\t\\t\\t\\t<div class=\"date\"> 2/28</div>\\n\\t\\t\\t\\t<div class=\"mark\">M</div>\\n\\t\\t\\t</div>\\n\\t\\t</div>\\n\\n            \\n                \\n        \\n        \\n\\t\\t<div class=\"r-ent\">\\n\\t\\t\\t<div class=\"nrec\"><span class=\"hl f3\">51</span></div>\\n\\t\\t\\t<div class=\"title\">\\n\\t\\t\\t\\n\\t\\t\\t\\t<a href=\"/bbs/creditcard/M.1425488177.A.59D.html\">[公告] 置底檢舉專區</a>\\n\\t\\t\\t\\n\\t\\t\\t</div>\\n\\t\\t\\t<div class=\"meta\">\\n\\t\\t\\t\\t<div class=\"author\">bboy0720</div>\\n\\t\\t\\t\\t<div class=\"article-menu\">\\n\\t\\t\\t\\t\\t\\n\\t\\t\\t\\t\\t<div class=\"trigger\">&#x22ef;</div>\\n\\t\\t\\t\\t\\t<div class=\"dropdown\">\\n\\t\\t\\t\\t\\t\\t<div class=\"item\"><a href=\"/bbs/creditcard/search?q=thread%3A%5B%E5%85%AC%E5%91%8A%5D&#43;%E7%BD%AE%E5%BA%95%E6%AA%A2%E8%88%89%E5%B0%88%E5%8D%80\">搜尋同標題文章</a></div>\\n\\t\\t\\t\\t\\t\\t\\n\\t\\t\\t\\t\\t\\t<div class=\"item\"><a href=\"/bbs/creditcard/search?q=author%3Abboy0720\">搜尋看板內 bboy0720 的文章</a></div>\\n\\t\\t\\t\\t\\t\\t\\n\\t\\t\\t\\t\\t</div>\\n\\t\\t\\t\\t\\t\\n\\t\\t\\t\\t</div>\\n\\t\\t\\t\\t<div class=\"date\"> 3/05</div>\\n\\t\\t\\t\\t<div class=\"mark\">M</div>\\n\\t\\t\\t</div>\\n\\t\\t</div>\\n\\n            \\n                \\n        \\n        \\n\\t\\t<div class=\"r-ent\">\\n\\t\\t\\t<div class=\"nrec\"><span class=\"hl f3\">66</span></div>\\n\\t\\t\\t<div class=\"title\">\\n\\t\\t\\t\\n\\t\\t\\t\\t<a href=\"/bbs/creditcard/M.1425873650.A.F81.html\">[情報] 各家銀行0800免付費電話</a>\\n\\t\\t\\t\\n\\t\\t\\t</div>\\n\\t\\t\\t<div class=\"meta\">\\n\\t\\t\\t\\t<div class=\"author\">MoonAthenaX</div>\\n\\t\\t\\t\\t<div class=\"article-menu\">\\n\\t\\t\\t\\t\\t\\n\\t\\t\\t\\t\\t<div class=\"trigger\">&#x22ef;</div>\\n\\t\\t\\t\\t\\t<div class=\"dropdown\">\\n\\t\\t\\t\\t\\t\\t<div class=\"item\"><a href=\"/bbs/creditcard/search?q=thread%3A%5B%E6%83%85%E5%A0%B1%5D&#43;%E5%90%84%E5%AE%B6%E9%8A%80%E8%A1%8C0800%E5%85%8D%E4%BB%98%E8%B2%BB%E9%9B%BB%E8%A9%B1\">搜尋同標題文章</a></div>\\n\\t\\t\\t\\t\\t\\t\\n\\t\\t\\t\\t\\t\\t<div class=\"item\"><a href=\"/bbs/creditcard/search?q=author%3AMoonAthenaX\">搜尋看板內 MoonAthenaX 的文章</a></div>\\n\\t\\t\\t\\t\\t\\t\\n\\t\\t\\t\\t\\t</div>\\n\\t\\t\\t\\t\\t\\n\\t\\t\\t\\t</div>\\n\\t\\t\\t\\t<div class=\"date\"> 3/09</div>\\n\\t\\t\\t\\t<div class=\"mark\">M</div>\\n\\t\\t\\t</div>\\n\\t\\t</div>\\n\\n            \\n                \\n        \\n        \\n\\t\\t<div class=\"r-ent\">\\n\\t\\t\\t<div class=\"nrec\"><span class=\"hl f1\">爆</span></div>\\n\\t\\t\\t<div class=\"title\">\\n\\t\\t\\t\\n\\t\\t\\t\\t<a href=\"/bbs/creditcard/M.1528898930.A.F33.html\">[心得] 小資族 日常消費 最優惠回饋 整理(7/18)</a>\\n\\t\\t\\t\\n\\t\\t\\t</div>\\n\\t\\t\\t<div class=\"meta\">\\n\\t\\t\\t\\t<div class=\"author\">DarkRobert</div>\\n\\t\\t\\t\\t<div class=\"article-menu\">\\n\\t\\t\\t\\t\\t\\n\\t\\t\\t\\t\\t<div class=\"trigger\">&#x22ef;</div>\\n\\t\\t\\t\\t\\t<div class=\"dropdown\">\\n\\t\\t\\t\\t\\t\\t<div class=\"item\"><a href=\"/bbs/creditcard/search?q=thread%3A%5B%E5%BF%83%E5%BE%97%5D&#43;%E5%B0%8F%E8%B3%87%E6%97%8F&#43;%E6%97%A5%E5%B8%B8%E6%B6%88%E8%B2%BB&#43;%E6%9C%80%E5%84%AA%E6%83%A0%E5%9B%9E%E9%A5%8B&#43;%E6%95%B4%E7%90%86%287%2F18%29\">搜尋同標題文章</a></div>\\n\\t\\t\\t\\t\\t\\t\\n\\t\\t\\t\\t\\t\\t<div class=\"item\"><a href=\"/bbs/creditcard/search?q=author%3ADarkRobert\">搜尋看板內 DarkRobert 的文章</a></div>\\n\\t\\t\\t\\t\\t\\t\\n\\t\\t\\t\\t\\t</div>\\n\\t\\t\\t\\t\\t\\n\\t\\t\\t\\t</div>\\n\\t\\t\\t\\t<div class=\"date\"> 6/13</div>\\n\\t\\t\\t\\t<div class=\"mark\">M</div>\\n\\t\\t\\t</div>\\n\\t\\t</div>\\n\\n            \\n        \\n\\t</div>\\n\\n    \\n</div>\\n\\n\\t\\t\\n\\n<script>\\n  (function(i,s,o,g,r,a,m){i[\\'GoogleAnalyticsObject\\']=r;i[r]=i[r]||function(){\\n  (i[r].q=i[r].q||[]).push(arguments)},i[r].l=1*new Date();a=s.createElement(o),\\n  m=s.getElementsByTagName(o)[0];a.async=1;a.src=g;m.parentNode.insertBefore(a,m)\\n  })(window,document,\\'script\\',\\'https://www.google-analytics.com/analytics.js\\',\\'ga\\');\\n\\n  ga(\\'create\\', \\'UA-32365737-1\\', {\\n    cookieDomain: \\'ptt.cc\\',\\n    legacyCookieDomain: \\'ptt.cc\\'\\n  });\\n  ga(\\'send\\', \\'pageview\\');\\n</script>\\n\\n\\n\\t\\t\\n<script src=\"//ajax.googleapis.com/ajax/libs/jquery/2.1.1/jquery.min.js\"></script>\\n<script src=\"//images.ptt.cc/bbs/v2.25/bbs.js\"></script>\\n\\n    </body>\\n</html>\\n'"
      ]
     },
     "execution_count": 89,
     "metadata": {},
     "output_type": "execute_result"
    }
   ],
   "source": [
    "resp.text"
   ]
  },
  {
   "cell_type": "code",
   "execution_count": 127,
   "metadata": {},
   "outputs": [
    {
     "data": {
      "text/plain": [
       "'2786'"
      ]
     },
     "execution_count": 127,
     "metadata": {},
     "output_type": "execute_result"
    }
   ],
   "source": [
    "re.findall('index(\\d+).html\">&lsaquo; 上頁', resp.text)[0]"
   ]
  },
  {
   "cell_type": "code",
   "execution_count": 126,
   "metadata": {},
   "outputs": [
    {
     "data": {
      "text/plain": [
       "2786"
      ]
     },
     "execution_count": 126,
     "metadata": {},
     "output_type": "execute_result"
    }
   ],
   "source": [
    "int(re.findall('index(\\d+).html\">&lsaquo; 上頁', resp.text)[0])"
   ]
  },
  {
   "cell_type": "code",
   "execution_count": 129,
   "metadata": {},
   "outputs": [
    {
     "data": {
      "text/plain": [
       "2787"
      ]
     },
     "execution_count": 129,
     "metadata": {},
     "output_type": "execute_result"
    }
   ],
   "source": [
    "total_page = int(re.findall('index(\\d+).html\">&lsaquo; 上頁', resp.text)[0]) + 1\n",
    "total_page"
   ]
  },
  {
   "cell_type": "code",
   "execution_count": 133,
   "metadata": {},
   "outputs": [
    {
     "name": "stdout",
     "output_type": "stream",
     "text": [
      "https://www.ptt.cc/bbs/creditcard/index2787.html\n",
      "200\n",
      "https://www.ptt.cc/bbs/creditcard/index2786.html\n",
      "200\n",
      "https://www.ptt.cc/bbs/creditcard/index2785.html\n",
      "200\n"
     ]
    }
   ],
   "source": [
    "url = 'https://www.ptt.cc/bbs/creditcard/index%s.html'\n",
    "for page in range(total_page, total_page - 3, -1):\n",
    "    print(url%page)\n",
    "    resp = requests.get(url%page)\n",
    "    print(resp.status_code)\n",
    "    with open('/tmp/%s.html'%page, 'w') as f:\n",
    "        f.write(resp.text)"
   ]
  },
  {
   "cell_type": "code",
   "execution_count": 134,
   "metadata": {},
   "outputs": [],
   "source": [
    "list_page_html = open('/tmp/2787.html').read()"
   ]
  },
  {
   "cell_type": "code",
   "execution_count": 142,
   "metadata": {},
   "outputs": [
    {
     "data": {
      "text/plain": [
       "['/bbs/creditcard/M.1532503685.A.E33.html',\n",
       " '/bbs/creditcard/M.1532505495.A.12B.html',\n",
       " '/bbs/creditcard/M.1532514679.A.92E.html',\n",
       " '/bbs/creditcard/M.1532523222.A.285.html',\n",
       " '/bbs/creditcard/M.1532525775.A.7CA.html',\n",
       " '/bbs/creditcard/M.1532527960.A.D59.html',\n",
       " '/bbs/creditcard/M.1532531103.A.CDA.html',\n",
       " '/bbs/creditcard/M.1532531596.A.689.html',\n",
       " '/bbs/creditcard/M.1532532004.A.D3D.html',\n",
       " '/bbs/creditcard/M.1532569489.A.701.html',\n",
       " '/bbs/creditcard/M.1532569641.A.3D2.html',\n",
       " '/bbs/creditcard/M.1532572135.A.CA6.html',\n",
       " '/bbs/creditcard/M.1532572476.A.A29.html',\n",
       " '/bbs/creditcard/M.1532573760.A.37A.html',\n",
       " '/bbs/creditcard/M.1532577425.A.385.html',\n",
       " '/bbs/creditcard/M.1488251491.A.C7B.html',\n",
       " '/bbs/creditcard/M.1425488177.A.59D.html',\n",
       " '/bbs/creditcard/M.1425873650.A.F81.html',\n",
       " '/bbs/creditcard/M.1528898930.A.F33.html']"
      ]
     },
     "execution_count": 142,
     "metadata": {},
     "output_type": "execute_result"
    }
   ],
   "source": [
    "# . => 萬用字元\n",
    "uris = re.findall('<a href=\"(/bbs/creditcard/M.+html)\">', list_page_html)\n",
    "uris"
   ]
  },
  {
   "cell_type": "code",
   "execution_count": 144,
   "metadata": {},
   "outputs": [
    {
     "data": {
      "text/plain": [
       "['https://www.ptt.cc/bbs/creditcard/M.1532503685.A.E33.html',\n",
       " 'https://www.ptt.cc/bbs/creditcard/M.1532505495.A.12B.html',\n",
       " 'https://www.ptt.cc/bbs/creditcard/M.1532514679.A.92E.html',\n",
       " 'https://www.ptt.cc/bbs/creditcard/M.1532523222.A.285.html',\n",
       " 'https://www.ptt.cc/bbs/creditcard/M.1532525775.A.7CA.html',\n",
       " 'https://www.ptt.cc/bbs/creditcard/M.1532527960.A.D59.html',\n",
       " 'https://www.ptt.cc/bbs/creditcard/M.1532531103.A.CDA.html',\n",
       " 'https://www.ptt.cc/bbs/creditcard/M.1532531596.A.689.html',\n",
       " 'https://www.ptt.cc/bbs/creditcard/M.1532532004.A.D3D.html',\n",
       " 'https://www.ptt.cc/bbs/creditcard/M.1532569489.A.701.html',\n",
       " 'https://www.ptt.cc/bbs/creditcard/M.1532569641.A.3D2.html',\n",
       " 'https://www.ptt.cc/bbs/creditcard/M.1532572135.A.CA6.html',\n",
       " 'https://www.ptt.cc/bbs/creditcard/M.1532572476.A.A29.html',\n",
       " 'https://www.ptt.cc/bbs/creditcard/M.1532573760.A.37A.html',\n",
       " 'https://www.ptt.cc/bbs/creditcard/M.1532577425.A.385.html',\n",
       " 'https://www.ptt.cc/bbs/creditcard/M.1488251491.A.C7B.html',\n",
       " 'https://www.ptt.cc/bbs/creditcard/M.1425488177.A.59D.html',\n",
       " 'https://www.ptt.cc/bbs/creditcard/M.1425873650.A.F81.html',\n",
       " 'https://www.ptt.cc/bbs/creditcard/M.1528898930.A.F33.html']"
      ]
     },
     "execution_count": 144,
     "metadata": {},
     "output_type": "execute_result"
    }
   ],
   "source": [
    "urls = [\"https://www.ptt.cc%s\"%part for part in uris]\n",
    "urls"
   ]
  },
  {
   "cell_type": "code",
   "execution_count": 145,
   "metadata": {},
   "outputs": [],
   "source": [
    "import glob"
   ]
  },
  {
   "cell_type": "code",
   "execution_count": 150,
   "metadata": {},
   "outputs": [
    {
     "data": {
      "text/plain": [
       "['/tmp/2787.html', '/tmp/2786.html', '/tmp/2785.html']"
      ]
     },
     "execution_count": 150,
     "metadata": {},
     "output_type": "execute_result"
    }
   ],
   "source": [
    "# ls for python\n",
    "glob.glob('/tmp/*.html')"
   ]
  },
  {
   "cell_type": "code",
   "execution_count": 148,
   "metadata": {},
   "outputs": [
    {
     "name": "stdout",
     "output_type": "stream",
     "text": [
      "/tmp/2787.html\n",
      "/tmp/2786.html\n",
      "/tmp/2785.html\n"
     ]
    }
   ],
   "source": [
    "detail_page_urls = []\n",
    "for path in glob.glob('/tmp/*.html'):\n",
    "    print(path)\n",
    "    list_page_html = open(path).read()\n",
    "    uris = re.findall('<a href=\"(/bbs/creditcard/M.+html)\">', list_page_html)\n",
    "    urls = [\"https://www.ptt.cc%s\"%part for part in uris]\n",
    "    detail_page_urls.extend(urls)"
   ]
  },
  {
   "cell_type": "code",
   "execution_count": 149,
   "metadata": {
    "scrolled": true
   },
   "outputs": [
    {
     "data": {
      "text/plain": [
       "['https://www.ptt.cc/bbs/creditcard/M.1532503685.A.E33.html',\n",
       " 'https://www.ptt.cc/bbs/creditcard/M.1532505495.A.12B.html',\n",
       " 'https://www.ptt.cc/bbs/creditcard/M.1532514679.A.92E.html',\n",
       " 'https://www.ptt.cc/bbs/creditcard/M.1532523222.A.285.html',\n",
       " 'https://www.ptt.cc/bbs/creditcard/M.1532525775.A.7CA.html',\n",
       " 'https://www.ptt.cc/bbs/creditcard/M.1532527960.A.D59.html',\n",
       " 'https://www.ptt.cc/bbs/creditcard/M.1532531103.A.CDA.html',\n",
       " 'https://www.ptt.cc/bbs/creditcard/M.1532531596.A.689.html',\n",
       " 'https://www.ptt.cc/bbs/creditcard/M.1532532004.A.D3D.html',\n",
       " 'https://www.ptt.cc/bbs/creditcard/M.1532569489.A.701.html',\n",
       " 'https://www.ptt.cc/bbs/creditcard/M.1532569641.A.3D2.html',\n",
       " 'https://www.ptt.cc/bbs/creditcard/M.1532572135.A.CA6.html',\n",
       " 'https://www.ptt.cc/bbs/creditcard/M.1532572476.A.A29.html',\n",
       " 'https://www.ptt.cc/bbs/creditcard/M.1532573760.A.37A.html',\n",
       " 'https://www.ptt.cc/bbs/creditcard/M.1532577425.A.385.html',\n",
       " 'https://www.ptt.cc/bbs/creditcard/M.1488251491.A.C7B.html',\n",
       " 'https://www.ptt.cc/bbs/creditcard/M.1425488177.A.59D.html',\n",
       " 'https://www.ptt.cc/bbs/creditcard/M.1425873650.A.F81.html',\n",
       " 'https://www.ptt.cc/bbs/creditcard/M.1528898930.A.F33.html',\n",
       " 'https://www.ptt.cc/bbs/creditcard/M.1532451994.A.431.html',\n",
       " 'https://www.ptt.cc/bbs/creditcard/M.1532452620.A.127.html',\n",
       " 'https://www.ptt.cc/bbs/creditcard/M.1532454531.A.07F.html',\n",
       " 'https://www.ptt.cc/bbs/creditcard/M.1532456169.A.45E.html',\n",
       " 'https://www.ptt.cc/bbs/creditcard/M.1532459716.A.668.html',\n",
       " 'https://www.ptt.cc/bbs/creditcard/M.1532482274.A.FA1.html',\n",
       " 'https://www.ptt.cc/bbs/creditcard/M.1532483659.A.48E.html',\n",
       " 'https://www.ptt.cc/bbs/creditcard/M.1532485790.A.09C.html',\n",
       " 'https://www.ptt.cc/bbs/creditcard/M.1532486143.A.8E5.html',\n",
       " 'https://www.ptt.cc/bbs/creditcard/M.1532487144.A.808.html',\n",
       " 'https://www.ptt.cc/bbs/creditcard/M.1532487228.A.BCB.html',\n",
       " 'https://www.ptt.cc/bbs/creditcard/M.1532490620.A.65D.html',\n",
       " 'https://www.ptt.cc/bbs/creditcard/M.1532491004.A.410.html',\n",
       " 'https://www.ptt.cc/bbs/creditcard/M.1532495216.A.15A.html',\n",
       " 'https://www.ptt.cc/bbs/creditcard/M.1532501024.A.62E.html',\n",
       " 'https://www.ptt.cc/bbs/creditcard/M.1532501273.A.FBD.html',\n",
       " 'https://www.ptt.cc/bbs/creditcard/M.1532413066.A.06A.html',\n",
       " 'https://www.ptt.cc/bbs/creditcard/M.1532415774.A.46C.html',\n",
       " 'https://www.ptt.cc/bbs/creditcard/M.1532415972.A.7F7.html',\n",
       " 'https://www.ptt.cc/bbs/creditcard/M.1532418282.A.765.html',\n",
       " 'https://www.ptt.cc/bbs/creditcard/M.1532425548.A.C4C.html',\n",
       " 'https://www.ptt.cc/bbs/creditcard/M.1532429167.A.020.html',\n",
       " 'https://www.ptt.cc/bbs/creditcard/M.1532430180.A.4BC.html',\n",
       " 'https://www.ptt.cc/bbs/creditcard/M.1532435811.A.1D4.html',\n",
       " 'https://www.ptt.cc/bbs/creditcard/M.1532436880.A.534.html',\n",
       " 'https://www.ptt.cc/bbs/creditcard/M.1532438383.A.A65.html',\n",
       " 'https://www.ptt.cc/bbs/creditcard/M.1532439913.A.119.html',\n",
       " 'https://www.ptt.cc/bbs/creditcard/M.1532440801.A.D42.html',\n",
       " 'https://www.ptt.cc/bbs/creditcard/M.1532446643.A.9FD.html',\n",
       " 'https://www.ptt.cc/bbs/creditcard/M.1532448154.A.774.html',\n",
       " 'https://www.ptt.cc/bbs/creditcard/M.1532448162.A.7C8.html',\n",
       " 'https://www.ptt.cc/bbs/creditcard/M.1532448715.A.51D.html',\n",
       " 'https://www.ptt.cc/bbs/creditcard/M.1532450031.A.057.html',\n",
       " 'https://www.ptt.cc/bbs/creditcard/M.1532451042.A.6C4.html',\n",
       " 'https://www.ptt.cc/bbs/creditcard/M.1532451129.A.441.html']"
      ]
     },
     "execution_count": 149,
     "metadata": {},
     "output_type": "execute_result"
    }
   ],
   "source": [
    "detail_page_urls"
   ]
  },
  {
   "cell_type": "code",
   "execution_count": 154,
   "metadata": {},
   "outputs": [
    {
     "data": {
      "text/plain": [
       "['https:', '', 'www.ptt.cc', 'bbs', 'creditcard', 'M.1532532004.A.D3D.html']"
      ]
     },
     "execution_count": 154,
     "metadata": {},
     "output_type": "execute_result"
    }
   ],
   "source": [
    "'https://www.ptt.cc/bbs/creditcard/M.1532532004.A.D3D.html'.split('/')"
   ]
  },
  {
   "cell_type": "code",
   "execution_count": 155,
   "metadata": {},
   "outputs": [
    {
     "data": {
      "text/plain": [
       "'M.1532532004.A.D3D.html'"
      ]
     },
     "execution_count": 155,
     "metadata": {},
     "output_type": "execute_result"
    }
   ],
   "source": [
    "'https://www.ptt.cc/bbs/creditcard/M.1532532004.A.D3D.html'.split('/')[-1]"
   ]
  },
  {
   "cell_type": "code",
   "execution_count": 152,
   "metadata": {},
   "outputs": [],
   "source": [
    "!mkdir /tmp/creditcard"
   ]
  },
  {
   "cell_type": "code",
   "execution_count": 151,
   "metadata": {},
   "outputs": [],
   "source": [
    "def dump_page(url):\n",
    "    return r.get(url)"
   ]
  },
  {
   "cell_type": "code",
   "execution_count": 157,
   "metadata": {
    "scrolled": true
   },
   "outputs": [
    {
     "name": "stdout",
     "output_type": "stream",
     "text": [
      "https://www.ptt.cc/bbs/creditcard/M.1532503685.A.E33.html\n",
      "https://www.ptt.cc/bbs/creditcard/M.1532505495.A.12B.html\n",
      "https://www.ptt.cc/bbs/creditcard/M.1532514679.A.92E.html\n",
      "https://www.ptt.cc/bbs/creditcard/M.1532523222.A.285.html\n",
      "https://www.ptt.cc/bbs/creditcard/M.1532525775.A.7CA.html\n",
      "https://www.ptt.cc/bbs/creditcard/M.1532527960.A.D59.html\n",
      "https://www.ptt.cc/bbs/creditcard/M.1532531103.A.CDA.html\n",
      "https://www.ptt.cc/bbs/creditcard/M.1532531596.A.689.html\n",
      "https://www.ptt.cc/bbs/creditcard/M.1532532004.A.D3D.html\n",
      "https://www.ptt.cc/bbs/creditcard/M.1532569489.A.701.html\n",
      "https://www.ptt.cc/bbs/creditcard/M.1532569641.A.3D2.html\n",
      "https://www.ptt.cc/bbs/creditcard/M.1532572135.A.CA6.html\n",
      "https://www.ptt.cc/bbs/creditcard/M.1532572476.A.A29.html\n",
      "https://www.ptt.cc/bbs/creditcard/M.1532573760.A.37A.html\n",
      "https://www.ptt.cc/bbs/creditcard/M.1532577425.A.385.html\n",
      "https://www.ptt.cc/bbs/creditcard/M.1488251491.A.C7B.html\n",
      "https://www.ptt.cc/bbs/creditcard/M.1425488177.A.59D.html\n",
      "https://www.ptt.cc/bbs/creditcard/M.1425873650.A.F81.html\n",
      "https://www.ptt.cc/bbs/creditcard/M.1528898930.A.F33.html\n",
      "https://www.ptt.cc/bbs/creditcard/M.1532451994.A.431.html\n",
      "https://www.ptt.cc/bbs/creditcard/M.1532452620.A.127.html\n",
      "https://www.ptt.cc/bbs/creditcard/M.1532454531.A.07F.html\n",
      "https://www.ptt.cc/bbs/creditcard/M.1532456169.A.45E.html\n",
      "https://www.ptt.cc/bbs/creditcard/M.1532459716.A.668.html\n",
      "https://www.ptt.cc/bbs/creditcard/M.1532482274.A.FA1.html\n",
      "https://www.ptt.cc/bbs/creditcard/M.1532483659.A.48E.html\n",
      "https://www.ptt.cc/bbs/creditcard/M.1532485790.A.09C.html\n",
      "https://www.ptt.cc/bbs/creditcard/M.1532486143.A.8E5.html\n",
      "https://www.ptt.cc/bbs/creditcard/M.1532487144.A.808.html\n",
      "https://www.ptt.cc/bbs/creditcard/M.1532487228.A.BCB.html\n",
      "https://www.ptt.cc/bbs/creditcard/M.1532490620.A.65D.html\n",
      "https://www.ptt.cc/bbs/creditcard/M.1532491004.A.410.html\n",
      "https://www.ptt.cc/bbs/creditcard/M.1532495216.A.15A.html\n",
      "https://www.ptt.cc/bbs/creditcard/M.1532501024.A.62E.html\n",
      "https://www.ptt.cc/bbs/creditcard/M.1532501273.A.FBD.html\n",
      "https://www.ptt.cc/bbs/creditcard/M.1532413066.A.06A.html\n",
      "https://www.ptt.cc/bbs/creditcard/M.1532415774.A.46C.html\n",
      "https://www.ptt.cc/bbs/creditcard/M.1532415972.A.7F7.html\n",
      "https://www.ptt.cc/bbs/creditcard/M.1532418282.A.765.html\n",
      "https://www.ptt.cc/bbs/creditcard/M.1532425548.A.C4C.html\n",
      "https://www.ptt.cc/bbs/creditcard/M.1532429167.A.020.html\n",
      "https://www.ptt.cc/bbs/creditcard/M.1532430180.A.4BC.html\n",
      "https://www.ptt.cc/bbs/creditcard/M.1532435811.A.1D4.html\n",
      "https://www.ptt.cc/bbs/creditcard/M.1532436880.A.534.html\n",
      "https://www.ptt.cc/bbs/creditcard/M.1532438383.A.A65.html\n",
      "https://www.ptt.cc/bbs/creditcard/M.1532439913.A.119.html\n",
      "https://www.ptt.cc/bbs/creditcard/M.1532440801.A.D42.html\n",
      "https://www.ptt.cc/bbs/creditcard/M.1532446643.A.9FD.html\n",
      "https://www.ptt.cc/bbs/creditcard/M.1532448154.A.774.html\n",
      "https://www.ptt.cc/bbs/creditcard/M.1532448162.A.7C8.html\n",
      "https://www.ptt.cc/bbs/creditcard/M.1532448715.A.51D.html\n",
      "https://www.ptt.cc/bbs/creditcard/M.1532450031.A.057.html\n",
      "https://www.ptt.cc/bbs/creditcard/M.1532451042.A.6C4.html\n",
      "https://www.ptt.cc/bbs/creditcard/M.1532451129.A.441.html\n"
     ]
    }
   ],
   "source": [
    "for url in detail_page_urls:\n",
    "    print(url)\n",
    "    with open('/tmp/creditcard/%s'%url.split('/')[-1], 'w') as f: \n",
    "        f.write(dump_page(url).text)"
   ]
  },
  {
   "cell_type": "code",
   "execution_count": 159,
   "metadata": {},
   "outputs": [],
   "source": [
    "Request = {\n",
    "    'url': 'https://www.ptt.cc/bbs/creditcard',\n",
    "    'method': \"GET\",\n",
    "    'headers': {\n",
    "        'cookie': '__cfduid=df59ac895552bfb19eeec2bc16305deb31531972738; _ga=GA1.2.631260055.1531972739; _gid=GA1.2.2070617577.1532421389',\n",
    "        'user-agent': 'Mozilla/5.0 (Macintosh; Intel Mac OS X 10_13_5) AppleWebKit/537.36 (KHTML, like Gecko) Chrome/67.0.3396.99 Safari/537.36'\n",
    "        \n",
    "    }\n",
    "}"
   ]
  },
  {
   "cell_type": "code",
   "execution_count": 164,
   "metadata": {},
   "outputs": [],
   "source": [
    "import requests\n",
    "\n",
    "my_header = {\n",
    "    'user-agent': 'Mozilla/5.0 (Macintosh; Intel Mac OS X 10_13_5) AppleWebKit/537.36 (KHTML, like Gecko) Chrome/67.0.3396.99 Safari/537.36'\n",
    "    'cookie': ''\n",
    "}\n",
    "\n",
    "resp_w_header = requests.get('https://google.com', \n",
    "            headers=my_header)\n",
    "\n",
    "resp_wo_header = requests.get('https://google.com')"
   ]
  },
  {
   "cell_type": "code",
   "execution_count": 165,
   "metadata": {},
   "outputs": [
    {
     "data": {
      "text/plain": [
       "{'user-agent': 'Mozilla/5.0 (Macintosh; Intel Mac OS X 10_13_5) AppleWebKit/537.36 (KHTML, like Gecko) Chrome/67.0.3396.99 Safari/537.36', 'Accept-Encoding': 'gzip, deflate', 'Accept': '*/*', 'Connection': 'keep-alive'}"
      ]
     },
     "execution_count": 165,
     "metadata": {},
     "output_type": "execute_result"
    }
   ],
   "source": [
    "resp_w_header.request.headers"
   ]
  },
  {
   "cell_type": "code",
   "execution_count": 167,
   "metadata": {},
   "outputs": [
    {
     "data": {
      "text/plain": [
       "{'User-Agent': 'python-requests/2.19.1', 'Accept-Encoding': 'gzip, deflate', 'Accept': '*/*', 'Connection': 'keep-alive'}"
      ]
     },
     "execution_count": 167,
     "metadata": {},
     "output_type": "execute_result"
    }
   ],
   "source": [
    "resp_wo_header.request.headers"
   ]
  },
  {
   "cell_type": "markdown",
   "metadata": {},
   "source": [
    "# quick http inspector\n",
    "# https://chrome.google.com/webstore/detail/quick-http-inspector/holkomabobpkbfdfnjomglmcgaeeojpg?hl=zh-TW"
   ]
  },
  {
   "cell_type": "code",
   "execution_count": 205,
   "metadata": {},
   "outputs": [],
   "source": [
    "import requests\n",
    "import json\n",
    "\n",
    "url = \"https://www.agoda.com/api/zh-tw/Main/GetSearchResultList\"\n",
    "data = \"{\\\"SearchMessageID\\\":\\\"5806552e-3d28-440e-806e-77e4c21dea55\\\",\\\"IsPollDmc\\\":false,\\\"SearchType\\\":1,\\\"ObjectID\\\":0,\\\"HashId\\\":null,\\\"Filters\\\":{\\\"ProductType\\\":[-1],\\\"HotelName\\\":\\\"\\\",\\\"PriceRange\\\":{\\\"Min\\\":0,\\\"Max\\\":0,\\\"IsHavePriceFilterQueryParamter\\\":false}},\\\"SelectedColumnTypes\\\":{\\\"ProductType\\\":[-1]},\\\"RateplanIDs\\\":null,\\\"TotalHotels\\\":668,\\\"PlatformID\\\":1001,\\\"CurrentDate\\\":\\\"2018-07-26T15:04:25.8870328+07:00\\\",\\\"SearchID\\\":991110726150425900,\\\"CityId\\\":5085,\\\"Latitude\\\":0,\\\"Longitude\\\":0,\\\"Radius\\\":0,\\\"RectangleSearchParams\\\":null,\\\"PageNumber\\\":4,\\\"PageSize\\\":55,\\\"SortOrder\\\":1,\\\"SortField\\\":0,\\\"PointsMaxProgramId\\\":0,\\\"PollTimes\\\":0,\\\"MaxPollTimes\\\":4,\\\"CityName\\\":\\\"東京\\\",\\\"ObjectName\\\":\\\"東京\\\",\\\"AddressName\\\":null,\\\"CountryName\\\":\\\"Japan\\\",\\\"CountryId\\\":3,\\\"IsAllowYesterdaySearch\\\":false,\\\"CultureInfo\\\":\\\"zh-TW\\\",\\\"UnavailableHotelId\\\":0,\\\"IsEnableAPS\\\":false,\\\"SelectedHotelId\\\":0,\\\"IsComparisonMode\\\":false,\\\"HasFilter\\\":false,\\\"LandingParameters\\\":{\\\"HeaderBannerUrl\\\":null,\\\"FooterBannerUrl\\\":null,\\\"SelectedHotelId\\\":0,\\\"LandingCityId\\\":5085},\\\"NewSSRSearchType\\\":0,\\\"IsWysiwyp\\\":false,\\\"RequestPriceView\\\":null,\\\"FinalPriceView\\\":null,\\\"MapType\\\":1,\\\"IsShowMobileAppPrice\\\":false,\\\"IsApsPeek\\\":false,\\\"IsRetailPeek\\\":false,\\\"IsRetina\\\":false,\\\"IsCriteriaDatesChanged\\\":false,\\\"TotalHotelsFormatted\\\":\\\"668\\\",\\\"PreviewRoomFinalPrice\\\":null,\\\"ReferrerUrl\\\":null,\\\"CountryEnglishName\\\":\\\"Japan\\\",\\\"CityEnglishName\\\":\\\"Tokyo\\\",\\\"Cid\\\":209,\\\"ProductType\\\":-1,\\\"FreeStayingChildrenOnly\\\":false,\\\"ShouldHideSoldOutProperty\\\":false,\\\"isAgMse\\\":false,\\\"ccallout\\\":false,\\\"Adults\\\":1,\\\"Children\\\":0,\\\"Rooms\\\":1,\\\"CheckIn\\\":\\\"2018-08-04T00:00:00\\\",\\\"LengthOfStay\\\":1,\\\"ChildAges\\\":[],\\\"DefaultChildAge\\\":8,\\\"ChildAgesStr\\\":null,\\\"CheckOut\\\":\\\"2018-08-05T00:00:00\\\",\\\"Text\\\":\\\"東京\\\",\\\"IsDateless\\\":false,\\\"CheckboxType\\\":0}\".encode('utf-8')\n",
    "#data['PageNumber'] = 1\n",
    "headers = json.loads(r'''{\n",
    "    \"accept\": \"*/*\",\n",
    "    \"accept-encoding\": \"gzip, deflate, br\",\n",
    "    \"accept-language\": \"en-US,en;q=0.9\",\n",
    "    \"content-length\": \"1663\",\n",
    "    \"content-type\": \"application/json; charset=UTF-8\",\n",
    "    \"cookie\": \"agoda.vuser=UserId=6708c55c-422f-40da-bbdb-81c7f500a268; agoda.user.03=UserId=665a7bf6-2922-4771-8312-f4445764d275; UserSession=665a7bf6-2922-4771-8312-f4445764d275; ASP.NET_SessionId=0pbcmhyr3sb1axojgff50z31; agoda.prius=PriusID=0&PointsMaxTraffic=Agoda; agoda.firstclicks=-209||||2018-07-26T14:24:34||0pbcmhyr3sb1axojgff50z31||{\\\"IsPaid\\\":false,\\\"gclid\\\":\\\"\\\",\\\"Type\\\":\\\"\\\"}; agodalbhkg=www.agoda.com_cluster_2a; ABSTATIC=0; ak_geo=TW; akamai.guid=665a7bf6-2922-4771-8312-f4445764d275; _ab50group=GroupA; _40-40-20Split=Group40A; _ga=GA1.2.412793695.1532589876; _gid=GA1.2.1405940789.1532589876; mousestats_vi=7c02311b3ae50e6cec6a; agoda.version.03=CookieId=3b2a5422-40ca-493d-9153-34d8a3154bde&AllocId=43cab7c4aabd1f1fad55cc957096fa00a11e2351da747c31bc1fbfb36ac2146948cf8d3c121a5b670687c602157964bd113c85031d54ac9ad8e0c1587ad036c5c65f25d821adc2881abc2f1694b9976bc4573f7d763b2a542240ca93d15334d8a3154bde&DPN=1&DLang=zh-tw&CurLabel=TWD&Alloc=953$40|2069$82|2071$91|2079$29|2221$78|2188$36|2192$95|2211$17|2201$71|2273$31|2291$92|2346$39|2226$19|2229$90|2288$83|2308$11|2333$79|2528$54&FEBuildVersion=; mousestats_si=1616344527ec4b7d5047; agoda.lastclicks=1618670||479988e8-5166-19d7-7d44-1dc065f7a9cf||2018-07-26T15:02:55||0pbcmhyr3sb1axojgff50z31||{\\\"IsPaid\\\":true,\\\"gclid\\\":\\\"EAIaIQobChMI0e-J2aa83AIV16uWCh2G3wwzEAAYAyAAEgLmA_D_BwE\\\",\\\"Type\\\":\\\"\\\"}; agoda.search.01=SHist=1$5085$6424$1$1$2$0$0$$|1$5085$6424$1$1$1$0$0$$&H=; _gac_UA-6446424-30=1.1532592179.EAIaIQobChMI0e-J2aa83AIV16uWCh2G3wwzEAAYAyAAEgLmA_D_BwE; agoda.attr.03=CookieId=4cec7f06-152b-4604-a5d2-b4ffe23f6ecc&ATItems=-209$07-26-2018 15:04$; agoda.allclicks=-209||||2018-07-26T15:04:25||0pbcmhyr3sb1axojgff50z31||{\\\"IsPaid\\\":false,\\\"gclid\\\":\\\"\\\",\\\"Type\\\":\\\"LC\\\"}----1618670||479988e8-5166-19d7-7d44-1dc065f7a9cf||2018-07-26T15:02:55||0pbcmhyr3sb1axojgff50z31||{\\\"IsPaid\\\":false,\\\"gclid\\\":\\\"\\\",\\\"Type\\\":\\\"LPC\\\"}----1618670||479988e8-5166-19d7-7d44-1dc065f7a9cf||2018-07-26T15:02:55||0pbcmhyr3sb1axojgff50z31||{\\\"IsPaid\\\":false,\\\"gclid\\\":\\\"\\\",\\\"Type\\\":\\\"LMC\\\"}; utag_main=v_id:0164d5799ffd001388775a7b02fe03078002507000918$_sn:1$_ss:0$_st:1532594068209$ses_id:1532589875198%3Bexp-session$_pn:7%3Bexp-session; agoda.analytics=Id=1054021667753667282&Signature=-818514832404155254&Expiry=1532595977979; session_cache={\\\"Cache\\\":\\\"HK3\\\",\\\"Time\\\":\\\"636681891830887955\\\",\\\"SessionID\\\":\\\"0pbcmhyr3sb1axojgff50z31\\\",\\\"CheckID\\\":\\\"d69f36aaf45bb4cddd3cdbb802161eb2c8928324\\\",\\\"CType\\\":\\\"N\\\"}; _gali=paginationNext\",\n",
    "    \"origin\": \"https://www.agoda.com\",\n",
    "    \"referer\": \"https://www.agoda.com/zh-tw/pages/agoda/default/DestinationSearchResult.aspx?asq=vzE13Tw%2BA44FEA9XTR4vaxkpTEaWFtFk87msmhqvyDIQ44tmcQTxoyrvhmauE%2FXHKfNyLa0XMcGFHgrY9rUnzEjOlzLrK8e8dOMJwb5Pkoco5IPza0qK2iyNGv4iPLiH%2Fh%2Fe4idk67OoEy6KdHwUNum%2B3QacrQMDUE7JkJAfzu1b3O3%2FAhnvcn5VgFz6NwrlYspD5G30N%2BAD%2FJy8YObzsA%3D%3D&city=5085&cid=-209&tick=636682142530&txtuuid=fb5c8f88-3cce-4975-abdc-a1c534db33ba&languageId=20&userId=665a7bf6-2922-4771-8312-f4445764d275&pageTypeId=1&origin=TW&locale=zh-TW&aid=130589¤cyCode=TWD&htmlLanguage=zh-tw&cultureInfoName=zh-TW&ckuid=665a7bf6-2922-4771-8312-f4445764d275&prid=0&checkIn=2018-08-04&checkOut=2018-08-05&rooms=1&adults=1&children=0&priceCur=TWD&los=1&textToSearch=%E6%9D%B1%E4%BA%AC&productType=-1&sort=agodaRecommended\",\n",
    "    \"user-agent\": \"Mozilla/5.0 (Macintosh; Intel Mac OS X 10_13_5) AppleWebKit/537.36 (KHTML, like Gecko) Chrome/67.0.3396.99 Safari/537.36\",\n",
    "    \"x-requested-with\": \"XMLHttpRequest\"\n",
    "}''')\n",
    "\n",
    "resp = requests.post(url, data=data, headers=headers)"
   ]
  },
  {
   "cell_type": "code",
   "execution_count": 206,
   "metadata": {},
   "outputs": [
    {
     "data": {
      "text/plain": [
       "{'HotelID': 109856,\n",
       " 'HotelSoldoutMessage': None,\n",
       " 'SupplierId': 332,\n",
       " 'EnglishHotelName': 'Hotel Villa Fontaine Tokyo-Nihombashi Mitsukoshimae',\n",
       " 'TranslatedHotelName': 'Villa Fontaine飯店東京日本橋三越前',\n",
       " 'HotelDisplayName': 'Villa Fontaine飯店東京日本橋三越前 (Hotel Villa Fontaine Tokyo-Nihombashi Mitsukoshimae)',\n",
       " 'ImgPath': None,\n",
       " 'urgencyMessages': [],\n",
       " 'SearchType': 1,\n",
       " 'PropertyCardType': 0,\n",
       " 'AreaName': '日本橋',\n",
       " 'CityName': '東京',\n",
       " 'ObjectName': '東京',\n",
       " 'LocationFullText': '日本橋, 東京 - 查看地圖',\n",
       " 'LocationHighlight': '地點很好',\n",
       " 'locationSnippet': '日本橋是喜歡購物、商業區與觀光旅遊旅人首選',\n",
       " 'LocationScore': 0.0,\n",
       " 'AreaId': 565745,\n",
       " 'CityId': 5085,\n",
       " 'CountryName': '日本',\n",
       " 'CountryId': 3,\n",
       " 'DmcId': 0,\n",
       " 'RoomDmcId': 332,\n",
       " 'AwardYear': 0,\n",
       " 'GcaTooltipText': '0年Agoda旅人鑑賞優勝。',\n",
       " 'StarRating': 3.0,\n",
       " 'StarRatingColor': 'orange-yellow',\n",
       " 'StarRatingCss': 'star-3',\n",
       " 'StarRatingTooltip': '所有星級的標示皆可作為您判斷舒適度、設施服務與備品完善度的參考指標，資料由住宿方提供。',\n",
       " 'ReviewScore': 7.9,\n",
       " 'ReviewScoreFormatted': '7.9',\n",
       " 'ReviewScoreBasedOnProviderId': 332,\n",
       " 'ReviewScoreASD': 7,\n",
       " 'NumberOfReview': 297,\n",
       " 'NumberOfReviewLocale': '297',\n",
       " 'NumberOfReviewASD': None,\n",
       " 'FreeWifi': True,\n",
       " 'PeopleLooking': 3,\n",
       " 'IsASD': False,\n",
       " 'UniqueHotelId': '109856',\n",
       " 'isSoldOutProperty': False,\n",
       " 'IsThumbnail': False,\n",
       " 'IsDisplayGiftcardApplied': False,\n",
       " 'GiftcardApplied': 0.0,\n",
       " 'PriceWithoutGiftcard': 0.0,\n",
       " 'IsGiftcardAppliedLocked': False,\n",
       " 'DisplayPrice': 3345.56,\n",
       " 'DisplayCurrency': 'NT$',\n",
       " 'CrossOutPrice': 5500.39,\n",
       " 'HasCrossOutRate': True,\n",
       " 'CORType': 1,\n",
       " 'FormattedGiftcardApplied': None,\n",
       " 'FormattedDisplayPrice': '3,346',\n",
       " 'FormattedCrossedOutPrice': '5,500',\n",
       " 'FormattedDoubleCrossedOutPrice': None,\n",
       " 'Currency': 'NT$',\n",
       " 'CurrencyCode': None,\n",
       " 'OptionDisplay': None,\n",
       " 'IsCurrencyOnBackPosition': False,\n",
       " 'IsBNPL': True,\n",
       " 'IsBNPC': False,\n",
       " 'IsBNPLDuringYourStay': True,\n",
       " 'IsFreeCancellation': True,\n",
       " 'IsBreakfastIncluded': True,\n",
       " 'galleryContainerProps': {'mainImages': [{'tooltipText': '',\n",
       "    'imageItemProps': {'url': '//pix6.agoda.net/hotelImages/109/109856/109856_16012512440039371071.jpg?s=450x450',\n",
       "     'cssClasses': 'thumbnail-showcase',\n",
       "     'caption': 'Villa Fontaine飯店東京日本橋三越前 (Hotel Villa Fontaine Tokyo-Nihombashi Mitsukoshimae)',\n",
       "     'subLabel': '',\n",
       "     'description': None}},\n",
       "   {'tooltipText': '',\n",
       "    'imageItemProps': {'url': '//pix6.agoda.net/hotelImages/109856/-1/55f3abb340e30492b6530fe9ba095606.jpg?s=450x450',\n",
       "     'cssClasses': 'thumbnail-showcase',\n",
       "     'caption': 'Villa Fontaine飯店東京日本橋三越前 (Hotel Villa Fontaine Tokyo-Nihombashi Mitsukoshimae)',\n",
       "     'subLabel': '',\n",
       "     'description': None}},\n",
       "   {'tooltipText': '',\n",
       "    'imageItemProps': {'url': '//pix6.agoda.net/agaff/aff.bstatic.com/images/hotel/max300/153/153715798.jpg',\n",
       "     'cssClasses': 'thumbnail-showcase',\n",
       "     'caption': 'Villa Fontaine飯店東京日本橋三越前 (Hotel Villa Fontaine Tokyo-Nihombashi Mitsukoshimae)',\n",
       "     'subLabel': '',\n",
       "     'description': None}},\n",
       "   {'tooltipText': '',\n",
       "    'imageItemProps': {'url': '//img.travel.rakuten.co.jp/share/image_up/80764/LARGE/a0bf860b8529772b241087beacc96ea17a2282ce.47.1.26.2.jpg',\n",
       "     'cssClasses': 'thumbnail-showcase',\n",
       "     'caption': 'Villa Fontaine飯店東京日本橋三越前 (Hotel Villa Fontaine Tokyo-Nihombashi Mitsukoshimae)',\n",
       "     'subLabel': '',\n",
       "     'description': None}},\n",
       "   {'tooltipText': '',\n",
       "    'imageItemProps': {'url': '//pix6.agoda.net/agaff/aff.bstatic.com/images/hotel/max300/152/152832196.jpg',\n",
       "     'cssClasses': 'thumbnail-showcase',\n",
       "     'caption': 'Villa Fontaine飯店東京日本橋三越前 (Hotel Villa Fontaine Tokyo-Nihombashi Mitsukoshimae)',\n",
       "     'subLabel': '',\n",
       "     'description': None}},\n",
       "   {'tooltipText': '',\n",
       "    'imageItemProps': {'url': '//pix6.agoda.net/hotelImages/109856/-1/c313e57f4bace919a6e33a7dedcdb759.jpg?s=450x450',\n",
       "     'cssClasses': 'thumbnail-showcase',\n",
       "     'caption': 'Villa Fontaine飯店東京日本橋三越前 (Hotel Villa Fontaine Tokyo-Nihombashi Mitsukoshimae)',\n",
       "     'subLabel': '',\n",
       "     'description': None}},\n",
       "   {'tooltipText': '',\n",
       "    'imageItemProps': {'url': '//pix6.agoda.net/hotelImages/109856/-1/cddb2ec8bad6a461fa246a5f10060066.jpg?s=450x450',\n",
       "     'cssClasses': 'thumbnail-showcase',\n",
       "     'caption': 'Villa Fontaine飯店東京日本橋三越前 (Hotel Villa Fontaine Tokyo-Nihombashi Mitsukoshimae)',\n",
       "     'subLabel': '',\n",
       "     'description': None}},\n",
       "   {'tooltipText': '',\n",
       "    'imageItemProps': {'url': '//pix6.agoda.net/hotelImages/109856/-1/c80cc7634c312a97e846e8c7ce5fc6b6.jpg?s=450x450',\n",
       "     'cssClasses': 'thumbnail-showcase',\n",
       "     'caption': 'Villa Fontaine飯店東京日本橋三越前 (Hotel Villa Fontaine Tokyo-Nihombashi Mitsukoshimae)',\n",
       "     'subLabel': '',\n",
       "     'description': None}},\n",
       "   {'tooltipText': '',\n",
       "    'imageItemProps': {'url': '//pix6.agoda.net/hotelImages/109856/-1/288509fe81e7b12b4a1fce144cda2d8a.jpg?s=450x450',\n",
       "     'cssClasses': 'thumbnail-showcase',\n",
       "     'caption': 'Villa Fontaine飯店東京日本橋三越前 (Hotel Villa Fontaine Tokyo-Nihombashi Mitsukoshimae)',\n",
       "     'subLabel': '',\n",
       "     'description': None}},\n",
       "   {'tooltipText': '',\n",
       "    'imageItemProps': {'url': '//pix6.agoda.net/hotelImages/109856/-1/76a4ec826cc8e3fd3770e58cc4621782.jpg?s=450x450',\n",
       "     'cssClasses': 'thumbnail-showcase',\n",
       "     'caption': 'Villa Fontaine飯店東京日本橋三越前 (Hotel Villa Fontaine Tokyo-Nihombashi Mitsukoshimae)',\n",
       "     'subLabel': '',\n",
       "     'description': None}},\n",
       "   {'tooltipText': '',\n",
       "    'imageItemProps': {'url': '//pix6.agoda.net/hotelImages/109856/-1/c80cc7634c312a97e846e8c7ce5fc6b6.jpg?s=450x450',\n",
       "     'cssClasses': 'thumbnail-showcase',\n",
       "     'caption': 'Villa Fontaine飯店東京日本橋三越前 (Hotel Villa Fontaine Tokyo-Nihombashi Mitsukoshimae)',\n",
       "     'subLabel': '',\n",
       "     'description': None}}],\n",
       "  'thumbnails': [{'url': '//pix6.agoda.net/hotelImages/109856/-1/55f3abb340e30492b6530fe9ba095606.jpg?s=50x50',\n",
       "    'cssClasses': 'thumbnail-image',\n",
       "    'caption': 'Villa Fontaine飯店東京日本橋三越前 (Hotel Villa Fontaine Tokyo-Nihombashi Mitsukoshimae)',\n",
       "    'subLabel': '',\n",
       "    'description': None},\n",
       "   {'url': '//pix6.agoda.net/agaff/aff.bstatic.com/images/hotel/max300/153/153715798.jpg',\n",
       "    'cssClasses': 'thumbnail-image',\n",
       "    'caption': 'Villa Fontaine飯店東京日本橋三越前 (Hotel Villa Fontaine Tokyo-Nihombashi Mitsukoshimae)',\n",
       "    'subLabel': '',\n",
       "    'description': None},\n",
       "   {'url': '//img.travel.rakuten.co.jp/share/image_up/80764/LARGE/a0bf860b8529772b241087beacc96ea17a2282ce.47.1.26.2.jpg',\n",
       "    'cssClasses': 'thumbnail-image',\n",
       "    'caption': 'Villa Fontaine飯店東京日本橋三越前 (Hotel Villa Fontaine Tokyo-Nihombashi Mitsukoshimae)',\n",
       "    'subLabel': '',\n",
       "    'description': None},\n",
       "   {'url': '//pix6.agoda.net/agaff/aff.bstatic.com/images/hotel/max300/152/152832196.jpg',\n",
       "    'cssClasses': 'thumbnail-image',\n",
       "    'caption': 'Villa Fontaine飯店東京日本橋三越前 (Hotel Villa Fontaine Tokyo-Nihombashi Mitsukoshimae)',\n",
       "    'subLabel': '',\n",
       "    'description': None},\n",
       "   {'url': '//pix6.agoda.net/hotelImages/109856/-1/c313e57f4bace919a6e33a7dedcdb759.jpg?s=50x50',\n",
       "    'cssClasses': 'thumbnail-image',\n",
       "    'caption': 'Villa Fontaine飯店東京日本橋三越前 (Hotel Villa Fontaine Tokyo-Nihombashi Mitsukoshimae)',\n",
       "    'subLabel': '',\n",
       "    'description': None},\n",
       "   {'url': '//pix6.agoda.net/hotelImages/109856/-1/cddb2ec8bad6a461fa246a5f10060066.jpg?s=50x50',\n",
       "    'cssClasses': 'thumbnail-image',\n",
       "    'caption': 'Villa Fontaine飯店東京日本橋三越前 (Hotel Villa Fontaine Tokyo-Nihombashi Mitsukoshimae)',\n",
       "    'subLabel': '',\n",
       "    'description': None},\n",
       "   {'url': '//pix6.agoda.net/hotelImages/109856/-1/c80cc7634c312a97e846e8c7ce5fc6b6.jpg?s=50x50',\n",
       "    'cssClasses': 'thumbnail-image',\n",
       "    'caption': 'Villa Fontaine飯店東京日本橋三越前 (Hotel Villa Fontaine Tokyo-Nihombashi Mitsukoshimae)',\n",
       "    'subLabel': '',\n",
       "    'description': None},\n",
       "   {'url': '//pix6.agoda.net/hotelImages/109856/-1/288509fe81e7b12b4a1fce144cda2d8a.jpg?s=50x50',\n",
       "    'cssClasses': 'thumbnail-image',\n",
       "    'caption': 'Villa Fontaine飯店東京日本橋三越前 (Hotel Villa Fontaine Tokyo-Nihombashi Mitsukoshimae)',\n",
       "    'subLabel': '',\n",
       "    'description': None},\n",
       "   {'url': '//pix6.agoda.net/hotelImages/109856/-1/76a4ec826cc8e3fd3770e58cc4621782.jpg?s=50x50',\n",
       "    'cssClasses': 'thumbnail-image',\n",
       "    'caption': 'Villa Fontaine飯店東京日本橋三越前 (Hotel Villa Fontaine Tokyo-Nihombashi Mitsukoshimae)',\n",
       "    'subLabel': '',\n",
       "    'description': None},\n",
       "   {'url': '//pix6.agoda.net/hotelImages/109856/-1/c80cc7634c312a97e846e8c7ce5fc6b6.jpg?s=50x50',\n",
       "    'cssClasses': 'thumbnail-image',\n",
       "    'caption': 'Villa Fontaine飯店東京日本橋三越前 (Hotel Villa Fontaine Tokyo-Nihombashi Mitsukoshimae)',\n",
       "    'subLabel': '',\n",
       "    'description': None}],\n",
       "  'transportationBadgeProps': {'isShowTransportBadge': True,\n",
       "   'description': '查看鄰近的大眾交通工具',\n",
       "   'transportationBadgeTooltipProps': {'header': '週邊大眾運輸',\n",
       "    'stations': ['距地下鐵 三越前站約0.3公里', '距地下鐵 人形町站約0.5公里', '距地下鐵 日本橋站約0.5公里']},\n",
       "   'experiments': None}},\n",
       " 'certificate': None,\n",
       " 'MainPhotoUrl': '//pix6.agoda.net/hotelImages/109/109856/109856_16012512440039371071.jpg?s=312x236&p=true',\n",
       " 'MainPhotoRetinaUrl': '//pix6.agoda.net/hotelImages/109/109856/109856_16012512440039371071.jpg?s=312x236&p=true',\n",
       " 'hotelIndex': 0,\n",
       " 'IsMobileDeal': False,\n",
       " 'HotelRoomTypeId': 7241854,\n",
       " 'ReviewText': '很好',\n",
       " 'IsInsiderDeals': False,\n",
       " 'IsRemoveingInsiderDealExperiment': False,\n",
       " 'IsReady': True,\n",
       " 'PromotionText': None,\n",
       " 'HotelUrl': '/zh-tw/hotel-villa-fontaine-tokyo-nihombashi-mitsukoshimae/hotel/tokyo-jp.html?checkin=2018-08-04&los=1&adults=1&rooms=1&cid=-209&searchrequestid=5806552e-3d28-440e-806e-77e4c21dea55',\n",
       " 'Latitude': 35.6861455455667,\n",
       " 'Longitude': 139.777448773384,\n",
       " 'IsUnavailableHotel': False,\n",
       " 'IsWysiwyp': False,\n",
       " 'PriceDetail': {'PriceView': 1,\n",
       "  'DefaultPrice': 3345.56,\n",
       "  'TotalExclusive': 3345.56,\n",
       "  'TotalInclusivePerRoomPerNight': 3974.52,\n",
       "  'TotalInclusivePerBooking': 3974.52,\n",
       "  'TotalMandatoryExtraBed': 0.0,\n",
       "  'CrossOutRateExclusive': 5500.39,\n",
       "  'CrossOutRateInclusivePerRoomPerNight': 5500.39,\n",
       "  'OriginalAllInclusivePerRoomPerNight': 3974.52,\n",
       "  'ChargePriceSellExclusive': 3345.56,\n",
       "  'ChargePriceSellAllInclusive': 3974.52},\n",
       " 'IsMSE': False,\n",
       " 'IsPPC': False,\n",
       " 'IsRecommendedHotel': False,\n",
       " 'IsHighlight': False,\n",
       " 'IsPromotionEligible': False,\n",
       " 'UnavailableDateText': None,\n",
       " 'RemainingRooms': 0,\n",
       " 'RemainingRoomsUrgencyMessage': '',\n",
       " 'SaveUpTo': '最多可幫你省下NT$',\n",
       " 'PromotionTypes': [0, 2, 3, 5],\n",
       " 'PointsMaxPromoText': None,\n",
       " 'PointsMaxProgramName': None,\n",
       " 'IsPointsMaxEligible': False,\n",
       " 'IsPointsMaxProgram': False,\n",
       " 'PromotionValue': 39.0,\n",
       " 'PromotionDiscount': '39',\n",
       " 'PricePromotionDiscount': '<b class=\"discount-txt\">減價</b><strong class=\"price-text\">39%</strong>',\n",
       " 'HasLocalTaxReceipt': False,\n",
       " 'IsNoCreditCardRequired': False,\n",
       " 'PriceSummary': {'SellInclusive': 3974.0,\n",
       "  'SellExclusive': 3345.0,\n",
       "  'NetInclusive': 0.0,\n",
       "  'Taxes': [],\n",
       "  'RatePlanID': 1,\n",
       "  'PromotionValue': 5.0,\n",
       "  'CancellationCode': '1D1N_1N',\n",
       "  'LastRooms': 8,\n",
       "  'RoomTypeID': 7241854,\n",
       "  'IsBreakfastIncluded': True},\n",
       " 'IsDisplayReviewScore': True,\n",
       " 'IsSingleRoom': False,\n",
       " 'IsNha': False,\n",
       " 'ShouldShowPriceBreakDownPopUp': False,\n",
       " 'ShouldShowCouponOrMoneyBackBadge': False,\n",
       " 'Freebies': {'PillList': [{'Name': '早餐',\n",
       "    'Icon': 'ficon-breakfast',\n",
       "    'SeleniumName': None,\n",
       "    'Category': None,\n",
       "    'Id': 1}],\n",
       "  'IsDisplayInCompactMode': False,\n",
       "  'StyleName': 'pill-green',\n",
       "  'PillText': '優惠選項',\n",
       "  'PillTooltipText': '優惠選項包含：',\n",
       "  'CustomPillList': None},\n",
       " 'TitleBadges': [],\n",
       " 'cheapestRoomIncludesOffers': {'offers': [{'id': 1,\n",
       "    'priceTextCms': None,\n",
       "    'infoBoxTextCms': 'CheapestRoomBreakfastIncluded',\n",
       "    'badgeTextCms': 'CheapestRoomFreeBreakfast',\n",
       "    'category': 1}]},\n",
       " 'isCheapestRoomWithFreeBreakfast': False,\n",
       " 'reviewSnippet': None,\n",
       " 'facilityList': [{'icon': 'ficon-solid-restaurant',\n",
       "   'iconLabel': None,\n",
       "   'iconDataName': None,\n",
       "   'message': '餐廳',\n",
       "   'title': '住宿設施&服務'},\n",
       "  {'icon': 'ficon-solid-spa',\n",
       "   'iconLabel': None,\n",
       "   'iconDataName': None,\n",
       "   'message': 'Spa',\n",
       "   'title': '住宿設施&服務'},\n",
       "  {'icon': 'ficon-solid-free-wi-fi',\n",
       "   'iconLabel': None,\n",
       "   'iconDataName': None,\n",
       "   'message': '免費Wi-Fi',\n",
       "   'title': '客房設施'}],\n",
       " 'additionalFacilities': 14,\n",
       " 'Promotions': {'PillList': [{'Name': '免費取消',\n",
       "    'Icon': 'ficon-free-cancellation',\n",
       "    'SeleniumName': 'free-can',\n",
       "    'Category': None,\n",
       "    'Id': 0},\n",
       "   {'Name': '延後付款',\n",
       "    'Icon': 'ficon-book-now-pay-later',\n",
       "    'SeleniumName': 'pay-later',\n",
       "    'Category': None,\n",
       "    'Id': 1},\n",
       "   {'Name': '到店付款',\n",
       "    'Icon': 'ficon-pay-at-the-place',\n",
       "    'SeleniumName': 'pay-at-hotel',\n",
       "    'Category': None,\n",
       "    'Id': 3}],\n",
       "  'IsDisplayInCompactMode': False,\n",
       "  'StyleName': 'pill-orange',\n",
       "  'PillText': '訂房專案',\n",
       "  'PillTooltipText': '提供以下訂房專案選擇',\n",
       "  'CustomPillList': None},\n",
       " 'ShouldRenderCouponCrossoutRate': False,\n",
       " 'CouponCrosssoutRateMessage': '',\n",
       " 'CouponCrossedOutPriceFormatted': '',\n",
       " 'PricePopupViewModel': {'formattedRoomPerNightAmount': '3,346',\n",
       "  'formattedChargePriceAmount': '3,346',\n",
       "  'formattedTaxesAndFeesAmount': '0',\n",
       "  'roomPricePerNightAmount': 3345.56,\n",
       "  'chargePriceAmount': 3345.56,\n",
       "  'taxesAndFeesAmount': 0.0,\n",
       "  'currency': None,\n",
       "  'shouldShowPopup': True,\n",
       "  'shouldShowCouponOrMoneyBackBadge': False,\n",
       "  'FormattedPropertyCrossoutRatePrice': '5,500',\n",
       "  'FormattedAgodaPrice': '3,346',\n",
       "  'PropertyCrossoutRatePrice': 5500.39,\n",
       "  'AgodaPrice': 3345.56,\n",
       "  'ShouldShowTaxAndFee': False,\n",
       "  'IsDuoPriceDisplay': False,\n",
       "  'GiftCardViewModel': {'adjustedPriceAmount': 0.0,\n",
       "   'formattedAdjustedPriceAmount': '',\n",
       "   'formattedMoneyBackAmountOnBadge': '',\n",
       "   'formattedMoneyBackAmountOnPopUp': '',\n",
       "   'moneyBackAmount': 0.0,\n",
       "   'moneyBackAmountPerTrip': 0.0,\n",
       "   'moneyBackAmountPerOneExtraBed': 0.0,\n",
       "   'GiftCardAmountPerRoomPerNight': 0.0,\n",
       "   'GiftCardAmountPerExtraBedPerNight': 0.0,\n",
       "   'shouldShow2Decimal': False,\n",
       "   'shouldShowMoneyBackBadge': False,\n",
       "   'shouldShowPopup': True,\n",
       "   'formattedMoneyBackAmountWithCurrency': '',\n",
       "   'GiftCardHoverHeader': '',\n",
       "   'GiftCardHoverInfo': '',\n",
       "   'IsModifyCmsForGiftCardsTest': False,\n",
       "   'GiftCardEarnText': '',\n",
       "   'ShouldShowGiftCardEarnText': False},\n",
       "  'CouponViewModel': {'currency': '',\n",
       "   'couponAmount': 0.0,\n",
       "   'originalPricePerNight': 3345.56,\n",
       "   'shouldShowCouponBadge': False,\n",
       "   'ShouldShowCouponCrossoutPrice': False,\n",
       "   'shouldShowPopup': True,\n",
       "   'formattedCouponAmountOnBadge': '0',\n",
       "   'formattedCouponAmountOnPopUp': '0',\n",
       "   'formattedOriginalPriceOnPopUp': '3,346',\n",
       "   'formattedCouponAmountWithCurrency': 'NT$ 0',\n",
       "   'SellAllInPricePerNight': 0.0,\n",
       "   'CouponCrossoutCmsText': '',\n",
       "   'CouponCrossedOutPriceFormatted': '',\n",
       "   'CouponCrossedOutPrice': 0.0,\n",
       "   'CouponHoverInfo': '剛到手的額外折扣已經開始幫你省錢囉！詳細折扣金額可於價格明細中查看，各間住宿可獲得的折扣金額不同。',\n",
       "   'CouponHoverHeader': '折扣碼減價',\n",
       "   'CouponApplied': '折扣碼減價',\n",
       "   'CouponPromoCode': None},\n",
       "  'PropertyRateText': '住宿價格',\n",
       "  'AgodaRateText': 'Agoda優惠價',\n",
       "  'AgodaMemberRateText': 'Agoda會員價',\n",
       "  'CouponAppliedText': '折扣碼優惠',\n",
       "  'TaxesAndFeesText': '稅金與其他費用',\n",
       "  'TotalText': '總金額',\n",
       "  'MoneyBackViaGiftCardText': '訂房A金回饋',\n",
       "  'AdjustedTotalText': '精打細算後，其實只要',\n",
       "  'PleaseContinueWithBookingText': '欲查看稅金與其他費用，請繼續下個步驟。',\n",
       "  'BasePricePerNightCms': '',\n",
       "  'IsGiftcardAppliedDisplay': False,\n",
       "  'GiftcardAppliedText': 'A金卡折抵金額',\n",
       "  'FormattedGiftcardAppliedAmount': ''},\n",
       " 'CorBreakdown': {'hotelRates': [{'id': 0,\n",
       "    'fontIcon': None,\n",
       "    'itemText': '住宿標價',\n",
       "    'amount': 5500.0,\n",
       "    'cssClass': 'property-rate',\n",
       "    'displayType': 0,\n",
       "    'displayKey': 1},\n",
       "   {'id': 4,\n",
       "    'fontIcon': None,\n",
       "    'itemText': 'Agoda特惠價',\n",
       "    'amount': 3557.0,\n",
       "    'cssClass': 'agoda-rate',\n",
       "    'displayType': 0,\n",
       "    'displayKey': 2}],\n",
       "  'agodaPromotions': [{'id': 5,\n",
       "    'fontIcon': None,\n",
       "    'itemText': '晚鳥特惠',\n",
       "    'amount': 211.0,\n",
       "    'cssClass': 'promotion',\n",
       "    'displayType': 1,\n",
       "    'displayKey': 3}],\n",
       "  'priceSummaries': [{'id': 1,\n",
       "    'fontIcon': None,\n",
       "    'itemText': '每晚房價',\n",
       "    'amount': 3346.0,\n",
       "    'cssClass': 'final-price',\n",
       "    'displayType': 0,\n",
       "    'displayKey': 1}],\n",
       "  'giftCard': None,\n",
       "  'taxAndFeeText': None},\n",
       " 'ShouldShowEarnPanel': False,\n",
       " 'CSS': {'PropertyCardContainerClass': ''},\n",
       " 'IsFavoriteHotel': False,\n",
       " 'IsBookOnRequest': False,\n",
       " 'ShouldDisplayRemainingRoom': True,\n",
       " 'ShouldShowCouponBadge': False,\n",
       " 'GiftCardHoverHeader': '',\n",
       " 'GiftCardHoverInfo': '',\n",
       " 'InsiderDealToolTip': '',\n",
       " 'InsiderDealsDesktopTag': '',\n",
       " 'HoverTextForPointsmaxOnSSR': '',\n",
       " 'BestAgodaDiscount': '',\n",
       " 'PartnerPromoEligible': '適用額外優惠',\n",
       " 'ShouldShowGiftcardBadge': False,\n",
       " 'showNoCreditCardRequiredMessage': False,\n",
       " 'MSEListViewModel': {'MSEList': [{'SupplierId': 332,\n",
       "    'SupplierText': 'Agoda.com',\n",
       "    'PriceText': '3,346',\n",
       "    'Price': 3345.56,\n",
       "    'IsGiftcardApplied': False,\n",
       "    'Index': 1,\n",
       "    'IsReady': True,\n",
       "    'IsAgodaBrand': True},\n",
       "   {'SupplierId': 28999,\n",
       "    'SupplierText': 'Priceline.com',\n",
       "    'PriceText': '3,346',\n",
       "    'Price': 3345.56,\n",
       "    'IsGiftcardApplied': False,\n",
       "    'Index': 2,\n",
       "    'IsReady': True,\n",
       "    'IsAgodaBrand': False},\n",
       "   {'SupplierId': 3038,\n",
       "    'SupplierText': 'Booking.com',\n",
       "    'PriceText': '3,624',\n",
       "    'Price': 3623.63,\n",
       "    'IsGiftcardApplied': False,\n",
       "    'Index': 3,\n",
       "    'IsReady': True,\n",
       "    'IsAgodaBrand': False},\n",
       "   {'SupplierId': 27903,\n",
       "    'SupplierText': 'Rakuten Travel',\n",
       "    'PriceText': '4,192',\n",
       "    'Price': 4191.89,\n",
       "    'IsGiftcardApplied': False,\n",
       "    'Index': 4,\n",
       "    'IsReady': True,\n",
       "    'IsAgodaBrand': False}],\n",
       "  'ShouldDisplayMSEList': True,\n",
       "  'ShouldDisplayMseHorizontalLayout': False,\n",
       "  'ShouldDisplayAsAgodaBrand': True,\n",
       "  'SupplierByText': '各家價格比較',\n",
       "  'SupplierPriceFromText': None,\n",
       "  'SupplierName': 'Agoda.com',\n",
       "  'ExpandText': None,\n",
       "  'CollapseText': None,\n",
       "  'LowestPriceText': '【懶人比價】為你特搜4個網站中的最低價',\n",
       "  'ComparePricesHiLightText': '比價詳情',\n",
       "  'MaxDisplaySupplier': 8,\n",
       "  'HasOnlyOneSupplier': False,\n",
       "  'ShouldSupplierPanelNotWrapPrice': False,\n",
       "  'MseDrawerMobileImprovement': False,\n",
       "  'Suppliers': 'Agoda|Priceline|Booking|Rakuten Travel',\n",
       "  'Prices': '3345.56|3345.56|3623.63|4191.89',\n",
       "  'IsAllPriceReady': True},\n",
       " 'EarnLoyaltyPointsNow': None,\n",
       " 'RatesAsLowAs': None,\n",
       " 'PropertyType': 'Hotel',\n",
       " 'AccommodationType': '飯店',\n",
       " 'AccommodationTypeId': 34,\n",
       " 'ShouldShowAccommodationTypeLabel': False,\n",
       " 'PromotionBreakdown': None,\n",
       " 'TopValueForMoneyViewModel': None,\n",
       " 'TopLocationForMoneyViewModel': None,\n",
       " 'ValueBadgesViewModel': None,\n",
       " 'TopFacilityForMoneyViewModel': None,\n",
       " 'TopSellingPointViewModel': None,\n",
       " 'PriceDifferenceViewModel': None,\n",
       " 'ReviewItem': None,\n",
       " 'IsHeartOfTheCity': False,\n",
       " 'ShouldDisplayTopLocationBadge': False,\n",
       " 'ApsUniqueRoomHash': '739D964D58600893DFA2EE35C73305F8',\n",
       " 'isShowDistance': True,\n",
       " 'Distance': 0.07,\n",
       " 'DistanceWithBracket': '(距離市中心0.07 km)',\n",
       " 'MobileDistanceMessage': '',\n",
       " 'DiscountRibbonUrgencyMessage': '只限今天 - 下殺6.1折',\n",
       " 'FormattedDiscountValue': '6.1',\n",
       " 'IsContainAGMse': True,\n",
       " 'ShouldDisplayPricePerNightAbovePrice': False,\n",
       " 'IsDealOfTheDayOnMobile': False,\n",
       " 'ShouldDisplaySupplierPriceFrom': False,\n",
       " 'IsAgMse': True,\n",
       " 'IsMobilePromotionGrouping': False,\n",
       " 'FreeNightStayOffer': None,\n",
       " 'InsiderDeal': None,\n",
       " 'PromotionBadge': None,\n",
       " 'PromotionGrouping': None,\n",
       " 'LastMinutePriceDrop': {'fontIcon': 'ficon-10 ficon-price-drop',\n",
       "  'promotionText': '最後一刻降價出清！',\n",
       "  'css': 'search'},\n",
       " 'SeasonalDeal': None,\n",
       " 'ShouldRenderSeasonalDeal': False,\n",
       " 'CanTriggerPromotionGrouping': False,\n",
       " 'Usp': None,\n",
       " 'UspSegment': {'Id': 'segment-review-score',\n",
       "  'UspParams': None,\n",
       "  'Name': 'Solo',\n",
       "  'Value': 8.1,\n",
       "  'Rank': 40,\n",
       "  'TranslatedName': '獲單人旅遊高度評價',\n",
       "  'SegmentFontIcon': 'ficon-solo',\n",
       "  'ShouldDisplaySegment': False,\n",
       "  'HoverText': None,\n",
       "  'DataElementName': None,\n",
       "  'CssClass': None},\n",
       " 'TopSellingPoints': [],\n",
       " 'Dod': None,\n",
       " 'isMultiRoomSuggestions': False,\n",
       " 'sellingPoints': [],\n",
       " 'AvailabilityAlertSearchViewModel': None,\n",
       " 'FriendsViewModel': None,\n",
       " 'NearbyBucket': {'PillList': [{'Name': '大眾運輸',\n",
       "    'Icon': 'ficon-train-new',\n",
       "    'SeleniumName': None,\n",
       "    'Category': 'transportation',\n",
       "    'Id': None}],\n",
       "  'IsDisplayInCompactMode': False,\n",
       "  'StyleName': 'pill-blue',\n",
       "  'PillText': '住宿週邊',\n",
       "  'PillTooltipText': '週邊大眾運輸',\n",
       "  'CustomPillList': [{'Name': '距地下鐵 三越前站約370公尺',\n",
       "    'Icon': 'ficon-train-new',\n",
       "    'SeleniumName': None,\n",
       "    'Category': 'transportation',\n",
       "    'Id': None}]},\n",
       " 'BabyCotBadgeViewModel': None,\n",
       " 'ApsPeekViewModel': {'ApsTooltipText': None, 'ApsPrice': None},\n",
       " 'AgodaPriceGuaranteeViewModel': None,\n",
       " 'BestSellerText': None,\n",
       " 'OccupancyViewModel': None,\n",
       " 'AgodaHomesText': None,\n",
       " 'Sponsored': False,\n",
       " 'SupportLocaleText': None,\n",
       " 'PropertyCertificates': None,\n",
       " 'CrossOutItems': None,\n",
       " 'FinalPriceDescription': None,\n",
       " 'FinalPriceCssClass': None,\n",
       " 'FullAddress': None,\n",
       " 'ResultsGroup': 0,\n",
       " 'AdvanceGuaranteeProgram': None,\n",
       " 'PropertyOverview': None,\n",
       " 'NoPrePaymentRequired': {'title': '無需先付款', 'symbol': 'ficon-prepayment'}}"
      ]
     },
     "execution_count": 206,
     "metadata": {},
     "output_type": "execute_result"
    }
   ],
   "source": [
    "resp.json()['ResultList'][0]"
   ]
  },
  {
   "cell_type": "code",
   "execution_count": 176,
   "metadata": {},
   "outputs": [],
   "source": [
    "data = json.loads(data)"
   ]
  },
  {
   "cell_type": "code",
   "execution_count": null,
   "metadata": {},
   "outputs": [],
   "source": []
  }
 ],
 "metadata": {
  "kernelspec": {
   "display_name": "Python 3",
   "language": "python",
   "name": "python3"
  },
  "language_info": {
   "codemirror_mode": {
    "name": "ipython",
    "version": 3
   },
   "file_extension": ".py",
   "mimetype": "text/x-python",
   "name": "python",
   "nbconvert_exporter": "python",
   "pygments_lexer": "ipython3",
   "version": "3.6.5"
  }
 },
 "nbformat": 4,
 "nbformat_minor": 2
}
