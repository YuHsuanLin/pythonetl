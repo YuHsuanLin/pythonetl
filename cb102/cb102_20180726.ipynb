{
 "cells": [
  {
   "cell_type": "markdown",
   "metadata": {},
   "source": [
    "```\n",
    "# https://hyperrate.com/thread.php?tid=28044\n",
    "sudo apt-key adv --keyserver keyserver.ubuntu.com --recv-keys 835AB0E3\n",
    "sudo echo \"deb http://hyperrate.com/gcin-ubuntu1604 eliu release\" >> /etc/apt/sources.list\n",
    "sudo apt-get update\n",
    "sudo apt-get install gcin\n",
    "```"
   ]
  },
  {
   "cell_type": "code",
   "execution_count": 1,
   "metadata": {},
   "outputs": [
    {
     "name": "stdout",
     "output_type": "stream",
     "text": [
      "Requirement already satisfied: jieba in /Users/ian/.pyenv/versions/3.6.5/Python.framework/Versions/3.6/lib/python3.6/site-packages\n",
      "\u001b[33mYou are using pip version 9.0.3, however version 10.0.1 is available.\n",
      "You should consider upgrading via the 'pip install --upgrade pip' command.\u001b[0m\n"
     ]
    }
   ],
   "source": [
    "!pip install jieba"
   ]
  },
  {
   "cell_type": "code",
   "execution_count": 2,
   "metadata": {},
   "outputs": [],
   "source": [
    "import jieba"
   ]
  },
  {
   "cell_type": "code",
   "execution_count": 3,
   "metadata": {},
   "outputs": [],
   "source": [
    "jieba.set_dictionary('./dict.txt.big')"
   ]
  },
  {
   "cell_type": "code",
   "execution_count": 4,
   "metadata": {},
   "outputs": [],
   "source": [
    "speech = open('./speech.txt').read()"
   ]
  },
  {
   "cell_type": "code",
   "execution_count": 5,
   "metadata": {},
   "outputs": [],
   "source": [
    "stopwords = open('./stopwords.txt').readlines()"
   ]
  },
  {
   "cell_type": "code",
   "execution_count": 6,
   "metadata": {},
   "outputs": [
    {
     "data": {
      "text/plain": [
       "['$\\n', '0\\n', '1\\n', '2\\n', '3\\n', '4\\n', '5\\n', '6\\n', '7\\n', '8\\n']"
      ]
     },
     "execution_count": 6,
     "metadata": {},
     "output_type": "execute_result"
    }
   ],
   "source": [
    "stopwords[:10]"
   ]
  },
  {
   "cell_type": "code",
   "execution_count": 7,
   "metadata": {},
   "outputs": [
    {
     "data": {
      "text/plain": [
       "'5'"
      ]
     },
     "execution_count": 7,
     "metadata": {},
     "output_type": "execute_result"
    }
   ],
   "source": [
    "'5\\n'.strip()"
   ]
  },
  {
   "cell_type": "code",
   "execution_count": 8,
   "metadata": {},
   "outputs": [
    {
     "data": {
      "text/plain": [
       "'asd'"
      ]
     },
     "execution_count": 8,
     "metadata": {},
     "output_type": "execute_result"
    }
   ],
   "source": [
    "'    \\t\\nasd\\t\\n\\n      \\n'.strip()"
   ]
  },
  {
   "cell_type": "code",
   "execution_count": 9,
   "metadata": {},
   "outputs": [],
   "source": [
    "stopwords = [word.strip() for word in stopwords]"
   ]
  },
  {
   "cell_type": "code",
   "execution_count": 10,
   "metadata": {},
   "outputs": [
    {
     "data": {
      "text/plain": [
       "['$', '0', '1', '2', '3', '4', '5', '6', '7', '8']"
      ]
     },
     "execution_count": 10,
     "metadata": {},
     "output_type": "execute_result"
    }
   ],
   "source": [
    "stopwords[:10]"
   ]
  },
  {
   "cell_type": "code",
   "execution_count": 11,
   "metadata": {},
   "outputs": [],
   "source": [
    "stopwords.append('\\n')"
   ]
  },
  {
   "cell_type": "code",
   "execution_count": 12,
   "metadata": {},
   "outputs": [
    {
     "data": {
      "text/plain": [
       "'各位友邦的元首與貴賓、各國駐臺使節及代表、現場的好朋友，全體國人同胞，大家好：\\n\\n感謝與承擔\\n\\n就在剛剛，我和陳建仁已經在總統府裡面，正式宣誓就任中華民國第十四任總統與副總統。我們要感謝這塊土地對我們'"
      ]
     },
     "execution_count": 12,
     "metadata": {},
     "output_type": "execute_result"
    }
   ],
   "source": [
    "speech[:100]"
   ]
  },
  {
   "cell_type": "code",
   "execution_count": 13,
   "metadata": {},
   "outputs": [
    {
     "name": "stderr",
     "output_type": "stream",
     "text": [
      "Building prefix dict from /Volumes/SanDisk256G/Code/teaching/pythonetl/cb102/dict.txt.big ...\n",
      "Loading model from cache /var/folders/nw/lrthh3612hv9zzl6s6s_xblr0000gn/T/jieba.u37ce57c938704528221aadf0e9c88e49.cache\n",
      "Loading model cost 1.535 seconds.\n",
      "Prefix dict has been built succesfully.\n"
     ]
    }
   ],
   "source": [
    "wordcnt = {}\n",
    "for word in jieba.cut(speech):\n",
    "    if word in stopwords:\n",
    "        continue\n",
    "    if word in wordcnt:\n",
    "        wordcnt[word] += 1\n",
    "    else:\n",
    "        wordcnt[word] = 1"
   ]
  },
  {
   "cell_type": "code",
   "execution_count": 14,
   "metadata": {},
   "outputs": [],
   "source": [
    "res_unsorted = [[word, cnt] for word, cnt in wordcnt.items()]"
   ]
  },
  {
   "cell_type": "code",
   "execution_count": 15,
   "metadata": {},
   "outputs": [],
   "source": [
    "def sorter(input_list):\n",
    "    return input_list[1]"
   ]
  },
  {
   "cell_type": "code",
   "execution_count": 16,
   "metadata": {},
   "outputs": [
    {
     "data": {
      "text/plain": [
       "3"
      ]
     },
     "execution_count": 16,
     "metadata": {},
     "output_type": "execute_result"
    }
   ],
   "source": [
    "['信任', 3]\n",
    "sorter(['信任', 3])"
   ]
  },
  {
   "cell_type": "code",
   "execution_count": 17,
   "metadata": {},
   "outputs": [
    {
     "data": {
      "text/plain": [
       "[['臺灣', 37],\n",
       " ['國家', 32],\n",
       " ['一個', 30],\n",
       " ['新政府', 27],\n",
       " ['會', 26],\n",
       " ['經濟', 25],\n",
       " ['民主', 22],\n",
       " ['社會', 21],\n",
       " ['發展', 20],\n",
       " ['區域', 18]]"
      ]
     },
     "execution_count": 17,
     "metadata": {},
     "output_type": "execute_result"
    }
   ],
   "source": [
    "sorted(res_unsorted, key=sorter, reverse=True)[:10]"
   ]
  },
  {
   "cell_type": "code",
   "execution_count": 18,
   "metadata": {},
   "outputs": [
    {
     "data": {
      "text/plain": [
       "[['臺灣', 37],\n",
       " ['國家', 32],\n",
       " ['一個', 30],\n",
       " ['新政府', 27],\n",
       " ['會', 26],\n",
       " ['經濟', 25],\n",
       " ['民主', 22],\n",
       " ['社會', 21],\n",
       " ['發展', 20],\n",
       " ['區域', 18]]"
      ]
     },
     "execution_count": 18,
     "metadata": {},
     "output_type": "execute_result"
    }
   ],
   "source": [
    "sorted(res_unsorted, key=lambda x: x[1], reverse=True)[:10]"
   ]
  },
  {
   "cell_type": "code",
   "execution_count": 19,
   "metadata": {},
   "outputs": [],
   "source": [
    "%matplotlib inline\n",
    "import matplotlib.pyplot as plt\n",
    "import pandas as pd"
   ]
  },
  {
   "cell_type": "code",
   "execution_count": 20,
   "metadata": {},
   "outputs": [
    {
     "data": {
      "text/plain": [
       "[{'word': '友邦', 'cnt': 2},\n",
       " {'word': '元首', 'cnt': 2},\n",
       " {'word': '貴賓', 'cnt': 1},\n",
       " {'word': '各國', 'cnt': 3},\n",
       " {'word': '駐', 'cnt': 1},\n",
       " {'word': '臺', 'cnt': 1},\n",
       " {'word': '使節', 'cnt': 1},\n",
       " {'word': '代表', 'cnt': 2},\n",
       " {'word': '現場', 'cnt': 2},\n",
       " {'word': '朋友', 'cnt': 1}]"
      ]
     },
     "execution_count": 20,
     "metadata": {},
     "output_type": "execute_result"
    }
   ],
   "source": [
    "word_cnt_dict = [{'word': word, 'cnt': cnt} for word, cnt in res_unsorted]\n",
    "word_cnt_dict[:10]"
   ]
  },
  {
   "cell_type": "code",
   "execution_count": 21,
   "metadata": {},
   "outputs": [],
   "source": [
    "df = pd.DataFrame(word_cnt_dict)"
   ]
  },
  {
   "cell_type": "code",
   "execution_count": 22,
   "metadata": {},
   "outputs": [
    {
     "data": {
      "text/html": [
       "<div>\n",
       "<style scoped>\n",
       "    .dataframe tbody tr th:only-of-type {\n",
       "        vertical-align: middle;\n",
       "    }\n",
       "\n",
       "    .dataframe tbody tr th {\n",
       "        vertical-align: top;\n",
       "    }\n",
       "\n",
       "    .dataframe thead th {\n",
       "        text-align: right;\n",
       "    }\n",
       "</style>\n",
       "<table border=\"1\" class=\"dataframe\">\n",
       "  <thead>\n",
       "    <tr style=\"text-align: right;\">\n",
       "      <th></th>\n",
       "      <th>cnt</th>\n",
       "      <th>word</th>\n",
       "    </tr>\n",
       "  </thead>\n",
       "  <tbody>\n",
       "    <tr>\n",
       "      <th>0</th>\n",
       "      <td>2</td>\n",
       "      <td>友邦</td>\n",
       "    </tr>\n",
       "    <tr>\n",
       "      <th>1</th>\n",
       "      <td>2</td>\n",
       "      <td>元首</td>\n",
       "    </tr>\n",
       "    <tr>\n",
       "      <th>2</th>\n",
       "      <td>1</td>\n",
       "      <td>貴賓</td>\n",
       "    </tr>\n",
       "    <tr>\n",
       "      <th>3</th>\n",
       "      <td>3</td>\n",
       "      <td>各國</td>\n",
       "    </tr>\n",
       "    <tr>\n",
       "      <th>4</th>\n",
       "      <td>1</td>\n",
       "      <td>駐</td>\n",
       "    </tr>\n",
       "  </tbody>\n",
       "</table>\n",
       "</div>"
      ],
      "text/plain": [
       "   cnt word\n",
       "0    2   友邦\n",
       "1    2   元首\n",
       "2    1   貴賓\n",
       "3    3   各國\n",
       "4    1    駐"
      ]
     },
     "execution_count": 22,
     "metadata": {},
     "output_type": "execute_result"
    }
   ],
   "source": [
    "df.head()"
   ]
  },
  {
   "cell_type": "code",
   "execution_count": 23,
   "metadata": {
    "scrolled": true
   },
   "outputs": [
    {
     "data": {
      "text/html": [
       "<div>\n",
       "<style scoped>\n",
       "    .dataframe tbody tr th:only-of-type {\n",
       "        vertical-align: middle;\n",
       "    }\n",
       "\n",
       "    .dataframe tbody tr th {\n",
       "        vertical-align: top;\n",
       "    }\n",
       "\n",
       "    .dataframe thead th {\n",
       "        text-align: right;\n",
       "    }\n",
       "</style>\n",
       "<table border=\"1\" class=\"dataframe\">\n",
       "  <thead>\n",
       "    <tr style=\"text-align: right;\">\n",
       "      <th></th>\n",
       "      <th>cnt</th>\n",
       "      <th>word</th>\n",
       "    </tr>\n",
       "  </thead>\n",
       "  <tbody>\n",
       "    <tr>\n",
       "      <th>57</th>\n",
       "      <td>37</td>\n",
       "      <td>臺灣</td>\n",
       "    </tr>\n",
       "    <tr>\n",
       "      <th>32</th>\n",
       "      <td>32</td>\n",
       "      <td>國家</td>\n",
       "    </tr>\n",
       "    <tr>\n",
       "      <th>72</th>\n",
       "      <td>30</td>\n",
       "      <td>一個</td>\n",
       "    </tr>\n",
       "    <tr>\n",
       "      <th>85</th>\n",
       "      <td>27</td>\n",
       "      <td>新政府</td>\n",
       "    </tr>\n",
       "    <tr>\n",
       "      <th>155</th>\n",
       "      <td>26</td>\n",
       "      <td>會</td>\n",
       "    </tr>\n",
       "    <tr>\n",
       "      <th>167</th>\n",
       "      <td>25</td>\n",
       "      <td>經濟</td>\n",
       "    </tr>\n",
       "    <tr>\n",
       "      <th>33</th>\n",
       "      <td>22</td>\n",
       "      <td>民主</td>\n",
       "    </tr>\n",
       "    <tr>\n",
       "      <th>160</th>\n",
       "      <td>21</td>\n",
       "      <td>社會</td>\n",
       "    </tr>\n",
       "    <tr>\n",
       "      <th>176</th>\n",
       "      <td>20</td>\n",
       "      <td>發展</td>\n",
       "    </tr>\n",
       "    <tr>\n",
       "      <th>303</th>\n",
       "      <td>18</td>\n",
       "      <td>區域</td>\n",
       "    </tr>\n",
       "  </tbody>\n",
       "</table>\n",
       "</div>"
      ],
      "text/plain": [
       "     cnt word\n",
       "57    37   臺灣\n",
       "32    32   國家\n",
       "72    30   一個\n",
       "85    27  新政府\n",
       "155   26    會\n",
       "167   25   經濟\n",
       "33    22   民主\n",
       "160   21   社會\n",
       "176   20   發展\n",
       "303   18   區域"
      ]
     },
     "execution_count": 23,
     "metadata": {},
     "output_type": "execute_result"
    }
   ],
   "source": [
    "df.sort_values('cnt', ascending=False)[:10]"
   ]
  },
  {
   "cell_type": "code",
   "execution_count": 24,
   "metadata": {},
   "outputs": [],
   "source": [
    "top_10 = df.sort_values('cnt', ascending=False)[:10]"
   ]
  },
  {
   "cell_type": "code",
   "execution_count": 25,
   "metadata": {
    "scrolled": true
   },
   "outputs": [
    {
     "data": {
      "text/html": [
       "<div>\n",
       "<style scoped>\n",
       "    .dataframe tbody tr th:only-of-type {\n",
       "        vertical-align: middle;\n",
       "    }\n",
       "\n",
       "    .dataframe tbody tr th {\n",
       "        vertical-align: top;\n",
       "    }\n",
       "\n",
       "    .dataframe thead th {\n",
       "        text-align: right;\n",
       "    }\n",
       "</style>\n",
       "<table border=\"1\" class=\"dataframe\">\n",
       "  <thead>\n",
       "    <tr style=\"text-align: right;\">\n",
       "      <th></th>\n",
       "      <th>cnt</th>\n",
       "      <th>word</th>\n",
       "    </tr>\n",
       "  </thead>\n",
       "  <tbody>\n",
       "    <tr>\n",
       "      <th>57</th>\n",
       "      <td>37</td>\n",
       "      <td>臺灣</td>\n",
       "    </tr>\n",
       "    <tr>\n",
       "      <th>32</th>\n",
       "      <td>32</td>\n",
       "      <td>國家</td>\n",
       "    </tr>\n",
       "    <tr>\n",
       "      <th>72</th>\n",
       "      <td>30</td>\n",
       "      <td>一個</td>\n",
       "    </tr>\n",
       "    <tr>\n",
       "      <th>85</th>\n",
       "      <td>27</td>\n",
       "      <td>新政府</td>\n",
       "    </tr>\n",
       "    <tr>\n",
       "      <th>155</th>\n",
       "      <td>26</td>\n",
       "      <td>會</td>\n",
       "    </tr>\n",
       "    <tr>\n",
       "      <th>167</th>\n",
       "      <td>25</td>\n",
       "      <td>經濟</td>\n",
       "    </tr>\n",
       "    <tr>\n",
       "      <th>33</th>\n",
       "      <td>22</td>\n",
       "      <td>民主</td>\n",
       "    </tr>\n",
       "    <tr>\n",
       "      <th>160</th>\n",
       "      <td>21</td>\n",
       "      <td>社會</td>\n",
       "    </tr>\n",
       "    <tr>\n",
       "      <th>176</th>\n",
       "      <td>20</td>\n",
       "      <td>發展</td>\n",
       "    </tr>\n",
       "    <tr>\n",
       "      <th>303</th>\n",
       "      <td>18</td>\n",
       "      <td>區域</td>\n",
       "    </tr>\n",
       "  </tbody>\n",
       "</table>\n",
       "</div>"
      ],
      "text/plain": [
       "     cnt word\n",
       "57    37   臺灣\n",
       "32    32   國家\n",
       "72    30   一個\n",
       "85    27  新政府\n",
       "155   26    會\n",
       "167   25   經濟\n",
       "33    22   民主\n",
       "160   21   社會\n",
       "176   20   發展\n",
       "303   18   區域"
      ]
     },
     "execution_count": 25,
     "metadata": {},
     "output_type": "execute_result"
    }
   ],
   "source": [
    "top_10"
   ]
  },
  {
   "cell_type": "code",
   "execution_count": 32,
   "metadata": {},
   "outputs": [
    {
     "data": {
      "image/png": "[encoded data removed]",
      "text/plain": [
       "<Figure size 432x288 with 1 Axes>"
      ]
     },
     "metadata": {},
     "output_type": "display_data"
    }
   ],
   "source": [
    "ax = top_10.set_index('word').plot(kind='bar')"
   ]
  },
  {
   "cell_type": "code",
   "execution_count": 52,
   "metadata": {},
   "outputs": [
    {
     "name": "stdout",
     "output_type": "stream",
     "text": [
      "Requirement already satisfied: requests in /Users/ian/.pyenv/versions/3.6.5/Python.framework/Versions/3.6/lib/python3.6/site-packages\n",
      "Requirement already satisfied: certifi>=2017.4.17 in /Users/ian/.pyenv/versions/3.6.5/Python.framework/Versions/3.6/lib/python3.6/site-packages (from requests)\n",
      "Requirement already satisfied: idna<2.8,>=2.5 in /Users/ian/.pyenv/versions/3.6.5/Python.framework/Versions/3.6/lib/python3.6/site-packages (from requests)\n",
      "Requirement already satisfied: urllib3<1.24,>=1.21.1 in /Users/ian/.pyenv/versions/3.6.5/Python.framework/Versions/3.6/lib/python3.6/site-packages (from requests)\n",
      "Requirement already satisfied: chardet<3.1.0,>=3.0.2 in /Users/ian/.pyenv/versions/3.6.5/Python.framework/Versions/3.6/lib/python3.6/site-packages (from requests)\n",
      "\u001b[33mYou are using pip version 9.0.3, however version 10.0.1 is available.\n",
      "You should consider upgrading via the 'pip install --upgrade pip' command.\u001b[0m\n"
     ]
    }
   ],
   "source": [
    "!pip install requests"
   ]
  },
  {
   "cell_type": "code",
   "execution_count": 60,
   "metadata": {},
   "outputs": [],
   "source": [
    "import requests\n",
    "# http://docs.python-requests.org/en/master/"
   ]
  },
  {
   "cell_type": "code",
   "execution_count": 54,
   "metadata": {},
   "outputs": [
    {
     "data": {
      "text/plain": [
       "<Response [200]>"
      ]
     },
     "execution_count": 54,
     "metadata": {},
     "output_type": "execute_result"
    }
   ],
   "source": [
    "requests.get(\"http://api.ipify.org\")"
   ]
  },
  {
   "cell_type": "code",
   "execution_count": 55,
   "metadata": {},
   "outputs": [],
   "source": [
    "from requests import get"
   ]
  },
  {
   "cell_type": "code",
   "execution_count": 56,
   "metadata": {},
   "outputs": [
    {
     "data": {
      "text/plain": [
       "<Response [200]>"
      ]
     },
     "execution_count": 56,
     "metadata": {},
     "output_type": "execute_result"
    }
   ],
   "source": [
    "get('http://api.ipify.org')"
   ]
  },
  {
   "cell_type": "code",
   "execution_count": 57,
   "metadata": {},
   "outputs": [],
   "source": [
    "import requests as r"
   ]
  },
  {
   "cell_type": "code",
   "execution_count": 58,
   "metadata": {},
   "outputs": [
    {
     "data": {
      "text/plain": [
       "<Response [200]>"
      ]
     },
     "execution_count": 58,
     "metadata": {},
     "output_type": "execute_result"
    }
   ],
   "source": [
    "r.get(\"http://api.ipify.org\")"
   ]
  },
  {
   "cell_type": "code",
   "execution_count": 79,
   "metadata": {
    "scrolled": true
   },
   "outputs": [],
   "source": [
    "resp = requests.get(\"https://www.ptt.cc/bbs/creditcard/index2786.html\")"
   ]
  },
  {
   "cell_type": "code",
   "execution_count": 80,
   "metadata": {},
   "outputs": [
    {
     "data": {
      "text/plain": [
       "200"
      ]
     },
     "execution_count": 80,
     "metadata": {},
     "output_type": "execute_result"
    }
   ],
   "source": [
    "resp.status_code"
   ]
  },
  {
   "cell_type": "code",
   "execution_count": 81,
   "metadata": {},
   "outputs": [
    {
     "data": {
      "text/plain": [
       "b'<!DOCTYPE html>\\n<html>\\n\\t<head>\\n\\t\\t<meta charset=\"utf-8\">\\n\\t\\t\\n\\n<meta name=\"viewport\" content=\"width=dev'"
      ]
     },
     "execution_count": 81,
     "metadata": {},
     "output_type": "execute_result"
    }
   ],
   "source": [
    "resp.content[:100]"
   ]
  },
  {
   "cell_type": "code",
   "execution_count": 82,
   "metadata": {},
   "outputs": [
    {
     "data": {
      "text/plain": [
       "'<!DOCTYPE html>\\n<html>\\n\\t<head>\\n\\t\\t<meta charset=\"utf-8\">\\n\\t\\t\\n\\n<meta name=\"viewport\" content=\"width=dev'"
      ]
     },
     "execution_count": 82,
     "metadata": {},
     "output_type": "execute_result"
    }
   ],
   "source": [
    "resp.content.decode('utf-8')[:100]"
   ]
  },
  {
   "cell_type": "code",
   "execution_count": 83,
   "metadata": {},
   "outputs": [
    {
     "data": {
      "text/plain": [
       "'<!DOCTYPE html>\\n<html>\\n\\t<head>\\n\\t\\t<meta charset=\"utf-8\">\\n\\t\\t\\n\\n<meta name=\"viewport\" content=\"width=device-width, initial-scale=1\">\\n\\n<title>看板 creditcard 文章列表 - 批踢踢實業坊</title>\\n\\n<link rel=\"stylesheet\" typ'"
      ]
     },
     "execution_count": 83,
     "metadata": {},
     "output_type": "execute_result"
    }
   ],
   "source": [
    "resp.text[:200]"
   ]
  },
  {
   "cell_type": "code",
   "execution_count": 78,
   "metadata": {},
   "outputs": [
    {
     "data": {
      "text/plain": [
       "'<!DOCTYPE html>\\n<html>\\n\\t<head>\\n\\t\\t<meta charset=\"utf-8\">\\n\\t\\t\\n\\n<meta name=\"viewport\" content=\"width=device-width, initial-scale=1\">\\n\\n<title>看板 creditcard 文章列表 - 批踢踢實業坊</title>\\n\\n<link rel=\"stylesheet\" type=\"text/css\" href=\"//images.ptt.cc/bbs/v2.25/bbs-common.css\">\\n<link rel=\"stylesheet\" type=\"text/css\" href=\"//images.ptt.cc/bbs/v2.25/bbs-base.css\" media=\"screen\">\\n<link rel=\"stylesheet\" type=\"text/css\" href=\"//images.ptt.cc/bbs/v2.25/bbs-custom.css\">\\n<link rel=\"stylesheet\" type=\"text/css\" href=\"//images.ptt.cc/bbs/v2.25/pushstream.css\" media=\"screen\">\\n<link rel=\"stylesheet\" type=\"text/css\" href=\"//images.ptt.cc/bbs/v2.25/bbs-print.css\" media=\"print\">\\n\\n\\n\\n\\n\\t</head>\\n    <body>\\n\\t\\t\\n<div id=\"topbar-container\">\\n\\t<div id=\"topbar\" class=\"bbs-content\">\\n\\t\\t<a id=\"logo\" href=\"/bbs/\">批踢踢實業坊</a>\\n\\t\\t<span>&rsaquo;</span>\\n\\t\\t<a class=\"board\" href=\"/bbs/creditcard/index.html\"><span class=\"board-label\">看板 </span>creditcard</a>\\n\\t\\t<a class=\"right small\" href=\"/about.html\">關於我們</a>\\n\\t\\t<a class=\"right small\" href=\"/contact.html\">聯絡資訊</a>\\n\\t</div>\\n</div>\\n\\n<div id=\"main-container\">\\n\\t<div id=\"action-bar-container\">\\n\\t\\t<div class=\"action-bar\">\\n\\t\\t\\t<div class=\"btn-group btn-group-dir\">\\n\\t\\t\\t\\t<a class=\"btn selected\" href=\"/bbs/creditcard/index.html\">看板</a>\\n\\t\\t\\t\\t<a class=\"btn\" href=\"/man/creditcard/index.html\">精華區</a>\\n\\t\\t\\t</div>\\n\\t\\t\\t<div class=\"btn-group btn-group-paging\">\\n\\t\\t\\t\\t<a class=\"btn wide\" href=\"/bbs/creditcard/index1.html\">最舊</a>\\n\\t\\t\\t\\t<a class=\"btn wide\" href=\"/bbs/creditcard/index2786.html\">&lsaquo; 上頁</a>\\n\\t\\t\\t\\t<a class=\"btn wide disabled\">下頁 &rsaquo;</a>\\n\\t\\t\\t\\t<a class=\"btn wide\" href=\"/bbs/creditcard/index.html\">最新</a>\\n\\t\\t\\t</div>\\n\\t\\t</div>\\n\\t</div>\\n\\n\\t<div class=\"r-list-container action-bar-margin bbs-screen\">\\n\\t\\t<div class=\"search-bar\">\\n\\t\\t\\t<form type=\"get\" action=\"search\" id=\"search-bar\">\\n\\t\\t\\t\\t<input class=\"query\" type=\"text\" name=\"q\" value=\"\" placeholder=\"搜尋文章&#x22ef;\">\\n\\t\\t\\t</form>\\n\\t\\t</div>\\n\\n\\t\\t\\n\\t\\t\\n            \\n        \\n        \\n\\t\\t<div class=\"r-ent\">\\n\\t\\t\\t<div class=\"nrec\"><span class=\"hl f3\">10</span></div>\\n\\t\\t\\t<div class=\"title\">\\n\\t\\t\\t\\n\\t\\t\\t\\t<a href=\"/bbs/creditcard/M.1532503685.A.E33.html\">[問題] 美國運通信用白金卡 首刷禮選擇</a>\\n\\t\\t\\t\\n\\t\\t\\t</div>\\n\\t\\t\\t<div class=\"meta\">\\n\\t\\t\\t\\t<div class=\"author\">george1343</div>\\n\\t\\t\\t\\t<div class=\"article-menu\">\\n\\t\\t\\t\\t\\t\\n\\t\\t\\t\\t\\t<div class=\"trigger\">&#x22ef;</div>\\n\\t\\t\\t\\t\\t<div class=\"dropdown\">\\n\\t\\t\\t\\t\\t\\t<div class=\"item\"><a href=\"/bbs/creditcard/search?q=thread%3A%5B%E5%95%8F%E9%A1%8C%5D&#43;%E7%BE%8E%E5%9C%8B%E9%81%8B%E9%80%9A%E4%BF%A1%E7%94%A8%E7%99%BD%E9%87%91%E5%8D%A1&#43;%E9%A6%96%E5%88%B7%E7%A6%AE%E9%81%B8%E6%93%87\">搜尋同標題文章</a></div>\\n\\t\\t\\t\\t\\t\\t\\n\\t\\t\\t\\t\\t\\t<div class=\"item\"><a href=\"/bbs/creditcard/search?q=author%3Ageorge1343\">搜尋看板內 george1343 的文章</a></div>\\n\\t\\t\\t\\t\\t\\t\\n\\t\\t\\t\\t\\t</div>\\n\\t\\t\\t\\t\\t\\n\\t\\t\\t\\t</div>\\n\\t\\t\\t\\t<div class=\"date\"> 7/25</div>\\n\\t\\t\\t\\t<div class=\"mark\"></div>\\n\\t\\t\\t</div>\\n\\t\\t</div>\\n\\n\\t\\t\\n            \\n        \\n        \\n\\t\\t<div class=\"r-ent\">\\n\\t\\t\\t<div class=\"nrec\"><span class=\"hl f3\">13</span></div>\\n\\t\\t\\t<div class=\"title\">\\n\\t\\t\\t\\n\\t\\t\\t\\t<a href=\"/bbs/creditcard/M.1532505495.A.12B.html\">[心得] 畢業 信用卡通通辦起來</a>\\n\\t\\t\\t\\n\\t\\t\\t</div>\\n\\t\\t\\t<div class=\"meta\">\\n\\t\\t\\t\\t<div class=\"author\">mp5566</div>\\n\\t\\t\\t\\t<div class=\"article-menu\">\\n\\t\\t\\t\\t\\t\\n\\t\\t\\t\\t\\t<div class=\"trigger\">&#x22ef;</div>\\n\\t\\t\\t\\t\\t<div class=\"dropdown\">\\n\\t\\t\\t\\t\\t\\t<div class=\"item\"><a href=\"/bbs/creditcard/search?q=thread%3A%5B%E5%BF%83%E5%BE%97%5D&#43;%E7%95%A2%E6%A5%AD&#43;%E4%BF%A1%E7%94%A8%E5%8D%A1%E9%80%9A%E9%80%9A%E8%BE%A6%E8%B5%B7%E4%BE%86\">搜尋同標題文章</a></div>\\n\\t\\t\\t\\t\\t\\t\\n\\t\\t\\t\\t\\t\\t<div class=\"item\"><a href=\"/bbs/creditcard/search?q=author%3Amp5566\">搜尋看板內 mp5566 的文章</a></div>\\n\\t\\t\\t\\t\\t\\t\\n\\t\\t\\t\\t\\t</div>\\n\\t\\t\\t\\t\\t\\n\\t\\t\\t\\t</div>\\n\\t\\t\\t\\t<div class=\"date\"> 7/25</div>\\n\\t\\t\\t\\t<div class=\"mark\"></div>\\n\\t\\t\\t</div>\\n\\t\\t</div>\\n\\n\\t\\t\\n            \\n        \\n        \\n\\t\\t<div class=\"r-ent\">\\n\\t\\t\\t<div class=\"nrec\"><span class=\"hl f3\">17</span></div>\\n\\t\\t\\t<div class=\"title\">\\n\\t\\t\\t\\n\\t\\t\\t\\t<a href=\"/bbs/creditcard/M.1532514679.A.92E.html\">[問題] SKYPE打信用卡客服無法正確輸入數字?</a>\\n\\t\\t\\t\\n\\t\\t\\t</div>\\n\\t\\t\\t<div class=\"meta\">\\n\\t\\t\\t\\t<div class=\"author\">finhisky</div>\\n\\t\\t\\t\\t<div class=\"article-menu\">\\n\\t\\t\\t\\t\\t\\n\\t\\t\\t\\t\\t<div class=\"trigger\">&#x22ef;</div>\\n\\t\\t\\t\\t\\t<div class=\"dropdown\">\\n\\t\\t\\t\\t\\t\\t<div class=\"item\"><a href=\"/bbs/creditcard/search?q=thread%3A%5B%E5%95%8F%E9%A1%8C%5D&#43;SKYPE%E6%89%93%E4%BF%A1%E7%94%A8%E5%8D%A1%E5%AE%A2%E6%9C%8D%E7%84%A1%E6%B3%95%E6%AD%A3%E7%A2%BA%E8%BC%B8%E5%85%A5%E6%95%B8%E5%AD%97%3F\">搜尋同標題文章</a></div>\\n\\t\\t\\t\\t\\t\\t\\n\\t\\t\\t\\t\\t\\t<div class=\"item\"><a href=\"/bbs/creditcard/search?q=author%3Afinhisky\">搜尋看板內 finhisky 的文章</a></div>\\n\\t\\t\\t\\t\\t\\t\\n\\t\\t\\t\\t\\t</div>\\n\\t\\t\\t\\t\\t\\n\\t\\t\\t\\t</div>\\n\\t\\t\\t\\t<div class=\"date\"> 7/25</div>\\n\\t\\t\\t\\t<div class=\"mark\"></div>\\n\\t\\t\\t</div>\\n\\t\\t</div>\\n\\n\\t\\t\\n            \\n        \\n        \\n\\t\\t<div class=\"r-ent\">\\n\\t\\t\\t<div class=\"nrec\"></div>\\n\\t\\t\\t<div class=\"title\">\\n\\t\\t\\t\\n\\t\\t\\t\\t(本文已被刪除) [eclse]\\n\\t\\t\\t\\n\\t\\t\\t</div>\\n\\t\\t\\t<div class=\"meta\">\\n\\t\\t\\t\\t<div class=\"author\">-</div>\\n\\t\\t\\t\\t<div class=\"article-menu\">\\n\\t\\t\\t\\t\\t\\n\\t\\t\\t\\t</div>\\n\\t\\t\\t\\t<div class=\"date\"> 7/25</div>\\n\\t\\t\\t\\t<div class=\"mark\"></div>\\n\\t\\t\\t</div>\\n\\t\\t</div>\\n\\n\\t\\t\\n            \\n        \\n        \\n\\t\\t<div class=\"r-ent\">\\n\\t\\t\\t<div class=\"nrec\"><span class=\"hl f3\">26</span></div>\\n\\t\\t\\t<div class=\"title\">\\n\\t\\t\\t\\n\\t\\t\\t\\t<a href=\"/bbs/creditcard/M.1532523222.A.285.html\">Re: [情報] koko卡買6年儲蓄險送15萬op點</a>\\n\\t\\t\\t\\n\\t\\t\\t</div>\\n\\t\\t\\t<div class=\"meta\">\\n\\t\\t\\t\\t<div class=\"author\">anc5566</div>\\n\\t\\t\\t\\t<div class=\"article-menu\">\\n\\t\\t\\t\\t\\t\\n\\t\\t\\t\\t\\t<div class=\"trigger\">&#x22ef;</div>\\n\\t\\t\\t\\t\\t<div class=\"dropdown\">\\n\\t\\t\\t\\t\\t\\t<div class=\"item\"><a href=\"/bbs/creditcard/search?q=thread%3A%5B%E6%83%85%E5%A0%B1%5D&#43;koko%E5%8D%A1%E8%B2%B76%E5%B9%B4%E5%84%B2%E8%93%84%E9%9A%AA%E9%80%8115%E8%90%ACop%E9%BB%9E\">搜尋同標題文章</a></div>\\n\\t\\t\\t\\t\\t\\t\\n\\t\\t\\t\\t\\t\\t<div class=\"item\"><a href=\"/bbs/creditcard/search?q=author%3Aanc5566\">搜尋看板內 anc5566 的文章</a></div>\\n\\t\\t\\t\\t\\t\\t\\n\\t\\t\\t\\t\\t</div>\\n\\t\\t\\t\\t\\t\\n\\t\\t\\t\\t</div>\\n\\t\\t\\t\\t<div class=\"date\"> 7/25</div>\\n\\t\\t\\t\\t<div class=\"mark\"></div>\\n\\t\\t\\t</div>\\n\\t\\t</div>\\n\\n\\t\\t\\n            \\n        \\n        \\n\\t\\t<div class=\"r-ent\">\\n\\t\\t\\t<div class=\"nrec\"><span class=\"hl f2\">9</span></div>\\n\\t\\t\\t<div class=\"title\">\\n\\t\\t\\t\\n\\t\\t\\t\\t<a href=\"/bbs/creditcard/M.1532525775.A.7CA.html\">[情報] LINE Pay 接受台北富邦銀行聯邦銀行投資</a>\\n\\t\\t\\t\\n\\t\\t\\t</div>\\n\\t\\t\\t<div class=\"meta\">\\n\\t\\t\\t\\t<div class=\"author\">alex1973</div>\\n\\t\\t\\t\\t<div class=\"article-menu\">\\n\\t\\t\\t\\t\\t\\n\\t\\t\\t\\t\\t<div class=\"trigger\">&#x22ef;</div>\\n\\t\\t\\t\\t\\t<div class=\"dropdown\">\\n\\t\\t\\t\\t\\t\\t<div class=\"item\"><a href=\"/bbs/creditcard/search?q=thread%3A%5B%E6%83%85%E5%A0%B1%5D&#43;LINE&#43;Pay&#43;%E6%8E%A5%E5%8F%97%E5%8F%B0%E5%8C%97%E5%AF%8C%E9%82%A6%E9%8A%80%E8%A1%8C%E8%81%AF%E9%82%A6%E9%8A%80%E8%A1%8C%E6%8A%95%E8%B3%87\">搜尋同標題文章</a></div>\\n\\t\\t\\t\\t\\t\\t\\n\\t\\t\\t\\t\\t\\t<div class=\"item\"><a href=\"/bbs/creditcard/search?q=author%3Aalex1973\">搜尋看板內 alex1973 的文章</a></div>\\n\\t\\t\\t\\t\\t\\t\\n\\t\\t\\t\\t\\t</div>\\n\\t\\t\\t\\t\\t\\n\\t\\t\\t\\t</div>\\n\\t\\t\\t\\t<div class=\"date\"> 7/25</div>\\n\\t\\t\\t\\t<div class=\"mark\"></div>\\n\\t\\t\\t</div>\\n\\t\\t</div>\\n\\n\\t\\t\\n            \\n        \\n        \\n\\t\\t<div class=\"r-ent\">\\n\\t\\t\\t<div class=\"nrec\"><span class=\"hl f2\">9</span></div>\\n\\t\\t\\t<div class=\"title\">\\n\\t\\t\\t\\n\\t\\t\\t\\t<a href=\"/bbs/creditcard/M.1532527960.A.D59.html\">[心得] 中信中油聯名卡 核卡</a>\\n\\t\\t\\t\\n\\t\\t\\t</div>\\n\\t\\t\\t<div class=\"meta\">\\n\\t\\t\\t\\t<div class=\"author\">mypineapple</div>\\n\\t\\t\\t\\t<div class=\"article-menu\">\\n\\t\\t\\t\\t\\t\\n\\t\\t\\t\\t\\t<div class=\"trigger\">&#x22ef;</div>\\n\\t\\t\\t\\t\\t<div class=\"dropdown\">\\n\\t\\t\\t\\t\\t\\t<div class=\"item\"><a href=\"/bbs/creditcard/search?q=thread%3A%5B%E5%BF%83%E5%BE%97%5D&#43;%E4%B8%AD%E4%BF%A1%E4%B8%AD%E6%B2%B9%E8%81%AF%E5%90%8D%E5%8D%A1&#43;%E6%A0%B8%E5%8D%A1\">搜尋同標題文章</a></div>\\n\\t\\t\\t\\t\\t\\t\\n\\t\\t\\t\\t\\t\\t<div class=\"item\"><a href=\"/bbs/creditcard/search?q=author%3Amypineapple\">搜尋看板內 mypineapple 的文章</a></div>\\n\\t\\t\\t\\t\\t\\t\\n\\t\\t\\t\\t\\t</div>\\n\\t\\t\\t\\t\\t\\n\\t\\t\\t\\t</div>\\n\\t\\t\\t\\t<div class=\"date\"> 7/25</div>\\n\\t\\t\\t\\t<div class=\"mark\"></div>\\n\\t\\t\\t</div>\\n\\t\\t</div>\\n\\n\\t\\t\\n            \\n        \\n        \\n\\t\\t<div class=\"r-ent\">\\n\\t\\t\\t<div class=\"nrec\"><span class=\"hl f3\">11</span></div>\\n\\t\\t\\t<div class=\"title\">\\n\\t\\t\\t\\n\\t\\t\\t\\t<a href=\"/bbs/creditcard/M.1532531103.A.CDA.html\">Re: [情報] koko卡買6年儲蓄險送15萬op點</a>\\n\\t\\t\\t\\n\\t\\t\\t</div>\\n\\t\\t\\t<div class=\"meta\">\\n\\t\\t\\t\\t<div class=\"author\">medama</div>\\n\\t\\t\\t\\t<div class=\"article-menu\">\\n\\t\\t\\t\\t\\t\\n\\t\\t\\t\\t\\t<div class=\"trigger\">&#x22ef;</div>\\n\\t\\t\\t\\t\\t<div class=\"dropdown\">\\n\\t\\t\\t\\t\\t\\t<div class=\"item\"><a href=\"/bbs/creditcard/search?q=thread%3A%5B%E6%83%85%E5%A0%B1%5D&#43;koko%E5%8D%A1%E8%B2%B76%E5%B9%B4%E5%84%B2%E8%93%84%E9%9A%AA%E9%80%8115%E8%90%ACop%E9%BB%9E\">搜尋同標題文章</a></div>\\n\\t\\t\\t\\t\\t\\t\\n\\t\\t\\t\\t\\t\\t<div class=\"item\"><a href=\"/bbs/creditcard/search?q=author%3Amedama\">搜尋看板內 medama 的文章</a></div>\\n\\t\\t\\t\\t\\t\\t\\n\\t\\t\\t\\t\\t</div>\\n\\t\\t\\t\\t\\t\\n\\t\\t\\t\\t</div>\\n\\t\\t\\t\\t<div class=\"date\"> 7/25</div>\\n\\t\\t\\t\\t<div class=\"mark\"></div>\\n\\t\\t\\t</div>\\n\\t\\t</div>\\n\\n\\t\\t\\n            \\n        \\n        \\n\\t\\t<div class=\"r-ent\">\\n\\t\\t\\t<div class=\"nrec\"><span class=\"hl f2\">1</span></div>\\n\\t\\t\\t<div class=\"title\">\\n\\t\\t\\t\\n\\t\\t\\t\\t<a href=\"/bbs/creditcard/M.1532531596.A.689.html\">[討論] 今年83女生節真的沒有17%回饋嗎? </a>\\n\\t\\t\\t\\n\\t\\t\\t</div>\\n\\t\\t\\t<div class=\"meta\">\\n\\t\\t\\t\\t<div class=\"author\">marosky</div>\\n\\t\\t\\t\\t<div class=\"article-menu\">\\n\\t\\t\\t\\t\\t\\n\\t\\t\\t\\t\\t<div class=\"trigger\">&#x22ef;</div>\\n\\t\\t\\t\\t\\t<div class=\"dropdown\">\\n\\t\\t\\t\\t\\t\\t<div class=\"item\"><a href=\"/bbs/creditcard/search?q=thread%3A%5B%E8%A8%8E%E8%AB%96%5D&#43;%E4%BB%8A%E5%B9%B483%E5%A5%B3%E7%94%9F%E7%AF%80%E7%9C%9F%E7%9A%84%E6%B2%92%E6%9C%8917%25%E5%9B%9E%E9%A5%8B%E5%97%8E%3F&#43;\">搜尋同標題文章</a></div>\\n\\t\\t\\t\\t\\t\\t\\n\\t\\t\\t\\t\\t\\t<div class=\"item\"><a href=\"/bbs/creditcard/search?q=author%3Amarosky\">搜尋看板內 marosky 的文章</a></div>\\n\\t\\t\\t\\t\\t\\t\\n\\t\\t\\t\\t\\t</div>\\n\\t\\t\\t\\t\\t\\n\\t\\t\\t\\t</div>\\n\\t\\t\\t\\t<div class=\"date\"> 7/25</div>\\n\\t\\t\\t\\t<div class=\"mark\"></div>\\n\\t\\t\\t</div>\\n\\t\\t</div>\\n\\n\\t\\t\\n            \\n        \\n        \\n\\t\\t<div class=\"r-ent\">\\n\\t\\t\\t<div class=\"nrec\"><span class=\"hl f3\">16</span></div>\\n\\t\\t\\t<div class=\"title\">\\n\\t\\t\\t\\n\\t\\t\\t\\t<a href=\"/bbs/creditcard/M.1532532004.A.D3D.html\">[情報] 玉山幸運PLUS鈦金卡自動加值10%回饋</a>\\n\\t\\t\\t\\n\\t\\t\\t</div>\\n\\t\\t\\t<div class=\"meta\">\\n\\t\\t\\t\\t<div class=\"author\">yabus</div>\\n\\t\\t\\t\\t<div class=\"article-menu\">\\n\\t\\t\\t\\t\\t\\n\\t\\t\\t\\t\\t<div class=\"trigger\">&#x22ef;</div>\\n\\t\\t\\t\\t\\t<div class=\"dropdown\">\\n\\t\\t\\t\\t\\t\\t<div class=\"item\"><a href=\"/bbs/creditcard/search?q=thread%3A%5B%E6%83%85%E5%A0%B1%5D&#43;%E7%8E%89%E5%B1%B1%E5%B9%B8%E9%81%8BPLUS%E9%88%A6%E9%87%91%E5%8D%A1%E8%87%AA%E5%8B%95%E5%8A%A0%E5%80%BC10%25%E5%9B%9E%E9%A5%8B\">搜尋同標題文章</a></div>\\n\\t\\t\\t\\t\\t\\t\\n\\t\\t\\t\\t\\t\\t<div class=\"item\"><a href=\"/bbs/creditcard/search?q=author%3Ayabus\">搜尋看板內 yabus 的文章</a></div>\\n\\t\\t\\t\\t\\t\\t\\n\\t\\t\\t\\t\\t</div>\\n\\t\\t\\t\\t\\t\\n\\t\\t\\t\\t</div>\\n\\t\\t\\t\\t<div class=\"date\"> 7/25</div>\\n\\t\\t\\t\\t<div class=\"mark\"></div>\\n\\t\\t\\t</div>\\n\\t\\t</div>\\n\\n\\t\\t\\n            \\n        \\n        \\n\\t\\t<div class=\"r-ent\">\\n\\t\\t\\t<div class=\"nrec\"></div>\\n\\t\\t\\t<div class=\"title\">\\n\\t\\t\\t\\n\\t\\t\\t\\t&lt;billylaw51&gt; 1-3未爬文 警告一次 by cg.\\n\\t\\t\\t\\n\\t\\t\\t</div>\\n\\t\\t\\t<div class=\"meta\">\\n\\t\\t\\t\\t<div class=\"author\">-</div>\\n\\t\\t\\t\\t<div class=\"article-menu\">\\n\\t\\t\\t\\t\\t\\n\\t\\t\\t\\t</div>\\n\\t\\t\\t\\t<div class=\"date\"> 7/25</div>\\n\\t\\t\\t\\t<div class=\"mark\"></div>\\n\\t\\t\\t</div>\\n\\t\\t</div>\\n\\n\\t\\t\\n            \\n        \\n        \\n\\t\\t<div class=\"r-ent\">\\n\\t\\t\\t<div class=\"nrec\"></div>\\n\\t\\t\\t<div class=\"title\">\\n\\t\\t\\t\\n\\t\\t\\t\\t(本文已被刪除) [vlkppa]\\n\\t\\t\\t\\n\\t\\t\\t</div>\\n\\t\\t\\t<div class=\"meta\">\\n\\t\\t\\t\\t<div class=\"author\">-</div>\\n\\t\\t\\t\\t<div class=\"article-menu\">\\n\\t\\t\\t\\t\\t\\n\\t\\t\\t\\t</div>\\n\\t\\t\\t\\t<div class=\"date\"> 7/26</div>\\n\\t\\t\\t\\t<div class=\"mark\"></div>\\n\\t\\t\\t</div>\\n\\t\\t</div>\\n\\n\\t\\t\\n            \\n        \\n        \\n\\t\\t<div class=\"r-ent\">\\n\\t\\t\\t<div class=\"nrec\"><span class=\"hl f2\">3</span></div>\\n\\t\\t\\t<div class=\"title\">\\n\\t\\t\\t\\n\\t\\t\\t\\t<a href=\"/bbs/creditcard/M.1532569489.A.701.html\">Re: [討論] 日本刷卡-七、八月JCB現金回饋%數最優</a>\\n\\t\\t\\t\\n\\t\\t\\t</div>\\n\\t\\t\\t<div class=\"meta\">\\n\\t\\t\\t\\t<div class=\"author\">tono0705</div>\\n\\t\\t\\t\\t<div class=\"article-menu\">\\n\\t\\t\\t\\t\\t\\n\\t\\t\\t\\t\\t<div class=\"trigger\">&#x22ef;</div>\\n\\t\\t\\t\\t\\t<div class=\"dropdown\">\\n\\t\\t\\t\\t\\t\\t<div class=\"item\"><a href=\"/bbs/creditcard/search?q=thread%3A%5B%E8%A8%8E%E8%AB%96%5D&#43;%E6%97%A5%E6%9C%AC%E5%88%B7%E5%8D%A1-%E4%B8%83%E3%80%81%E5%85%AB%E6%9C%88JCB%E7%8F%BE%E9%87%91%E5%9B%9E%E9%A5%8B%25%E6%95%B8%E6%9C%80%E5%84%AA\">搜尋同標題文章</a></div>\\n\\t\\t\\t\\t\\t\\t\\n\\t\\t\\t\\t\\t\\t<div class=\"item\"><a href=\"/bbs/creditcard/search?q=author%3Atono0705\">搜尋看板內 tono0705 的文章</a></div>\\n\\t\\t\\t\\t\\t\\t\\n\\t\\t\\t\\t\\t</div>\\n\\t\\t\\t\\t\\t\\n\\t\\t\\t\\t</div>\\n\\t\\t\\t\\t<div class=\"date\"> 7/26</div>\\n\\t\\t\\t\\t<div class=\"mark\"></div>\\n\\t\\t\\t</div>\\n\\t\\t</div>\\n\\n\\t\\t\\n            \\n        \\n        \\n\\t\\t<div class=\"r-ent\">\\n\\t\\t\\t<div class=\"nrec\"><span class=\"hl f2\">2</span></div>\\n\\t\\t\\t<div class=\"title\">\\n\\t\\t\\t\\n\\t\\t\\t\\t<a href=\"/bbs/creditcard/M.1532569641.A.3D2.html\">[閒聊] 聯邦剪卡被慰留</a>\\n\\t\\t\\t\\n\\t\\t\\t</div>\\n\\t\\t\\t<div class=\"meta\">\\n\\t\\t\\t\\t<div class=\"author\">Eppieyu</div>\\n\\t\\t\\t\\t<div class=\"article-menu\">\\n\\t\\t\\t\\t\\t\\n\\t\\t\\t\\t\\t<div class=\"trigger\">&#x22ef;</div>\\n\\t\\t\\t\\t\\t<div class=\"dropdown\">\\n\\t\\t\\t\\t\\t\\t<div class=\"item\"><a href=\"/bbs/creditcard/search?q=thread%3A%5B%E9%96%92%E8%81%8A%5D&#43;%E8%81%AF%E9%82%A6%E5%89%AA%E5%8D%A1%E8%A2%AB%E6%85%B0%E7%95%99\">搜尋同標題文章</a></div>\\n\\t\\t\\t\\t\\t\\t\\n\\t\\t\\t\\t\\t\\t<div class=\"item\"><a href=\"/bbs/creditcard/search?q=author%3AEppieyu\">搜尋看板內 Eppieyu 的文章</a></div>\\n\\t\\t\\t\\t\\t\\t\\n\\t\\t\\t\\t\\t</div>\\n\\t\\t\\t\\t\\t\\n\\t\\t\\t\\t</div>\\n\\t\\t\\t\\t<div class=\"date\"> 7/26</div>\\n\\t\\t\\t\\t<div class=\"mark\"></div>\\n\\t\\t\\t</div>\\n\\t\\t</div>\\n\\n\\t\\t\\n            \\n        \\n        \\n\\t\\t<div class=\"r-ent\">\\n\\t\\t\\t<div class=\"nrec\"><span class=\"hl f2\">1</span></div>\\n\\t\\t\\t<div class=\"title\">\\n\\t\\t\\t\\n\\t\\t\\t\\t<a href=\"/bbs/creditcard/M.1532572135.A.CA6.html\">[心得]中信linepay VISA 御璽卡 核卡 </a>\\n\\t\\t\\t\\n\\t\\t\\t</div>\\n\\t\\t\\t<div class=\"meta\">\\n\\t\\t\\t\\t<div class=\"author\">ash2501</div>\\n\\t\\t\\t\\t<div class=\"article-menu\">\\n\\t\\t\\t\\t\\t\\n\\t\\t\\t\\t\\t<div class=\"trigger\">&#x22ef;</div>\\n\\t\\t\\t\\t\\t<div class=\"dropdown\">\\n\\t\\t\\t\\t\\t\\t<div class=\"item\"><a href=\"/bbs/creditcard/search?q=thread%3A%5B%E5%BF%83%E5%BE%97%5D%E4%B8%AD%E4%BF%A1linepay&#43;VISA&#43;%E5%BE%A1%E7%92%BD%E5%8D%A1&#43;%E6%A0%B8%E5%8D%A1&#43;\">搜尋同標題文章</a></div>\\n\\t\\t\\t\\t\\t\\t\\n\\t\\t\\t\\t\\t\\t<div class=\"item\"><a href=\"/bbs/creditcard/search?q=author%3Aash2501\">搜尋看板內 ash2501 的文章</a></div>\\n\\t\\t\\t\\t\\t\\t\\n\\t\\t\\t\\t\\t</div>\\n\\t\\t\\t\\t\\t\\n\\t\\t\\t\\t</div>\\n\\t\\t\\t\\t<div class=\"date\"> 7/26</div>\\n\\t\\t\\t\\t<div class=\"mark\"></div>\\n\\t\\t\\t</div>\\n\\t\\t</div>\\n\\n\\t\\t\\n            \\n        \\n        \\n\\t\\t<div class=\"r-ent\">\\n\\t\\t\\t<div class=\"nrec\"><span class=\"hl f2\">2</span></div>\\n\\t\\t\\t<div class=\"title\">\\n\\t\\t\\t\\n\\t\\t\\t\\t<a href=\"/bbs/creditcard/M.1532572476.A.A29.html\">[心得] 星展飛行世界卡  核卡</a>\\n\\t\\t\\t\\n\\t\\t\\t</div>\\n\\t\\t\\t<div class=\"meta\">\\n\\t\\t\\t\\t<div class=\"author\">alexj</div>\\n\\t\\t\\t\\t<div class=\"article-menu\">\\n\\t\\t\\t\\t\\t\\n\\t\\t\\t\\t\\t<div class=\"trigger\">&#x22ef;</div>\\n\\t\\t\\t\\t\\t<div class=\"dropdown\">\\n\\t\\t\\t\\t\\t\\t<div class=\"item\"><a href=\"/bbs/creditcard/search?q=thread%3A%5B%E5%BF%83%E5%BE%97%5D&#43;%E6%98%9F%E5%B1%95%E9%A3%9B%E8%A1%8C%E4%B8%96%E7%95%8C%E5%8D%A1&#43;&#43;%E6%A0%B8%E5%8D%A1\">搜尋同標題文章</a></div>\\n\\t\\t\\t\\t\\t\\t\\n\\t\\t\\t\\t\\t\\t<div class=\"item\"><a href=\"/bbs/creditcard/search?q=author%3Aalexj\">搜尋看板內 alexj 的文章</a></div>\\n\\t\\t\\t\\t\\t\\t\\n\\t\\t\\t\\t\\t</div>\\n\\t\\t\\t\\t\\t\\n\\t\\t\\t\\t</div>\\n\\t\\t\\t\\t<div class=\"date\"> 7/26</div>\\n\\t\\t\\t\\t<div class=\"mark\"></div>\\n\\t\\t\\t</div>\\n\\t\\t</div>\\n\\n\\t\\t\\n        \\n        <div class=\"r-list-sep\"></div>\\n            \\n                \\n        \\n        \\n\\t\\t<div class=\"r-ent\">\\n\\t\\t\\t<div class=\"nrec\"><span class=\"hl f2\">3</span></div>\\n\\t\\t\\t<div class=\"title\">\\n\\t\\t\\t\\n\\t\\t\\t\\t<a href=\"/bbs/creditcard/M.1488251491.A.C7B.html\">[公告] === 卡板板規 V8.0 === (2018/05/25修訂)</a>\\n\\t\\t\\t\\n\\t\\t\\t</div>\\n\\t\\t\\t<div class=\"meta\">\\n\\t\\t\\t\\t<div class=\"author\">MoonAthenaX</div>\\n\\t\\t\\t\\t<div class=\"article-menu\">\\n\\t\\t\\t\\t\\t\\n\\t\\t\\t\\t\\t<div class=\"trigger\">&#x22ef;</div>\\n\\t\\t\\t\\t\\t<div class=\"dropdown\">\\n\\t\\t\\t\\t\\t\\t<div class=\"item\"><a href=\"/bbs/creditcard/search?q=thread%3A%5B%E5%85%AC%E5%91%8A%5D&#43;%3D%3D%3D&#43;%E5%8D%A1%E6%9D%BF%E6%9D%BF%E8%A6%8F&#43;V8.0&#43;%3D%3D%3D&#43;%282018%2F05%2F25%E4%BF%AE%E8%A8%82%29\">搜尋同標題文章</a></div>\\n\\t\\t\\t\\t\\t\\t\\n\\t\\t\\t\\t\\t\\t<div class=\"item\"><a href=\"/bbs/creditcard/search?q=author%3AMoonAthenaX\">搜尋看板內 MoonAthenaX 的文章</a></div>\\n\\t\\t\\t\\t\\t\\t\\n\\t\\t\\t\\t\\t</div>\\n\\t\\t\\t\\t\\t\\n\\t\\t\\t\\t</div>\\n\\t\\t\\t\\t<div class=\"date\"> 2/28</div>\\n\\t\\t\\t\\t<div class=\"mark\">M</div>\\n\\t\\t\\t</div>\\n\\t\\t</div>\\n\\n            \\n                \\n        \\n        \\n\\t\\t<div class=\"r-ent\">\\n\\t\\t\\t<div class=\"nrec\"><span class=\"hl f3\">51</span></div>\\n\\t\\t\\t<div class=\"title\">\\n\\t\\t\\t\\n\\t\\t\\t\\t<a href=\"/bbs/creditcard/M.1425488177.A.59D.html\">[公告] 置底檢舉專區</a>\\n\\t\\t\\t\\n\\t\\t\\t</div>\\n\\t\\t\\t<div class=\"meta\">\\n\\t\\t\\t\\t<div class=\"author\">bboy0720</div>\\n\\t\\t\\t\\t<div class=\"article-menu\">\\n\\t\\t\\t\\t\\t\\n\\t\\t\\t\\t\\t<div class=\"trigger\">&#x22ef;</div>\\n\\t\\t\\t\\t\\t<div class=\"dropdown\">\\n\\t\\t\\t\\t\\t\\t<div class=\"item\"><a href=\"/bbs/creditcard/search?q=thread%3A%5B%E5%85%AC%E5%91%8A%5D&#43;%E7%BD%AE%E5%BA%95%E6%AA%A2%E8%88%89%E5%B0%88%E5%8D%80\">搜尋同標題文章</a></div>\\n\\t\\t\\t\\t\\t\\t\\n\\t\\t\\t\\t\\t\\t<div class=\"item\"><a href=\"/bbs/creditcard/search?q=author%3Abboy0720\">搜尋看板內 bboy0720 的文章</a></div>\\n\\t\\t\\t\\t\\t\\t\\n\\t\\t\\t\\t\\t</div>\\n\\t\\t\\t\\t\\t\\n\\t\\t\\t\\t</div>\\n\\t\\t\\t\\t<div class=\"date\"> 3/05</div>\\n\\t\\t\\t\\t<div class=\"mark\">M</div>\\n\\t\\t\\t</div>\\n\\t\\t</div>\\n\\n            \\n                \\n        \\n        \\n\\t\\t<div class=\"r-ent\">\\n\\t\\t\\t<div class=\"nrec\"><span class=\"hl f3\">66</span></div>\\n\\t\\t\\t<div class=\"title\">\\n\\t\\t\\t\\n\\t\\t\\t\\t<a href=\"/bbs/creditcard/M.1425873650.A.F81.html\">[情報] 各家銀行0800免付費電話</a>\\n\\t\\t\\t\\n\\t\\t\\t</div>\\n\\t\\t\\t<div class=\"meta\">\\n\\t\\t\\t\\t<div class=\"author\">MoonAthenaX</div>\\n\\t\\t\\t\\t<div class=\"article-menu\">\\n\\t\\t\\t\\t\\t\\n\\t\\t\\t\\t\\t<div class=\"trigger\">&#x22ef;</div>\\n\\t\\t\\t\\t\\t<div class=\"dropdown\">\\n\\t\\t\\t\\t\\t\\t<div class=\"item\"><a href=\"/bbs/creditcard/search?q=thread%3A%5B%E6%83%85%E5%A0%B1%5D&#43;%E5%90%84%E5%AE%B6%E9%8A%80%E8%A1%8C0800%E5%85%8D%E4%BB%98%E8%B2%BB%E9%9B%BB%E8%A9%B1\">搜尋同標題文章</a></div>\\n\\t\\t\\t\\t\\t\\t\\n\\t\\t\\t\\t\\t\\t<div class=\"item\"><a href=\"/bbs/creditcard/search?q=author%3AMoonAthenaX\">搜尋看板內 MoonAthenaX 的文章</a></div>\\n\\t\\t\\t\\t\\t\\t\\n\\t\\t\\t\\t\\t</div>\\n\\t\\t\\t\\t\\t\\n\\t\\t\\t\\t</div>\\n\\t\\t\\t\\t<div class=\"date\"> 3/09</div>\\n\\t\\t\\t\\t<div class=\"mark\">M</div>\\n\\t\\t\\t</div>\\n\\t\\t</div>\\n\\n            \\n                \\n        \\n        \\n\\t\\t<div class=\"r-ent\">\\n\\t\\t\\t<div class=\"nrec\"><span class=\"hl f1\">爆</span></div>\\n\\t\\t\\t<div class=\"title\">\\n\\t\\t\\t\\n\\t\\t\\t\\t<a href=\"/bbs/creditcard/M.1528898930.A.F33.html\">[心得] 小資族 日常消費 最優惠回饋 整理(7/18)</a>\\n\\t\\t\\t\\n\\t\\t\\t</div>\\n\\t\\t\\t<div class=\"meta\">\\n\\t\\t\\t\\t<div class=\"author\">DarkRobert</div>\\n\\t\\t\\t\\t<div class=\"article-menu\">\\n\\t\\t\\t\\t\\t\\n\\t\\t\\t\\t\\t<div class=\"trigger\">&#x22ef;</div>\\n\\t\\t\\t\\t\\t<div class=\"dropdown\">\\n\\t\\t\\t\\t\\t\\t<div class=\"item\"><a href=\"/bbs/creditcard/search?q=thread%3A%5B%E5%BF%83%E5%BE%97%5D&#43;%E5%B0%8F%E8%B3%87%E6%97%8F&#43;%E6%97%A5%E5%B8%B8%E6%B6%88%E8%B2%BB&#43;%E6%9C%80%E5%84%AA%E6%83%A0%E5%9B%9E%E9%A5%8B&#43;%E6%95%B4%E7%90%86%287%2F18%29\">搜尋同標題文章</a></div>\\n\\t\\t\\t\\t\\t\\t\\n\\t\\t\\t\\t\\t\\t<div class=\"item\"><a href=\"/bbs/creditcard/search?q=author%3ADarkRobert\">搜尋看板內 DarkRobert 的文章</a></div>\\n\\t\\t\\t\\t\\t\\t\\n\\t\\t\\t\\t\\t</div>\\n\\t\\t\\t\\t\\t\\n\\t\\t\\t\\t</div>\\n\\t\\t\\t\\t<div class=\"date\"> 6/13</div>\\n\\t\\t\\t\\t<div class=\"mark\">M</div>\\n\\t\\t\\t</div>\\n\\t\\t</div>\\n\\n            \\n        \\n\\t</div>\\n\\n    \\n</div>\\n\\n\\t\\t\\n\\n<script>\\n  (function(i,s,o,g,r,a,m){i[\\'GoogleAnalyticsObject\\']=r;i[r]=i[r]||function(){\\n  (i[r].q=i[r].q||[]).push(arguments)},i[r].l=1*new Date();a=s.createElement(o),\\n  m=s.getElementsByTagName(o)[0];a.async=1;a.src=g;m.parentNode.insertBefore(a,m)\\n  })(window,document,\\'script\\',\\'https://www.google-analytics.com/analytics.js\\',\\'ga\\');\\n\\n  ga(\\'create\\', \\'UA-32365737-1\\', {\\n    cookieDomain: \\'ptt.cc\\',\\n    legacyCookieDomain: \\'ptt.cc\\'\\n  });\\n  ga(\\'send\\', \\'pageview\\');\\n</script>\\n\\n\\n\\t\\t\\n<script src=\"//ajax.googleapis.com/ajax/libs/jquery/2.1.1/jquery.min.js\"></script>\\n<script src=\"//images.ptt.cc/bbs/v2.25/bbs.js\"></script>\\n\\n    </body>\\n</html>\\n'"
      ]
     },
     "execution_count": 78,
     "metadata": {},
     "output_type": "execute_result"
    }
   ],
   "source": [
    "resp.text"
   ]
  },
  {
   "cell_type": "code",
   "execution_count": 85,
   "metadata": {},
   "outputs": [],
   "source": [
    "with open('./creditcard.html', 'w') as f:\n",
    "    f.write(resp.text)"
   ]
  },
  {
   "cell_type": "markdown",
   "metadata": {},
   "source": [
    "# Regex"
   ]
  },
  {
   "cell_type": "code",
   "execution_count": 121,
   "metadata": {},
   "outputs": [],
   "source": [
    "cool_html = '''<html>\n",
    "<head>\n",
    "</head>\n",
    "<body>\n",
    "<a class=\"btn wide\" href=\"/bbs/creditcard/index27983492429843287.html\">&lsaquo; 上頁</a>\n",
    "<a class=\"btn wide\" href=\"/bbs/creditcard/index278000070.html\">&lsaquo; 下頁</a>\n",
    "</body>\n",
    "</html>'''"
   ]
  },
  {
   "cell_type": "code",
   "execution_count": 113,
   "metadata": {},
   "outputs": [
    {
     "data": {
      "text/plain": [
       "[]"
      ]
     },
     "execution_count": 113,
     "metadata": {},
     "output_type": "execute_result"
    }
   ],
   "source": [
    "re.findall('2786', cool_html)"
   ]
  },
  {
   "cell_type": "code",
   "execution_count": 114,
   "metadata": {},
   "outputs": [
    {
     "data": {
      "text/plain": [
       "['2787', '2780', '0007']"
      ]
     },
     "execution_count": 114,
     "metadata": {},
     "output_type": "execute_result"
    }
   ],
   "source": [
    "# \\d => 0-9\n",
    "re.findall('\\d\\d\\d\\d', cool_html)"
   ]
  },
  {
   "cell_type": "code",
   "execution_count": 115,
   "metadata": {},
   "outputs": [
    {
     "data": {
      "text/plain": [
       "['2787', '278000070']"
      ]
     },
     "execution_count": 115,
     "metadata": {},
     "output_type": "execute_result"
    }
   ],
   "source": [
    "# X+ => repeat X, 1-N times\n",
    "re.findall('\\d+', cool_html)"
   ]
  },
  {
   "cell_type": "code",
   "execution_count": 118,
   "metadata": {},
   "outputs": [
    {
     "data": {
      "text/plain": [
       "['index2787.html', 'index278000070.html']"
      ]
     },
     "execution_count": 118,
     "metadata": {},
     "output_type": "execute_result"
    }
   ],
   "source": [
    "re.findall('index\\d+.html', cool_html)"
   ]
  },
  {
   "cell_type": "code",
   "execution_count": 123,
   "metadata": {},
   "outputs": [
    {
     "data": {
      "text/plain": [
       "['27983492429843287']"
      ]
     },
     "execution_count": 123,
     "metadata": {},
     "output_type": "execute_result"
    }
   ],
   "source": [
    "# () => capture group\n",
    "re.findall('index(\\d+).html\">&lsaquo; 上頁', cool_html)"
   ]
  },
  {
   "cell_type": "markdown",
   "metadata": {},
   "source": [
    "# PTT 爬蟲"
   ]
  },
  {
   "cell_type": "code",
   "execution_count": 90,
   "metadata": {},
   "outputs": [],
   "source": [
    "import re\n",
    "\n",
    "import requests as r"
   ]
  },
  {
   "cell_type": "code",
   "execution_count": 87,
   "metadata": {},
   "outputs": [],
   "source": [
    "url = 'https://www.ptt.cc/bbs/creditcard/index.html'"
   ]
  },
  {
   "cell_type": "code",
   "execution_count": 88,
   "metadata": {},
   "outputs": [],
   "source": [
    "resp = requests.get(url)"
   ]
  },
  {
   "cell_type": "code",
   "execution_count": 89,
   "metadata": {},
   "outputs": [
    {
     "data": {
      "text/plain": [
       "'<!DOCTYPE html>\\n<html>\\n\\t<head>\\n\\t\\t<meta charset=\"utf-8\">\\n\\t\\t\\n\\n<meta name=\"viewport\" content=\"width=device-width, initial-scale=1\">\\n\\n<title>看板 creditcard 文章列表 - 批踢踢實業坊</title>\\n\\n<link rel=\"stylesheet\" type=\"text/css\" href=\"//images.ptt.cc/bbs/v2.25/bbs-common.css\">\\n<link rel=\"stylesheet\" type=\"text/css\" href=\"//images.ptt.cc/bbs/v2.25/bbs-base.css\" media=\"screen\">\\n<link rel=\"stylesheet\" type=\"text/css\" href=\"//images.ptt.cc/bbs/v2.25/bbs-custom.css\">\\n<link rel=\"stylesheet\" type=\"text/css\" href=\"//images.ptt.cc/bbs/v2.25/pushstream.css\" media=\"screen\">\\n<link rel=\"stylesheet\" type=\"text/css\" href=\"//images.ptt.cc/bbs/v2.25/bbs-print.css\" media=\"print\">\\n\\n\\n\\n\\n\\t</head>\\n    <body>\\n\\t\\t\\n<div id=\"topbar-container\">\\n\\t<div id=\"topbar\" class=\"bbs-content\">\\n\\t\\t<a id=\"logo\" href=\"/bbs/\">批踢踢實業坊</a>\\n\\t\\t<span>&rsaquo;</span>\\n\\t\\t<a class=\"board\" href=\"/bbs/creditcard/index.html\"><span class=\"board-label\">看板 </span>creditcard</a>\\n\\t\\t<a class=\"right small\" href=\"/about.html\">關於我們</a>\\n\\t\\t<a class=\"right small\" href=\"/contact.html\">聯絡資訊</a>\\n\\t</div>\\n</div>\\n\\n<div id=\"main-container\">\\n\\t<div id=\"action-bar-container\">\\n\\t\\t<div class=\"action-bar\">\\n\\t\\t\\t<div class=\"btn-group btn-group-dir\">\\n\\t\\t\\t\\t<a class=\"btn selected\" href=\"/bbs/creditcard/index.html\">看板</a>\\n\\t\\t\\t\\t<a class=\"btn\" href=\"/man/creditcard/index.html\">精華區</a>\\n\\t\\t\\t</div>\\n\\t\\t\\t<div class=\"btn-group btn-group-paging\">\\n\\t\\t\\t\\t<a class=\"btn wide\" href=\"/bbs/creditcard/index1.html\">最舊</a>\\n\\t\\t\\t\\t<a class=\"btn wide\" href=\"/bbs/creditcard/index2786.html\">&lsaquo; 上頁</a>\\n\\t\\t\\t\\t<a class=\"btn wide disabled\">下頁 &rsaquo;</a>\\n\\t\\t\\t\\t<a class=\"btn wide\" href=\"/bbs/creditcard/index.html\">最新</a>\\n\\t\\t\\t</div>\\n\\t\\t</div>\\n\\t</div>\\n\\n\\t<div class=\"r-list-container action-bar-margin bbs-screen\">\\n\\t\\t<div class=\"search-bar\">\\n\\t\\t\\t<form type=\"get\" action=\"search\" id=\"search-bar\">\\n\\t\\t\\t\\t<input class=\"query\" type=\"text\" name=\"q\" value=\"\" placeholder=\"搜尋文章&#x22ef;\">\\n\\t\\t\\t</form>\\n\\t\\t</div>\\n\\n\\t\\t\\n\\t\\t\\n            \\n        \\n        \\n\\t\\t<div class=\"r-ent\">\\n\\t\\t\\t<div class=\"nrec\"><span class=\"hl f3\">10</span></div>\\n\\t\\t\\t<div class=\"title\">\\n\\t\\t\\t\\n\\t\\t\\t\\t<a href=\"/bbs/creditcard/M.1532503685.A.E33.html\">[問題] 美國運通信用白金卡 首刷禮選擇</a>\\n\\t\\t\\t\\n\\t\\t\\t</div>\\n\\t\\t\\t<div class=\"meta\">\\n\\t\\t\\t\\t<div class=\"author\">george1343</div>\\n\\t\\t\\t\\t<div class=\"article-menu\">\\n\\t\\t\\t\\t\\t\\n\\t\\t\\t\\t\\t<div class=\"trigger\">&#x22ef;</div>\\n\\t\\t\\t\\t\\t<div class=\"dropdown\">\\n\\t\\t\\t\\t\\t\\t<div class=\"item\"><a href=\"/bbs/creditcard/search?q=thread%3A%5B%E5%95%8F%E9%A1%8C%5D&#43;%E7%BE%8E%E5%9C%8B%E9%81%8B%E9%80%9A%E4%BF%A1%E7%94%A8%E7%99%BD%E9%87%91%E5%8D%A1&#43;%E9%A6%96%E5%88%B7%E7%A6%AE%E9%81%B8%E6%93%87\">搜尋同標題文章</a></div>\\n\\t\\t\\t\\t\\t\\t\\n\\t\\t\\t\\t\\t\\t<div class=\"item\"><a href=\"/bbs/creditcard/search?q=author%3Ageorge1343\">搜尋看板內 george1343 的文章</a></div>\\n\\t\\t\\t\\t\\t\\t\\n\\t\\t\\t\\t\\t</div>\\n\\t\\t\\t\\t\\t\\n\\t\\t\\t\\t</div>\\n\\t\\t\\t\\t<div class=\"date\"> 7/25</div>\\n\\t\\t\\t\\t<div class=\"mark\"></div>\\n\\t\\t\\t</div>\\n\\t\\t</div>\\n\\n\\t\\t\\n            \\n        \\n        \\n\\t\\t<div class=\"r-ent\">\\n\\t\\t\\t<div class=\"nrec\"><span class=\"hl f3\">14</span></div>\\n\\t\\t\\t<div class=\"title\">\\n\\t\\t\\t\\n\\t\\t\\t\\t<a href=\"/bbs/creditcard/M.1532505495.A.12B.html\">[心得] 畢業 信用卡通通辦起來</a>\\n\\t\\t\\t\\n\\t\\t\\t</div>\\n\\t\\t\\t<div class=\"meta\">\\n\\t\\t\\t\\t<div class=\"author\">mp5566</div>\\n\\t\\t\\t\\t<div class=\"article-menu\">\\n\\t\\t\\t\\t\\t\\n\\t\\t\\t\\t\\t<div class=\"trigger\">&#x22ef;</div>\\n\\t\\t\\t\\t\\t<div class=\"dropdown\">\\n\\t\\t\\t\\t\\t\\t<div class=\"item\"><a href=\"/bbs/creditcard/search?q=thread%3A%5B%E5%BF%83%E5%BE%97%5D&#43;%E7%95%A2%E6%A5%AD&#43;%E4%BF%A1%E7%94%A8%E5%8D%A1%E9%80%9A%E9%80%9A%E8%BE%A6%E8%B5%B7%E4%BE%86\">搜尋同標題文章</a></div>\\n\\t\\t\\t\\t\\t\\t\\n\\t\\t\\t\\t\\t\\t<div class=\"item\"><a href=\"/bbs/creditcard/search?q=author%3Amp5566\">搜尋看板內 mp5566 的文章</a></div>\\n\\t\\t\\t\\t\\t\\t\\n\\t\\t\\t\\t\\t</div>\\n\\t\\t\\t\\t\\t\\n\\t\\t\\t\\t</div>\\n\\t\\t\\t\\t<div class=\"date\"> 7/25</div>\\n\\t\\t\\t\\t<div class=\"mark\"></div>\\n\\t\\t\\t</div>\\n\\t\\t</div>\\n\\n\\t\\t\\n            \\n        \\n        \\n\\t\\t<div class=\"r-ent\">\\n\\t\\t\\t<div class=\"nrec\"><span class=\"hl f3\">17</span></div>\\n\\t\\t\\t<div class=\"title\">\\n\\t\\t\\t\\n\\t\\t\\t\\t<a href=\"/bbs/creditcard/M.1532514679.A.92E.html\">[問題] SKYPE打信用卡客服無法正確輸入數字?</a>\\n\\t\\t\\t\\n\\t\\t\\t</div>\\n\\t\\t\\t<div class=\"meta\">\\n\\t\\t\\t\\t<div class=\"author\">finhisky</div>\\n\\t\\t\\t\\t<div class=\"article-menu\">\\n\\t\\t\\t\\t\\t\\n\\t\\t\\t\\t\\t<div class=\"trigger\">&#x22ef;</div>\\n\\t\\t\\t\\t\\t<div class=\"dropdown\">\\n\\t\\t\\t\\t\\t\\t<div class=\"item\"><a href=\"/bbs/creditcard/search?q=thread%3A%5B%E5%95%8F%E9%A1%8C%5D&#43;SKYPE%E6%89%93%E4%BF%A1%E7%94%A8%E5%8D%A1%E5%AE%A2%E6%9C%8D%E7%84%A1%E6%B3%95%E6%AD%A3%E7%A2%BA%E8%BC%B8%E5%85%A5%E6%95%B8%E5%AD%97%3F\">搜尋同標題文章</a></div>\\n\\t\\t\\t\\t\\t\\t\\n\\t\\t\\t\\t\\t\\t<div class=\"item\"><a href=\"/bbs/creditcard/search?q=author%3Afinhisky\">搜尋看板內 finhisky 的文章</a></div>\\n\\t\\t\\t\\t\\t\\t\\n\\t\\t\\t\\t\\t</div>\\n\\t\\t\\t\\t\\t\\n\\t\\t\\t\\t</div>\\n\\t\\t\\t\\t<div class=\"date\"> 7/25</div>\\n\\t\\t\\t\\t<div class=\"mark\"></div>\\n\\t\\t\\t</div>\\n\\t\\t</div>\\n\\n\\t\\t\\n            \\n        \\n        \\n\\t\\t<div class=\"r-ent\">\\n\\t\\t\\t<div class=\"nrec\"></div>\\n\\t\\t\\t<div class=\"title\">\\n\\t\\t\\t\\n\\t\\t\\t\\t(本文已被刪除) [eclse]\\n\\t\\t\\t\\n\\t\\t\\t</div>\\n\\t\\t\\t<div class=\"meta\">\\n\\t\\t\\t\\t<div class=\"author\">-</div>\\n\\t\\t\\t\\t<div class=\"article-menu\">\\n\\t\\t\\t\\t\\t\\n\\t\\t\\t\\t</div>\\n\\t\\t\\t\\t<div class=\"date\"> 7/25</div>\\n\\t\\t\\t\\t<div class=\"mark\"></div>\\n\\t\\t\\t</div>\\n\\t\\t</div>\\n\\n\\t\\t\\n            \\n        \\n        \\n\\t\\t<div class=\"r-ent\">\\n\\t\\t\\t<div class=\"nrec\"><span class=\"hl f3\">32</span></div>\\n\\t\\t\\t<div class=\"title\">\\n\\t\\t\\t\\n\\t\\t\\t\\t<a href=\"/bbs/creditcard/M.1532523222.A.285.html\">Re: [情報] koko卡買6年儲蓄險送15萬op點</a>\\n\\t\\t\\t\\n\\t\\t\\t</div>\\n\\t\\t\\t<div class=\"meta\">\\n\\t\\t\\t\\t<div class=\"author\">anc5566</div>\\n\\t\\t\\t\\t<div class=\"article-menu\">\\n\\t\\t\\t\\t\\t\\n\\t\\t\\t\\t\\t<div class=\"trigger\">&#x22ef;</div>\\n\\t\\t\\t\\t\\t<div class=\"dropdown\">\\n\\t\\t\\t\\t\\t\\t<div class=\"item\"><a href=\"/bbs/creditcard/search?q=thread%3A%5B%E6%83%85%E5%A0%B1%5D&#43;koko%E5%8D%A1%E8%B2%B76%E5%B9%B4%E5%84%B2%E8%93%84%E9%9A%AA%E9%80%8115%E8%90%ACop%E9%BB%9E\">搜尋同標題文章</a></div>\\n\\t\\t\\t\\t\\t\\t\\n\\t\\t\\t\\t\\t\\t<div class=\"item\"><a href=\"/bbs/creditcard/search?q=author%3Aanc5566\">搜尋看板內 anc5566 的文章</a></div>\\n\\t\\t\\t\\t\\t\\t\\n\\t\\t\\t\\t\\t</div>\\n\\t\\t\\t\\t\\t\\n\\t\\t\\t\\t</div>\\n\\t\\t\\t\\t<div class=\"date\"> 7/25</div>\\n\\t\\t\\t\\t<div class=\"mark\"></div>\\n\\t\\t\\t</div>\\n\\t\\t</div>\\n\\n\\t\\t\\n            \\n        \\n        \\n\\t\\t<div class=\"r-ent\">\\n\\t\\t\\t<div class=\"nrec\"><span class=\"hl f2\">9</span></div>\\n\\t\\t\\t<div class=\"title\">\\n\\t\\t\\t\\n\\t\\t\\t\\t<a href=\"/bbs/creditcard/M.1532525775.A.7CA.html\">[情報] LINE Pay 接受台北富邦銀行聯邦銀行投資</a>\\n\\t\\t\\t\\n\\t\\t\\t</div>\\n\\t\\t\\t<div class=\"meta\">\\n\\t\\t\\t\\t<div class=\"author\">alex1973</div>\\n\\t\\t\\t\\t<div class=\"article-menu\">\\n\\t\\t\\t\\t\\t\\n\\t\\t\\t\\t\\t<div class=\"trigger\">&#x22ef;</div>\\n\\t\\t\\t\\t\\t<div class=\"dropdown\">\\n\\t\\t\\t\\t\\t\\t<div class=\"item\"><a href=\"/bbs/creditcard/search?q=thread%3A%5B%E6%83%85%E5%A0%B1%5D&#43;LINE&#43;Pay&#43;%E6%8E%A5%E5%8F%97%E5%8F%B0%E5%8C%97%E5%AF%8C%E9%82%A6%E9%8A%80%E8%A1%8C%E8%81%AF%E9%82%A6%E9%8A%80%E8%A1%8C%E6%8A%95%E8%B3%87\">搜尋同標題文章</a></div>\\n\\t\\t\\t\\t\\t\\t\\n\\t\\t\\t\\t\\t\\t<div class=\"item\"><a href=\"/bbs/creditcard/search?q=author%3Aalex1973\">搜尋看板內 alex1973 的文章</a></div>\\n\\t\\t\\t\\t\\t\\t\\n\\t\\t\\t\\t\\t</div>\\n\\t\\t\\t\\t\\t\\n\\t\\t\\t\\t</div>\\n\\t\\t\\t\\t<div class=\"date\"> 7/25</div>\\n\\t\\t\\t\\t<div class=\"mark\"></div>\\n\\t\\t\\t</div>\\n\\t\\t</div>\\n\\n\\t\\t\\n            \\n        \\n        \\n\\t\\t<div class=\"r-ent\">\\n\\t\\t\\t<div class=\"nrec\"><span class=\"hl f2\">9</span></div>\\n\\t\\t\\t<div class=\"title\">\\n\\t\\t\\t\\n\\t\\t\\t\\t<a href=\"/bbs/creditcard/M.1532527960.A.D59.html\">[心得] 中信中油聯名卡 核卡</a>\\n\\t\\t\\t\\n\\t\\t\\t</div>\\n\\t\\t\\t<div class=\"meta\">\\n\\t\\t\\t\\t<div class=\"author\">mypineapple</div>\\n\\t\\t\\t\\t<div class=\"article-menu\">\\n\\t\\t\\t\\t\\t\\n\\t\\t\\t\\t\\t<div class=\"trigger\">&#x22ef;</div>\\n\\t\\t\\t\\t\\t<div class=\"dropdown\">\\n\\t\\t\\t\\t\\t\\t<div class=\"item\"><a href=\"/bbs/creditcard/search?q=thread%3A%5B%E5%BF%83%E5%BE%97%5D&#43;%E4%B8%AD%E4%BF%A1%E4%B8%AD%E6%B2%B9%E8%81%AF%E5%90%8D%E5%8D%A1&#43;%E6%A0%B8%E5%8D%A1\">搜尋同標題文章</a></div>\\n\\t\\t\\t\\t\\t\\t\\n\\t\\t\\t\\t\\t\\t<div class=\"item\"><a href=\"/bbs/creditcard/search?q=author%3Amypineapple\">搜尋看板內 mypineapple 的文章</a></div>\\n\\t\\t\\t\\t\\t\\t\\n\\t\\t\\t\\t\\t</div>\\n\\t\\t\\t\\t\\t\\n\\t\\t\\t\\t</div>\\n\\t\\t\\t\\t<div class=\"date\"> 7/25</div>\\n\\t\\t\\t\\t<div class=\"mark\"></div>\\n\\t\\t\\t</div>\\n\\t\\t</div>\\n\\n\\t\\t\\n            \\n        \\n        \\n\\t\\t<div class=\"r-ent\">\\n\\t\\t\\t<div class=\"nrec\"><span class=\"hl f3\">13</span></div>\\n\\t\\t\\t<div class=\"title\">\\n\\t\\t\\t\\n\\t\\t\\t\\t<a href=\"/bbs/creditcard/M.1532531103.A.CDA.html\">Re: [情報] koko卡買6年儲蓄險送15萬op點</a>\\n\\t\\t\\t\\n\\t\\t\\t</div>\\n\\t\\t\\t<div class=\"meta\">\\n\\t\\t\\t\\t<div class=\"author\">medama</div>\\n\\t\\t\\t\\t<div class=\"article-menu\">\\n\\t\\t\\t\\t\\t\\n\\t\\t\\t\\t\\t<div class=\"trigger\">&#x22ef;</div>\\n\\t\\t\\t\\t\\t<div class=\"dropdown\">\\n\\t\\t\\t\\t\\t\\t<div class=\"item\"><a href=\"/bbs/creditcard/search?q=thread%3A%5B%E6%83%85%E5%A0%B1%5D&#43;koko%E5%8D%A1%E8%B2%B76%E5%B9%B4%E5%84%B2%E8%93%84%E9%9A%AA%E9%80%8115%E8%90%ACop%E9%BB%9E\">搜尋同標題文章</a></div>\\n\\t\\t\\t\\t\\t\\t\\n\\t\\t\\t\\t\\t\\t<div class=\"item\"><a href=\"/bbs/creditcard/search?q=author%3Amedama\">搜尋看板內 medama 的文章</a></div>\\n\\t\\t\\t\\t\\t\\t\\n\\t\\t\\t\\t\\t</div>\\n\\t\\t\\t\\t\\t\\n\\t\\t\\t\\t</div>\\n\\t\\t\\t\\t<div class=\"date\"> 7/25</div>\\n\\t\\t\\t\\t<div class=\"mark\"></div>\\n\\t\\t\\t</div>\\n\\t\\t</div>\\n\\n\\t\\t\\n            \\n        \\n        \\n\\t\\t<div class=\"r-ent\">\\n\\t\\t\\t<div class=\"nrec\"><span class=\"hl f2\">1</span></div>\\n\\t\\t\\t<div class=\"title\">\\n\\t\\t\\t\\n\\t\\t\\t\\t<a href=\"/bbs/creditcard/M.1532531596.A.689.html\">[討論] 今年83女生節真的沒有17%回饋嗎? </a>\\n\\t\\t\\t\\n\\t\\t\\t</div>\\n\\t\\t\\t<div class=\"meta\">\\n\\t\\t\\t\\t<div class=\"author\">marosky</div>\\n\\t\\t\\t\\t<div class=\"article-menu\">\\n\\t\\t\\t\\t\\t\\n\\t\\t\\t\\t\\t<div class=\"trigger\">&#x22ef;</div>\\n\\t\\t\\t\\t\\t<div class=\"dropdown\">\\n\\t\\t\\t\\t\\t\\t<div class=\"item\"><a href=\"/bbs/creditcard/search?q=thread%3A%5B%E8%A8%8E%E8%AB%96%5D&#43;%E4%BB%8A%E5%B9%B483%E5%A5%B3%E7%94%9F%E7%AF%80%E7%9C%9F%E7%9A%84%E6%B2%92%E6%9C%8917%25%E5%9B%9E%E9%A5%8B%E5%97%8E%3F&#43;\">搜尋同標題文章</a></div>\\n\\t\\t\\t\\t\\t\\t\\n\\t\\t\\t\\t\\t\\t<div class=\"item\"><a href=\"/bbs/creditcard/search?q=author%3Amarosky\">搜尋看板內 marosky 的文章</a></div>\\n\\t\\t\\t\\t\\t\\t\\n\\t\\t\\t\\t\\t</div>\\n\\t\\t\\t\\t\\t\\n\\t\\t\\t\\t</div>\\n\\t\\t\\t\\t<div class=\"date\"> 7/25</div>\\n\\t\\t\\t\\t<div class=\"mark\"></div>\\n\\t\\t\\t</div>\\n\\t\\t</div>\\n\\n\\t\\t\\n            \\n        \\n        \\n\\t\\t<div class=\"r-ent\">\\n\\t\\t\\t<div class=\"nrec\"><span class=\"hl f3\">16</span></div>\\n\\t\\t\\t<div class=\"title\">\\n\\t\\t\\t\\n\\t\\t\\t\\t<a href=\"/bbs/creditcard/M.1532532004.A.D3D.html\">[情報] 玉山幸運PLUS鈦金卡自動加值10%回饋</a>\\n\\t\\t\\t\\n\\t\\t\\t</div>\\n\\t\\t\\t<div class=\"meta\">\\n\\t\\t\\t\\t<div class=\"author\">yabus</div>\\n\\t\\t\\t\\t<div class=\"article-menu\">\\n\\t\\t\\t\\t\\t\\n\\t\\t\\t\\t\\t<div class=\"trigger\">&#x22ef;</div>\\n\\t\\t\\t\\t\\t<div class=\"dropdown\">\\n\\t\\t\\t\\t\\t\\t<div class=\"item\"><a href=\"/bbs/creditcard/search?q=thread%3A%5B%E6%83%85%E5%A0%B1%5D&#43;%E7%8E%89%E5%B1%B1%E5%B9%B8%E9%81%8BPLUS%E9%88%A6%E9%87%91%E5%8D%A1%E8%87%AA%E5%8B%95%E5%8A%A0%E5%80%BC10%25%E5%9B%9E%E9%A5%8B\">搜尋同標題文章</a></div>\\n\\t\\t\\t\\t\\t\\t\\n\\t\\t\\t\\t\\t\\t<div class=\"item\"><a href=\"/bbs/creditcard/search?q=author%3Ayabus\">搜尋看板內 yabus 的文章</a></div>\\n\\t\\t\\t\\t\\t\\t\\n\\t\\t\\t\\t\\t</div>\\n\\t\\t\\t\\t\\t\\n\\t\\t\\t\\t</div>\\n\\t\\t\\t\\t<div class=\"date\"> 7/25</div>\\n\\t\\t\\t\\t<div class=\"mark\"></div>\\n\\t\\t\\t</div>\\n\\t\\t</div>\\n\\n\\t\\t\\n            \\n        \\n        \\n\\t\\t<div class=\"r-ent\">\\n\\t\\t\\t<div class=\"nrec\"></div>\\n\\t\\t\\t<div class=\"title\">\\n\\t\\t\\t\\n\\t\\t\\t\\t&lt;billylaw51&gt; 1-3未爬文 警告一次 by cg.\\n\\t\\t\\t\\n\\t\\t\\t</div>\\n\\t\\t\\t<div class=\"meta\">\\n\\t\\t\\t\\t<div class=\"author\">-</div>\\n\\t\\t\\t\\t<div class=\"article-menu\">\\n\\t\\t\\t\\t\\t\\n\\t\\t\\t\\t</div>\\n\\t\\t\\t\\t<div class=\"date\"> 7/25</div>\\n\\t\\t\\t\\t<div class=\"mark\"></div>\\n\\t\\t\\t</div>\\n\\t\\t</div>\\n\\n\\t\\t\\n            \\n        \\n        \\n\\t\\t<div class=\"r-ent\">\\n\\t\\t\\t<div class=\"nrec\"></div>\\n\\t\\t\\t<div class=\"title\">\\n\\t\\t\\t\\n\\t\\t\\t\\t(本文已被刪除) [vlkppa]\\n\\t\\t\\t\\n\\t\\t\\t</div>\\n\\t\\t\\t<div class=\"meta\">\\n\\t\\t\\t\\t<div class=\"author\">-</div>\\n\\t\\t\\t\\t<div class=\"article-menu\">\\n\\t\\t\\t\\t\\t\\n\\t\\t\\t\\t</div>\\n\\t\\t\\t\\t<div class=\"date\"> 7/26</div>\\n\\t\\t\\t\\t<div class=\"mark\"></div>\\n\\t\\t\\t</div>\\n\\t\\t</div>\\n\\n\\t\\t\\n            \\n        \\n        \\n\\t\\t<div class=\"r-ent\">\\n\\t\\t\\t<div class=\"nrec\"><span class=\"hl f2\">4</span></div>\\n\\t\\t\\t<div class=\"title\">\\n\\t\\t\\t\\n\\t\\t\\t\\t<a href=\"/bbs/creditcard/M.1532569489.A.701.html\">Re: [討論] 日本刷卡-七、八月JCB現金回饋%數最優</a>\\n\\t\\t\\t\\n\\t\\t\\t</div>\\n\\t\\t\\t<div class=\"meta\">\\n\\t\\t\\t\\t<div class=\"author\">tono0705</div>\\n\\t\\t\\t\\t<div class=\"article-menu\">\\n\\t\\t\\t\\t\\t\\n\\t\\t\\t\\t\\t<div class=\"trigger\">&#x22ef;</div>\\n\\t\\t\\t\\t\\t<div class=\"dropdown\">\\n\\t\\t\\t\\t\\t\\t<div class=\"item\"><a href=\"/bbs/creditcard/search?q=thread%3A%5B%E8%A8%8E%E8%AB%96%5D&#43;%E6%97%A5%E6%9C%AC%E5%88%B7%E5%8D%A1-%E4%B8%83%E3%80%81%E5%85%AB%E6%9C%88JCB%E7%8F%BE%E9%87%91%E5%9B%9E%E9%A5%8B%25%E6%95%B8%E6%9C%80%E5%84%AA\">搜尋同標題文章</a></div>\\n\\t\\t\\t\\t\\t\\t\\n\\t\\t\\t\\t\\t\\t<div class=\"item\"><a href=\"/bbs/creditcard/search?q=author%3Atono0705\">搜尋看板內 tono0705 的文章</a></div>\\n\\t\\t\\t\\t\\t\\t\\n\\t\\t\\t\\t\\t</div>\\n\\t\\t\\t\\t\\t\\n\\t\\t\\t\\t</div>\\n\\t\\t\\t\\t<div class=\"date\"> 7/26</div>\\n\\t\\t\\t\\t<div class=\"mark\"></div>\\n\\t\\t\\t</div>\\n\\t\\t</div>\\n\\n\\t\\t\\n            \\n        \\n        \\n\\t\\t<div class=\"r-ent\">\\n\\t\\t\\t<div class=\"nrec\"><span class=\"hl f2\">3</span></div>\\n\\t\\t\\t<div class=\"title\">\\n\\t\\t\\t\\n\\t\\t\\t\\t<a href=\"/bbs/creditcard/M.1532569641.A.3D2.html\">[閒聊] 聯邦剪卡被慰留</a>\\n\\t\\t\\t\\n\\t\\t\\t</div>\\n\\t\\t\\t<div class=\"meta\">\\n\\t\\t\\t\\t<div class=\"author\">Eppieyu</div>\\n\\t\\t\\t\\t<div class=\"article-menu\">\\n\\t\\t\\t\\t\\t\\n\\t\\t\\t\\t\\t<div class=\"trigger\">&#x22ef;</div>\\n\\t\\t\\t\\t\\t<div class=\"dropdown\">\\n\\t\\t\\t\\t\\t\\t<div class=\"item\"><a href=\"/bbs/creditcard/search?q=thread%3A%5B%E9%96%92%E8%81%8A%5D&#43;%E8%81%AF%E9%82%A6%E5%89%AA%E5%8D%A1%E8%A2%AB%E6%85%B0%E7%95%99\">搜尋同標題文章</a></div>\\n\\t\\t\\t\\t\\t\\t\\n\\t\\t\\t\\t\\t\\t<div class=\"item\"><a href=\"/bbs/creditcard/search?q=author%3AEppieyu\">搜尋看板內 Eppieyu 的文章</a></div>\\n\\t\\t\\t\\t\\t\\t\\n\\t\\t\\t\\t\\t</div>\\n\\t\\t\\t\\t\\t\\n\\t\\t\\t\\t</div>\\n\\t\\t\\t\\t<div class=\"date\"> 7/26</div>\\n\\t\\t\\t\\t<div class=\"mark\"></div>\\n\\t\\t\\t</div>\\n\\t\\t</div>\\n\\n\\t\\t\\n            \\n        \\n        \\n\\t\\t<div class=\"r-ent\">\\n\\t\\t\\t<div class=\"nrec\"><span class=\"hl f2\">5</span></div>\\n\\t\\t\\t<div class=\"title\">\\n\\t\\t\\t\\n\\t\\t\\t\\t<a href=\"/bbs/creditcard/M.1532572135.A.CA6.html\">[心得]中信linepay VISA 御璽卡 核卡 </a>\\n\\t\\t\\t\\n\\t\\t\\t</div>\\n\\t\\t\\t<div class=\"meta\">\\n\\t\\t\\t\\t<div class=\"author\">ash2501</div>\\n\\t\\t\\t\\t<div class=\"article-menu\">\\n\\t\\t\\t\\t\\t\\n\\t\\t\\t\\t\\t<div class=\"trigger\">&#x22ef;</div>\\n\\t\\t\\t\\t\\t<div class=\"dropdown\">\\n\\t\\t\\t\\t\\t\\t<div class=\"item\"><a href=\"/bbs/creditcard/search?q=thread%3A%5B%E5%BF%83%E5%BE%97%5D%E4%B8%AD%E4%BF%A1linepay&#43;VISA&#43;%E5%BE%A1%E7%92%BD%E5%8D%A1&#43;%E6%A0%B8%E5%8D%A1&#43;\">搜尋同標題文章</a></div>\\n\\t\\t\\t\\t\\t\\t\\n\\t\\t\\t\\t\\t\\t<div class=\"item\"><a href=\"/bbs/creditcard/search?q=author%3Aash2501\">搜尋看板內 ash2501 的文章</a></div>\\n\\t\\t\\t\\t\\t\\t\\n\\t\\t\\t\\t\\t</div>\\n\\t\\t\\t\\t\\t\\n\\t\\t\\t\\t</div>\\n\\t\\t\\t\\t<div class=\"date\"> 7/26</div>\\n\\t\\t\\t\\t<div class=\"mark\"></div>\\n\\t\\t\\t</div>\\n\\t\\t</div>\\n\\n\\t\\t\\n            \\n        \\n        \\n\\t\\t<div class=\"r-ent\">\\n\\t\\t\\t<div class=\"nrec\"><span class=\"hl f2\">2</span></div>\\n\\t\\t\\t<div class=\"title\">\\n\\t\\t\\t\\n\\t\\t\\t\\t<a href=\"/bbs/creditcard/M.1532572476.A.A29.html\">[心得] 星展飛行世界卡  核卡</a>\\n\\t\\t\\t\\n\\t\\t\\t</div>\\n\\t\\t\\t<div class=\"meta\">\\n\\t\\t\\t\\t<div class=\"author\">alexj</div>\\n\\t\\t\\t\\t<div class=\"article-menu\">\\n\\t\\t\\t\\t\\t\\n\\t\\t\\t\\t\\t<div class=\"trigger\">&#x22ef;</div>\\n\\t\\t\\t\\t\\t<div class=\"dropdown\">\\n\\t\\t\\t\\t\\t\\t<div class=\"item\"><a href=\"/bbs/creditcard/search?q=thread%3A%5B%E5%BF%83%E5%BE%97%5D&#43;%E6%98%9F%E5%B1%95%E9%A3%9B%E8%A1%8C%E4%B8%96%E7%95%8C%E5%8D%A1&#43;&#43;%E6%A0%B8%E5%8D%A1\">搜尋同標題文章</a></div>\\n\\t\\t\\t\\t\\t\\t\\n\\t\\t\\t\\t\\t\\t<div class=\"item\"><a href=\"/bbs/creditcard/search?q=author%3Aalexj\">搜尋看板內 alexj 的文章</a></div>\\n\\t\\t\\t\\t\\t\\t\\n\\t\\t\\t\\t\\t</div>\\n\\t\\t\\t\\t\\t\\n\\t\\t\\t\\t</div>\\n\\t\\t\\t\\t<div class=\"date\"> 7/26</div>\\n\\t\\t\\t\\t<div class=\"mark\"></div>\\n\\t\\t\\t</div>\\n\\t\\t</div>\\n\\n\\t\\t\\n            \\n        \\n        \\n\\t\\t<div class=\"r-ent\">\\n\\t\\t\\t<div class=\"nrec\"></div>\\n\\t\\t\\t<div class=\"title\">\\n\\t\\t\\t\\n\\t\\t\\t\\t<a href=\"/bbs/creditcard/M.1532573760.A.37A.html\">[閒聊] 華南領航極致尊榮卡</a>\\n\\t\\t\\t\\n\\t\\t\\t</div>\\n\\t\\t\\t<div class=\"meta\">\\n\\t\\t\\t\\t<div class=\"author\">ckw968</div>\\n\\t\\t\\t\\t<div class=\"article-menu\">\\n\\t\\t\\t\\t\\t\\n\\t\\t\\t\\t\\t<div class=\"trigger\">&#x22ef;</div>\\n\\t\\t\\t\\t\\t<div class=\"dropdown\">\\n\\t\\t\\t\\t\\t\\t<div class=\"item\"><a href=\"/bbs/creditcard/search?q=thread%3A%5B%E9%96%92%E8%81%8A%5D&#43;%E8%8F%AF%E5%8D%97%E9%A0%98%E8%88%AA%E6%A5%B5%E8%87%B4%E5%B0%8A%E6%A6%AE%E5%8D%A1\">搜尋同標題文章</a></div>\\n\\t\\t\\t\\t\\t\\t\\n\\t\\t\\t\\t\\t\\t<div class=\"item\"><a href=\"/bbs/creditcard/search?q=author%3Ackw968\">搜尋看板內 ckw968 的文章</a></div>\\n\\t\\t\\t\\t\\t\\t\\n\\t\\t\\t\\t\\t</div>\\n\\t\\t\\t\\t\\t\\n\\t\\t\\t\\t</div>\\n\\t\\t\\t\\t<div class=\"date\"> 7/26</div>\\n\\t\\t\\t\\t<div class=\"mark\"></div>\\n\\t\\t\\t</div>\\n\\t\\t</div>\\n\\n\\t\\t\\n        \\n        <div class=\"r-list-sep\"></div>\\n            \\n                \\n        \\n        \\n\\t\\t<div class=\"r-ent\">\\n\\t\\t\\t<div class=\"nrec\"><span class=\"hl f2\">3</span></div>\\n\\t\\t\\t<div class=\"title\">\\n\\t\\t\\t\\n\\t\\t\\t\\t<a href=\"/bbs/creditcard/M.1488251491.A.C7B.html\">[公告] === 卡板板規 V8.0 === (2018/05/25修訂)</a>\\n\\t\\t\\t\\n\\t\\t\\t</div>\\n\\t\\t\\t<div class=\"meta\">\\n\\t\\t\\t\\t<div class=\"author\">MoonAthenaX</div>\\n\\t\\t\\t\\t<div class=\"article-menu\">\\n\\t\\t\\t\\t\\t\\n\\t\\t\\t\\t\\t<div class=\"trigger\">&#x22ef;</div>\\n\\t\\t\\t\\t\\t<div class=\"dropdown\">\\n\\t\\t\\t\\t\\t\\t<div class=\"item\"><a href=\"/bbs/creditcard/search?q=thread%3A%5B%E5%85%AC%E5%91%8A%5D&#43;%3D%3D%3D&#43;%E5%8D%A1%E6%9D%BF%E6%9D%BF%E8%A6%8F&#43;V8.0&#43;%3D%3D%3D&#43;%282018%2F05%2F25%E4%BF%AE%E8%A8%82%29\">搜尋同標題文章</a></div>\\n\\t\\t\\t\\t\\t\\t\\n\\t\\t\\t\\t\\t\\t<div class=\"item\"><a href=\"/bbs/creditcard/search?q=author%3AMoonAthenaX\">搜尋看板內 MoonAthenaX 的文章</a></div>\\n\\t\\t\\t\\t\\t\\t\\n\\t\\t\\t\\t\\t</div>\\n\\t\\t\\t\\t\\t\\n\\t\\t\\t\\t</div>\\n\\t\\t\\t\\t<div class=\"date\"> 2/28</div>\\n\\t\\t\\t\\t<div class=\"mark\">M</div>\\n\\t\\t\\t</div>\\n\\t\\t</div>\\n\\n            \\n                \\n        \\n        \\n\\t\\t<div class=\"r-ent\">\\n\\t\\t\\t<div class=\"nrec\"><span class=\"hl f3\">51</span></div>\\n\\t\\t\\t<div class=\"title\">\\n\\t\\t\\t\\n\\t\\t\\t\\t<a href=\"/bbs/creditcard/M.1425488177.A.59D.html\">[公告] 置底檢舉專區</a>\\n\\t\\t\\t\\n\\t\\t\\t</div>\\n\\t\\t\\t<div class=\"meta\">\\n\\t\\t\\t\\t<div class=\"author\">bboy0720</div>\\n\\t\\t\\t\\t<div class=\"article-menu\">\\n\\t\\t\\t\\t\\t\\n\\t\\t\\t\\t\\t<div class=\"trigger\">&#x22ef;</div>\\n\\t\\t\\t\\t\\t<div class=\"dropdown\">\\n\\t\\t\\t\\t\\t\\t<div class=\"item\"><a href=\"/bbs/creditcard/search?q=thread%3A%5B%E5%85%AC%E5%91%8A%5D&#43;%E7%BD%AE%E5%BA%95%E6%AA%A2%E8%88%89%E5%B0%88%E5%8D%80\">搜尋同標題文章</a></div>\\n\\t\\t\\t\\t\\t\\t\\n\\t\\t\\t\\t\\t\\t<div class=\"item\"><a href=\"/bbs/creditcard/search?q=author%3Abboy0720\">搜尋看板內 bboy0720 的文章</a></div>\\n\\t\\t\\t\\t\\t\\t\\n\\t\\t\\t\\t\\t</div>\\n\\t\\t\\t\\t\\t\\n\\t\\t\\t\\t</div>\\n\\t\\t\\t\\t<div class=\"date\"> 3/05</div>\\n\\t\\t\\t\\t<div class=\"mark\">M</div>\\n\\t\\t\\t</div>\\n\\t\\t</div>\\n\\n            \\n                \\n        \\n        \\n\\t\\t<div class=\"r-ent\">\\n\\t\\t\\t<div class=\"nrec\"><span class=\"hl f3\">66</span></div>\\n\\t\\t\\t<div class=\"title\">\\n\\t\\t\\t\\n\\t\\t\\t\\t<a href=\"/bbs/creditcard/M.1425873650.A.F81.html\">[情報] 各家銀行0800免付費電話</a>\\n\\t\\t\\t\\n\\t\\t\\t</div>\\n\\t\\t\\t<div class=\"meta\">\\n\\t\\t\\t\\t<div class=\"author\">MoonAthenaX</div>\\n\\t\\t\\t\\t<div class=\"article-menu\">\\n\\t\\t\\t\\t\\t\\n\\t\\t\\t\\t\\t<div class=\"trigger\">&#x22ef;</div>\\n\\t\\t\\t\\t\\t<div class=\"dropdown\">\\n\\t\\t\\t\\t\\t\\t<div class=\"item\"><a href=\"/bbs/creditcard/search?q=thread%3A%5B%E6%83%85%E5%A0%B1%5D&#43;%E5%90%84%E5%AE%B6%E9%8A%80%E8%A1%8C0800%E5%85%8D%E4%BB%98%E8%B2%BB%E9%9B%BB%E8%A9%B1\">搜尋同標題文章</a></div>\\n\\t\\t\\t\\t\\t\\t\\n\\t\\t\\t\\t\\t\\t<div class=\"item\"><a href=\"/bbs/creditcard/search?q=author%3AMoonAthenaX\">搜尋看板內 MoonAthenaX 的文章</a></div>\\n\\t\\t\\t\\t\\t\\t\\n\\t\\t\\t\\t\\t</div>\\n\\t\\t\\t\\t\\t\\n\\t\\t\\t\\t</div>\\n\\t\\t\\t\\t<div class=\"date\"> 3/09</div>\\n\\t\\t\\t\\t<div class=\"mark\">M</div>\\n\\t\\t\\t</div>\\n\\t\\t</div>\\n\\n            \\n                \\n        \\n        \\n\\t\\t<div class=\"r-ent\">\\n\\t\\t\\t<div class=\"nrec\"><span class=\"hl f1\">爆</span></div>\\n\\t\\t\\t<div class=\"title\">\\n\\t\\t\\t\\n\\t\\t\\t\\t<a href=\"/bbs/creditcard/M.1528898930.A.F33.html\">[心得] 小資族 日常消費 最優惠回饋 整理(7/18)</a>\\n\\t\\t\\t\\n\\t\\t\\t</div>\\n\\t\\t\\t<div class=\"meta\">\\n\\t\\t\\t\\t<div class=\"author\">DarkRobert</div>\\n\\t\\t\\t\\t<div class=\"article-menu\">\\n\\t\\t\\t\\t\\t\\n\\t\\t\\t\\t\\t<div class=\"trigger\">&#x22ef;</div>\\n\\t\\t\\t\\t\\t<div class=\"dropdown\">\\n\\t\\t\\t\\t\\t\\t<div class=\"item\"><a href=\"/bbs/creditcard/search?q=thread%3A%5B%E5%BF%83%E5%BE%97%5D&#43;%E5%B0%8F%E8%B3%87%E6%97%8F&#43;%E6%97%A5%E5%B8%B8%E6%B6%88%E8%B2%BB&#43;%E6%9C%80%E5%84%AA%E6%83%A0%E5%9B%9E%E9%A5%8B&#43;%E6%95%B4%E7%90%86%287%2F18%29\">搜尋同標題文章</a></div>\\n\\t\\t\\t\\t\\t\\t\\n\\t\\t\\t\\t\\t\\t<div class=\"item\"><a href=\"/bbs/creditcard/search?q=author%3ADarkRobert\">搜尋看板內 DarkRobert 的文章</a></div>\\n\\t\\t\\t\\t\\t\\t\\n\\t\\t\\t\\t\\t</div>\\n\\t\\t\\t\\t\\t\\n\\t\\t\\t\\t</div>\\n\\t\\t\\t\\t<div class=\"date\"> 6/13</div>\\n\\t\\t\\t\\t<div class=\"mark\">M</div>\\n\\t\\t\\t</div>\\n\\t\\t</div>\\n\\n            \\n        \\n\\t</div>\\n\\n    \\n</div>\\n\\n\\t\\t\\n\\n<script>\\n  (function(i,s,o,g,r,a,m){i[\\'GoogleAnalyticsObject\\']=r;i[r]=i[r]||function(){\\n  (i[r].q=i[r].q||[]).push(arguments)},i[r].l=1*new Date();a=s.createElement(o),\\n  m=s.getElementsByTagName(o)[0];a.async=1;a.src=g;m.parentNode.insertBefore(a,m)\\n  })(window,document,\\'script\\',\\'https://www.google-analytics.com/analytics.js\\',\\'ga\\');\\n\\n  ga(\\'create\\', \\'UA-32365737-1\\', {\\n    cookieDomain: \\'ptt.cc\\',\\n    legacyCookieDomain: \\'ptt.cc\\'\\n  });\\n  ga(\\'send\\', \\'pageview\\');\\n</script>\\n\\n\\n\\t\\t\\n<script src=\"//ajax.googleapis.com/ajax/libs/jquery/2.1.1/jquery.min.js\"></script>\\n<script src=\"//images.ptt.cc/bbs/v2.25/bbs.js\"></script>\\n\\n    </body>\\n</html>\\n'"
      ]
     },
     "execution_count": 89,
     "metadata": {},
     "output_type": "execute_result"
    }
   ],
   "source": [
    "resp.text"
   ]
  },
  {
   "cell_type": "code",
   "execution_count": 127,
   "metadata": {},
   "outputs": [
    {
     "data": {
      "text/plain": [
       "'2786'"
      ]
     },
     "execution_count": 127,
     "metadata": {},
     "output_type": "execute_result"
    }
   ],
   "source": [
    "re.findall('index(\\d+).html\">&lsaquo; 上頁', resp.text)[0]"
   ]
  },
  {
   "cell_type": "code",
   "execution_count": 126,
   "metadata": {},
   "outputs": [
    {
     "data": {
      "text/plain": [
       "2786"
      ]
     },
     "execution_count": 126,
     "metadata": {},
     "output_type": "execute_result"
    }
   ],
   "source": [
    "int(re.findall('index(\\d+).html\">&lsaquo; 上頁', resp.text)[0])"
   ]
  },
  {
   "cell_type": "code",
   "execution_count": 129,
   "metadata": {},
   "outputs": [
    {
     "data": {
      "text/plain": [
       "2787"
      ]
     },
     "execution_count": 129,
     "metadata": {},
     "output_type": "execute_result"
    }
   ],
   "source": [
    "total_page = int(re.findall('index(\\d+).html\">&lsaquo; 上頁', resp.text)[0]) + 1\n",
    "total_page"
   ]
  },
  {
   "cell_type": "code",
   "execution_count": 133,
   "metadata": {},
   "outputs": [
    {
     "name": "stdout",
     "output_type": "stream",
     "text": [
      "https://www.ptt.cc/bbs/creditcard/index2787.html\n",
      "200\n",
      "https://www.ptt.cc/bbs/creditcard/index2786.html\n",
      "200\n",
      "https://www.ptt.cc/bbs/creditcard/index2785.html\n",
      "200\n"
     ]
    }
   ],
   "source": [
    "url = 'https://www.ptt.cc/bbs/creditcard/index%s.html'\n",
    "for page in range(total_page, total_page - 3, -1):\n",
    "    print(url%page)\n",
    "    resp = requests.get(url%page)\n",
    "    print(resp.status_code)\n",
    "    with open('/tmp/%s.html'%page, 'w') as f:\n",
    "        f.write(resp.text)"
   ]
  },
  {
   "cell_type": "code",
   "execution_count": null,
   "metadata": {},
   "outputs": [],
   "source": []
  }
 ],
 "metadata": {
  "kernelspec": {
   "display_name": "Python 3",
   "language": "python",
   "name": "python3"
  },
  "language_info": {
   "codemirror_mode": {
    "name": "ipython",
    "version": 3
   },
   "file_extension": ".py",
   "mimetype": "text/x-python",
   "name": "python",
   "nbconvert_exporter": "python",
   "pygments_lexer": "ipython3",
   "version": "3.6.5"
  }
 },
 "nbformat": 4,
 "nbformat_minor": 2
}
