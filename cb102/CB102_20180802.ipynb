{
 "cells": [
  {
   "cell_type": "code",
   "execution_count": 4,
   "metadata": {},
   "outputs": [],
   "source": [
    "import requests\n",
    "from bs4 import BeautifulSoup"
   ]
  },
  {
   "cell_type": "code",
   "execution_count": 2,
   "metadata": {},
   "outputs": [],
   "source": [
    "res = requests.get('https://tw.appledaily.com/new/realtime/1')"
   ]
  },
  {
   "cell_type": "code",
   "execution_count": 5,
   "metadata": {},
   "outputs": [],
   "source": [
    "soup = BeautifulSoup(res.text,'lxml')"
   ]
  },
  {
   "cell_type": "code",
   "execution_count": 12,
   "metadata": {
    "scrolled": true
   },
   "outputs": [
    {
     "name": "stdout",
     "output_type": "stream",
     "text": [
      "https://tw.news.appledaily.com/life/realtime/20180802/1403016/\n",
      "https://tw.finance.appledaily.com/realtime/20180802/1402765/\n",
      "https://tw.news.appledaily.com/local/realtime/20180802/1402454/\n",
      "https://tw.news.appledaily.com/forum/realtime/20180802/1403020/\n",
      "https://tw.news.appledaily.com/life/realtime/20180802/1402115/\n",
      "https://tw.sports.appledaily.com/realtime/20180802/1403022/\n",
      "https://tw.sports.appledaily.com/realtime/20180802/1403018/\n",
      "https://tw.news.appledaily.com/life/realtime/20180802/1403019/\n",
      "https://tw.finance.appledaily.com/realtime/20180802/1402921/\n",
      "https://tw.sports.appledaily.com/realtime/20180802/1403014/\n",
      "https://tw.news.appledaily.com/life/realtime/20180802/1403009/\n",
      "https://tw.news.appledaily.com/local/realtime/20180802/1403005/\n",
      "https://tw.finance.appledaily.com/realtime/20180802/1402872/\n",
      "https://tw.news.appledaily.com/politics/realtime/20180802/1402609/\n",
      "https://tw.news.appledaily.com/international/realtime/20180802/1403013/\n",
      "https://tw.news.appledaily.com/local/realtime/20180802/1403012/\n",
      "https://tw.finance.appledaily.com/realtime/20180802/1402847/\n",
      "https://tw.news.appledaily.com/local/realtime/20180802/1402990/\n",
      "https://tw.entertainment.appledaily.com/realtime/20180802/1402795/\n",
      "https://tw.news.appledaily.com/international/realtime/20180802/1403002/\n",
      "https://tw.finance.appledaily.com/realtime/20180802/1403011/\n",
      "https://tw.news.appledaily.com/local/realtime/20180802/1402828/\n",
      "https://tw.finance.appledaily.com/realtime/20180802/1402836/\n",
      "https://tw.sports.appledaily.com/realtime/20180802/1403008/\n",
      "https://tw.news.appledaily.com/international/realtime/20180802/1403006/\n",
      "https://tw.entertainment.appledaily.com/realtime/20180802/1402569/\n",
      "https://tw.entertainment.appledaily.com/realtime/20180802/1402873/\n",
      "https://tw.finance.appledaily.com/realtime/20180802/1402829/\n",
      "https://tw.finance.appledaily.com/realtime/20180802/1402917/\n",
      "https://tw.news.appledaily.com/local/realtime/20180802/1402986/\n"
     ]
    }
   ],
   "source": [
    "urls =list()\n",
    "for i in soup.select('.rtddt a'):\n",
    "#     print(i.get('href'))\n",
    "    url = i['href']\n",
    "    print(url)\n",
    "    urls.append(url)"
   ]
  },
  {
   "cell_type": "code",
   "execution_count": 22,
   "metadata": {},
   "outputs": [],
   "source": [
    "total_page=1\n",
    "urls = list()\n",
    "for page in range(1,total_page+1):\n",
    "    page_url = 'https://tw.appledaily.com/new/realtime/{}'.format(page)\n",
    "    res = requests.get(page_url)\n",
    "    soup = BeautifulSoup(res.text,'lxml')\n",
    "    for i in soup.select('.rtddt a'):\n",
    "        url = i['href']\n",
    "        urls.append(url)"
   ]
  },
  {
   "cell_type": "code",
   "execution_count": 25,
   "metadata": {},
   "outputs": [],
   "source": [
    "article_url = urls[0]"
   ]
  },
  {
   "cell_type": "code",
   "execution_count": 64,
   "metadata": {},
   "outputs": [
    {
     "name": "stdout",
     "output_type": "stream",
     "text": [
      "--> url: https://tw.news.appledaily.com/life/realtime/20180802/1403017/\n",
      "--> url: https://tw.news.appledaily.com/life/realtime/20180802/1403027/\n",
      "--> url: https://tw.sports.appledaily.com/realtime/20180802/1403026/\n"
     ]
    }
   ],
   "source": [
    "docs = list()\n",
    "for article_url in urls:\n",
    "    try:\n",
    "        doc =dict()\n",
    "        res = requests.get(article_url)\n",
    "        soup = BeautifulSoup(res.text,'lxml')\n",
    "        title = soup.select('h1')[0].text.strip()\n",
    "        view_count = soup.select('.ndArticle_view')[0].text.strip()\n",
    "        dt = soup.select('.ndArticle_creat')[0].text.strip()\n",
    "        content = ''.join([p.text for p in soup.select('article p')]).split('報導）')[0]\n",
    "        keywords = [tag.text.strip() for tag in soup.select('.ndgKeyword a')]\n",
    "        doc['title'] = title\n",
    "        doc['view_count'] = view_count\n",
    "        doc['dt'] = dt\n",
    "        doc['content'] = content\n",
    "        doc['keywords'] = keywords\n",
    "        doc['url'] = article_url\n",
    "        docs.append(doc)\n",
    "    except Exception as e:\n",
    "        print('--> url: %s'%(article_url))\n",
    "        pass"
   ]
  },
  {
   "cell_type": "code",
   "execution_count": 66,
   "metadata": {},
   "outputs": [],
   "source": [
    "import pandas as pd"
   ]
  },
  {
   "cell_type": "code",
   "execution_count": 67,
   "metadata": {},
   "outputs": [],
   "source": [
    "df = pd.DataFrame(docs)\n",
    "df"
   ]
  },
  {
   "cell_type": "code",
   "execution_count": null,
   "metadata": {},
   "outputs": [],
   "source": []
  },
  {
   "cell_type": "code",
   "execution_count": null,
   "metadata": {},
   "outputs": [],
   "source": []
  }
 ],
 "metadata": {
  "kernelspec": {
   "display_name": "Python 3",
   "language": "python",
   "name": "python3"
  },
  "language_info": {
   "codemirror_mode": {
    "name": "ipython",
    "version": 3
   },
   "file_extension": ".py",
   "mimetype": "text/x-python",
   "name": "python",
   "nbconvert_exporter": "python",
   "pygments_lexer": "ipython3",
   "version": "3.6.0"
  }
 },
 "nbformat": 4,
 "nbformat_minor": 2
}
