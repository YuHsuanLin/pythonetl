{
 "cells": [
  {
   "cell_type": "code",
   "execution_count": 8,
   "metadata": {},
   "outputs": [
    {
     "name": "stdout",
     "output_type": "stream",
     "text": [
      "Requirement already satisfied: pytz in /Users/ian/.pyenv/versions/3.6.4/lib/python3.6/site-packages\n",
      "\u001b[33mYou are using pip version 9.0.1, however version 10.0.1 is available.\n",
      "You should consider upgrading via the 'pip install --upgrade pip' command.\u001b[0m\n"
     ]
    }
   ],
   "source": [
    "!pip install pytz"
   ]
  },
  {
   "cell_type": "code",
   "execution_count": 17,
   "metadata": {},
   "outputs": [],
   "source": [
    "import datetime\n",
    "\n",
    "import pytz"
   ]
  },
  {
   "cell_type": "code",
   "execution_count": 18,
   "metadata": {},
   "outputs": [],
   "source": [
    "# 製作一個台北時區物件\n",
    "tpe = pytz.timezone('Asia/Taipei')"
   ]
  },
  {
   "cell_type": "code",
   "execution_count": 19,
   "metadata": {},
   "outputs": [],
   "source": [
    "# 製作一個洛杉磯時區物件\n",
    "lax = pytz.timezone('US/Pacific')"
   ]
  },
  {
   "cell_type": "code",
   "execution_count": 20,
   "metadata": {},
   "outputs": [
    {
     "data": {
      "text/plain": [
       "<DstTzInfo 'US/Pacific' LMT-1 day, 16:07:00 STD>"
      ]
     },
     "execution_count": 20,
     "metadata": {},
     "output_type": "execute_result"
    }
   ],
   "source": [
    "lax"
   ]
  },
  {
   "cell_type": "code",
   "execution_count": 73,
   "metadata": {},
   "outputs": [],
   "source": [
    "# 現在LAX的時間\n",
    "dt_in_lax = datetime.datetime.now(tz=lax)"
   ]
  },
  {
   "cell_type": "code",
   "execution_count": 74,
   "metadata": {},
   "outputs": [
    {
     "data": {
      "text/plain": [
       "datetime.datetime(2018, 6, 6, 20, 37, 38, 702578, tzinfo=<DstTzInfo 'US/Pacific' PDT-1 day, 17:00:00 DST>)"
      ]
     },
     "execution_count": 74,
     "metadata": {},
     "output_type": "execute_result"
    }
   ],
   "source": [
    "dt_in_lax"
   ]
  },
  {
   "cell_type": "code",
   "execution_count": 79,
   "metadata": {},
   "outputs": [
    {
     "data": {
      "text/plain": [
       "datetime.datetime(2018, 6, 7, 11, 37, 38, 702578, tzinfo=<DstTzInfo 'Asia/Taipei' CST+8:00:00 STD>)"
      ]
     },
     "execution_count": 79,
     "metadata": {},
     "output_type": "execute_result"
    }
   ],
   "source": [
    "# 將剛才的LAX時間轉換為台北時間\n",
    "\n",
    "dt_in_lax.astimezone(tpe)"
   ]
  },
  {
   "cell_type": "markdown",
   "metadata": {},
   "source": [
    "# 爬蟲的時間處理"
   ]
  },
  {
   "cell_type": "code",
   "execution_count": 76,
   "metadata": {},
   "outputs": [],
   "source": [
    "# 此時間字串來源為PTT網頁，是台北時間\n",
    "\n",
    "dt_str = 'Sun Apr 21 22:47:12 2013'"
   ]
  },
  {
   "cell_type": "code",
   "execution_count": 77,
   "metadata": {},
   "outputs": [
    {
     "data": {
      "text/plain": [
       "datetime.datetime(2013, 4, 21, 22, 47, 12)"
      ]
     },
     "execution_count": 77,
     "metadata": {},
     "output_type": "execute_result"
    }
   ],
   "source": [
    "# 將字串變成datetime 物件\n",
    "\n",
    "# https://docs.python.org/3/library/datetime.html#strftime-and-strptime-behavior\n",
    "\n",
    "# timezone.localize(<datetime obejct>) -> <datetime tzinfo=xxxxxx>\n",
    "ptt_dt_notz = datetime.datetime.strptime(dt_str, '%a %b %d %H:%M:%S %Y')\n",
    "ptt_dt_notz"
   ]
  },
  {
   "cell_type": "code",
   "execution_count": 80,
   "metadata": {},
   "outputs": [
    {
     "data": {
      "text/plain": [
       "datetime.datetime(2013, 4, 21, 22, 47, 12, tzinfo=<DstTzInfo 'Asia/Taipei' CST+8:00:00 STD>)"
      ]
     },
     "execution_count": 80,
     "metadata": {},
     "output_type": "execute_result"
    }
   ],
   "source": [
    "# 將時區插入datetime物件\n",
    "# ptt網站為例的話就是將台北市區插入\n",
    "\n",
    "tpe = pytz.timezone('Asia/Taipei')\n",
    "ptt_dt_tz = tpe.localize(ptt_dt_notz)\n",
    "ptt_dt_tz"
   ]
  },
  {
   "cell_type": "code",
   "execution_count": 82,
   "metadata": {},
   "outputs": [
    {
     "data": {
      "text/plain": [
       "1366555632.0"
      ]
     },
     "execution_count": 82,
     "metadata": {},
     "output_type": "execute_result"
    }
   ],
   "source": [
    "# 最後將datetime object轉成UTC timestamp， 是個float\n",
    "# 再存入資料庫\n",
    "ptt_dt_tz.timestamp()"
   ]
  },
  {
   "cell_type": "code",
   "execution_count": 114,
   "metadata": {},
   "outputs": [
    {
     "data": {
      "text/plain": [
       "datetime.datetime(2018, 6, 7, 3, 59, 18, 910712, tzinfo=<UTC>)"
      ]
     },
     "execution_count": 114,
     "metadata": {},
     "output_type": "execute_result"
    }
   ],
   "source": [
    "# 製作現在的timestamp\n",
    "\n",
    "utc = pytz.utc\n",
    "\n",
    "# 製作現在UTC的datetim object\n",
    "output_tz = utc.localize(datetime.datetime.utcnow())\n",
    "output_tz"
   ]
  },
  {
   "cell_type": "code",
   "execution_count": 115,
   "metadata": {},
   "outputs": [
    {
     "data": {
      "text/plain": [
       "1528343958.910712"
      ]
     },
     "execution_count": 115,
     "metadata": {},
     "output_type": "execute_result"
    }
   ],
   "source": [
    "# 存入資料庫\n",
    "output_tz.timestamp()"
   ]
  },
  {
   "cell_type": "code",
   "execution_count": 97,
   "metadata": {},
   "outputs": [],
   "source": [
    "# 從資料庫讀取時間\n",
    "dt_to_show = 1528343684.590469"
   ]
  },
  {
   "cell_type": "code",
   "execution_count": 134,
   "metadata": {},
   "outputs": [
    {
     "data": {
      "text/plain": [
       "datetime.datetime(2018, 6, 7, 3, 54, 44, 590469, tzinfo=<UTC>)"
      ]
     },
     "execution_count": 134,
     "metadata": {},
     "output_type": "execute_result"
    }
   ],
   "source": [
    "utc = pytz.utc\n",
    "\n",
    "# 把utc timestamp轉換為utc datetime object\n",
    "dt_to_show_tz = utc.localize(datetime.datetime.utcfromtimestamp(dt_to_show))\n",
    "dt_to_show_tz"
   ]
  },
  {
   "cell_type": "code",
   "execution_count": 131,
   "metadata": {},
   "outputs": [],
   "source": [
    "# 轉換為東京時間\n",
    "dt_in_tokyo = dt_to_show_tz.astimezone(pytz.timezone('Asia/Tokyo'))"
   ]
  },
  {
   "cell_type": "code",
   "execution_count": 132,
   "metadata": {},
   "outputs": [
    {
     "data": {
      "text/plain": [
       "'2018-06-07 03:54:44 UTC'"
      ]
     },
     "execution_count": 132,
     "metadata": {},
     "output_type": "execute_result"
    }
   ],
   "source": [
    "# 將datetime object轉換為str\n",
    "dt_to_show_tz.strftime('%Y-%m-%d %H:%M:%S %Z')"
   ]
  },
  {
   "cell_type": "code",
   "execution_count": 133,
   "metadata": {},
   "outputs": [
    {
     "data": {
      "text/plain": [
       "'2018-06-07 12:54:44 JST'"
      ]
     },
     "execution_count": 133,
     "metadata": {},
     "output_type": "execute_result"
    }
   ],
   "source": [
    "# 將datetime object轉換為str\n",
    "dt_in_tokyo.strftime('%Y-%m-%d %H:%M:%S %Z')"
   ]
  }
 ],
 "metadata": {
  "kernelspec": {
   "display_name": "Python 3",
   "language": "python",
   "name": "python3"
  },
  "language_info": {
   "codemirror_mode": {
    "name": "ipython",
    "version": 3
   },
   "file_extension": ".py",
   "mimetype": "text/x-python",
   "name": "python",
   "nbconvert_exporter": "python",
   "pygments_lexer": "ipython3",
   "version": "3.6.4"
  }
 },
 "nbformat": 4,
 "nbformat_minor": 2
}
