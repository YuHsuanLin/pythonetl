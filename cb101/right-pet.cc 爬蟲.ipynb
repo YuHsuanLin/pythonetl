{
 "cells": [
  {
   "cell_type": "code",
   "execution_count": 2,
   "metadata": {},
   "outputs": [],
   "source": [
    "\"\"\"\n",
    "把網頁抓下來，存到檔案裡面\n",
    "\"\"\"\n",
    "\n",
    "import requests\n",
    "\n",
    "url = 'https://right-pet.cc/hospital.php?city=74'\n",
    "\n",
    "resp = requests.get(url)\n",
    "\n",
    "with open('/tmp/taipei_hospitals.html', 'w') as f:\n",
    "    f.write(resp.text)"
   ]
  },
  {
   "cell_type": "code",
   "execution_count": 3,
   "metadata": {},
   "outputs": [],
   "source": [
    "\"\"\"\n",
    "把檔案讀出來\n",
    "\"\"\"\n",
    "\n",
    "with open('/tmp/taipei_hospitals.html') as f:\n",
    "    html = f.read()"
   ]
  },
  {
   "cell_type": "code",
   "execution_count": 28,
   "metadata": {},
   "outputs": [],
   "source": [
    "from bs4 import BeautifulSoup"
   ]
  },
  {
   "cell_type": "code",
   "execution_count": 29,
   "metadata": {},
   "outputs": [],
   "source": [
    "soup = BeautifulSoup(html, 'lxml')"
   ]
  },
  {
   "cell_type": "code",
   "execution_count": 171,
   "metadata": {},
   "outputs": [],
   "source": [
    "import re\n",
    "\n",
    "def parse_hospital(hospital):\n",
    "    \"\"\"\n",
    "        args:\n",
    "            hospital<Tag>: hospital的beautifulsoup Tag object\n",
    "        return:\n",
    "            hospotal_dict<dict>: 整理過後的dict\n",
    "    \"\"\"\n",
    "    hospital_dict = {}\n",
    "    \n",
    "    \"\"\"\n",
    "    使用regex擷取出hospital id與data\n",
    "    \"\"\"\n",
    "    data_list = re.findall('<a href=\"hospital_detail.php\\?hospitalSN=(\\d+?)\">(.+?)</a>', str(hospital))\n",
    "    \n",
    "    \"\"\"\n",
    "    使用regex擷取出經緯度\n",
    "    \"\"\"\n",
    "    lat_lng = re.findall('''<a onclick=\"setMapToHospital\\(1001, \\'(.+?)\\', \\' (.+?)\\'\\)\" title=\"查看地圖\">''', str(hospital))\n",
    "    \n",
    "    hospital_dict['id']   = int(data_list[0][0])\n",
    "    \n",
    "    if lat_lng:\n",
    "        hospital_dict['lng']  = lat_lng[0][1]\n",
    "        hospital_dict['lat']  = lat_lng[0][0]\n",
    "    else:\n",
    "        hospital_dict['lng']  = ''\n",
    "        hospital_dict['lat']  = ''\n",
    "    hospital_dict['name'] = data_list[0][1]\n",
    "    hospital_dict['area'] = data_list[1][1]\n",
    "    hospital_dict['address'] = data_list[2][1]\n",
    "    hospital_dict['tel'] = data_list[3][1]\n",
    "    \n",
    "    \"\"\"\n",
    "    Regex取出日期\n",
    "    \"\"\"\n",
    "    hospital_dict['last_updated_at'] = re.findall('''\\d\\d\\d\\d-\\d\\d-\\d\\d''', data_list[4][1])[0]\n",
    "    return hospital_dict"
   ]
  },
  {
   "cell_type": "code",
   "execution_count": 172,
   "metadata": {},
   "outputs": [
    {
     "data": {
      "text/plain": [
       "{'address': '新生南路1段144-1號1樓',\n",
       " 'area': '台北市中正區',\n",
       " 'id': 1001,\n",
       " 'last_updated_at': '2012-10-16',\n",
       " 'lat': '25.03569',\n",
       " 'lng': '121.53247399999998',\n",
       " 'name': '瀚生動物醫院',\n",
       " 'tel': '02-23581765'}"
      ]
     },
     "execution_count": 172,
     "metadata": {},
     "output_type": "execute_result"
    }
   ],
   "source": [
    "parse_hospital(soup.select('div#hospital_list_block')[0])"
   ]
  },
  {
   "cell_type": "code",
   "execution_count": 173,
   "metadata": {},
   "outputs": [],
   "source": [
    "hospitals = soup.select('div#hospital_list_block')\n",
    "\n",
    "hospital_list = []\n",
    "for hospital in hospitals:\n",
    "    hospital_list.append(parse_hospital(hospital))"
   ]
  },
  {
   "cell_type": "code",
   "execution_count": 174,
   "metadata": {},
   "outputs": [
    {
     "data": {
      "text/plain": [
       "[{'address': '新生南路1段144-1號1樓',\n",
       "  'area': '台北市中正區',\n",
       "  'id': 1001,\n",
       "  'last_updated_at': '2012-10-16',\n",
       "  'lat': '25.03569',\n",
       "  'lng': '121.53247399999998',\n",
       "  'name': '瀚生動物醫院',\n",
       "  'tel': '02-23581765'},\n",
       " {'address': '杭州南路 2 段 92 號 1 樓',\n",
       "  'area': '台北市中正區',\n",
       "  'id': 1000,\n",
       "  'last_updated_at': '2012-10-16',\n",
       "  'lat': '',\n",
       "  'lng': '',\n",
       "  'name': '博愛動物醫院',\n",
       "  'tel': '(02)3393-8850'},\n",
       " {'address': '羅斯福路 2 段 138 號 1 樓',\n",
       "  'area': '台北市中正區',\n",
       "  'id': 999,\n",
       "  'last_updated_at': '2012-10-16',\n",
       "  'lat': '',\n",
       "  'lng': '',\n",
       "  'name': '古亭動物醫院',\n",
       "  'tel': '(02)2369-3373 '},\n",
       " {'address': '忠孝東路 2 段 74 號 1 樓',\n",
       "  'area': '台北市中正區',\n",
       "  'id': 998,\n",
       "  'last_updated_at': '2012-10-16',\n",
       "  'lat': '',\n",
       "  'lng': '',\n",
       "  'name': '台灣動物醫院',\n",
       "  'tel': '(02)2341-2128 '},\n",
       " {'address': '重慶南路 3 段 60~4 號 2 樓',\n",
       "  'area': '台北市中正區',\n",
       "  'id': 997,\n",
       "  'last_updated_at': '2012-10-16',\n",
       "  'lat': '',\n",
       "  'lng': '',\n",
       "  'name': '中正犬貓醫院',\n",
       "  'tel': '(02)2305-4880 '}]"
      ]
     },
     "execution_count": 174,
     "metadata": {},
     "output_type": "execute_result"
    }
   ],
   "source": [
    "hospital_list[:5]"
   ]
  },
  {
   "cell_type": "code",
   "execution_count": 175,
   "metadata": {},
   "outputs": [],
   "source": [
    "import pandas as pd"
   ]
  },
  {
   "cell_type": "code",
   "execution_count": 176,
   "metadata": {},
   "outputs": [],
   "source": [
    "df = pd.DataFrame(hospital_list)"
   ]
  },
  {
   "cell_type": "code",
   "execution_count": 177,
   "metadata": {},
   "outputs": [],
   "source": [
    "def format_tel(tel_str):\n",
    "    if not tel_str.startswith('('):\n",
    "        raw_tel = tel_str.replace('-','')\n",
    "        new_tel_str = \"({}){}-{}\".format(raw_tel[0:2], raw_tel[2:6], raw_tel[6:])\n",
    "        return new_tel_str\n",
    "    else:\n",
    "        return tel_str"
   ]
  },
  {
   "cell_type": "code",
   "execution_count": 178,
   "metadata": {},
   "outputs": [
    {
     "data": {
      "text/plain": [
       "'(02)2358-1765'"
      ]
     },
     "execution_count": 178,
     "metadata": {},
     "output_type": "execute_result"
    }
   ],
   "source": [
    "format_tel('02-23581765')"
   ]
  },
  {
   "cell_type": "code",
   "execution_count": 179,
   "metadata": {},
   "outputs": [],
   "source": [
    "df['tel'] = df['tel'].apply(format_tel)"
   ]
  },
  {
   "cell_type": "code",
   "execution_count": 180,
   "metadata": {},
   "outputs": [
    {
     "data": {
      "text/html": [
       "<div>\n",
       "<style scoped>\n",
       "    .dataframe tbody tr th:only-of-type {\n",
       "        vertical-align: middle;\n",
       "    }\n",
       "\n",
       "    .dataframe tbody tr th {\n",
       "        vertical-align: top;\n",
       "    }\n",
       "\n",
       "    .dataframe thead th {\n",
       "        text-align: right;\n",
       "    }\n",
       "</style>\n",
       "<table border=\"1\" class=\"dataframe\">\n",
       "  <thead>\n",
       "    <tr style=\"text-align: right;\">\n",
       "      <th></th>\n",
       "      <th>address</th>\n",
       "      <th>area</th>\n",
       "      <th>id</th>\n",
       "      <th>last_updated_at</th>\n",
       "      <th>lat</th>\n",
       "      <th>lng</th>\n",
       "      <th>name</th>\n",
       "      <th>tel</th>\n",
       "    </tr>\n",
       "  </thead>\n",
       "  <tbody>\n",
       "    <tr>\n",
       "      <th>0</th>\n",
       "      <td>新生南路1段144-1號1樓</td>\n",
       "      <td>台北市中正區</td>\n",
       "      <td>1001</td>\n",
       "      <td>2012-10-16</td>\n",
       "      <td>25.03569</td>\n",
       "      <td>121.53247399999998</td>\n",
       "      <td>瀚生動物醫院</td>\n",
       "      <td>(02)2358-1765</td>\n",
       "    </tr>\n",
       "    <tr>\n",
       "      <th>1</th>\n",
       "      <td>杭州南路 2 段 92 號 1 樓</td>\n",
       "      <td>台北市中正區</td>\n",
       "      <td>1000</td>\n",
       "      <td>2012-10-16</td>\n",
       "      <td></td>\n",
       "      <td></td>\n",
       "      <td>博愛動物醫院</td>\n",
       "      <td>(02)3393-8850</td>\n",
       "    </tr>\n",
       "    <tr>\n",
       "      <th>2</th>\n",
       "      <td>羅斯福路 2 段 138 號 1 樓</td>\n",
       "      <td>台北市中正區</td>\n",
       "      <td>999</td>\n",
       "      <td>2012-10-16</td>\n",
       "      <td></td>\n",
       "      <td></td>\n",
       "      <td>古亭動物醫院</td>\n",
       "      <td>(02)2369-3373</td>\n",
       "    </tr>\n",
       "    <tr>\n",
       "      <th>3</th>\n",
       "      <td>忠孝東路 2 段 74 號 1 樓</td>\n",
       "      <td>台北市中正區</td>\n",
       "      <td>998</td>\n",
       "      <td>2012-10-16</td>\n",
       "      <td></td>\n",
       "      <td></td>\n",
       "      <td>台灣動物醫院</td>\n",
       "      <td>(02)2341-2128</td>\n",
       "    </tr>\n",
       "    <tr>\n",
       "      <th>4</th>\n",
       "      <td>重慶南路 3 段 60~4 號 2 樓</td>\n",
       "      <td>台北市中正區</td>\n",
       "      <td>997</td>\n",
       "      <td>2012-10-16</td>\n",
       "      <td></td>\n",
       "      <td></td>\n",
       "      <td>中正犬貓醫院</td>\n",
       "      <td>(02)2305-4880</td>\n",
       "    </tr>\n",
       "  </tbody>\n",
       "</table>\n",
       "</div>"
      ],
      "text/plain": [
       "               address    area    id last_updated_at       lat  \\\n",
       "0       新生南路1段144-1號1樓  台北市中正區  1001      2012-10-16  25.03569   \n",
       "1    杭州南路 2 段 92 號 1 樓  台北市中正區  1000      2012-10-16             \n",
       "2   羅斯福路 2 段 138 號 1 樓  台北市中正區   999      2012-10-16             \n",
       "3    忠孝東路 2 段 74 號 1 樓  台北市中正區   998      2012-10-16             \n",
       "4  重慶南路 3 段 60~4 號 2 樓  台北市中正區   997      2012-10-16             \n",
       "\n",
       "                  lng    name             tel  \n",
       "0  121.53247399999998  瀚生動物醫院   (02)2358-1765  \n",
       "1                      博愛動物醫院   (02)3393-8850  \n",
       "2                      古亭動物醫院  (02)2369-3373   \n",
       "3                      台灣動物醫院  (02)2341-2128   \n",
       "4                      中正犬貓醫院  (02)2305-4880   "
      ]
     },
     "execution_count": 180,
     "metadata": {},
     "output_type": "execute_result"
    }
   ],
   "source": [
    "df.head()"
   ]
  },
  {
   "cell_type": "code",
   "execution_count": null,
   "metadata": {},
   "outputs": [],
   "source": []
  }
 ],
 "metadata": {
  "kernelspec": {
   "display_name": "Python 3",
   "language": "python",
   "name": "python3"
  },
  "language_info": {
   "codemirror_mode": {
    "name": "ipython",
    "version": 3
   },
   "file_extension": ".py",
   "mimetype": "text/x-python",
   "name": "python",
   "nbconvert_exporter": "python",
   "pygments_lexer": "ipython3",
   "version": "3.6.4"
  }
 },
 "nbformat": 4,
 "nbformat_minor": 2
}
