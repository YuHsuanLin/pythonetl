{
 "cells": [
  {
   "cell_type": "markdown",
   "metadata": {},
   "source": [
    "# Python 簡介\n",
    "\n",
    "1. 資料型態\n",
    "1. Control Flow"
   ]
  },
  {
   "cell_type": "code",
   "execution_count": 16,
   "metadata": {},
   "outputs": [],
   "source": [
    "# This is a comment"
   ]
  },
  {
   "cell_type": "code",
   "execution_count": 2,
   "metadata": {},
   "outputs": [
    {
     "name": "stdout",
     "output_type": "stream",
     "text": [
      "2\n",
      "4\n",
      "6\n"
     ]
    }
   ],
   "source": [
    "print(1 + 1)\n",
    "print(2 + 2)\n",
    "print(3 + 3)"
   ]
  },
  {
   "cell_type": "markdown",
   "metadata": {},
   "source": [
    "# Numbers"
   ]
  },
  {
   "cell_type": "code",
   "execution_count": 13,
   "metadata": {},
   "outputs": [
    {
     "data": {
      "text/plain": [
       "2"
      ]
     },
     "execution_count": 13,
     "metadata": {},
     "output_type": "execute_result"
    }
   ],
   "source": [
    "1 + 1"
   ]
  },
  {
   "cell_type": "code",
   "execution_count": 17,
   "metadata": {},
   "outputs": [
    {
     "data": {
      "text/plain": [
       "1"
      ]
     },
     "execution_count": 17,
     "metadata": {},
     "output_type": "execute_result"
    }
   ],
   "source": [
    "1"
   ]
  },
  {
   "cell_type": "code",
   "execution_count": 18,
   "metadata": {},
   "outputs": [
    {
     "data": {
      "text/plain": [
       "1.0"
      ]
     },
     "execution_count": 18,
     "metadata": {},
     "output_type": "execute_result"
    }
   ],
   "source": [
    "1.0"
   ]
  },
  {
   "cell_type": "code",
   "execution_count": 69,
   "metadata": {},
   "outputs": [
    {
     "data": {
      "text/plain": [
       "1.5"
      ]
     },
     "execution_count": 69,
     "metadata": {},
     "output_type": "execute_result"
    }
   ],
   "source": [
    "3 / 2"
   ]
  },
  {
   "cell_type": "code",
   "execution_count": 19,
   "metadata": {},
   "outputs": [
    {
     "data": {
      "text/plain": [
       "1"
      ]
     },
     "execution_count": 19,
     "metadata": {},
     "output_type": "execute_result"
    }
   ],
   "source": [
    "2 - 1"
   ]
  },
  {
   "cell_type": "code",
   "execution_count": 20,
   "metadata": {},
   "outputs": [
    {
     "data": {
      "text/plain": [
       "4"
      ]
     },
     "execution_count": 20,
     "metadata": {},
     "output_type": "execute_result"
    }
   ],
   "source": [
    "2 * 2"
   ]
  },
  {
   "cell_type": "code",
   "execution_count": 21,
   "metadata": {},
   "outputs": [
    {
     "data": {
      "text/plain": [
       "2.0"
      ]
     },
     "execution_count": 21,
     "metadata": {},
     "output_type": "execute_result"
    }
   ],
   "source": [
    "4 / 2"
   ]
  },
  {
   "cell_type": "code",
   "execution_count": 22,
   "metadata": {},
   "outputs": [
    {
     "data": {
      "text/plain": [
       "1"
      ]
     },
     "execution_count": 22,
     "metadata": {},
     "output_type": "execute_result"
    }
   ],
   "source": [
    "10 % 3"
   ]
  },
  {
   "cell_type": "code",
   "execution_count": 23,
   "metadata": {},
   "outputs": [
    {
     "data": {
      "text/plain": [
       "8"
      ]
     },
     "execution_count": 23,
     "metadata": {},
     "output_type": "execute_result"
    }
   ],
   "source": [
    "2 ** 3"
   ]
  },
  {
   "cell_type": "markdown",
   "metadata": {},
   "source": [
    "# 數列"
   ]
  },
  {
   "cell_type": "code",
   "execution_count": 64,
   "metadata": {},
   "outputs": [
    {
     "data": {
      "text/plain": [
       "[1, 2, 3, 4, 5, 6, 7, 8, 9, 10]"
      ]
     },
     "execution_count": 64,
     "metadata": {},
     "output_type": "execute_result"
    }
   ],
   "source": [
    "[1,2,3,4,5,6,7,8,9,10]"
   ]
  },
  {
   "cell_type": "code",
   "execution_count": 68,
   "metadata": {
    "scrolled": true
   },
   "outputs": [
    {
     "data": {
      "text/plain": [
       "[1, 2, 3, 4, 5, 6, 7, 8, 9, 10]"
      ]
     },
     "execution_count": 68,
     "metadata": {},
     "output_type": "execute_result"
    }
   ],
   "source": [
    "[n for n in range(1,11)]"
   ]
  },
  {
   "cell_type": "markdown",
   "metadata": {},
   "source": [
    "# String"
   ]
  },
  {
   "cell_type": "code",
   "execution_count": 24,
   "metadata": {},
   "outputs": [
    {
     "data": {
      "text/plain": [
       "'pythonetl'"
      ]
     },
     "execution_count": 24,
     "metadata": {},
     "output_type": "execute_result"
    }
   ],
   "source": [
    "\"pythonetl\""
   ]
  },
  {
   "cell_type": "code",
   "execution_count": 25,
   "metadata": {},
   "outputs": [
    {
     "data": {
      "text/plain": [
       "'pythonetl'"
      ]
     },
     "execution_count": 25,
     "metadata": {},
     "output_type": "execute_result"
    }
   ],
   "source": [
    "'pythonetl'"
   ]
  },
  {
   "cell_type": "code",
   "execution_count": 26,
   "metadata": {},
   "outputs": [
    {
     "data": {
      "text/plain": [
       "'python'"
      ]
     },
     "execution_count": 26,
     "metadata": {},
     "output_type": "execute_result"
    }
   ],
   "source": [
    "\"\"\"python\"\"\""
   ]
  },
  {
   "cell_type": "code",
   "execution_count": 27,
   "metadata": {},
   "outputs": [
    {
     "data": {
      "text/plain": [
       "'python'"
      ]
     },
     "execution_count": 27,
     "metadata": {},
     "output_type": "execute_result"
    }
   ],
   "source": [
    "'''python'''"
   ]
  },
  {
   "cell_type": "code",
   "execution_count": 28,
   "metadata": {},
   "outputs": [
    {
     "data": {
      "text/plain": [
       "\"I'm an engineer\""
      ]
     },
     "execution_count": 28,
     "metadata": {},
     "output_type": "execute_result"
    }
   ],
   "source": [
    "\"I'm an engineer\""
   ]
  },
  {
   "cell_type": "code",
   "execution_count": 29,
   "metadata": {},
   "outputs": [
    {
     "data": {
      "text/plain": [
       "'I\\'m an \"BIG DATA\" engineer'"
      ]
     },
     "execution_count": 29,
     "metadata": {},
     "output_type": "execute_result"
    }
   ],
   "source": [
    "'''I'm an \"BIG DATA\" engineer'''"
   ]
  },
  {
   "cell_type": "markdown",
   "metadata": {},
   "source": [
    "\"\"\"\"\"\" 多行字串"
   ]
  },
  {
   "cell_type": "code",
   "execution_count": 30,
   "metadata": {},
   "outputs": [
    {
     "data": {
      "text/plain": [
       "'what is your name?\\nMy name is Ian'"
      ]
     },
     "execution_count": 30,
     "metadata": {},
     "output_type": "execute_result"
    }
   ],
   "source": [
    "\"\"\"what is your name?\n",
    "My name is Ian\"\"\""
   ]
  },
  {
   "cell_type": "markdown",
   "metadata": {},
   "source": [
    "字串組合"
   ]
  },
  {
   "cell_type": "code",
   "execution_count": 31,
   "metadata": {},
   "outputs": [
    {
     "data": {
      "text/plain": [
       "'https://tw.appledaily.com/new/realtime/3'"
      ]
     },
     "execution_count": 31,
     "metadata": {},
     "output_type": "execute_result"
    }
   ],
   "source": [
    "\"https://tw.appledaily.com/new/realtime/\" + \"3\""
   ]
  },
  {
   "cell_type": "code",
   "execution_count": 33,
   "metadata": {},
   "outputs": [
    {
     "data": {
      "text/plain": [
       "'https://tw.appledaily.com/new/realtime/3'"
      ]
     },
     "execution_count": 33,
     "metadata": {},
     "output_type": "execute_result"
    }
   ],
   "source": [
    "\"https://tw.appledaily.com/new/realtime/{}\".format(3)"
   ]
  },
  {
   "cell_type": "code",
   "execution_count": 34,
   "metadata": {},
   "outputs": [
    {
     "data": {
      "text/plain": [
       "'https://tw.appledaily.com/hot/realtime/3'"
      ]
     },
     "execution_count": 34,
     "metadata": {},
     "output_type": "execute_result"
    }
   ],
   "source": [
    "\"https://tw.appledaily.com/{}/realtime/{}\".format(\"hot\",3)"
   ]
  },
  {
   "cell_type": "code",
   "execution_count": 35,
   "metadata": {},
   "outputs": [
    {
     "data": {
      "text/plain": [
       "'https://tw.appledaily.com/recommend/realtime/3'"
      ]
     },
     "execution_count": 35,
     "metadata": {},
     "output_type": "execute_result"
    }
   ],
   "source": [
    "\"https://tw.appledaily.com/{}/realtime/{}\".format(\"recommend\",3)"
   ]
  },
  {
   "cell_type": "code",
   "execution_count": 70,
   "metadata": {},
   "outputs": [
    {
     "data": {
      "text/plain": [
       "'My name is Ian, students call me Ian, my mom calls me Ian'"
      ]
     },
     "execution_count": 70,
     "metadata": {},
     "output_type": "execute_result"
    }
   ],
   "source": [
    "\"My name is Ian, students call me Ian, my mom calls me Ian\""
   ]
  },
  {
   "cell_type": "code",
   "execution_count": 72,
   "metadata": {},
   "outputs": [
    {
     "data": {
      "text/plain": [
       "'My name is Ian, students call me Ian, my mom calls me Ian'"
      ]
     },
     "execution_count": 72,
     "metadata": {},
     "output_type": "execute_result"
    }
   ],
   "source": [
    "\"My name is {name}, students call me {name}, my mom calls me {name}\".format(name=\"Ian\")"
   ]
  },
  {
   "cell_type": "code",
   "execution_count": 73,
   "metadata": {},
   "outputs": [
    {
     "data": {
      "text/plain": [
       "'My name is Ian'"
      ]
     },
     "execution_count": 73,
     "metadata": {},
     "output_type": "execute_result"
    }
   ],
   "source": [
    "\"My name is %s\"%\"Ian\""
   ]
  },
  {
   "cell_type": "code",
   "execution_count": 74,
   "metadata": {},
   "outputs": [
    {
     "data": {
      "text/plain": [
       "'[DBEUG] crawling url ianchenhq.com'"
      ]
     },
     "execution_count": 74,
     "metadata": {},
     "output_type": "execute_result"
    }
   ],
   "source": [
    "url = 'ianchenhq.com'\n",
    "\"[DBEUG] crawling url %s\"%url"
   ]
  },
  {
   "cell_type": "markdown",
   "metadata": {},
   "source": [
    "清除多餘空白符號"
   ]
  },
  {
   "cell_type": "code",
   "execution_count": 37,
   "metadata": {},
   "outputs": [
    {
     "data": {
      "text/plain": [
       "'     【17情殺不斷更新】直播主遭狠殺4刀亡\\u3000前男友曾嗆「對她不利」'"
      ]
     },
     "execution_count": 37,
     "metadata": {},
     "output_type": "execute_result"
    }
   ],
   "source": [
    "\"     【17情殺不斷更新】直播主遭狠殺4刀亡　前男友曾嗆「對她不利」\""
   ]
  },
  {
   "cell_type": "code",
   "execution_count": 38,
   "metadata": {},
   "outputs": [
    {
     "data": {
      "text/plain": [
       "'【17情殺不斷更新】直播主遭狠殺4刀亡\\u3000前男友曾嗆「對她不利」'"
      ]
     },
     "execution_count": 38,
     "metadata": {},
     "output_type": "execute_result"
    }
   ],
   "source": [
    "\"     【17情殺不斷更新】直播主遭狠殺4刀亡　前男友曾嗆「對她不利」\".strip()"
   ]
  },
  {
   "cell_type": "markdown",
   "metadata": {},
   "source": [
    "字串置換"
   ]
  },
  {
   "cell_type": "code",
   "execution_count": 75,
   "metadata": {},
   "outputs": [
    {
     "data": {
      "text/plain": [
       "'I love Python'"
      ]
     },
     "execution_count": 75,
     "metadata": {},
     "output_type": "execute_result"
    }
   ],
   "source": [
    "\"I love Ruby\".replace(\"Ruby\", \"Python\")"
   ]
  },
  {
   "cell_type": "code",
   "execution_count": 5,
   "metadata": {},
   "outputs": [],
   "source": [
    "love_lang = \"I love Ruby\""
   ]
  },
  {
   "cell_type": "code",
   "execution_count": 6,
   "metadata": {},
   "outputs": [
    {
     "data": {
      "text/plain": [
       "'I love Ruby'"
      ]
     },
     "execution_count": 6,
     "metadata": {},
     "output_type": "execute_result"
    }
   ],
   "source": [
    "love_lang"
   ]
  },
  {
   "cell_type": "code",
   "execution_count": 10,
   "metadata": {},
   "outputs": [
    {
     "data": {
      "text/plain": [
       "'I love Python'"
      ]
     },
     "execution_count": 10,
     "metadata": {},
     "output_type": "execute_result"
    }
   ],
   "source": [
    "love_python = love_lang.replace(\"Ruby\", \"Python\")\n",
    "love_python"
   ]
  },
  {
   "cell_type": "code",
   "execution_count": 8,
   "metadata": {},
   "outputs": [
    {
     "data": {
      "text/plain": [
       "'I love Ruby'"
      ]
     },
     "execution_count": 8,
     "metadata": {},
     "output_type": "execute_result"
    }
   ],
   "source": [
    "love_lang"
   ]
  },
  {
   "cell_type": "markdown",
   "metadata": {},
   "source": [
    "空白符號斷開，再用一個空白符號組合起來"
   ]
  },
  {
   "cell_type": "code",
   "execution_count": 77,
   "metadata": {},
   "outputs": [
    {
     "data": {
      "text/plain": [
       "\"I'm a cool                   python             engineer\""
      ]
     },
     "execution_count": 77,
     "metadata": {},
     "output_type": "execute_result"
    }
   ],
   "source": [
    "\"I'm a cool                   python             engineer\""
   ]
  },
  {
   "cell_type": "code",
   "execution_count": 78,
   "metadata": {},
   "outputs": [
    {
     "data": {
      "text/plain": [
       "\"I'macoolpythonengineer\""
      ]
     },
     "execution_count": 78,
     "metadata": {},
     "output_type": "execute_result"
    }
   ],
   "source": [
    "# not what I want\n",
    "\"I'm a cool                   python             engineer\".replace(\" \", '')"
   ]
  },
  {
   "cell_type": "code",
   "execution_count": 80,
   "metadata": {},
   "outputs": [
    {
     "data": {
      "text/plain": [
       "\"I'm a cool python engineer\""
      ]
     },
     "execution_count": 80,
     "metadata": {},
     "output_type": "execute_result"
    }
   ],
   "source": [
    "\" \".join(\"I'm a cool                   python             engineer\".split())"
   ]
  },
  {
   "cell_type": "code",
   "execution_count": 45,
   "metadata": {},
   "outputs": [
    {
     "data": {
      "text/plain": [
       "['https:', '', 'tw.appledaily.com', 'recommend', 'realtime', '3']"
      ]
     },
     "execution_count": 45,
     "metadata": {},
     "output_type": "execute_result"
    }
   ],
   "source": [
    "'https://tw.appledaily.com/recommend/realtime/3'.split('/')"
   ]
  },
  {
   "cell_type": "code",
   "execution_count": 46,
   "metadata": {},
   "outputs": [
    {
     "data": {
      "text/plain": [
       "'3'"
      ]
     },
     "execution_count": 46,
     "metadata": {},
     "output_type": "execute_result"
    }
   ],
   "source": [
    "'https://tw.appledaily.com/recommend/realtime/3'.split('/')[-1]"
   ]
  },
  {
   "cell_type": "code",
   "execution_count": 58,
   "metadata": {},
   "outputs": [],
   "source": [
    "# hello[start:end:step]"
   ]
  },
  {
   "cell_type": "code",
   "execution_count": 56,
   "metadata": {},
   "outputs": [
    {
     "data": {
      "text/plain": [
       "'h'"
      ]
     },
     "execution_count": 56,
     "metadata": {},
     "output_type": "execute_result"
    }
   ],
   "source": [
    "'hello'[0]"
   ]
  },
  {
   "cell_type": "code",
   "execution_count": 57,
   "metadata": {},
   "outputs": [
    {
     "data": {
      "text/plain": [
       "'hel'"
      ]
     },
     "execution_count": 57,
     "metadata": {},
     "output_type": "execute_result"
    }
   ],
   "source": [
    "'hello'[:3]"
   ]
  },
  {
   "cell_type": "code",
   "execution_count": 63,
   "metadata": {},
   "outputs": [
    {
     "data": {
      "text/plain": [
       "'eo'"
      ]
     },
     "execution_count": 63,
     "metadata": {},
     "output_type": "execute_result"
    }
   ],
   "source": [
    "'hello, world'[1:6:3]"
   ]
  },
  {
   "cell_type": "markdown",
   "metadata": {},
   "source": [
    "# Boolean"
   ]
  },
  {
   "cell_type": "code",
   "execution_count": 47,
   "metadata": {},
   "outputs": [
    {
     "data": {
      "text/plain": [
       "True"
      ]
     },
     "execution_count": 47,
     "metadata": {},
     "output_type": "execute_result"
    }
   ],
   "source": [
    "3 > 1"
   ]
  },
  {
   "cell_type": "code",
   "execution_count": 48,
   "metadata": {},
   "outputs": [],
   "source": [
    "is_engineer = True"
   ]
  },
  {
   "cell_type": "code",
   "execution_count": 49,
   "metadata": {},
   "outputs": [
    {
     "data": {
      "text/plain": [
       "True"
      ]
     },
     "execution_count": 49,
     "metadata": {},
     "output_type": "execute_result"
    }
   ],
   "source": [
    "True and True"
   ]
  },
  {
   "cell_type": "code",
   "execution_count": 50,
   "metadata": {},
   "outputs": [
    {
     "data": {
      "text/plain": [
       "False"
      ]
     },
     "execution_count": 50,
     "metadata": {},
     "output_type": "execute_result"
    }
   ],
   "source": [
    "True and False"
   ]
  },
  {
   "cell_type": "code",
   "execution_count": 51,
   "metadata": {},
   "outputs": [
    {
     "data": {
      "text/plain": [
       "True"
      ]
     },
     "execution_count": 51,
     "metadata": {},
     "output_type": "execute_result"
    }
   ],
   "source": [
    "True or False"
   ]
  },
  {
   "cell_type": "code",
   "execution_count": 52,
   "metadata": {},
   "outputs": [],
   "source": [
    "is_cool = False"
   ]
  },
  {
   "cell_type": "code",
   "execution_count": 53,
   "metadata": {},
   "outputs": [
    {
     "data": {
      "text/plain": [
       "True"
      ]
     },
     "execution_count": 53,
     "metadata": {},
     "output_type": "execute_result"
    }
   ],
   "source": [
    "not is_cool"
   ]
  },
  {
   "cell_type": "markdown",
   "metadata": {},
   "source": [
    "# List"
   ]
  },
  {
   "cell_type": "code",
   "execution_count": 1,
   "metadata": {},
   "outputs": [
    {
     "data": {
      "text/plain": [
       "[1, 2, 3]"
      ]
     },
     "execution_count": 1,
     "metadata": {},
     "output_type": "execute_result"
    }
   ],
   "source": [
    "cool_list = [1,2,3]\n",
    "cool_list"
   ]
  },
  {
   "cell_type": "code",
   "execution_count": 2,
   "metadata": {},
   "outputs": [],
   "source": [
    "product_names = []"
   ]
  },
  {
   "cell_type": "code",
   "execution_count": 3,
   "metadata": {},
   "outputs": [],
   "source": [
    "product_names.append('intel ssd')"
   ]
  },
  {
   "cell_type": "code",
   "execution_count": 4,
   "metadata": {},
   "outputs": [
    {
     "data": {
      "text/plain": [
       "['intel ssd']"
      ]
     },
     "execution_count": 4,
     "metadata": {},
     "output_type": "execute_result"
    }
   ],
   "source": [
    "product_names"
   ]
  },
  {
   "cell_type": "code",
   "execution_count": 5,
   "metadata": {},
   "outputs": [],
   "source": [
    "product_names.append('seagate hdd')"
   ]
  },
  {
   "cell_type": "code",
   "execution_count": 6,
   "metadata": {},
   "outputs": [
    {
     "data": {
      "text/plain": [
       "['intel ssd', 'seagate hdd']"
      ]
     },
     "execution_count": 6,
     "metadata": {},
     "output_type": "execute_result"
    }
   ],
   "source": [
    "product_names"
   ]
  },
  {
   "cell_type": "code",
   "execution_count": 7,
   "metadata": {},
   "outputs": [
    {
     "data": {
      "text/plain": [
       "'intel ssd'"
      ]
     },
     "execution_count": 7,
     "metadata": {},
     "output_type": "execute_result"
    }
   ],
   "source": [
    "product_names[0]"
   ]
  },
  {
   "cell_type": "code",
   "execution_count": 8,
   "metadata": {},
   "outputs": [
    {
     "data": {
      "text/plain": [
       "'seagate hdd'"
      ]
     },
     "execution_count": 8,
     "metadata": {},
     "output_type": "execute_result"
    }
   ],
   "source": [
    "product_names[1]"
   ]
  },
  {
   "cell_type": "code",
   "execution_count": 9,
   "metadata": {},
   "outputs": [],
   "source": [
    "product_names[0] = 'asus motherboard'"
   ]
  },
  {
   "cell_type": "code",
   "execution_count": 10,
   "metadata": {},
   "outputs": [
    {
     "data": {
      "text/plain": [
       "['asus motherboard', 'seagate hdd']"
      ]
     },
     "execution_count": 10,
     "metadata": {},
     "output_type": "execute_result"
    }
   ],
   "source": [
    "product_names"
   ]
  },
  {
   "cell_type": "code",
   "execution_count": 11,
   "metadata": {},
   "outputs": [],
   "source": [
    "del product_names[1]"
   ]
  },
  {
   "cell_type": "code",
   "execution_count": 12,
   "metadata": {},
   "outputs": [
    {
     "data": {
      "text/plain": [
       "['asus motherboard']"
      ]
     },
     "execution_count": 12,
     "metadata": {},
     "output_type": "execute_result"
    }
   ],
   "source": [
    "product_names"
   ]
  },
  {
   "cell_type": "code",
   "execution_count": 13,
   "metadata": {},
   "outputs": [
    {
     "data": {
      "text/plain": [
       "[1, 2, 3, 4, 5, 6]"
      ]
     },
     "execution_count": 13,
     "metadata": {},
     "output_type": "execute_result"
    }
   ],
   "source": [
    "[1,2,3] + [4,5,6]"
   ]
  },
  {
   "cell_type": "code",
   "execution_count": 14,
   "metadata": {},
   "outputs": [
    {
     "data": {
      "text/plain": [
       "[1, 2, 3, 4, 5, 6]"
      ]
     },
     "execution_count": 14,
     "metadata": {},
     "output_type": "execute_result"
    }
   ],
   "source": [
    "list_1 = [1,2,3]\n",
    "list_1.extend([4,5,6])\n",
    "list_1"
   ]
  },
  {
   "cell_type": "code",
   "execution_count": 15,
   "metadata": {},
   "outputs": [],
   "source": [
    "product_names.insert(0, 'logitech mouse')"
   ]
  },
  {
   "cell_type": "code",
   "execution_count": 16,
   "metadata": {},
   "outputs": [
    {
     "data": {
      "text/plain": [
       "['logitech mouse', 'asus motherboard']"
      ]
     },
     "execution_count": 16,
     "metadata": {},
     "output_type": "execute_result"
    }
   ],
   "source": [
    "product_names"
   ]
  },
  {
   "cell_type": "markdown",
   "metadata": {},
   "source": [
    "# Dictionary"
   ]
  },
  {
   "cell_type": "code",
   "execution_count": 17,
   "metadata": {},
   "outputs": [],
   "source": [
    "product_dict = {}"
   ]
  },
  {
   "cell_type": "code",
   "execution_count": 18,
   "metadata": {},
   "outputs": [],
   "source": [
    "product_dict['name'] = 'logitech mouse G9'"
   ]
  },
  {
   "cell_type": "code",
   "execution_count": 19,
   "metadata": {},
   "outputs": [
    {
     "data": {
      "text/plain": [
       "{'name': 'logitech mouse G9'}"
      ]
     },
     "execution_count": 19,
     "metadata": {},
     "output_type": "execute_result"
    }
   ],
   "source": [
    "product_dict"
   ]
  },
  {
   "cell_type": "code",
   "execution_count": 20,
   "metadata": {},
   "outputs": [],
   "source": [
    "product_dict['brand'] = \"Logitech\""
   ]
  },
  {
   "cell_type": "code",
   "execution_count": 21,
   "metadata": {},
   "outputs": [
    {
     "data": {
      "text/plain": [
       "{'brand': 'Logitech', 'name': 'logitech mouse G9'}"
      ]
     },
     "execution_count": 21,
     "metadata": {},
     "output_type": "execute_result"
    }
   ],
   "source": [
    "product_dict"
   ]
  },
  {
   "cell_type": "code",
   "execution_count": 22,
   "metadata": {},
   "outputs": [],
   "source": [
    "product_dict['price'] = 3000"
   ]
  },
  {
   "cell_type": "code",
   "execution_count": 23,
   "metadata": {},
   "outputs": [
    {
     "data": {
      "text/plain": [
       "{'brand': 'Logitech', 'name': 'logitech mouse G9', 'price': 3000}"
      ]
     },
     "execution_count": 23,
     "metadata": {},
     "output_type": "execute_result"
    }
   ],
   "source": [
    "product_dict"
   ]
  },
  {
   "cell_type": "code",
   "execution_count": 24,
   "metadata": {},
   "outputs": [
    {
     "data": {
      "text/plain": [
       "'logitech mouse G9'"
      ]
     },
     "execution_count": 24,
     "metadata": {},
     "output_type": "execute_result"
    }
   ],
   "source": [
    "product_dict['name']"
   ]
  },
  {
   "cell_type": "code",
   "execution_count": 25,
   "metadata": {},
   "outputs": [
    {
     "data": {
      "text/plain": [
       "'Logitech'"
      ]
     },
     "execution_count": 25,
     "metadata": {},
     "output_type": "execute_result"
    }
   ],
   "source": [
    "product_dict['brand']"
   ]
  },
  {
   "cell_type": "code",
   "execution_count": 26,
   "metadata": {},
   "outputs": [],
   "source": [
    "product_dict['price'] = 2400"
   ]
  },
  {
   "cell_type": "code",
   "execution_count": 27,
   "metadata": {},
   "outputs": [
    {
     "data": {
      "text/plain": [
       "{'brand': 'Logitech', 'name': 'logitech mouse G9', 'price': 2400}"
      ]
     },
     "execution_count": 27,
     "metadata": {},
     "output_type": "execute_result"
    }
   ],
   "source": [
    "product_dict"
   ]
  },
  {
   "cell_type": "code",
   "execution_count": 28,
   "metadata": {},
   "outputs": [],
   "source": [
    "product_dict['description'] = 'cool mouse'"
   ]
  },
  {
   "cell_type": "code",
   "execution_count": 29,
   "metadata": {},
   "outputs": [
    {
     "data": {
      "text/plain": [
       "{'brand': 'Logitech',\n",
       " 'description': 'cool mouse',\n",
       " 'name': 'logitech mouse G9',\n",
       " 'price': 2400}"
      ]
     },
     "execution_count": 29,
     "metadata": {},
     "output_type": "execute_result"
    }
   ],
   "source": [
    "product_dict"
   ]
  },
  {
   "cell_type": "code",
   "execution_count": 30,
   "metadata": {},
   "outputs": [],
   "source": [
    "del product_dict['description']"
   ]
  },
  {
   "cell_type": "code",
   "execution_count": 31,
   "metadata": {},
   "outputs": [
    {
     "data": {
      "text/plain": [
       "{'brand': 'Logitech', 'name': 'logitech mouse G9', 'price': 2400}"
      ]
     },
     "execution_count": 31,
     "metadata": {},
     "output_type": "execute_result"
    }
   ],
   "source": [
    "product_dict"
   ]
  },
  {
   "cell_type": "code",
   "execution_count": 32,
   "metadata": {},
   "outputs": [
    {
     "data": {
      "text/plain": [
       "[{'brand': 'Logitech', 'name': 'logitech mouse G9', 'price': 2400},\n",
       " {'brand': 'Logitech', 'name': 'logitech mouse G9', 'price': 2400}]"
      ]
     },
     "execution_count": 32,
     "metadata": {},
     "output_type": "execute_result"
    }
   ],
   "source": [
    "[product_dict,product_dict]"
   ]
  },
  {
   "cell_type": "markdown",
   "metadata": {},
   "source": [
    "# Control Flow"
   ]
  },
  {
   "cell_type": "code",
   "execution_count": 33,
   "metadata": {},
   "outputs": [],
   "source": [
    "product_dict = {'brand': 'Logitech', 'name': 'logitech mouse G9', 'price': 2400}"
   ]
  },
  {
   "cell_type": "code",
   "execution_count": 34,
   "metadata": {},
   "outputs": [
    {
     "name": "stdout",
     "output_type": "stream",
     "text": [
      "Too expensive\n"
     ]
    }
   ],
   "source": [
    "if product_dict['price'] > 2000:\n",
    "    print(\"Too expensive\")"
   ]
  },
  {
   "cell_type": "code",
   "execution_count": 35,
   "metadata": {},
   "outputs": [
    {
     "name": "stdout",
     "output_type": "stream",
     "text": [
      "Nice\n"
     ]
    }
   ],
   "source": [
    "if product_dict['price'] > 4000:\n",
    "    print(\"Too expensive\")\n",
    "else:\n",
    "    print(\"Nice\")"
   ]
  },
  {
   "cell_type": "code",
   "execution_count": 36,
   "metadata": {},
   "outputs": [
    {
     "name": "stdout",
     "output_type": "stream",
     "text": [
      "OK\n"
     ]
    }
   ],
   "source": [
    "if product_dict['price'] > 4000:\n",
    "    print(\"Too expensive\")\n",
    "elif product_dict['price'] > 2000:\n",
    "    print(\"OK\")\n",
    "else:\n",
    "    print(\"Nice\")"
   ]
  },
  {
   "cell_type": "code",
   "execution_count": 37,
   "metadata": {},
   "outputs": [],
   "source": [
    "product_names = ['asus motherboard', 'seagate hdd']"
   ]
  },
  {
   "cell_type": "code",
   "execution_count": 38,
   "metadata": {},
   "outputs": [
    {
     "data": {
      "text/plain": [
       "True"
      ]
     },
     "execution_count": 38,
     "metadata": {},
     "output_type": "execute_result"
    }
   ],
   "source": [
    "'asus motherboard' in product_names"
   ]
  },
  {
   "cell_type": "code",
   "execution_count": 39,
   "metadata": {},
   "outputs": [
    {
     "data": {
      "text/plain": [
       "False"
      ]
     },
     "execution_count": 39,
     "metadata": {},
     "output_type": "execute_result"
    }
   ],
   "source": [
    "'razor mouse' in product_names"
   ]
  },
  {
   "cell_type": "code",
   "execution_count": 40,
   "metadata": {},
   "outputs": [
    {
     "name": "stdout",
     "output_type": "stream",
     "text": [
      "Crawling product, asus motherboard g99\n"
     ]
    }
   ],
   "source": [
    "product = 'asus motherboard g99'\n",
    "if product in product_names:\n",
    "    print(\"Already crawled\")\n",
    "else:\n",
    "    print(\"Crawling product, %s\"%product)"
   ]
  },
  {
   "cell_type": "code",
   "execution_count": 41,
   "metadata": {},
   "outputs": [
    {
     "data": {
      "text/plain": [
       "{'brand': 'Logitech', 'name': 'logitech mouse G9', 'price': 2400}"
      ]
     },
     "execution_count": 41,
     "metadata": {},
     "output_type": "execute_result"
    }
   ],
   "source": [
    "product_dict"
   ]
  },
  {
   "cell_type": "code",
   "execution_count": 42,
   "metadata": {},
   "outputs": [
    {
     "data": {
      "text/plain": [
       "True"
      ]
     },
     "execution_count": 42,
     "metadata": {},
     "output_type": "execute_result"
    }
   ],
   "source": [
    "'brand' in product_dict"
   ]
  },
  {
   "cell_type": "markdown",
   "metadata": {},
   "source": [
    "# Loops"
   ]
  },
  {
   "cell_type": "code",
   "execution_count": 3,
   "metadata": {},
   "outputs": [
    {
     "data": {
      "text/plain": [
       "[{'brand': 'Logitech', 'name': 'logitech mouse G9', 'price': 2400},\n",
       " {'brand': 'Logitech', 'name': 'logitech mouse G9', 'price': 2400},\n",
       " {'brand': 'Logitech', 'name': 'logitech mouse G9', 'price': 2400},\n",
       " {'brand': 'Logitech', 'name': 'logitech mouse G9', 'price': 2400},\n",
       " {'brand': 'Logitech', 'name': 'logitech mouse G9', 'price': 2400}]"
      ]
     },
     "execution_count": 3,
     "metadata": {},
     "output_type": "execute_result"
    }
   ],
   "source": [
    "product_dict = {'brand': 'Logitech', 'name': 'logitech mouse G9', 'price': 2400}\n",
    "products = [product_dict,product_dict,product_dict,product_dict,product_dict]\n",
    "products"
   ]
  },
  {
   "cell_type": "code",
   "execution_count": 4,
   "metadata": {},
   "outputs": [
    {
     "name": "stdout",
     "output_type": "stream",
     "text": [
      "2400\n",
      "2400\n",
      "2400\n",
      "2400\n",
      "2400\n"
     ]
    }
   ],
   "source": [
    "for product in products:\n",
    "    print(product['price'])\n",
    "    product['sale_price'] = product['price'] * 0.8"
   ]
  },
  {
   "cell_type": "code",
   "execution_count": 5,
   "metadata": {},
   "outputs": [
    {
     "data": {
      "text/plain": [
       "[{'brand': 'Logitech',\n",
       "  'name': 'logitech mouse G9',\n",
       "  'price': 2400,\n",
       "  'sale_price': 1920.0},\n",
       " {'brand': 'Logitech',\n",
       "  'name': 'logitech mouse G9',\n",
       "  'price': 2400,\n",
       "  'sale_price': 1920.0},\n",
       " {'brand': 'Logitech',\n",
       "  'name': 'logitech mouse G9',\n",
       "  'price': 2400,\n",
       "  'sale_price': 1920.0},\n",
       " {'brand': 'Logitech',\n",
       "  'name': 'logitech mouse G9',\n",
       "  'price': 2400,\n",
       "  'sale_price': 1920.0},\n",
       " {'brand': 'Logitech',\n",
       "  'name': 'logitech mouse G9',\n",
       "  'price': 2400,\n",
       "  'sale_price': 1920.0}]"
      ]
     },
     "execution_count": 5,
     "metadata": {},
     "output_type": "execute_result"
    }
   ],
   "source": [
    "products"
   ]
  },
  {
   "cell_type": "code",
   "execution_count": 6,
   "metadata": {},
   "outputs": [
    {
     "name": "stdout",
     "output_type": "stream",
     "text": [
      "0\n"
     ]
    }
   ],
   "source": [
    "cnt = 0\n",
    "while cnt < 11:\n",
    "    print(cnt)\n",
    "    cnt += 1\n",
    "    break"
   ]
  },
  {
   "cell_type": "code",
   "execution_count": 7,
   "metadata": {},
   "outputs": [
    {
     "name": "stdout",
     "output_type": "stream",
     "text": [
      "1\n",
      "2\n",
      "3\n",
      "crawling page xxx\n",
      "4\n",
      "crawling page xxx\n",
      "5\n",
      "6\n",
      "crawling page xxx\n",
      "7\n",
      "crawling page xxx\n",
      "8\n",
      "crawling page xxx\n",
      "9\n",
      "crawling page xxx\n",
      "10\n",
      "crawling page xxx\n"
     ]
    }
   ],
   "source": [
    "crawled_pages = [1,2,5]\n",
    "for page in range(1,11):\n",
    "    print(page)\n",
    "    if page in crawled_pages:\n",
    "        continue\n",
    "    print(\"crawling page xxx\")"
   ]
  },
  {
   "cell_type": "code",
   "execution_count": 8,
   "metadata": {},
   "outputs": [
    {
     "data": {
      "text/plain": [
       "[{'brand': 'Logitech', 'name': 'logitech mouse G9', 'price': 2400},\n",
       " {'brand': 'Logitech', 'name': 'logitech mouse G9', 'price': 2400},\n",
       " {'brand': 'Logitech', 'name': 'logitech mouse G9', 'price': 2400},\n",
       " {'brand': 'Logitech', 'name': 'logitech mouse G9', 'price': 2400},\n",
       " {'brand': 'Logitech', 'name': 'logitech mouse G9', 'price': 2400}]"
      ]
     },
     "execution_count": 8,
     "metadata": {},
     "output_type": "execute_result"
    }
   ],
   "source": [
    "product_dict = {'brand': 'Logitech', 'name': 'logitech mouse G9', 'price': 2400}\n",
    "products = [product_dict,product_dict,product_dict,product_dict,product_dict]\n",
    "products"
   ]
  },
  {
   "cell_type": "code",
   "execution_count": 9,
   "metadata": {},
   "outputs": [
    {
     "name": "stdout",
     "output_type": "stream",
     "text": [
      "2400\n",
      "2400\n",
      "2400\n",
      "2400\n",
      "2400\n"
     ]
    }
   ],
   "source": [
    "sale_products = []\n",
    "for product in products:\n",
    "    sale_product = {}\n",
    "    print(product['price'])\n",
    "    sale_product = product.copy()\n",
    "    sale_product['sale_price'] = product['price'] * 0.8\n",
    "    sale_products.append(sale_product)"
   ]
  },
  {
   "cell_type": "code",
   "execution_count": 10,
   "metadata": {},
   "outputs": [
    {
     "name": "stdout",
     "output_type": "stream",
     "text": [
      "[{'brand': 'Logitech', 'name': 'logitech mouse G9', 'price': 2400, 'sale_price': 1920.0}, {'brand': 'Logitech', 'name': 'logitech mouse G9', 'price': 2400, 'sale_price': 1920.0}, {'brand': 'Logitech', 'name': 'logitech mouse G9', 'price': 2400, 'sale_price': 1920.0}, {'brand': 'Logitech', 'name': 'logitech mouse G9', 'price': 2400, 'sale_price': 1920.0}, {'brand': 'Logitech', 'name': 'logitech mouse G9', 'price': 2400, 'sale_price': 1920.0}]\n"
     ]
    }
   ],
   "source": [
    "print(sale_products)"
   ]
  },
  {
   "cell_type": "code",
   "execution_count": 11,
   "metadata": {},
   "outputs": [
    {
     "data": {
      "text/plain": [
       "[{'brand': 'Logitech',\n",
       "  'name': 'logitech mouse G9',\n",
       "  'price': 2400,\n",
       "  'sale_price': 1920.0},\n",
       " {'brand': 'Logitech',\n",
       "  'name': 'logitech mouse G9',\n",
       "  'price': 2400,\n",
       "  'sale_price': 1920.0},\n",
       " {'brand': 'Logitech',\n",
       "  'name': 'logitech mouse G9',\n",
       "  'price': 2400,\n",
       "  'sale_price': 1920.0},\n",
       " {'brand': 'Logitech',\n",
       "  'name': 'logitech mouse G9',\n",
       "  'price': 2400,\n",
       "  'sale_price': 1920.0},\n",
       " {'brand': 'Logitech',\n",
       "  'name': 'logitech mouse G9',\n",
       "  'price': 2400,\n",
       "  'sale_price': 1920.0}]"
      ]
     },
     "execution_count": 11,
     "metadata": {},
     "output_type": "execute_result"
    }
   ],
   "source": [
    "sale_products"
   ]
  },
  {
   "cell_type": "code",
   "execution_count": 52,
   "metadata": {},
   "outputs": [
    {
     "data": {
      "text/plain": [
       "[{'brand': 'Logitech', 'name': 'logitech mouse G9', 'price': 2400},\n",
       " {'brand': 'Logitech', 'name': 'logitech mouse G9', 'price': 2400},\n",
       " {'brand': 'Logitech', 'name': 'logitech mouse G9', 'price': 2400},\n",
       " {'brand': 'Logitech', 'name': 'logitech mouse G9', 'price': 2400},\n",
       " {'brand': 'Logitech', 'name': 'logitech mouse G9', 'price': 2400}]"
      ]
     },
     "execution_count": 52,
     "metadata": {},
     "output_type": "execute_result"
    }
   ],
   "source": [
    "products"
   ]
  },
  {
   "cell_type": "code",
   "execution_count": 53,
   "metadata": {},
   "outputs": [],
   "source": [
    "books = ['Harry Potter', 'Python 101', \"Web crawler tutorial\"]"
   ]
  },
  {
   "cell_type": "code",
   "execution_count": 54,
   "metadata": {},
   "outputs": [
    {
     "data": {
      "text/plain": [
       "['harry potter', 'python 101', 'web crawler tutorial']"
      ]
     },
     "execution_count": 54,
     "metadata": {},
     "output_type": "execute_result"
    }
   ],
   "source": [
    "lowercase_books = []\n",
    "for book in books:\n",
    "    lowercase_books.append(book.lower())\n",
    "lowercase_books"
   ]
  },
  {
   "cell_type": "code",
   "execution_count": 55,
   "metadata": {},
   "outputs": [
    {
     "data": {
      "text/plain": [
       "['Harry Potter', 'Python 101', 'Web crawler tutorial']"
      ]
     },
     "execution_count": 55,
     "metadata": {},
     "output_type": "execute_result"
    }
   ],
   "source": [
    "books"
   ]
  },
  {
   "cell_type": "markdown",
   "metadata": {},
   "source": [
    "# List comprehension"
   ]
  },
  {
   "cell_type": "code",
   "execution_count": 56,
   "metadata": {},
   "outputs": [],
   "source": [
    "books = ['Harry Potter', 'Python 101', \"Web crawler tutorial\"]"
   ]
  },
  {
   "cell_type": "code",
   "execution_count": 57,
   "metadata": {},
   "outputs": [
    {
     "data": {
      "text/plain": [
       "['harry potter', 'python 101', 'web crawler tutorial']"
      ]
     },
     "execution_count": 57,
     "metadata": {},
     "output_type": "execute_result"
    }
   ],
   "source": [
    "lowercase_books = [book.lower() for book in books]\n",
    "lowercase_books"
   ]
  },
  {
   "cell_type": "code",
   "execution_count": 58,
   "metadata": {},
   "outputs": [],
   "source": [
    "products = [{'brand': 'Logitech', 'name': 'logitech mouse G9', 'price': 240},\n",
    "             {'brand': 'Asus', 'name': 'cool mouse', 'price': 1000},\n",
    "             {'brand': 'Microsoft', 'name': 'nice mouse G9', 'price': 20},\n",
    "             {'brand': 'Apple', 'name': 'python mouse G9', 'price': 1100},\n",
    "             {'brand': 'Acer', 'name': 'ruby mouse G9', 'price': 2400}]"
   ]
  },
  {
   "cell_type": "code",
   "execution_count": 59,
   "metadata": {},
   "outputs": [
    {
     "data": {
      "text/plain": [
       "[{'brand': 'Logitech', 'name': 'logitech mouse G9', 'price': 240},\n",
       " {'brand': 'Microsoft', 'name': 'nice mouse G9', 'price': 20}]"
      ]
     },
     "execution_count": 59,
     "metadata": {},
     "output_type": "execute_result"
    }
   ],
   "source": [
    "cheap_products = [product for product in products if product['price'] < 1000]\n",
    "cheap_products"
   ]
  },
  {
   "cell_type": "markdown",
   "metadata": {},
   "source": [
    "# Python modules"
   ]
  },
  {
   "cell_type": "code",
   "execution_count": 12,
   "metadata": {},
   "outputs": [],
   "source": [
    "# https://github.com/fxsjy/jieba\n",
    "import jieba"
   ]
  },
  {
   "cell_type": "code",
   "execution_count": 13,
   "metadata": {},
   "outputs": [
    {
     "name": "stderr",
     "output_type": "stream",
     "text": [
      "Building prefix dict from the default dictionary ...\n",
      "Dumping model to file cache /var/folders/b8/pw3622pd3z34msd06_5xyg980000gn/T/jieba.cache\n",
      "Loading model cost 1.122 seconds.\n",
      "Prefix dict has been built succesfully.\n"
     ]
    },
    {
     "name": "stdout",
     "output_type": "stream",
     "text": [
      "Full Mode: 我/ 来到/ 北京/ 清华/ 清华大学/ 华大/ 大学\n"
     ]
    }
   ],
   "source": [
    "seg_list = jieba.cut(\"我来到北京清华大学\", cut_all=True)\n",
    "print(\"Full Mode: \" + \"/ \".join(seg_list))  # 全模式"
   ]
  },
  {
   "cell_type": "code",
   "execution_count": 14,
   "metadata": {},
   "outputs": [],
   "source": [
    "from jieba import cut"
   ]
  },
  {
   "cell_type": "code",
   "execution_count": 15,
   "metadata": {},
   "outputs": [
    {
     "name": "stdout",
     "output_type": "stream",
     "text": [
      "Full Mode: 我/ 来到/ 北京/ 清华/ 清华大学/ 华大/ 大学\n"
     ]
    }
   ],
   "source": [
    "seg_list = cut(\"我来到北京清华大学\", cut_all=True)\n",
    "print(\"Full Mode: \" + \"/ \".join(seg_list))  # 全模式"
   ]
  },
  {
   "cell_type": "code",
   "execution_count": 16,
   "metadata": {},
   "outputs": [],
   "source": [
    "import jieba as jb"
   ]
  },
  {
   "cell_type": "code",
   "execution_count": 17,
   "metadata": {},
   "outputs": [
    {
     "name": "stdout",
     "output_type": "stream",
     "text": [
      "Full Mode: 我/ 来到/ 北京/ 清华/ 清华大学/ 华大/ 大学\n"
     ]
    }
   ],
   "source": [
    "seg_list = jb.cut(\"我来到北京清华大学\", cut_all=True)\n",
    "print(\"Full Mode: \" + \"/ \".join(seg_list))  # 全模式"
   ]
  },
  {
   "cell_type": "markdown",
   "metadata": {},
   "source": [
    "# Functions"
   ]
  },
  {
   "cell_type": "code",
   "execution_count": 22,
   "metadata": {},
   "outputs": [],
   "source": [
    "def add(x,y=1):\n",
    "    print(\"Adding, x: %s, y: %s\"%(x,y))\n",
    "    return x + y"
   ]
  },
  {
   "cell_type": "code",
   "execution_count": 23,
   "metadata": {},
   "outputs": [
    {
     "name": "stdout",
     "output_type": "stream",
     "text": [
      "Adding, x: 1, y: 2\n"
     ]
    },
    {
     "data": {
      "text/plain": [
       "3"
      ]
     },
     "execution_count": 23,
     "metadata": {},
     "output_type": "execute_result"
    }
   ],
   "source": [
    "add(1,2)"
   ]
  },
  {
   "cell_type": "code",
   "execution_count": 24,
   "metadata": {},
   "outputs": [
    {
     "name": "stdout",
     "output_type": "stream",
     "text": [
      "Adding, x: 1, y: 9\n"
     ]
    },
    {
     "data": {
      "text/plain": [
       "10"
      ]
     },
     "execution_count": 24,
     "metadata": {},
     "output_type": "execute_result"
    }
   ],
   "source": [
    "add(y=9, x=1)"
   ]
  },
  {
   "cell_type": "code",
   "execution_count": 25,
   "metadata": {},
   "outputs": [
    {
     "name": "stdout",
     "output_type": "stream",
     "text": [
      "Adding, x: 2, y: 1\n"
     ]
    },
    {
     "data": {
      "text/plain": [
       "3"
      ]
     },
     "execution_count": 25,
     "metadata": {},
     "output_type": "execute_result"
    }
   ],
   "source": [
    "add(2)"
   ]
  },
  {
   "cell_type": "markdown",
   "metadata": {},
   "source": [
    "# File I/O"
   ]
  },
  {
   "cell_type": "code",
   "execution_count": 30,
   "metadata": {},
   "outputs": [],
   "source": [
    "f = open('/tmp/speech.txt')"
   ]
  },
  {
   "cell_type": "code",
   "execution_count": 31,
   "metadata": {},
   "outputs": [],
   "source": [
    "speech = f.read()"
   ]
  },
  {
   "cell_type": "code",
   "execution_count": 32,
   "metadata": {
    "scrolled": true
   },
   "outputs": [
    {
     "data": {
      "text/plain": [
       "'各位友邦的元首與貴賓、各國駐臺使節及代表、現場的好朋友，全體國人同胞，大家好：\\n\\n感謝與承擔\\n\\n就在剛剛，我和陳建仁已經在總統府裡面，正式宣誓就任中華民國第十四任總統與副總統。我們要感謝這塊土地對我們的栽培，感謝人民對我們的信任，以及，最重要的，感謝這個國家的民主機制，讓我們透過和平的選舉過程，實現第三次政黨輪替，並且克服種種不確定因素，順利度過長達四個月的交接期，完成政權和平移轉。\\n\\n臺灣，再一次用行動告訴世界，作為一群民主人與自由人，我們有堅定的信念，去捍衛民主自由的生活方式。這段旅程，我們每一個人都參與其中。親愛的臺灣人，我們做到了。\\n\\n我要告訴大家，對於一月十六日的選舉結果，我從來沒有其他的解讀方式。人民選擇了新總統、新政府，所期待的就是四個字：解決問題。此時此刻，臺灣的處境很困難，迫切需要執政者義無反顧的承擔。這一點，我不會忘記。\\n\\n我也要告訴大家，眼前的種種難關，需要我們誠實面對，需要我們共同承擔。所以，今天的演說是一個邀請，我要邀請全體國人同胞一起來，扛起這個國家的未來。\\n\\n國家不會因為領導人而偉大；全體國民的共同奮鬥，才讓這個國家偉大。總統團結的不只是支持者，總統該團結的是整個國家。團結是為了改變，這是我對這個國家最深切的期待。在這裡，我要誠懇地呼籲，請給這個國家一個機會，讓我們拋下成見，拋下過去的對立，我們一起來完成新時代交給我們的使命。\\n\\n在我們共同奮鬥的過程中，身為總統，我要向全國人民宣示，未來我和新政府，將領導這個國家的改革，展現決心，絕不退縮。\\n\\n為年輕人打造一個更好的國家\\n\\n未來的路並不好走，臺灣需要一個正面迎向一切挑戰的新政府，我的責任就是領導這個新政府。\\n\\n我們的年金制度，如果不改，就會破產。\\n\\n我們僵化的教育制度，已經逐漸與社會脈動脫節。\\n\\n我們的能源與資源十分有限，我們的經濟缺乏動能，舊的代工模式已經面臨瓶頸，整個國家極需要新的經濟發展模式。\\n\\n我們的人口結構急速老化，長照體系卻尚未健全。\\n\\n我們的人口出生率持續低落，完善的托育制度始終遙遙無期。\\n\\n我們環境汙染問題仍然嚴重。\\n\\n我們國家的財政並不樂觀。\\n\\n我們的司法已經失去人民的信任。\\n\\n我們的食品安全問題，困擾著所有家庭。\\n\\n我們的貧富差距越來越嚴重。\\n\\n我們的社會安全網還有很多破洞。\\n\\n最重要的，我要特別強調，我們的年輕人處於低薪的處境，他們的人生，動彈不得，對於未來，充滿無奈與茫然。\\n\\n年輕人的未來是政府的責任。如果不友善的結構沒有改變，再多個人菁英的出現，都不足以讓整體年輕人的處境變好。我期許自己，在未來的任期之內，要一步一步，從根本的結構來解決這個國家的問題。\\n\\n這就是我想為臺灣的年輕人做的事。雖然我沒有辦法立刻幫所有的年輕人加薪，但是我願意承諾，新政府會立刻展開行動。請給我們一點時間，也請跟我們一起走上改革的這一條路。\\n\\n改變年輕人的處境，就是改變國家的處境。一個國家的年輕人沒有未來，這個國家必定沒有未來。幫助年輕人突破困境，實現世代正義，把一個更好的國家交到下一個世代手上，就是新政府重大的責任。\\n\\n第一、 經濟結構的轉型\\n\\n要打造一個更好的國家，未來，新政府要做好幾件事。\\n\\n首先，就是讓臺灣的經濟結構轉型。這是新政府所必須承擔的最艱鉅使命。我們不要妄自菲薄，更不要失去信心。臺灣有很多別的國家沒有的優勢，我們有海洋經濟的活力和靭性、務實可靠的工程師文化、完整的產業鏈、敏捷靈活的中小企業，以及，永不屈服的創業精神。\\n\\n我們要讓臺灣經濟脫胎換骨，就必須從現在起就下定決心，勇敢地走出另外一條路。這一條路，就是打造臺灣經濟發展的新模式。\\n\\n新政府將打造一個以創新、就業、分配為核心價值，追求永續發展的新經濟模式。改革的第一步，就是強化經濟的活力與自主性，加強和全球及區域的連結，積極參與多邊及雙邊經濟合作及自由貿易談判，包括TPP、RCEP等，並且，推動新南向政策，提升對外經濟的格局及多元性，告別以往過於依賴單一市場的現象。\\u2003\\n\\n除此之外，新政府相信，唯有激發新的成長動能，我們才能突破當前經濟的停滯不前。我們會以出口和內需作為雙引擎，讓企業生產和人民生活互為表裡，讓對外貿易和在地經濟緊密連結。\\n\\n我們會優先推動五大創新研發計畫，藉著這些產業來重塑臺灣的全球競爭力。我們也要積極提升勞動生產力，保障勞工權益，讓薪資和經濟成長能同步提升。\\n\\n這是臺灣經濟發展的關鍵時刻。我們有決心，也有溝通能力。我們已經有系統性的規劃，未來，會以跨部會聯手的模式，把整個國家的力量集結起來，一起來催生這個新模式。\\n\\n在經濟發展的同時，我們不要忘記對環境的責任。經濟發展的新模式會和國土規劃、區域發展及環境永續，相互結合。產業的佈局和國土的利用，應該拋棄零碎的規畫，和短視近利的眼光。我們必須追求區域的均衡發展，這需要中央來規畫、整合，也需要地方政府充分發揮區域聯合治理的精神。\\n\\n我們也不能再像過去，無止盡地揮霍自然資源及國民健康。所以，對各種汙染的控制，我們會嚴格把關，更要讓臺灣走向循環經濟的時代，把廢棄物轉換為再生資源。對於能源的選擇，我們會以永續的觀念去逐步調整。新政府會嚴肅看待氣候變遷、國土保育、災害防治的相關議題，因為，我們只有一個地球，我們也只有一個臺灣。\\n\\n第二、 強化社會安全網\\n\\n新政府必須要承擔的第二件事情，就是強化臺灣的社會安全網。這些年，幾件關於兒少安全及隨機殺人的事件，都讓整個社會震驚。不過，一個政府不能永遠在震驚，它必須要有同理心。沒有人可以替受害者家屬承受傷痛，但是，一個政府，尤其是第一線處理問題的人，必須要讓受害者以及家屬覺得，不幸事件發生的時候，政府是站在他們這一邊。\\n\\n除了同理心之外，政府更應該要提出解決的方法。全力防止悲劇一再發生，從治安、教育、心理健康、社會工作等各個面向，積極把破洞補起來。尤其是治安與反毒的工作，這些事情，新政府會用最嚴肅的態度和行動來面對。\\u2003\\n\\n在年金的改革方面，這是攸關臺灣生存發展的關鍵改革，我們不應該遲疑，也不可以躁進。由陳建仁副總統擔任召集人的年金改革委員會，已經在緊鑼密鼓籌備之中。過去的政府在這個議題上，曾經有過一些努力。但是，缺乏社會的參與。新政府的做法，是發動一個集體協商，因為年金改革必須是一個透過協商來團結所有人的過程。\\n\\n這就是為什麼，我們要召開年金改革國是會議，由不同階層、不同職業代表，在社會團結的基礎上，共同協商。一年之內，我們會提出可行的改革方案。無論是勞工還是公務員，每一個國民的退休生活都應該得到公平的保障。\\n\\n另外，在長期照顧的議題上，我們將會把優質、平價、普及的長期照顧系統建立起來。和年金改革一樣，長照體系也是一個社會總動員的過程。新政府的做法是由政府主導和規劃，鼓勵民間發揮社區主義的精神，透過社會集體互助的力量，來建構一套妥善而完整的體系。每一個老年人都可以在自己熟悉的社區，安心享受老年生活，每一個家庭的照顧壓力將會減輕。照顧老人的工作不能完全讓它變成自由市場。我們會把責任扛起來，按部就班來規劃與執行，為超高齡社會的來臨，做好準備。\\u2003\\n\\n第三、 社會的公平與正義\\n\\n新政府要承擔的第三件事情，就是社會的公平與正義。在這個議題上，新政府會持續和公民社會一起合作，讓臺灣的政策更符合多元、平等、開放、透明、人權的價值，讓臺灣的民主機制更加深化與進化。\\n\\n新的民主機制要能夠上路，我們必須先找出面對過去的共同方法。未來，我會在總統府成立真相與和解委員會，用最誠懇與謹慎的態度，來處理過去的歷史。追求轉型正義的目標是在追求社會的真正和解，讓所有臺灣人都記取那個時代的錯誤。\\n\\n我們將從真相的調查與整理出發，預計在三年之內，完成臺灣自己的轉型正義調查報告書。我們將會依據調查報告所揭示的真相，來進行後續的轉型正義工作。挖掘真相、彌平傷痕、釐清責任。從此以後，過去的歷史不再是臺灣分裂的原因，而是臺灣一起往前走的動力。\\n\\n同樣在公平正義的議題上，我會秉持相同的原則，來面對原住民族的議題。今天的就職典禮，原住民族的小朋友在唱國歌之前，先唱了他們部落傳統的古調。這象徵了，我們不敢忘記，這個島上先來後到的順序。\\n\\n新政府會用道歉的態度，來面對原住民族相關議題，重建原民史觀，逐步推動自治，復育語言文化，提升生活照顧，這就是我要領導新政府推動的改變。\\n\\n接下來，新政府也會積極推動司法改革。這是現階段臺灣人民最關心的議題。司法無法親近人民、不被人民信任、司法無法有效打擊犯罪，以及，司法失去作為正義最後一道防線的功能，是人民普遍的感受。\\n\\n為了展現新政府的決心，我們會在今年十月召開司法國是會議，透過人民實際的參與，讓社會力進來，一起推動司法改革。司法必須回應人民的需求，不再只是法律人的司法，而是全民的司法。司法改革也不只是司法人的家務事，而是全民參與的改革。這就是我對司法改革的期待。\\n\\n第四、區域的和平穩定發展及兩岸關係\\n\\n新政府要承擔的第四件事情，是區域的和平穩定與發展，以及妥善處理兩岸關係。過去三十年，無論是對亞洲或是全球，都是變動最劇烈的時期；而全球及區域的經濟穩定和集體安全，也是各國政府越來越關心的課題。\\n\\n臺灣在區域發展當中，一直是不可或缺的關鍵角色。但是近年來，區域的情勢快速變動，如果臺灣不善用自己的實力和籌碼，積極參與區域事務，不但將會變得無足輕重，甚至可能被邊緣化，喪失對於未來的自主權。\\n\\n我們有危機，但也有轉機。臺灣現階段的經濟發展，和區域中許多國家高度關聯和互補。如果將打造經濟發展新模式的努力，透過和亞洲、乃至亞太區域的國家合作，共同形塑未來的發展策略，不但可以為區域的經濟創新、結構調整和永續發展，做出積極的貢獻，更可以和區域內的成員，建立緊密的「經濟共同體」意識。\\n\\n我們要和其他國家共享資源、人才與市場，擴大經濟規模，讓資源有效利用。「新南向政策」就是基於這樣的精神。我們會在科技、文化與經貿等各層面，和區域成員廣泛交流合作，尤其是增進與東協、印度的多元關係。為此，我們也願意和對岸，就共同參與區域發展的相關議題，坦誠交換意見，尋求各種合作與協力的可能性。\\n\\n在積極發展經濟的同時，亞太地區的安全情勢也變得越來越複雜，而兩岸關係，也成為建構區域和平與集體安全的重要一環。這個建構的進程，臺灣會做一個「和平的堅定維護者」，積極參與，絕不缺席；我們也將致力維持兩岸關係的和平穩定；我們更會努力促成內部和解，強化民主機制，凝聚共識，形成一致對外的立場。\\n\\n對話和溝通，是我們達成目標最重要的關鍵。臺灣也要成為一個「和平的積極溝通者」，我們將和相關的各方，建立常態、緊密的溝通機制，隨時交換意見，防止誤判，建立互信，有效解決爭議。我們將謹守和平原則、利益共享原則，來處理相關的爭議。\\n\\n我依照中華民國憲法當選總統，我有責任捍衛中華民國的主權和領土；對於東海及南海問題，我們主張應擱置爭議，共同開發。\\n\\n兩岸之間的對話與溝通，我們也將努力維持現有的機制。1992年兩岸兩會秉持相互諒解、求同存異的政治思維，進行溝通協商，達成若干的共同認知與諒解，我尊重這個歷史事實。92年之後，20多年來雙方交流、協商所累積形成的現狀與成果，兩岸都應該共同珍惜與維護，並在這個既有的事實與政治基礎上，持續推動兩岸關係和平穩定發展；新政府會依據中華民國憲法、兩岸人民關係條例及其他相關法律，處理兩岸事務。兩岸的兩個執政黨應該要放下歷史包袱，展開良性對話，造福兩岸人民。\\n\\n我所講的既有政治基礎，包含幾個關鍵元素，第一，1992年兩岸兩會會談的歷史事實與求同存異的共同認知，這是歷史事實；第二，中華民國現行憲政體制；第三，兩岸過去20多年來協商和交流互動的成果；第四，臺灣民主原則及普遍民意。\\n\\n第五、 外交與全球性議題\\n\\n新政府要承擔的第五件事情，是善盡地球公民的責任，在外交與全球性的議題上做出貢獻。讓臺灣走向世界，也要讓世界走進臺灣。\\n\\n現場有許多來自各國的元首與使節團，我要特別謝謝他們，長久以來一直幫助臺灣，讓我們有機會參與國際社會。未來，我們會持續透過官方互動、企業投資與民間合作各種方式，分享臺灣發展的經驗，與友邦建立永續的夥伴關係。\\n\\n臺灣是全球公民社會的模範生，民主化以來，我們始終堅持和平、自由、民主及人權的普世價值。我們會秉持這個精神，加入全球議題的價值同盟。我們會繼續深化與包括美國、日本、歐洲在內的友好民主國家的關係，在共同的價值基礎上，推動全方位的合作。\\n\\n我們會積極參與國際經貿合作及規則制定，堅定維護全球的經濟秩序，並且融入重要的區域經貿體系。我們也不會在防制全球暖化、氣候變遷的議題上缺席。我們將會在行政院設立專責的能源和減碳辦公室，並且根據COP21巴黎協議的規定，定期檢討溫室氣體的減量目標，與友好國家攜手，共同維護永續的地球。\\n\\n同時，新政府會支持並參與，全球性新興議題的國際合作，包括人道救援、醫療援助、疾病的防治與研究、反恐合作，以及共同打擊跨國犯罪，讓臺灣成為國際社會不可或缺的夥伴。\\n\\n結語\\n\\n1996年臺灣第一次總統直選，到今年剛好20年。過去20年，在幾任政府以及公民社會的努力之下，我們成功渡過了許多新興民主國家必須面對的難關。在這個過程中，我們曾經有過許多感動人心的時刻和故事，不過，正如同世界上其他國家一樣，我們也曾經有過焦慮、不安、矛盾、與對立。\\n\\n我們看到了社會的對立，進步與保守的對立，環境與開發的對立，以及，政治意識之間的對立。這些對立，曾經激發出選舉時的動員能量，不過也因為這些對立，我們的民主逐漸失去了解決問題的能力。\\n\\n民主是一個進程，每一個時代的政治工作者，都要清楚認識他身上所肩負的責任。民主會倒退，民主也會前進。今天，我站在這裡，就是要告訴大家，倒退不是我們的選項。新政府的責任就是把臺灣的民主推向下一個階段：以前的民主是選舉的輸贏，現在的民主則是關於人民的幸福；以前的民主是兩個價值觀的對決，現在的民主則是不同價值觀的對話。\\n\\n打造一個沒有被意識形態綁架的「團結的民主」，打造一個可以回應社會與經濟問題的「有效率的民主」，打造一個能夠實質照料人民的「務實的民主」，這就是新時代的意義。\\n\\n只要我們相信，新時代就會來臨。只要這個國家的主人，有堅定的信念，新時代一定會在我們這一代人的手上誕生。\\n\\n各位親愛的臺灣人民，我的演說就要結束了，改革就要開始了。從這一刻起，這個國家的擔子交在新政府身上。我會讓大家看到這個國家的改變。\\n\\n歷史會記得我們這個勇敢的世代，這個國家的繁榮、尊嚴、團結、自信和公義，都有我們努力的痕跡。歷史會記住我們的勇敢，我們在2016年一起把國家帶向新的方向。這塊土地上的每一個人，都因為參與臺灣的改變，而感到驕傲。\\n\\n剛才表演節目中有一首歌曲，有一句話讓我很感動，這句話說：\\n現在是彼一天，勇敢ㄟ臺灣人。\\n\\n各位國人同胞，兩千三百萬的臺灣人民，等待已經結束，現在就是那一天。今天，明天，未來的每一天，我們都要做一個守護民主、守護自由、守護這個國家的臺灣人。\\n\\n謝謝大家。'"
      ]
     },
     "execution_count": 32,
     "metadata": {},
     "output_type": "execute_result"
    }
   ],
   "source": [
    "speech"
   ]
  },
  {
   "cell_type": "code",
   "execution_count": 33,
   "metadata": {},
   "outputs": [],
   "source": [
    "fout = open('/tmp/speech_clean.txt', 'w')"
   ]
  },
  {
   "cell_type": "code",
   "execution_count": 35,
   "metadata": {},
   "outputs": [
    {
     "data": {
      "text/plain": [
       "2"
      ]
     },
     "execution_count": 35,
     "metadata": {},
     "output_type": "execute_result"
    }
   ],
   "source": [
    "fout.write(\"Hi\")"
   ]
  },
  {
   "cell_type": "code",
   "execution_count": 36,
   "metadata": {},
   "outputs": [],
   "source": [
    "fout.close()"
   ]
  },
  {
   "cell_type": "code",
   "execution_count": 37,
   "metadata": {},
   "outputs": [],
   "source": [
    "fout = open('/tmp/speech_clean.txt', 'w')"
   ]
  },
  {
   "cell_type": "code",
   "execution_count": 38,
   "metadata": {},
   "outputs": [
    {
     "ename": "KeyError",
     "evalue": "'description'",
     "output_type": "error",
     "traceback": [
      "\u001b[0;31m---------------------------------------------------------------------------\u001b[0m",
      "\u001b[0;31mKeyError\u001b[0m                                  Traceback (most recent call last)",
      "\u001b[0;32m<ipython-input-38-8e295599587e>\u001b[0m in \u001b[0;36m<module>\u001b[0;34m()\u001b[0m\n\u001b[1;32m      1\u001b[0m \u001b[0mproduct\u001b[0m \u001b[0;34m=\u001b[0m \u001b[0;34m{\u001b[0m\u001b[0;34m\"name\"\u001b[0m\u001b[0;34m:\u001b[0m \u001b[0;34m\"mouse\"\u001b[0m\u001b[0;34m}\u001b[0m\u001b[0;34m\u001b[0m\u001b[0m\n\u001b[0;32m----> 2\u001b[0;31m \u001b[0mproduct\u001b[0m\u001b[0;34m[\u001b[0m\u001b[0;34m'description'\u001b[0m\u001b[0;34m]\u001b[0m\u001b[0;34m\u001b[0m\u001b[0m\n\u001b[0m",
      "\u001b[0;31mKeyError\u001b[0m: 'description'"
     ]
    }
   ],
   "source": [
    "product = {\"name\": \"mouse\"}\n",
    "product['description']"
   ]
  },
  {
   "cell_type": "code",
   "execution_count": 41,
   "metadata": {},
   "outputs": [
    {
     "name": "stdout",
     "output_type": "stream",
     "text": [
      "HI\n",
      "'description'\n"
     ]
    }
   ],
   "source": [
    "try:\n",
    "    print(\"HI\")\n",
    "    product = {\"name\": \"mouse\"}\n",
    "    product['description']\n",
    "except Exception as e:\n",
    "    print(e)"
   ]
  },
  {
   "cell_type": "code",
   "execution_count": 44,
   "metadata": {},
   "outputs": [
    {
     "name": "stdout",
     "output_type": "stream",
     "text": [
      "HI\n"
     ]
    },
    {
     "ename": "AttributeError",
     "evalue": "'dict' object has no attribute 'asdfsadf'",
     "output_type": "error",
     "traceback": [
      "\u001b[0;31m---------------------------------------------------------------------------\u001b[0m",
      "\u001b[0;31mAttributeError\u001b[0m                            Traceback (most recent call last)",
      "\u001b[0;32m<ipython-input-44-6c1a9f732034>\u001b[0m in \u001b[0;36m<module>\u001b[0;34m()\u001b[0m\n\u001b[1;32m      2\u001b[0m     \u001b[0mprint\u001b[0m\u001b[0;34m(\u001b[0m\u001b[0;34m\"HI\"\u001b[0m\u001b[0;34m)\u001b[0m\u001b[0;34m\u001b[0m\u001b[0m\n\u001b[1;32m      3\u001b[0m     \u001b[0mproduct\u001b[0m \u001b[0;34m=\u001b[0m \u001b[0;34m{\u001b[0m\u001b[0;34m\"name\"\u001b[0m\u001b[0;34m:\u001b[0m \u001b[0;34m\"mouse\"\u001b[0m\u001b[0;34m}\u001b[0m\u001b[0;34m\u001b[0m\u001b[0m\n\u001b[0;32m----> 4\u001b[0;31m     \u001b[0mproduct\u001b[0m\u001b[0;34m.\u001b[0m\u001b[0masdfsadf\u001b[0m\u001b[0;34m\u001b[0m\u001b[0m\n\u001b[0m\u001b[1;32m      5\u001b[0m \u001b[0;32mexcept\u001b[0m \u001b[0mKeyError\u001b[0m \u001b[0;32mas\u001b[0m \u001b[0me\u001b[0m\u001b[0;34m:\u001b[0m\u001b[0;34m\u001b[0m\u001b[0m\n\u001b[1;32m      6\u001b[0m     \u001b[0mprint\u001b[0m\u001b[0;34m(\u001b[0m\u001b[0me\u001b[0m\u001b[0;34m)\u001b[0m\u001b[0;34m\u001b[0m\u001b[0m\n",
      "\u001b[0;31mAttributeError\u001b[0m: 'dict' object has no attribute 'asdfsadf'"
     ]
    }
   ],
   "source": [
    "try:\n",
    "    print(\"HI\")\n",
    "    product = {\"name\": \"mouse\"}\n",
    "    product.asdfsadf\n",
    "except KeyError as e:\n",
    "    print(e)"
   ]
  },
  {
   "cell_type": "code",
   "execution_count": 46,
   "metadata": {},
   "outputs": [
    {
     "name": "stdout",
     "output_type": "stream",
     "text": [
      "HI\n",
      "No error\n"
     ]
    }
   ],
   "source": [
    "try:\n",
    "    print(\"HI\")\n",
    "    product = {\"name\": \"mouse\"}\n",
    "    product\n",
    "except KeyError as e:\n",
    "    print(e)\n",
    "    print(\"Error\")\n",
    "else:\n",
    "    print(\"No error\")"
   ]
  },
  {
   "cell_type": "code",
   "execution_count": 47,
   "metadata": {},
   "outputs": [
    {
     "name": "stdout",
     "output_type": "stream",
     "text": [
      "HI\n",
      "No error\n",
      "Finally, we are done\n"
     ]
    }
   ],
   "source": [
    "try:\n",
    "    print(\"HI\")\n",
    "    product = {\"name\": \"mouse\"}\n",
    "    product\n",
    "except KeyError as e:\n",
    "    print(e)\n",
    "    print(\"Error\")\n",
    "else:\n",
    "    print(\"No error\")\n",
    "finally:\n",
    "    print(\"Finally, we are done\")"
   ]
  },
  {
   "cell_type": "code",
   "execution_count": 48,
   "metadata": {},
   "outputs": [
    {
     "name": "stdout",
     "output_type": "stream",
     "text": [
      "HI\n",
      "Finally, we are done\n"
     ]
    },
    {
     "ename": "AttributeError",
     "evalue": "'dict' object has no attribute 'adfasds'",
     "output_type": "error",
     "traceback": [
      "\u001b[0;31m---------------------------------------------------------------------------\u001b[0m",
      "\u001b[0;31mAttributeError\u001b[0m                            Traceback (most recent call last)",
      "\u001b[0;32m<ipython-input-48-48711490bcfd>\u001b[0m in \u001b[0;36m<module>\u001b[0;34m()\u001b[0m\n\u001b[1;32m      2\u001b[0m     \u001b[0mprint\u001b[0m\u001b[0;34m(\u001b[0m\u001b[0;34m\"HI\"\u001b[0m\u001b[0;34m)\u001b[0m\u001b[0;34m\u001b[0m\u001b[0m\n\u001b[1;32m      3\u001b[0m     \u001b[0mproduct\u001b[0m \u001b[0;34m=\u001b[0m \u001b[0;34m{\u001b[0m\u001b[0;34m\"name\"\u001b[0m\u001b[0;34m:\u001b[0m \u001b[0;34m\"mouse\"\u001b[0m\u001b[0;34m}\u001b[0m\u001b[0;34m\u001b[0m\u001b[0m\n\u001b[0;32m----> 4\u001b[0;31m     \u001b[0mproduct\u001b[0m\u001b[0;34m.\u001b[0m\u001b[0madfasds\u001b[0m\u001b[0;34m\u001b[0m\u001b[0m\n\u001b[0m\u001b[1;32m      5\u001b[0m \u001b[0;32mexcept\u001b[0m \u001b[0mKeyError\u001b[0m \u001b[0;32mas\u001b[0m \u001b[0me\u001b[0m\u001b[0;34m:\u001b[0m\u001b[0;34m\u001b[0m\u001b[0m\n\u001b[1;32m      6\u001b[0m     \u001b[0mprint\u001b[0m\u001b[0;34m(\u001b[0m\u001b[0me\u001b[0m\u001b[0;34m)\u001b[0m\u001b[0;34m\u001b[0m\u001b[0m\n",
      "\u001b[0;31mAttributeError\u001b[0m: 'dict' object has no attribute 'adfasds'"
     ]
    }
   ],
   "source": [
    "try:\n",
    "    print(\"HI\")\n",
    "    product = {\"name\": \"mouse\"}\n",
    "    product.adfasds\n",
    "except KeyError as e:\n",
    "    print(e)\n",
    "    print(\"Error\")\n",
    "else:\n",
    "    print(\"No error\")\n",
    "finally:\n",
    "    print(\"Finally, we are done\")"
   ]
  },
  {
   "cell_type": "code",
   "execution_count": 50,
   "metadata": {},
   "outputs": [
    {
     "name": "stdout",
     "output_type": "stream",
     "text": [
      "Finally, we are done\n"
     ]
    },
    {
     "ename": "NameError",
     "evalue": "name 'asdsadf' is not defined",
     "output_type": "error",
     "traceback": [
      "\u001b[0;31m---------------------------------------------------------------------------\u001b[0m",
      "\u001b[0;31mNameError\u001b[0m                                 Traceback (most recent call last)",
      "\u001b[0;32m<ipython-input-50-26f220976854>\u001b[0m in \u001b[0;36m<module>\u001b[0;34m()\u001b[0m\n\u001b[1;32m      2\u001b[0m \u001b[0;32mtry\u001b[0m\u001b[0;34m:\u001b[0m\u001b[0;34m\u001b[0m\u001b[0m\n\u001b[1;32m      3\u001b[0m     \u001b[0mf\u001b[0m\u001b[0;34m.\u001b[0m\u001b[0mwrite\u001b[0m\u001b[0;34m(\u001b[0m\u001b[0;34m\"HI\"\u001b[0m\u001b[0;34m)\u001b[0m\u001b[0;34m\u001b[0m\u001b[0m\n\u001b[0;32m----> 4\u001b[0;31m     \u001b[0masdsadf\u001b[0m\u001b[0;34m\u001b[0m\u001b[0m\n\u001b[0m\u001b[1;32m      5\u001b[0m \u001b[0;32mfinally\u001b[0m\u001b[0;34m:\u001b[0m\u001b[0;34m\u001b[0m\u001b[0m\n\u001b[1;32m      6\u001b[0m     \u001b[0mprint\u001b[0m\u001b[0;34m(\u001b[0m\u001b[0;34m\"Finally, we are done\"\u001b[0m\u001b[0;34m)\u001b[0m\u001b[0;34m\u001b[0m\u001b[0m\n",
      "\u001b[0;31mNameError\u001b[0m: name 'asdsadf' is not defined"
     ]
    }
   ],
   "source": [
    "f = open('/tmp/testfiel.txt', 'w')\n",
    "try:\n",
    "    f.write(\"HI\")\n",
    "    asdsadf\n",
    "finally:\n",
    "    print(\"Finally, we are done\")\n",
    "    f.close()"
   ]
  },
  {
   "cell_type": "markdown",
   "metadata": {},
   "source": [
    "# Context Manager"
   ]
  },
  {
   "cell_type": "code",
   "execution_count": 51,
   "metadata": {},
   "outputs": [],
   "source": [
    "with open('/tmp/testfile.txt', 'w') as f:\n",
    "    f.write('cb101')"
   ]
  },
  {
   "cell_type": "markdown",
   "metadata": {},
   "source": [
    "# Word Count"
   ]
  },
  {
   "cell_type": "code",
   "execution_count": 57,
   "metadata": {},
   "outputs": [],
   "source": [
    "result = [\n",
    "    ['中華民國', 8],\n",
    "    [\"台灣\", 10],\n",
    "    ['經濟', 4]\n",
    "]"
   ]
  },
  {
   "cell_type": "code",
   "execution_count": 54,
   "metadata": {},
   "outputs": [
    {
     "data": {
      "text/plain": [
       "[68, 8, 7, 5, 3, 2, 1, 1]"
      ]
     },
     "execution_count": 54,
     "metadata": {},
     "output_type": "execute_result"
    }
   ],
   "source": [
    "sorted([1,2,68,1,3,5,7,8], reverse=True)"
   ]
  },
  {
   "cell_type": "code",
   "execution_count": 55,
   "metadata": {},
   "outputs": [
    {
     "data": {
      "text/plain": [
       "[1, 1, 2, 3, 5, 7, 8, 68]"
      ]
     },
     "execution_count": 55,
     "metadata": {},
     "output_type": "execute_result"
    }
   ],
   "source": [
    "sorted([1,2,68,1,3,5,7,8])"
   ]
  },
  {
   "cell_type": "code",
   "execution_count": 59,
   "metadata": {},
   "outputs": [
    {
     "data": {
      "text/plain": [
       "[['經濟', 4], ['中華民國', 8], ['台灣', 10]]"
      ]
     },
     "execution_count": 59,
     "metadata": {},
     "output_type": "execute_result"
    }
   ],
   "source": [
    "sorted(result, key=lambda x: x[1])"
   ]
  },
  {
   "cell_type": "code",
   "execution_count": 60,
   "metadata": {},
   "outputs": [],
   "source": [
    "def get_index_one(_list):\n",
    "    return _list[1]"
   ]
  },
  {
   "cell_type": "code",
   "execution_count": 62,
   "metadata": {},
   "outputs": [
    {
     "data": {
      "text/plain": [
       "[['台灣', 10], ['中華民國', 8], ['經濟', 4]]"
      ]
     },
     "execution_count": 62,
     "metadata": {},
     "output_type": "execute_result"
    }
   ],
   "source": [
    "sorted(result, key=get_index_one, reverse=True)"
   ]
  },
  {
   "cell_type": "code",
   "execution_count": null,
   "metadata": {},
   "outputs": [],
   "source": []
  }
 ],
 "metadata": {
  "kernelspec": {
   "display_name": "Python 3",
   "language": "python",
   "name": "python3"
  },
  "language_info": {
   "codemirror_mode": {
    "name": "ipython",
    "version": 3
   },
   "file_extension": ".py",
   "mimetype": "text/x-python",
   "name": "python",
   "nbconvert_exporter": "python",
   "pygments_lexer": "ipython3",
   "version": "3.6.4"
  }
 },
 "nbformat": 4,
 "nbformat_minor": 2
}
